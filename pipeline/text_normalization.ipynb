{
 "cells": [
  {
   "cell_type": "markdown",
   "source": [
    "## Packages"
   ],
   "metadata": {
    "collapsed": false
   }
  },
  {
   "cell_type": "code",
   "execution_count": 1,
   "outputs": [],
   "source": [
    "import pandas as pd\n",
    "import re\n",
    "import string\n",
    "import nltk\n",
    "from sklearn.manifold import TSNE\n",
    "import plotly.express as px\n",
    "import plotly.graph_objects as go\n",
    "import numpy as np"
   ],
   "metadata": {
    "collapsed": false,
    "ExecuteTime": {
     "end_time": "2023-06-25T21:09:54.810679700Z",
     "start_time": "2023-06-25T21:09:51.053577100Z"
    }
   }
  },
  {
   "cell_type": "markdown",
   "source": [
    "## Functions"
   ],
   "metadata": {
    "collapsed": false
   }
  },
  {
   "cell_type": "code",
   "execution_count": 2,
   "outputs": [],
   "source": [
    "def transformDocument(df, column_name, language):\n",
    "    stop_words = usingStopwords(language)\n",
    "    df_pp = df.copy()\n",
    "    # 1. Aplicar preprocessamento nos títulos e textos completos\n",
    "    if language == 'pt':\n",
    "        # Substituir símbolos importantes\n",
    "        df_pp[column_name] = df_pp[column_name].map(lambda s: s.replace('-feira', ''))\n",
    "        df_pp[column_name] = df_pp[column_name].map(lambda s: s.replace('+', 'mais '))\n",
    "        df_pp[column_name] = df_pp[column_name].map(lambda s: s.replace('-', 'menos '))\n",
    "        df_pp[column_name] = df_pp[column_name].map(lambda s: s.replace('%', ' por cento'))\n",
    "        df_pp[column_name] = df_pp[column_name].map(lambda s: removeStopwords(s, stop_words))\n",
    "\n",
    "    elif language == 'en':\n",
    "        df_pp[column_name] = df_pp[column_name].map(lambda s: s.replace('-', 'less'))\n",
    "        df_pp[column_name] = df_pp[column_name].map(lambda s: s.replace('+', 'plus '))\n",
    "        df_pp[column_name] = df_pp[column_name].map(lambda s: s.replace('%', ' percent'))\n",
    "        df_pp[column_name] = df_pp[column_name].map(lambda s: removeStopwords(s, stop_words))\n",
    "\n",
    "    else:\n",
    "        pass\n",
    "\n",
    "    df_pp[column_name] = df_pp[column_name].map(lambda s: s.replace('R$', ''))\n",
    "    df_pp[column_name] = df_pp[column_name].map(lambda s: s.replace('U$', ''))\n",
    "    df_pp[column_name] = df_pp[column_name].map(lambda s: s.replace('US$', ''))\n",
    "    df_pp[column_name] = df_pp[column_name].map(lambda s: s.replace('S&P 500', 'spx'))\n",
    "\n",
    "    # Transformar em String e Letras Minúsculas nas Mensagens\n",
    "    df_pp[column_name] = df_pp[column_name].map(lambda s:\n",
    "                                              normalizarString(s))\n",
    "\n",
    "\n",
    "    # Remover Pontuações\n",
    "    # Remover Pontuações\n",
    "    df_pp[column_name] = df_pp[column_name].map(lambda s: s.translate(str.maketrans('', '', string.punctuation)))\n",
    "\n",
    "    # Remover Emojis\n",
    "    df_pp[column_name] = df_pp[column_name].map(lambda s: removeEmojis(s))\n",
    "\n",
    "    # Quebras de Linha desnecessárias\n",
    "    df_pp[column_name] = df_pp[column_name].map(lambda s: s.replace('\\n', ' '))\n",
    "\n",
    "    # Remover aspas duplas\n",
    "    df_pp[column_name] = df_pp[column_name].map(lambda s: s.replace('\\\"', ''))\n",
    "    df_pp[column_name] = df_pp[column_name].map(lambda s: s.replace('“', ''))\n",
    "    df_pp[column_name] = df_pp[column_name].map(lambda s: s.replace('”', ''))\n",
    "\n",
    "    # Remover valores\n",
    "    df_pp[column_name] = df_pp[column_name].map(lambda s: removeValores(s))\n",
    "\n",
    "    # Espaços desnecessários\n",
    "    df_pp[column_name] = df_pp[column_name].map(lambda s: s.strip())\n",
    "    return df_pp\n",
    "\n",
    "\n",
    "\n",
    "def removeEmojis(sentence):\n",
    "    \"Remoção de Emojis nas mensagens de texto.\"\n",
    "\n",
    "    # Padrões dos Emojis\n",
    "    emoji_pattern = re.compile(\"[\"\n",
    "                               u\"\\U0001F600-\\U0001F64F\"  # emoticons\n",
    "                               u\"\\U0001F300-\\U0001F5FF\"  # symbols & pictographs\n",
    "                               u\"\\U0001F680-\\U0001F6FF\"  # transport & map symbols\n",
    "                               u\"\\U0001F1E0-\\U0001F1FF\"  # flags (iOS)\n",
    "                               u\"\\U00002702-\\U000027B0\"\n",
    "                               u\"\\U000024C2-\\U0001F251\"\n",
    "                               u\"\\U0001f926-\\U0001f937\"\n",
    "                               u'\\U00010000-\\U0010ffff'\n",
    "                               u\"\\u200d\"\n",
    "                               u\"\\u2640-\\u2642\"\n",
    "                               u\"\\u2600-\\u2B55\"\n",
    "                               u\"\\u23cf\"\n",
    "                               u\"\\u23e9\"\n",
    "                               u\"\\u231a\"\n",
    "                               u\"\\u3030\"\n",
    "                               u\"\\ufe0f\"\n",
    "                               \"]+\", flags=re.UNICODE)\n",
    "\n",
    "    return emoji_pattern.sub(r'', sentence)\n",
    "\n",
    "def removeValores(sentence):\n",
    "    new_sentece = ''\n",
    "\n",
    "    for token in sentence.split():\n",
    "        if token.isdigit():\n",
    "            token = '<NUM>'\n",
    "        new_sentece += ' {}'.format(token)\n",
    "\n",
    "    return new_sentece\n",
    "\n",
    "def usingStopwords(language):\n",
    "    stop_words = []\n",
    "\n",
    "    nltk.download('stopwords')\n",
    "\n",
    "    if language == 'pt':\n",
    "        stop_words = nltk.corpus.stopwords.words('portuguese')\n",
    "    elif language == 'en':\n",
    "        stop_words = nltk.corpus.stopwords.words('english')\n",
    "\n",
    "    return stop_words\n",
    "\n",
    "def removeStopwords(text, stop_words):\n",
    "    tokens = []\n",
    "    for word in text.split():\n",
    "        if word not in stop_words:\n",
    "            tokens.append(word)\n",
    "\n",
    "    text = ' '.join(tokens)\n",
    "    return text\n",
    "\n",
    "def normalizarString(text):\n",
    "    \"\"\"\n",
    "    Função para retirar acentuações e converter para minúscula\n",
    "    :param text:\n",
    "    :return text_normalizado\n",
    "    \"\"\"\n",
    "    import unicodedata\n",
    "\n",
    "    text = unicodedata.normalize('NFD', text).encode('ascii', 'ignore').decode(\"utf-8\")\n",
    "    return str(text.lower())"
   ],
   "metadata": {
    "collapsed": false,
    "ExecuteTime": {
     "end_time": "2023-06-25T21:10:45.170385600Z",
     "start_time": "2023-06-25T21:10:45.154761Z"
    }
   }
  },
  {
   "cell_type": "markdown",
   "source": [
    "## Dependencies"
   ],
   "metadata": {
    "collapsed": false
   }
  },
  {
   "cell_type": "code",
   "execution_count": 6,
   "outputs": [
    {
     "data": {
      "text/plain": "                                                 title  \\\n0    Petrobras avalia funcionários de carreira para...   \n1    BR com Ferreira pode acelerar saída da Petrobr...   \n2    Produtores de petróleo da América Latina suam ...   \n3    Veja as duas ações mais indicadas da semana po...   \n4    Veja as 11 principais notícias para operar na ...   \n..                                                 ...   \n439  Senado aprova projeto que cria conta de estabi...   \n440  Petrobras (PETR4): Gerente de RH suspeito de i...   \n441  George Washington, Índias Orientais e Petrobra...   \n442  ANP adia chamada pública para alocação de capa...   \n443  Gasolina mais cara e produção menor acendem o ...   \n\n                                                  tags  \\\n0    ['Empresas', 'General Silva e Luna', 'Jair Bol...   \n1    ['Ações', 'BR Distribuidora', 'BTG Pactual', '...   \n2    ['América Latina', 'Commodities', 'Economia', ...   \n3    ['Ações', 'Ativa Investimentos', 'BB Investime...   \n4    ['Ações', 'Agronegócio', 'Ásia', 'Bancos', 'Br...   \n..                                                 ...   \n439  ['Câmara dos Deputados', 'Combustíveis', 'Dies...   \n440                              ['Petrobras (PETR4)']   \n441      ['Opinião', 'Petrobras', 'Terraço Econômico']   \n442  ['ANP', 'Bolívia', 'Brasil', 'Empresas', 'Gás'...   \n443  ['Açúcar', 'Agronegócio', 'Biocombustível', 'E...   \n\n                                                   url      time       Open  \\\n0    https://www.moneytimes.com.br/petrobras-avalia...  09:19:00  23.129999   \n1    https://www.moneytimes.com.br/br-com-ferreira-...  12:26:00  27.250000   \n2    https://www.moneytimes.com.br/produtores-de-pe...  15:41:00  12.570000   \n3    https://www.moneytimes.com.br/veja-as-duas-aco...  11:24:00  31.690001   \n4    https://www.moneytimes.com.br/veja-as-11-princ...  09:35:00  20.090000   \n..                                                 ...       ...        ...   \n439  https://www.moneytimes.com.br/senado-aprova-pr...  16:26:00  32.599998   \n440  https://www.suno.com.br/noticias/petrobras-pet...  08:59:00  24.129999   \n441  https://www.moneytimes.com.br/george-washingto...  11:30:00  16.100000   \n442  https://www.moneytimes.com.br/anp-adia-chamada...  14:56:00  13.150000   \n443  https://www.moneytimes.com.br/gasolina-mais-ca...  13:33:00  20.330000   \n\n          High        Low      Close  Adj Close     Volume    profit  \\\n0    23.240000  22.809999  22.950001   9.412467   59567300 -0.007782   \n1    27.969999  26.820000  27.000000  10.712937   64514600 -0.009174   \n2    13.540000  12.280000  13.250000   5.256886  114259200  0.054097   \n3    32.250000  31.040001  31.950001  15.596828   79117100  0.008204   \n4    20.370001  19.969999  19.969999   7.923606   44584300 -0.005973   \n..         ...        ...        ...        ...        ...       ...   \n439  34.599998  32.520000  33.700001  16.451113  136437700  0.033742   \n440  24.200001  23.680000  24.040001   9.538484   40454400 -0.003730   \n441  16.100000  16.100000  16.100000   5.926244          0  0.000000   \n442  13.740000  12.830000  13.380000   5.308463  110947200  0.017490   \n443  20.559999  19.629999  19.629999   7.788701   48797400 -0.034432   \n\n     profit (%)  label  \n0         -0.78      0  \n1         -0.92      0  \n2          5.41      2  \n3          0.82      2  \n4         -0.60      0  \n..          ...    ...  \n439        3.37      2  \n440       -0.37      0  \n441        0.00      1  \n442        1.75      2  \n443       -3.44      0  \n\n[4431 rows x 13 columns]",
      "text/html": "<div>\n<style scoped>\n    .dataframe tbody tr th:only-of-type {\n        vertical-align: middle;\n    }\n\n    .dataframe tbody tr th {\n        vertical-align: top;\n    }\n\n    .dataframe thead th {\n        text-align: right;\n    }\n</style>\n<table border=\"1\" class=\"dataframe\">\n  <thead>\n    <tr style=\"text-align: right;\">\n      <th></th>\n      <th>title</th>\n      <th>tags</th>\n      <th>url</th>\n      <th>time</th>\n      <th>Open</th>\n      <th>High</th>\n      <th>Low</th>\n      <th>Close</th>\n      <th>Adj Close</th>\n      <th>Volume</th>\n      <th>profit</th>\n      <th>profit (%)</th>\n      <th>label</th>\n    </tr>\n  </thead>\n  <tbody>\n    <tr>\n      <th>0</th>\n      <td>Petrobras avalia funcionários de carreira para...</td>\n      <td>['Empresas', 'General Silva e Luna', 'Jair Bol...</td>\n      <td>https://www.moneytimes.com.br/petrobras-avalia...</td>\n      <td>09:19:00</td>\n      <td>23.129999</td>\n      <td>23.240000</td>\n      <td>22.809999</td>\n      <td>22.950001</td>\n      <td>9.412467</td>\n      <td>59567300</td>\n      <td>-0.007782</td>\n      <td>-0.78</td>\n      <td>0</td>\n    </tr>\n    <tr>\n      <th>1</th>\n      <td>BR com Ferreira pode acelerar saída da Petrobr...</td>\n      <td>['Ações', 'BR Distribuidora', 'BTG Pactual', '...</td>\n      <td>https://www.moneytimes.com.br/br-com-ferreira-...</td>\n      <td>12:26:00</td>\n      <td>27.250000</td>\n      <td>27.969999</td>\n      <td>26.820000</td>\n      <td>27.000000</td>\n      <td>10.712937</td>\n      <td>64514600</td>\n      <td>-0.009174</td>\n      <td>-0.92</td>\n      <td>0</td>\n    </tr>\n    <tr>\n      <th>2</th>\n      <td>Produtores de petróleo da América Latina suam ...</td>\n      <td>['América Latina', 'Commodities', 'Economia', ...</td>\n      <td>https://www.moneytimes.com.br/produtores-de-pe...</td>\n      <td>15:41:00</td>\n      <td>12.570000</td>\n      <td>13.540000</td>\n      <td>12.280000</td>\n      <td>13.250000</td>\n      <td>5.256886</td>\n      <td>114259200</td>\n      <td>0.054097</td>\n      <td>5.41</td>\n      <td>2</td>\n    </tr>\n    <tr>\n      <th>3</th>\n      <td>Veja as duas ações mais indicadas da semana po...</td>\n      <td>['Ações', 'Ativa Investimentos', 'BB Investime...</td>\n      <td>https://www.moneytimes.com.br/veja-as-duas-aco...</td>\n      <td>11:24:00</td>\n      <td>31.690001</td>\n      <td>32.250000</td>\n      <td>31.040001</td>\n      <td>31.950001</td>\n      <td>15.596828</td>\n      <td>79117100</td>\n      <td>0.008204</td>\n      <td>0.82</td>\n      <td>2</td>\n    </tr>\n    <tr>\n      <th>4</th>\n      <td>Veja as 11 principais notícias para operar na ...</td>\n      <td>['Ações', 'Agronegócio', 'Ásia', 'Bancos', 'Br...</td>\n      <td>https://www.moneytimes.com.br/veja-as-11-princ...</td>\n      <td>09:35:00</td>\n      <td>20.090000</td>\n      <td>20.370001</td>\n      <td>19.969999</td>\n      <td>19.969999</td>\n      <td>7.923606</td>\n      <td>44584300</td>\n      <td>-0.005973</td>\n      <td>-0.60</td>\n      <td>0</td>\n    </tr>\n    <tr>\n      <th>...</th>\n      <td>...</td>\n      <td>...</td>\n      <td>...</td>\n      <td>...</td>\n      <td>...</td>\n      <td>...</td>\n      <td>...</td>\n      <td>...</td>\n      <td>...</td>\n      <td>...</td>\n      <td>...</td>\n      <td>...</td>\n      <td>...</td>\n    </tr>\n    <tr>\n      <th>439</th>\n      <td>Senado aprova projeto que cria conta de estabi...</td>\n      <td>['Câmara dos Deputados', 'Combustíveis', 'Dies...</td>\n      <td>https://www.moneytimes.com.br/senado-aprova-pr...</td>\n      <td>16:26:00</td>\n      <td>32.599998</td>\n      <td>34.599998</td>\n      <td>32.520000</td>\n      <td>33.700001</td>\n      <td>16.451113</td>\n      <td>136437700</td>\n      <td>0.033742</td>\n      <td>3.37</td>\n      <td>2</td>\n    </tr>\n    <tr>\n      <th>440</th>\n      <td>Petrobras (PETR4): Gerente de RH suspeito de i...</td>\n      <td>['Petrobras (PETR4)']</td>\n      <td>https://www.suno.com.br/noticias/petrobras-pet...</td>\n      <td>08:59:00</td>\n      <td>24.129999</td>\n      <td>24.200001</td>\n      <td>23.680000</td>\n      <td>24.040001</td>\n      <td>9.538484</td>\n      <td>40454400</td>\n      <td>-0.003730</td>\n      <td>-0.37</td>\n      <td>0</td>\n    </tr>\n    <tr>\n      <th>441</th>\n      <td>George Washington, Índias Orientais e Petrobra...</td>\n      <td>['Opinião', 'Petrobras', 'Terraço Econômico']</td>\n      <td>https://www.moneytimes.com.br/george-washingto...</td>\n      <td>11:30:00</td>\n      <td>16.100000</td>\n      <td>16.100000</td>\n      <td>16.100000</td>\n      <td>16.100000</td>\n      <td>5.926244</td>\n      <td>0</td>\n      <td>0.000000</td>\n      <td>0.00</td>\n      <td>1</td>\n    </tr>\n    <tr>\n      <th>442</th>\n      <td>ANP adia chamada pública para alocação de capa...</td>\n      <td>['ANP', 'Bolívia', 'Brasil', 'Empresas', 'Gás'...</td>\n      <td>https://www.moneytimes.com.br/anp-adia-chamada...</td>\n      <td>14:56:00</td>\n      <td>13.150000</td>\n      <td>13.740000</td>\n      <td>12.830000</td>\n      <td>13.380000</td>\n      <td>5.308463</td>\n      <td>110947200</td>\n      <td>0.017490</td>\n      <td>1.75</td>\n      <td>2</td>\n    </tr>\n    <tr>\n      <th>443</th>\n      <td>Gasolina mais cara e produção menor acendem o ...</td>\n      <td>['Açúcar', 'Agronegócio', 'Biocombustível', 'E...</td>\n      <td>https://www.moneytimes.com.br/gasolina-mais-ca...</td>\n      <td>13:33:00</td>\n      <td>20.330000</td>\n      <td>20.559999</td>\n      <td>19.629999</td>\n      <td>19.629999</td>\n      <td>7.788701</td>\n      <td>48797400</td>\n      <td>-0.034432</td>\n      <td>-3.44</td>\n      <td>0</td>\n    </tr>\n  </tbody>\n</table>\n<p>4431 rows × 13 columns</p>\n</div>"
     },
     "execution_count": 6,
     "metadata": {},
     "output_type": "execute_result"
    }
   ],
   "source": [
    "train_raw = pd.read_csv('../assets/data/splits/train/raw.csv')\n",
    "val_raw = pd.read_csv('../assets/data/splits/val/raw.csv')\n",
    "test_raw = pd.read_csv('../assets/data/splits/test/raw.csv')\n",
    "\n",
    "df_raw = pd.concat([train_raw, val_raw, test_raw])\n",
    "df_raw"
   ],
   "metadata": {
    "collapsed": false,
    "ExecuteTime": {
     "end_time": "2023-06-25T21:13:31.766629400Z",
     "start_time": "2023-06-25T21:13:31.690190400Z"
    }
   }
  },
  {
   "cell_type": "markdown",
   "source": [
    "## Preprocessing splits"
   ],
   "metadata": {
    "collapsed": false
   }
  },
  {
   "cell_type": "code",
   "execution_count": 7,
   "outputs": [
    {
     "name": "stderr",
     "output_type": "stream",
     "text": [
      "[nltk_data] Downloading package stopwords to\n",
      "[nltk_data]     C:\\Users\\Guilherme\\AppData\\Roaming\\nltk_data...\n",
      "[nltk_data]   Package stopwords is already up-to-date!\n",
      "[nltk_data] Downloading package stopwords to\n",
      "[nltk_data]     C:\\Users\\Guilherme\\AppData\\Roaming\\nltk_data...\n",
      "[nltk_data]   Package stopwords is already up-to-date!\n",
      "[nltk_data] Downloading package stopwords to\n",
      "[nltk_data]     C:\\Users\\Guilherme\\AppData\\Roaming\\nltk_data...\n",
      "[nltk_data]   Package stopwords is already up-to-date!\n"
     ]
    },
    {
     "data": {
      "text/plain": "                                                 title  \\\n0    petrobras avalia funcionarios carreira compor ...   \n1    br ferreira pode acelerar saida petrobras duvi...   \n2    produtores petroleo america latina suam cobrir...   \n3     veja duas acoes indicadas semana <NUM> analistas   \n4    veja <NUM> principais noticias operar bolsa ne...   \n..                                                 ...   \n439  senado aprova projeto cria conta estabilizacao...   \n440  petrobras petr4 gerente rh suspeito insider re...   \n441  george washington indias orientais petrobras r...   \n442  anp adia chamada publica alocacao capacidade g...   \n443  gasolina cara producao menor acendem etanol us...   \n\n                                                  tags  \\\n0    ['Empresas', 'General Silva e Luna', 'Jair Bol...   \n1    ['Ações', 'BR Distribuidora', 'BTG Pactual', '...   \n2    ['América Latina', 'Commodities', 'Economia', ...   \n3    ['Ações', 'Ativa Investimentos', 'BB Investime...   \n4    ['Ações', 'Agronegócio', 'Ásia', 'Bancos', 'Br...   \n..                                                 ...   \n439  ['Câmara dos Deputados', 'Combustíveis', 'Dies...   \n440                              ['Petrobras (PETR4)']   \n441      ['Opinião', 'Petrobras', 'Terraço Econômico']   \n442  ['ANP', 'Bolívia', 'Brasil', 'Empresas', 'Gás'...   \n443  ['Açúcar', 'Agronegócio', 'Biocombustível', 'E...   \n\n                                                   url      time       Open  \\\n0    https://www.moneytimes.com.br/petrobras-avalia...  09:19:00  23.129999   \n1    https://www.moneytimes.com.br/br-com-ferreira-...  12:26:00  27.250000   \n2    https://www.moneytimes.com.br/produtores-de-pe...  15:41:00  12.570000   \n3    https://www.moneytimes.com.br/veja-as-duas-aco...  11:24:00  31.690001   \n4    https://www.moneytimes.com.br/veja-as-11-princ...  09:35:00  20.090000   \n..                                                 ...       ...        ...   \n439  https://www.moneytimes.com.br/senado-aprova-pr...  16:26:00  32.599998   \n440  https://www.suno.com.br/noticias/petrobras-pet...  08:59:00  24.129999   \n441  https://www.moneytimes.com.br/george-washingto...  11:30:00  16.100000   \n442  https://www.moneytimes.com.br/anp-adia-chamada...  14:56:00  13.150000   \n443  https://www.moneytimes.com.br/gasolina-mais-ca...  13:33:00  20.330000   \n\n          High        Low      Close  Adj Close     Volume    profit  \\\n0    23.240000  22.809999  22.950001   9.412467   59567300 -0.007782   \n1    27.969999  26.820000  27.000000  10.712937   64514600 -0.009174   \n2    13.540000  12.280000  13.250000   5.256886  114259200  0.054097   \n3    32.250000  31.040001  31.950001  15.596828   79117100  0.008204   \n4    20.370001  19.969999  19.969999   7.923606   44584300 -0.005973   \n..         ...        ...        ...        ...        ...       ...   \n439  34.599998  32.520000  33.700001  16.451113  136437700  0.033742   \n440  24.200001  23.680000  24.040001   9.538484   40454400 -0.003730   \n441  16.100000  16.100000  16.100000   5.926244          0  0.000000   \n442  13.740000  12.830000  13.380000   5.308463  110947200  0.017490   \n443  20.559999  19.629999  19.629999   7.788701   48797400 -0.034432   \n\n     profit (%)  label  \n0         -0.78      0  \n1         -0.92      0  \n2          5.41      2  \n3          0.82      2  \n4         -0.60      0  \n..          ...    ...  \n439        3.37      2  \n440       -0.37      0  \n441        0.00      1  \n442        1.75      2  \n443       -3.44      0  \n\n[4431 rows x 13 columns]",
      "text/html": "<div>\n<style scoped>\n    .dataframe tbody tr th:only-of-type {\n        vertical-align: middle;\n    }\n\n    .dataframe tbody tr th {\n        vertical-align: top;\n    }\n\n    .dataframe thead th {\n        text-align: right;\n    }\n</style>\n<table border=\"1\" class=\"dataframe\">\n  <thead>\n    <tr style=\"text-align: right;\">\n      <th></th>\n      <th>title</th>\n      <th>tags</th>\n      <th>url</th>\n      <th>time</th>\n      <th>Open</th>\n      <th>High</th>\n      <th>Low</th>\n      <th>Close</th>\n      <th>Adj Close</th>\n      <th>Volume</th>\n      <th>profit</th>\n      <th>profit (%)</th>\n      <th>label</th>\n    </tr>\n  </thead>\n  <tbody>\n    <tr>\n      <th>0</th>\n      <td>petrobras avalia funcionarios carreira compor ...</td>\n      <td>['Empresas', 'General Silva e Luna', 'Jair Bol...</td>\n      <td>https://www.moneytimes.com.br/petrobras-avalia...</td>\n      <td>09:19:00</td>\n      <td>23.129999</td>\n      <td>23.240000</td>\n      <td>22.809999</td>\n      <td>22.950001</td>\n      <td>9.412467</td>\n      <td>59567300</td>\n      <td>-0.007782</td>\n      <td>-0.78</td>\n      <td>0</td>\n    </tr>\n    <tr>\n      <th>1</th>\n      <td>br ferreira pode acelerar saida petrobras duvi...</td>\n      <td>['Ações', 'BR Distribuidora', 'BTG Pactual', '...</td>\n      <td>https://www.moneytimes.com.br/br-com-ferreira-...</td>\n      <td>12:26:00</td>\n      <td>27.250000</td>\n      <td>27.969999</td>\n      <td>26.820000</td>\n      <td>27.000000</td>\n      <td>10.712937</td>\n      <td>64514600</td>\n      <td>-0.009174</td>\n      <td>-0.92</td>\n      <td>0</td>\n    </tr>\n    <tr>\n      <th>2</th>\n      <td>produtores petroleo america latina suam cobrir...</td>\n      <td>['América Latina', 'Commodities', 'Economia', ...</td>\n      <td>https://www.moneytimes.com.br/produtores-de-pe...</td>\n      <td>15:41:00</td>\n      <td>12.570000</td>\n      <td>13.540000</td>\n      <td>12.280000</td>\n      <td>13.250000</td>\n      <td>5.256886</td>\n      <td>114259200</td>\n      <td>0.054097</td>\n      <td>5.41</td>\n      <td>2</td>\n    </tr>\n    <tr>\n      <th>3</th>\n      <td>veja duas acoes indicadas semana &lt;NUM&gt; analistas</td>\n      <td>['Ações', 'Ativa Investimentos', 'BB Investime...</td>\n      <td>https://www.moneytimes.com.br/veja-as-duas-aco...</td>\n      <td>11:24:00</td>\n      <td>31.690001</td>\n      <td>32.250000</td>\n      <td>31.040001</td>\n      <td>31.950001</td>\n      <td>15.596828</td>\n      <td>79117100</td>\n      <td>0.008204</td>\n      <td>0.82</td>\n      <td>2</td>\n    </tr>\n    <tr>\n      <th>4</th>\n      <td>veja &lt;NUM&gt; principais noticias operar bolsa ne...</td>\n      <td>['Ações', 'Agronegócio', 'Ásia', 'Bancos', 'Br...</td>\n      <td>https://www.moneytimes.com.br/veja-as-11-princ...</td>\n      <td>09:35:00</td>\n      <td>20.090000</td>\n      <td>20.370001</td>\n      <td>19.969999</td>\n      <td>19.969999</td>\n      <td>7.923606</td>\n      <td>44584300</td>\n      <td>-0.005973</td>\n      <td>-0.60</td>\n      <td>0</td>\n    </tr>\n    <tr>\n      <th>...</th>\n      <td>...</td>\n      <td>...</td>\n      <td>...</td>\n      <td>...</td>\n      <td>...</td>\n      <td>...</td>\n      <td>...</td>\n      <td>...</td>\n      <td>...</td>\n      <td>...</td>\n      <td>...</td>\n      <td>...</td>\n      <td>...</td>\n    </tr>\n    <tr>\n      <th>439</th>\n      <td>senado aprova projeto cria conta estabilizacao...</td>\n      <td>['Câmara dos Deputados', 'Combustíveis', 'Dies...</td>\n      <td>https://www.moneytimes.com.br/senado-aprova-pr...</td>\n      <td>16:26:00</td>\n      <td>32.599998</td>\n      <td>34.599998</td>\n      <td>32.520000</td>\n      <td>33.700001</td>\n      <td>16.451113</td>\n      <td>136437700</td>\n      <td>0.033742</td>\n      <td>3.37</td>\n      <td>2</td>\n    </tr>\n    <tr>\n      <th>440</th>\n      <td>petrobras petr4 gerente rh suspeito insider re...</td>\n      <td>['Petrobras (PETR4)']</td>\n      <td>https://www.suno.com.br/noticias/petrobras-pet...</td>\n      <td>08:59:00</td>\n      <td>24.129999</td>\n      <td>24.200001</td>\n      <td>23.680000</td>\n      <td>24.040001</td>\n      <td>9.538484</td>\n      <td>40454400</td>\n      <td>-0.003730</td>\n      <td>-0.37</td>\n      <td>0</td>\n    </tr>\n    <tr>\n      <th>441</th>\n      <td>george washington indias orientais petrobras r...</td>\n      <td>['Opinião', 'Petrobras', 'Terraço Econômico']</td>\n      <td>https://www.moneytimes.com.br/george-washingto...</td>\n      <td>11:30:00</td>\n      <td>16.100000</td>\n      <td>16.100000</td>\n      <td>16.100000</td>\n      <td>16.100000</td>\n      <td>5.926244</td>\n      <td>0</td>\n      <td>0.000000</td>\n      <td>0.00</td>\n      <td>1</td>\n    </tr>\n    <tr>\n      <th>442</th>\n      <td>anp adia chamada publica alocacao capacidade g...</td>\n      <td>['ANP', 'Bolívia', 'Brasil', 'Empresas', 'Gás'...</td>\n      <td>https://www.moneytimes.com.br/anp-adia-chamada...</td>\n      <td>14:56:00</td>\n      <td>13.150000</td>\n      <td>13.740000</td>\n      <td>12.830000</td>\n      <td>13.380000</td>\n      <td>5.308463</td>\n      <td>110947200</td>\n      <td>0.017490</td>\n      <td>1.75</td>\n      <td>2</td>\n    </tr>\n    <tr>\n      <th>443</th>\n      <td>gasolina cara producao menor acendem etanol us...</td>\n      <td>['Açúcar', 'Agronegócio', 'Biocombustível', 'E...</td>\n      <td>https://www.moneytimes.com.br/gasolina-mais-ca...</td>\n      <td>13:33:00</td>\n      <td>20.330000</td>\n      <td>20.559999</td>\n      <td>19.629999</td>\n      <td>19.629999</td>\n      <td>7.788701</td>\n      <td>48797400</td>\n      <td>-0.034432</td>\n      <td>-3.44</td>\n      <td>0</td>\n    </tr>\n  </tbody>\n</table>\n<p>4431 rows × 13 columns</p>\n</div>"
     },
     "execution_count": 7,
     "metadata": {},
     "output_type": "execute_result"
    }
   ],
   "source": [
    "train_pp = transformDocument(train_raw, 'title', 'pt')\n",
    "val_pp = transformDocument(val_raw, 'title', 'pt')\n",
    "test_pp = transformDocument(test_raw, 'title', 'pt')\n",
    "\n",
    "df_pp = pd.concat([train_pp, val_pp, test_pp])\n",
    "df_pp"
   ],
   "metadata": {
    "collapsed": false,
    "ExecuteTime": {
     "end_time": "2023-06-25T21:13:38.903061Z",
     "start_time": "2023-06-25T21:13:38.622223200Z"
    }
   }
  },
  {
   "cell_type": "markdown",
   "source": [
    "## Outputs for EDA, word2vec and preprocessing"
   ],
   "metadata": {
    "collapsed": false
   }
  },
  {
   "cell_type": "code",
   "execution_count": 9,
   "outputs": [],
   "source": [
    "train_pp.to_csv('../assets/data/splits/train/preprocessed.csv', index=False)\n",
    "val_pp.to_csv('../assets/data/splits/val/preprocessed.csv', index=False)\n",
    "test_pp.to_csv('../assets/data/splits/test/preprocessed.csv', index=False)"
   ],
   "metadata": {
    "collapsed": false,
    "ExecuteTime": {
     "end_time": "2023-06-25T21:14:35.301028600Z",
     "start_time": "2023-06-25T21:14:35.214940700Z"
    }
   }
  }
 ],
 "metadata": {
  "kernelspec": {
   "display_name": "Python 3",
   "language": "python",
   "name": "python3"
  },
  "language_info": {
   "codemirror_mode": {
    "name": "ipython",
    "version": 2
   },
   "file_extension": ".py",
   "mimetype": "text/x-python",
   "name": "python",
   "nbconvert_exporter": "python",
   "pygments_lexer": "ipython2",
   "version": "2.7.6"
  }
 },
 "nbformat": 4,
 "nbformat_minor": 0
}
