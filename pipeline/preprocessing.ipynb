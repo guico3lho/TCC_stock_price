{
 "cells": [
  {
   "cell_type": "markdown",
   "source": [
    "## Packages"
   ],
   "metadata": {
    "collapsed": false
   }
  },
  {
   "cell_type": "code",
   "execution_count": 4,
   "outputs": [],
   "source": [
    "import pandas as pd\n",
    "import re\n",
    "import string\n",
    "import nltk\n",
    "from sklearn.manifold import TSNE\n",
    "import plotly.express as px\n",
    "import plotly.graph_objects as go\n",
    "import numpy as np"
   ],
   "metadata": {
    "collapsed": false,
    "ExecuteTime": {
     "end_time": "2023-05-24T19:13:50.119355300Z",
     "start_time": "2023-05-24T19:13:50.091370400Z"
    }
   }
  },
  {
   "cell_type": "markdown",
   "source": [
    "## Functions"
   ],
   "metadata": {
    "collapsed": false
   }
  },
  {
   "cell_type": "code",
   "execution_count": 5,
   "outputs": [],
   "source": [
    "def transformDocument(df, column_name, language):\n",
    "    stop_words = usingStopwords(language)\n",
    "    df_pp = df.copy()\n",
    "    # 1. Aplicar preprocessamento nos títulos e textos completos\n",
    "    if language == 'pt':\n",
    "        # Substituir símbolos importantes\n",
    "        df_pp[column_name] = df_pp[column_name].map(lambda s: s.replace('-feira', ''))\n",
    "        df_pp[column_name] = df_pp[column_name].map(lambda s: s.replace('+', 'mais '))\n",
    "        df_pp[column_name] = df_pp[column_name].map(lambda s: s.replace('-', 'menos '))\n",
    "        df_pp[column_name] = df_pp[column_name].map(lambda s: s.replace('%', ' por cento'))\n",
    "        df_pp[column_name] = df_pp[column_name].map(lambda s: removeStopwords(s, stop_words))\n",
    "\n",
    "    elif language == 'en':\n",
    "        df_pp[column_name] = df_pp[column_name].map(lambda s: s.replace('-', 'less'))\n",
    "        df_pp[column_name] = df_pp[column_name].map(lambda s: s.replace('+', 'plus '))\n",
    "        df_pp[column_name] = df_pp[column_name].map(lambda s: s.replace('%', ' percent'))\n",
    "        df_pp[column_name] = df_pp[column_name].map(lambda s: removeStopwords(s, stop_words))\n",
    "\n",
    "    else:\n",
    "        pass\n",
    "\n",
    "    df_pp[column_name] = df_pp[column_name].map(lambda s: s.replace('R$', ''))\n",
    "    df_pp[column_name] = df_pp[column_name].map(lambda s: s.replace('U$', ''))\n",
    "    df_pp[column_name] = df_pp[column_name].map(lambda s: s.replace('US$', ''))\n",
    "    df_pp[column_name] = df_pp[column_name].map(lambda s: s.replace('S&P 500', 'spx'))\n",
    "\n",
    "    # Transformar em String e Letras Minúsculas nas Mensagens\n",
    "    df_pp[column_name] = df_pp[column_name].map(lambda s:\n",
    "                                              normalizarString(s))\n",
    "\n",
    "\n",
    "    # Remover Pontuações\n",
    "    # Remover Pontuações\n",
    "    df_pp[column_name] = df_pp[column_name].map(lambda s: s.translate(str.maketrans('', '', string.punctuation)))\n",
    "\n",
    "    # Remover Emojis\n",
    "    df_pp[column_name] = df_pp[column_name].map(lambda s: removeEmojis(s))\n",
    "\n",
    "    # Quebras de Linha desnecessárias\n",
    "    df_pp[column_name] = df_pp[column_name].map(lambda s: s.replace('\\n', ' '))\n",
    "\n",
    "    # Remover aspas duplas\n",
    "    df_pp[column_name] = df_pp[column_name].map(lambda s: s.replace('\\\"', ''))\n",
    "    df_pp[column_name] = df_pp[column_name].map(lambda s: s.replace('“', ''))\n",
    "    df_pp[column_name] = df_pp[column_name].map(lambda s: s.replace('”', ''))\n",
    "\n",
    "    # Remover valores\n",
    "    df_pp[column_name] = df_pp[column_name].map(lambda s: removeValores(s))\n",
    "\n",
    "    # Espaços desnecessários\n",
    "    df_pp[column_name] = df_pp[column_name].map(lambda s: s.strip())\n",
    "    return df_pp\n",
    "\n",
    "\n",
    "\n",
    "def removeEmojis(sentence):\n",
    "    \"Remoção de Emojis nas mensagens de texto.\"\n",
    "\n",
    "    # Padrões dos Emojis\n",
    "    emoji_pattern = re.compile(\"[\"\n",
    "                               u\"\\U0001F600-\\U0001F64F\"  # emoticons\n",
    "                               u\"\\U0001F300-\\U0001F5FF\"  # symbols & pictographs\n",
    "                               u\"\\U0001F680-\\U0001F6FF\"  # transport & map symbols\n",
    "                               u\"\\U0001F1E0-\\U0001F1FF\"  # flags (iOS)\n",
    "                               u\"\\U00002702-\\U000027B0\"\n",
    "                               u\"\\U000024C2-\\U0001F251\"\n",
    "                               u\"\\U0001f926-\\U0001f937\"\n",
    "                               u'\\U00010000-\\U0010ffff'\n",
    "                               u\"\\u200d\"\n",
    "                               u\"\\u2640-\\u2642\"\n",
    "                               u\"\\u2600-\\u2B55\"\n",
    "                               u\"\\u23cf\"\n",
    "                               u\"\\u23e9\"\n",
    "                               u\"\\u231a\"\n",
    "                               u\"\\u3030\"\n",
    "                               u\"\\ufe0f\"\n",
    "                               \"]+\", flags=re.UNICODE)\n",
    "\n",
    "    return emoji_pattern.sub(r'', sentence)\n",
    "\n",
    "def removeValores(sentence):\n",
    "    new_sentece = ''\n",
    "\n",
    "    for token in sentence.split():\n",
    "        if token.isdigit():\n",
    "            token = '<NUM>'\n",
    "        new_sentece += ' {}'.format(token)\n",
    "\n",
    "    return new_sentece\n",
    "\n",
    "def usingStopwords(language):\n",
    "    stop_words = []\n",
    "\n",
    "    nltk.download('stopwords')\n",
    "\n",
    "    if language == 'pt':\n",
    "        stop_words = nltk.corpus.stopwords.words('portuguese')\n",
    "    elif language == 'en':\n",
    "        stop_words = nltk.corpus.stopwords.words('english')\n",
    "\n",
    "    return stop_words\n",
    "\n",
    "def removeStopwords(text, stop_words):\n",
    "    tokens = []\n",
    "    for word in text.split():\n",
    "        if word not in stop_words:\n",
    "            tokens.append(word)\n",
    "\n",
    "    text = ' '.join(tokens)\n",
    "    return text\n",
    "\n",
    "def normalizarString(text):\n",
    "    \"\"\"\n",
    "    Função para retirar acentuações e converter para minúscula\n",
    "    :param text:\n",
    "    :return text_normalizado\n",
    "    \"\"\"\n",
    "    import unicodedata\n",
    "\n",
    "    text = unicodedata.normalize('NFD', text).encode('ascii', 'ignore').decode(\"utf-8\")\n",
    "    return str(text.lower())"
   ],
   "metadata": {
    "collapsed": false,
    "ExecuteTime": {
     "end_time": "2023-05-24T19:13:50.186320900Z",
     "start_time": "2023-05-24T19:13:50.123354400Z"
    }
   }
  },
  {
   "cell_type": "markdown",
   "source": [
    "## Dependencies"
   ],
   "metadata": {
    "collapsed": false
   }
  },
  {
   "cell_type": "code",
   "execution_count": 6,
   "outputs": [
    {
     "data": {
      "text/plain": "                                                  title  \\\n0     OGCI estabelece nova meta de emissão de carbon...   \n1     Pelo acréscimo previsto da nova gasolina e efi...   \n2     Ibovespa hoje cai 1,22% em mau humor com bater...   \n3     Petrobras (PETR4) conclui venda de campos pelo...   \n4     ANP autoriza Petrobras a movimentar gasolina d...   \n...                                                 ...   \n2032  Ibovespa tem nova queda com mercado à espera d...   \n2033  Discurso mais duro do Fed leva Ibovespa a maio...   \n2034  Ações ligadas a commodities dominam lista de i...   \n2035  Após alta de 5,5%, Mirae faz 3 substituições e...   \n2036  Camil deve pagar bons dividendos em 2022, diz ...   \n\n                                                   tags  \\\n0     ['Combustíveis', 'Empresas', 'Meio Ambiente', ...   \n1     ['Agronegócio', 'Etanol', 'Gasolina', 'Petrobr...   \n2     ['Ibovespa', 'JHSF (JHSF3)', 'Petrobras (PETR4...   \n3                        ['PETR3', 'Petrobras (PETR4)']   \n4     ['Aeroportos', 'Agência Brasil', 'Anac', 'ANP'...   \n...                                                 ...   \n2032  ['Ações', 'Alliar', 'B3', 'Braskem', 'BRF', 'E...   \n2033  ['3R Petroleum', 'Banco Inter', 'Bradespar', '...   \n2034  ['Ações', 'Ágora Investimentos', 'Ativa Invest...   \n2035  ['Ações', 'AES Brasil', 'Carteira Recomendada'...   \n2036  ['Ações', 'Ativa Investimentos', 'BB Seguridad...   \n\n                                                    url      time  label  \n0     https://www.moneytimes.com.br/ogci-estabelece-...  10:15:00      0  \n1     https://www.moneytimes.com.br/pelo-acrescimo-p...  10:35:00      0  \n2     https://www.suno.com.br/noticias/ibovespa-fech...  17:28:00      0  \n3     https://www.suno.com.br/noticias/petrobras-pet...  09:46:00      0  \n4     https://www.moneytimes.com.br/anp-autoriza-pet...  14:06:00      0  \n...                                                 ...       ...    ...  \n2032  https://www.moneytimes.com.br/ibovespa-estende...  10:15:00      0  \n2033  https://www.moneytimes.com.br/ibovespa-acelera...  17:15:00      0  \n2034  https://www.moneytimes.com.br/acoes-ligadas-a-...  17:40:00      0  \n2035  https://www.moneytimes.com.br/apos-alta-de-55-...  15:01:00      0  \n2036  https://www.moneytimes.com.br/camil-deve-pagar...  09:57:00      0  \n\n[2037 rows x 5 columns]",
      "text/html": "<div>\n<style scoped>\n    .dataframe tbody tr th:only-of-type {\n        vertical-align: middle;\n    }\n\n    .dataframe tbody tr th {\n        vertical-align: top;\n    }\n\n    .dataframe thead th {\n        text-align: right;\n    }\n</style>\n<table border=\"1\" class=\"dataframe\">\n  <thead>\n    <tr style=\"text-align: right;\">\n      <th></th>\n      <th>title</th>\n      <th>tags</th>\n      <th>url</th>\n      <th>time</th>\n      <th>label</th>\n    </tr>\n  </thead>\n  <tbody>\n    <tr>\n      <th>0</th>\n      <td>OGCI estabelece nova meta de emissão de carbon...</td>\n      <td>['Combustíveis', 'Empresas', 'Meio Ambiente', ...</td>\n      <td>https://www.moneytimes.com.br/ogci-estabelece-...</td>\n      <td>10:15:00</td>\n      <td>0</td>\n    </tr>\n    <tr>\n      <th>1</th>\n      <td>Pelo acréscimo previsto da nova gasolina e efi...</td>\n      <td>['Agronegócio', 'Etanol', 'Gasolina', 'Petrobr...</td>\n      <td>https://www.moneytimes.com.br/pelo-acrescimo-p...</td>\n      <td>10:35:00</td>\n      <td>0</td>\n    </tr>\n    <tr>\n      <th>2</th>\n      <td>Ibovespa hoje cai 1,22% em mau humor com bater...</td>\n      <td>['Ibovespa', 'JHSF (JHSF3)', 'Petrobras (PETR4...</td>\n      <td>https://www.suno.com.br/noticias/ibovespa-fech...</td>\n      <td>17:28:00</td>\n      <td>0</td>\n    </tr>\n    <tr>\n      <th>3</th>\n      <td>Petrobras (PETR4) conclui venda de campos pelo...</td>\n      <td>['PETR3', 'Petrobras (PETR4)']</td>\n      <td>https://www.suno.com.br/noticias/petrobras-pet...</td>\n      <td>09:46:00</td>\n      <td>0</td>\n    </tr>\n    <tr>\n      <th>4</th>\n      <td>ANP autoriza Petrobras a movimentar gasolina d...</td>\n      <td>['Aeroportos', 'Agência Brasil', 'Anac', 'ANP'...</td>\n      <td>https://www.moneytimes.com.br/anp-autoriza-pet...</td>\n      <td>14:06:00</td>\n      <td>0</td>\n    </tr>\n    <tr>\n      <th>...</th>\n      <td>...</td>\n      <td>...</td>\n      <td>...</td>\n      <td>...</td>\n      <td>...</td>\n    </tr>\n    <tr>\n      <th>2032</th>\n      <td>Ibovespa tem nova queda com mercado à espera d...</td>\n      <td>['Ações', 'Alliar', 'B3', 'Braskem', 'BRF', 'E...</td>\n      <td>https://www.moneytimes.com.br/ibovespa-estende...</td>\n      <td>10:15:00</td>\n      <td>0</td>\n    </tr>\n    <tr>\n      <th>2033</th>\n      <td>Discurso mais duro do Fed leva Ibovespa a maio...</td>\n      <td>['3R Petroleum', 'Banco Inter', 'Bradespar', '...</td>\n      <td>https://www.moneytimes.com.br/ibovespa-acelera...</td>\n      <td>17:15:00</td>\n      <td>0</td>\n    </tr>\n    <tr>\n      <th>2034</th>\n      <td>Ações ligadas a commodities dominam lista de i...</td>\n      <td>['Ações', 'Ágora Investimentos', 'Ativa Invest...</td>\n      <td>https://www.moneytimes.com.br/acoes-ligadas-a-...</td>\n      <td>17:40:00</td>\n      <td>0</td>\n    </tr>\n    <tr>\n      <th>2035</th>\n      <td>Após alta de 5,5%, Mirae faz 3 substituições e...</td>\n      <td>['Ações', 'AES Brasil', 'Carteira Recomendada'...</td>\n      <td>https://www.moneytimes.com.br/apos-alta-de-55-...</td>\n      <td>15:01:00</td>\n      <td>0</td>\n    </tr>\n    <tr>\n      <th>2036</th>\n      <td>Camil deve pagar bons dividendos em 2022, diz ...</td>\n      <td>['Ações', 'Ativa Investimentos', 'BB Seguridad...</td>\n      <td>https://www.moneytimes.com.br/camil-deve-pagar...</td>\n      <td>09:57:00</td>\n      <td>0</td>\n    </tr>\n  </tbody>\n</table>\n<p>2037 rows × 5 columns</p>\n</div>"
     },
     "execution_count": 6,
     "metadata": {},
     "output_type": "execute_result"
    }
   ],
   "source": [
    "train_raw = pd.read_csv('../assets/data/splits/train/raw.csv')\n",
    "val_raw = pd.read_csv('../assets/data/splits/val/raw.csv')\n",
    "test_raw = pd.read_csv('../assets/data/splits/test/raw.csv')\n",
    "df = pd.read_csv('../assets/data/df.csv')\n",
    "df"
   ],
   "metadata": {
    "collapsed": false,
    "ExecuteTime": {
     "end_time": "2023-05-24T19:13:50.263281500Z",
     "start_time": "2023-05-24T19:13:50.159335300Z"
    }
   }
  },
  {
   "cell_type": "code",
   "execution_count": 6,
   "outputs": [],
   "source": [],
   "metadata": {
    "collapsed": false,
    "ExecuteTime": {
     "end_time": "2023-05-24T19:13:50.290270100Z",
     "start_time": "2023-05-24T19:13:50.264281700Z"
    }
   }
  },
  {
   "cell_type": "markdown",
   "source": [
    "## Preprocessing splits"
   ],
   "metadata": {
    "collapsed": false
   }
  },
  {
   "cell_type": "code",
   "execution_count": 7,
   "outputs": [
    {
     "name": "stderr",
     "output_type": "stream",
     "text": [
      "[nltk_data] Downloading package stopwords to\n",
      "[nltk_data]     C:\\Users\\Guilherme\\AppData\\Roaming\\nltk_data...\n",
      "[nltk_data]   Package stopwords is already up-to-date!\n",
      "[nltk_data] Downloading package stopwords to\n",
      "[nltk_data]     C:\\Users\\Guilherme\\AppData\\Roaming\\nltk_data...\n",
      "[nltk_data]   Package stopwords is already up-to-date!\n",
      "[nltk_data] Downloading package stopwords to\n",
      "[nltk_data]     C:\\Users\\Guilherme\\AppData\\Roaming\\nltk_data...\n",
      "[nltk_data]   Package stopwords is already up-to-date!\n",
      "[nltk_data] Downloading package stopwords to\n",
      "[nltk_data]     C:\\Users\\Guilherme\\AppData\\Roaming\\nltk_data...\n",
      "[nltk_data]   Package stopwords is already up-to-date!\n"
     ]
    }
   ],
   "source": [
    "train_pp = transformDocument(train_raw, 'title', 'pt')\n",
    "val_pp = transformDocument(val_raw, 'title', 'pt')\n",
    "test_pp = transformDocument(test_raw, 'title', 'pt')\n",
    "df_pp = transformDocument(df, 'title', 'pt')"
   ],
   "metadata": {
    "collapsed": false,
    "ExecuteTime": {
     "end_time": "2023-05-24T19:13:51.904442600Z",
     "start_time": "2023-05-24T19:13:50.276274600Z"
    }
   }
  },
  {
   "cell_type": "code",
   "execution_count": 8,
   "outputs": [
    {
     "data": {
      "text/plain": "                                                  title  \\\n0     ogci estabelece nova meta emissao carbono afir...   \n1     pelo acrescimo previsto nova gasolina eficienc...   \n2     ibovespa hoje cai <NUM> cento mau humor bateri...   \n3     petrobras petr4 conclui venda campos valor tot...   \n4     anp autoriza petrobras movimentar gasolina avi...   \n...                                                 ...   \n2032         ibovespa nova queda mercado espera ata fed   \n2033  discurso duro fed leva ibovespa maior tombo de...   \n2034  acoes ligadas commodities dominam lista indica...   \n2035  apos alta <NUM> cento mirae faz <NUM> substitu...   \n2036  camil deve pagar bons dividendos <NUM> diz ati...   \n\n                                                   tags  \\\n0     ['Combustíveis', 'Empresas', 'Meio Ambiente', ...   \n1     ['Agronegócio', 'Etanol', 'Gasolina', 'Petrobr...   \n2     ['Ibovespa', 'JHSF (JHSF3)', 'Petrobras (PETR4...   \n3                        ['PETR3', 'Petrobras (PETR4)']   \n4     ['Aeroportos', 'Agência Brasil', 'Anac', 'ANP'...   \n...                                                 ...   \n2032  ['Ações', 'Alliar', 'B3', 'Braskem', 'BRF', 'E...   \n2033  ['3R Petroleum', 'Banco Inter', 'Bradespar', '...   \n2034  ['Ações', 'Ágora Investimentos', 'Ativa Invest...   \n2035  ['Ações', 'AES Brasil', 'Carteira Recomendada'...   \n2036  ['Ações', 'Ativa Investimentos', 'BB Seguridad...   \n\n                                                    url      time  label  \n0     https://www.moneytimes.com.br/ogci-estabelece-...  10:15:00      0  \n1     https://www.moneytimes.com.br/pelo-acrescimo-p...  10:35:00      0  \n2     https://www.suno.com.br/noticias/ibovespa-fech...  17:28:00      0  \n3     https://www.suno.com.br/noticias/petrobras-pet...  09:46:00      0  \n4     https://www.moneytimes.com.br/anp-autoriza-pet...  14:06:00      0  \n...                                                 ...       ...    ...  \n2032  https://www.moneytimes.com.br/ibovespa-estende...  10:15:00      0  \n2033  https://www.moneytimes.com.br/ibovespa-acelera...  17:15:00      0  \n2034  https://www.moneytimes.com.br/acoes-ligadas-a-...  17:40:00      0  \n2035  https://www.moneytimes.com.br/apos-alta-de-55-...  15:01:00      0  \n2036  https://www.moneytimes.com.br/camil-deve-pagar...  09:57:00      0  \n\n[2037 rows x 5 columns]",
      "text/html": "<div>\n<style scoped>\n    .dataframe tbody tr th:only-of-type {\n        vertical-align: middle;\n    }\n\n    .dataframe tbody tr th {\n        vertical-align: top;\n    }\n\n    .dataframe thead th {\n        text-align: right;\n    }\n</style>\n<table border=\"1\" class=\"dataframe\">\n  <thead>\n    <tr style=\"text-align: right;\">\n      <th></th>\n      <th>title</th>\n      <th>tags</th>\n      <th>url</th>\n      <th>time</th>\n      <th>label</th>\n    </tr>\n  </thead>\n  <tbody>\n    <tr>\n      <th>0</th>\n      <td>ogci estabelece nova meta emissao carbono afir...</td>\n      <td>['Combustíveis', 'Empresas', 'Meio Ambiente', ...</td>\n      <td>https://www.moneytimes.com.br/ogci-estabelece-...</td>\n      <td>10:15:00</td>\n      <td>0</td>\n    </tr>\n    <tr>\n      <th>1</th>\n      <td>pelo acrescimo previsto nova gasolina eficienc...</td>\n      <td>['Agronegócio', 'Etanol', 'Gasolina', 'Petrobr...</td>\n      <td>https://www.moneytimes.com.br/pelo-acrescimo-p...</td>\n      <td>10:35:00</td>\n      <td>0</td>\n    </tr>\n    <tr>\n      <th>2</th>\n      <td>ibovespa hoje cai &lt;NUM&gt; cento mau humor bateri...</td>\n      <td>['Ibovespa', 'JHSF (JHSF3)', 'Petrobras (PETR4...</td>\n      <td>https://www.suno.com.br/noticias/ibovespa-fech...</td>\n      <td>17:28:00</td>\n      <td>0</td>\n    </tr>\n    <tr>\n      <th>3</th>\n      <td>petrobras petr4 conclui venda campos valor tot...</td>\n      <td>['PETR3', 'Petrobras (PETR4)']</td>\n      <td>https://www.suno.com.br/noticias/petrobras-pet...</td>\n      <td>09:46:00</td>\n      <td>0</td>\n    </tr>\n    <tr>\n      <th>4</th>\n      <td>anp autoriza petrobras movimentar gasolina avi...</td>\n      <td>['Aeroportos', 'Agência Brasil', 'Anac', 'ANP'...</td>\n      <td>https://www.moneytimes.com.br/anp-autoriza-pet...</td>\n      <td>14:06:00</td>\n      <td>0</td>\n    </tr>\n    <tr>\n      <th>...</th>\n      <td>...</td>\n      <td>...</td>\n      <td>...</td>\n      <td>...</td>\n      <td>...</td>\n    </tr>\n    <tr>\n      <th>2032</th>\n      <td>ibovespa nova queda mercado espera ata fed</td>\n      <td>['Ações', 'Alliar', 'B3', 'Braskem', 'BRF', 'E...</td>\n      <td>https://www.moneytimes.com.br/ibovespa-estende...</td>\n      <td>10:15:00</td>\n      <td>0</td>\n    </tr>\n    <tr>\n      <th>2033</th>\n      <td>discurso duro fed leva ibovespa maior tombo de...</td>\n      <td>['3R Petroleum', 'Banco Inter', 'Bradespar', '...</td>\n      <td>https://www.moneytimes.com.br/ibovespa-acelera...</td>\n      <td>17:15:00</td>\n      <td>0</td>\n    </tr>\n    <tr>\n      <th>2034</th>\n      <td>acoes ligadas commodities dominam lista indica...</td>\n      <td>['Ações', 'Ágora Investimentos', 'Ativa Invest...</td>\n      <td>https://www.moneytimes.com.br/acoes-ligadas-a-...</td>\n      <td>17:40:00</td>\n      <td>0</td>\n    </tr>\n    <tr>\n      <th>2035</th>\n      <td>apos alta &lt;NUM&gt; cento mirae faz &lt;NUM&gt; substitu...</td>\n      <td>['Ações', 'AES Brasil', 'Carteira Recomendada'...</td>\n      <td>https://www.moneytimes.com.br/apos-alta-de-55-...</td>\n      <td>15:01:00</td>\n      <td>0</td>\n    </tr>\n    <tr>\n      <th>2036</th>\n      <td>camil deve pagar bons dividendos &lt;NUM&gt; diz ati...</td>\n      <td>['Ações', 'Ativa Investimentos', 'BB Seguridad...</td>\n      <td>https://www.moneytimes.com.br/camil-deve-pagar...</td>\n      <td>09:57:00</td>\n      <td>0</td>\n    </tr>\n  </tbody>\n</table>\n<p>2037 rows × 5 columns</p>\n</div>"
     },
     "execution_count": 8,
     "metadata": {},
     "output_type": "execute_result"
    }
   ],
   "source": [
    "df_pp"
   ],
   "metadata": {
    "collapsed": false,
    "ExecuteTime": {
     "end_time": "2023-05-24T19:13:51.995396Z",
     "start_time": "2023-05-24T19:13:51.906440700Z"
    }
   }
  },
  {
   "cell_type": "markdown",
   "source": [
    "## Outputs for EDA, word2vec and preprocessing"
   ],
   "metadata": {
    "collapsed": false
   }
  },
  {
   "cell_type": "code",
   "execution_count": 9,
   "outputs": [],
   "source": [
    "train_pp.to_csv('../assets/data/splits/train/preprocessed.csv', index=False)\n",
    "val_pp.to_csv('../assets/data/splits/val/preprocessed.csv', index=False)\n",
    "test_pp.to_csv('../assets/data/splits/test/preprocessed.csv', index=False)\n",
    "df_pp.to_csv('../assets/data/df_pp.csv', index=False)"
   ],
   "metadata": {
    "collapsed": false,
    "ExecuteTime": {
     "end_time": "2023-05-24T19:13:53.819462600Z",
     "start_time": "2023-05-24T19:13:51.997394500Z"
    }
   }
  }
 ],
 "metadata": {
  "kernelspec": {
   "display_name": "Python 3",
   "language": "python",
   "name": "python3"
  },
  "language_info": {
   "codemirror_mode": {
    "name": "ipython",
    "version": 2
   },
   "file_extension": ".py",
   "mimetype": "text/x-python",
   "name": "python",
   "nbconvert_exporter": "python",
   "pygments_lexer": "ipython2",
   "version": "2.7.6"
  }
 },
 "nbformat": 4,
 "nbformat_minor": 0
}
