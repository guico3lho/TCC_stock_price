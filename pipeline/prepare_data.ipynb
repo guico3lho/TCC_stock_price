{
 "cells": [
  {
   "cell_type": "markdown",
   "source": [
    "## Packages"
   ],
   "metadata": {
    "collapsed": false
   }
  },
  {
   "cell_type": "code",
   "execution_count": 2,
   "outputs": [
    {
     "name": "stdout",
     "output_type": "stream",
     "text": [
      "C:\\Users\\guimi\\anaconda3\\envs\\nlp\\python.exe\n",
      "C:\\Users\\guimi\\Documents\\DataScience\\TCC_stock_price\\pipeline\n"
     ]
    }
   ],
   "source": [
    "import json\n",
    "import pandas as pd\n",
    "import os\n",
    "import sys\n",
    "import requests\n",
    "\n",
    "print(sys.executable)\n",
    "print(os.getcwd())\n"
   ],
   "metadata": {
    "collapsed": false,
    "ExecuteTime": {
     "end_time": "2023-05-23T14:50:06.410248200Z",
     "start_time": "2023-05-23T14:50:06.263334200Z"
    }
   }
  },
  {
   "cell_type": "markdown",
   "source": [
    "## Functions"
   ],
   "metadata": {
    "collapsed": false
   }
  },
  {
   "cell_type": "code",
   "execution_count": 3,
   "outputs": [],
   "source": [
    "def getDateOutOfDatetimeToIndex(df):\n",
    "    df['time'] = df['date'].apply(lambda x: str(x).split()[1])\n",
    "    df['date'] = df['date'].apply(lambda x: str(x).split()[0])\n",
    "    df.set_index('date', inplace=True)\n",
    "    df.sort_index(inplace=True)\n",
    "    return df\n",
    "\n",
    "def makeDataset(df1_raw,df2_raw, shift=False, onlyPetr=False, onlyCommercialTime=False):\n",
    "    df1 = df1_raw.copy()\n",
    "    # 27/12/2020 10:25 -> 27-12-2020\n",
    "    df1['date'] = pd.to_datetime(df1['date'], format='%d/%m/%Y %H:%M')\n",
    "\n",
    "    df1 = getDateOutOfDatetimeToIndex(df1)\n",
    "\n",
    "\n",
    "    df2 = df2_raw.copy()\n",
    "\n",
    "    df2['profit'] = (df2['Close'] - df2['Open'])\n",
    "    # df2['profit'] = (df2['Close'] - df2['Open']) / df2['Open']\n",
    "    # 0 -> desceu\n",
    "    # 1 -> ficou igual\n",
    "    # 2 -> subiu\n",
    "    # th = 0.01\n",
    "    # df2['label'] = df2['profit'].apply(lambda x: 0 if x < -th else 2 if x > th else 1 if -th <= x <= th else None)\n",
    "    df2['label'] = df2['profit'].apply(lambda x: 0 if x <=0 else 1 if x > 0 else None)\n",
    "\n",
    "    df2.rename(columns={'Date':'date'},inplace=True)\n",
    "    # profit will be influenced by news on same day (Shift\n",
    "    if shift:\n",
    "        df2['label'] = df2['label'].shift(-1)\n",
    "        # remove row with nan value\n",
    "        df2.dropna(inplace=True)\n",
    "    else:\n",
    "        pass\n",
    "    df2.set_index('date', inplace=True)\n",
    "\n",
    "    df_raw = df1.merge(on='date', right=df2[['label']], how='inner')\n",
    "\n",
    "    if onlyPetr:\n",
    "        df_raw['petr'] = df_raw['tags'].apply(\n",
    "            lambda x: 1 if ('PETR3' in x) or ('PETR4' in x) or ('Petrobras' in x) else 0)\n",
    "        df_raw = df_raw[df_raw['petr'] == 1]\n",
    "        df_raw = df_raw.reset_index()\n",
    "\n",
    "        qtd_noticias_subir = df_raw['label'].value_counts()[0]\n",
    "        qtd_noticias_descer = df_raw['label'].value_counts()[1]\n",
    "        print(f\"Notícias que fazem o valor da ação tender a subir: {qtd_noticias_subir}\")\n",
    "        print(f\"Notícias que fazem o valor da ação tender a descer: {qtd_noticias_descer}\")\n",
    "\n",
    "\n",
    "    return df_raw"
   ],
   "metadata": {
    "collapsed": false,
    "ExecuteTime": {
     "end_time": "2023-05-23T14:50:06.500196200Z",
     "start_time": "2023-05-23T14:50:06.291317400Z"
    }
   }
  },
  {
   "cell_type": "markdown",
   "source": [
    "## Load data"
   ],
   "metadata": {
    "collapsed": false
   }
  },
  {
   "cell_type": "markdown",
   "source": [
    "### News"
   ],
   "metadata": {
    "collapsed": false
   }
  },
  {
   "cell_type": "code",
   "execution_count": 4,
   "outputs": [
    {
     "data": {
      "text/plain": "         topic                                              title  \\\n0     Negócios  Petrobras (PETR4) finaliza venda do Polo Peroá...   \n1     Economia  Conselheiro da Petrobras (PETR4) sugere congel...   \n2     Negócios  Radar: MRV (MRVE3) paga dividendos milionários...   \n3     Política  Líder dos caminhoneiros sobre voucher: “Não pr...   \n4     Negócios  Petrobras (PETR4): Petroleiros aprovam indicat...   \n...        ...                                                ...   \n1425   Mercado  Ibovespa fecha em queda de 0,35%, a 104.109,07...   \n1426  Negócios  Petrobras faz pré-pagamento de US$ 3,5 bi em l...   \n1427  Negócios  Petrobras (PETR4) divulga teaser de venda de p...   \n1428  Negócios  Agenda do Dia: Petrobras; Yduqs; Oi; AES Tietê...   \n1429  Negócios  Petrobras (PETR4): BNDES reprovou bonificação ...   \n\n                    date          search_date  \\\n0    2022-08-03 13:46:00  2022-08-04 00:21:19   \n1    2022-06-17 19:52:00  2022-08-04 00:21:35   \n2    2022-06-20 23:05:00  2022-08-04 00:21:35   \n3    2022-06-22 17:24:00  2022-08-04 00:21:35   \n4    2022-07-10 09:40:00  2022-08-04 00:21:35   \n...                  ...                  ...   \n1425 2020-07-28 17:37:00  2022-05-03 16:22:55   \n1426 2020-07-28 15:00:00  2022-05-03 16:22:56   \n1427 2020-07-28 11:26:00  2022-05-03 16:22:57   \n1428 2020-07-28 09:49:00  2022-05-03 16:22:57   \n1429 2020-07-28 08:28:00  2022-05-03 16:22:57   \n\n                                                    url  \\\n0     https://www.suno.com.br/noticias/petrobras-pet...   \n1     https://www.suno.com.br/noticias/petrobras-pet...   \n2     https://www.suno.com.br/noticias/radar-petrobr...   \n3     https://www.suno.com.br/noticias/lider-caminho...   \n4     https://www.suno.com.br/noticias/petrobras-pet...   \n...                                                 ...   \n1425  https://www.suno.com.br/noticias/ibovespa-fech...   \n1426  https://www.suno.com.br/noticias/petrobras-pre...   \n1427  https://www.suno.com.br/noticias/petrobras-pet...   \n1428  https://www.suno.com.br/noticias/agenda-do-dia...   \n1429  https://www.suno.com.br/noticias/petrobras-pet...   \n\n                                                   tags  \n0     [Petrobras (PETR4), 3R Petroleum (RRRP3), Petr...  \n1     [Petrobras (PETR4), Arthur Lira, Jair Bolsonar...  \n2     [Ibovespa, Ibovespa, Magazine Luiza (MGLU3), M...  \n3     [Petrobras (PETR4), combustíveis, diesel, Jair...  \n4     [Petrobras (PETR4), greves, Petrobras (PETR4),...  \n...                                                 ...  \n1425  [AES Tietê (TIET3/TIET4/TIET11), BNDES, Iboves...  \n1426                         [PETR3, Petrobras (PETR4)]  \n1427                         [PETR3, Petrobras (PETR4)]  \n1428  [AES Tietê (TIET3/TIET4/TIET11), agenda do dia...  \n1429                      [BNDESPar, Petrobras (PETR4)]  \n\n[1430 rows x 6 columns]",
      "text/html": "<div>\n<style scoped>\n    .dataframe tbody tr th:only-of-type {\n        vertical-align: middle;\n    }\n\n    .dataframe tbody tr th {\n        vertical-align: top;\n    }\n\n    .dataframe thead th {\n        text-align: right;\n    }\n</style>\n<table border=\"1\" class=\"dataframe\">\n  <thead>\n    <tr style=\"text-align: right;\">\n      <th></th>\n      <th>topic</th>\n      <th>title</th>\n      <th>date</th>\n      <th>search_date</th>\n      <th>url</th>\n      <th>tags</th>\n    </tr>\n  </thead>\n  <tbody>\n    <tr>\n      <th>0</th>\n      <td>Negócios</td>\n      <td>Petrobras (PETR4) finaliza venda do Polo Peroá...</td>\n      <td>2022-08-03 13:46:00</td>\n      <td>2022-08-04 00:21:19</td>\n      <td>https://www.suno.com.br/noticias/petrobras-pet...</td>\n      <td>[Petrobras (PETR4), 3R Petroleum (RRRP3), Petr...</td>\n    </tr>\n    <tr>\n      <th>1</th>\n      <td>Economia</td>\n      <td>Conselheiro da Petrobras (PETR4) sugere congel...</td>\n      <td>2022-06-17 19:52:00</td>\n      <td>2022-08-04 00:21:35</td>\n      <td>https://www.suno.com.br/noticias/petrobras-pet...</td>\n      <td>[Petrobras (PETR4), Arthur Lira, Jair Bolsonar...</td>\n    </tr>\n    <tr>\n      <th>2</th>\n      <td>Negócios</td>\n      <td>Radar: MRV (MRVE3) paga dividendos milionários...</td>\n      <td>2022-06-20 23:05:00</td>\n      <td>2022-08-04 00:21:35</td>\n      <td>https://www.suno.com.br/noticias/radar-petrobr...</td>\n      <td>[Ibovespa, Ibovespa, Magazine Luiza (MGLU3), M...</td>\n    </tr>\n    <tr>\n      <th>3</th>\n      <td>Política</td>\n      <td>Líder dos caminhoneiros sobre voucher: “Não pr...</td>\n      <td>2022-06-22 17:24:00</td>\n      <td>2022-08-04 00:21:35</td>\n      <td>https://www.suno.com.br/noticias/lider-caminho...</td>\n      <td>[Petrobras (PETR4), combustíveis, diesel, Jair...</td>\n    </tr>\n    <tr>\n      <th>4</th>\n      <td>Negócios</td>\n      <td>Petrobras (PETR4): Petroleiros aprovam indicat...</td>\n      <td>2022-07-10 09:40:00</td>\n      <td>2022-08-04 00:21:35</td>\n      <td>https://www.suno.com.br/noticias/petrobras-pet...</td>\n      <td>[Petrobras (PETR4), greves, Petrobras (PETR4),...</td>\n    </tr>\n    <tr>\n      <th>...</th>\n      <td>...</td>\n      <td>...</td>\n      <td>...</td>\n      <td>...</td>\n      <td>...</td>\n      <td>...</td>\n    </tr>\n    <tr>\n      <th>1425</th>\n      <td>Mercado</td>\n      <td>Ibovespa fecha em queda de 0,35%, a 104.109,07...</td>\n      <td>2020-07-28 17:37:00</td>\n      <td>2022-05-03 16:22:55</td>\n      <td>https://www.suno.com.br/noticias/ibovespa-fech...</td>\n      <td>[AES Tietê (TIET3/TIET4/TIET11), BNDES, Iboves...</td>\n    </tr>\n    <tr>\n      <th>1426</th>\n      <td>Negócios</td>\n      <td>Petrobras faz pré-pagamento de US$ 3,5 bi em l...</td>\n      <td>2020-07-28 15:00:00</td>\n      <td>2022-05-03 16:22:56</td>\n      <td>https://www.suno.com.br/noticias/petrobras-pre...</td>\n      <td>[PETR3, Petrobras (PETR4)]</td>\n    </tr>\n    <tr>\n      <th>1427</th>\n      <td>Negócios</td>\n      <td>Petrobras (PETR4) divulga teaser de venda de p...</td>\n      <td>2020-07-28 11:26:00</td>\n      <td>2022-05-03 16:22:57</td>\n      <td>https://www.suno.com.br/noticias/petrobras-pet...</td>\n      <td>[PETR3, Petrobras (PETR4)]</td>\n    </tr>\n    <tr>\n      <th>1428</th>\n      <td>Negócios</td>\n      <td>Agenda do Dia: Petrobras; Yduqs; Oi; AES Tietê...</td>\n      <td>2020-07-28 09:49:00</td>\n      <td>2022-05-03 16:22:57</td>\n      <td>https://www.suno.com.br/noticias/agenda-do-dia...</td>\n      <td>[AES Tietê (TIET3/TIET4/TIET11), agenda do dia...</td>\n    </tr>\n    <tr>\n      <th>1429</th>\n      <td>Negócios</td>\n      <td>Petrobras (PETR4): BNDES reprovou bonificação ...</td>\n      <td>2020-07-28 08:28:00</td>\n      <td>2022-05-03 16:22:57</td>\n      <td>https://www.suno.com.br/noticias/petrobras-pet...</td>\n      <td>[BNDESPar, Petrobras (PETR4)]</td>\n    </tr>\n  </tbody>\n</table>\n<p>1430 rows × 6 columns</p>\n</div>"
     },
     "execution_count": 4,
     "metadata": {},
     "output_type": "execute_result"
    }
   ],
   "source": [
    "json_data_path = 'https://raw.githubusercontent.com/guico3lho/DataScience_Assets/main/Datasets/financial_market/suno/suno-petr4.json'\n",
    "\n",
    "# url = 'https://raw.githubusercontent.com/guico3lho/TCC/main/assets/Datasets/suno/suno-petr4.json?token=GHSAT0AAAAAABYDRQ4ZASOZJOMO2OAKI4MEZAOJOKA'\n",
    "r = requests.get(json_data_path)\n",
    "data = r.json()\n",
    "df_suno_petr_raw = pd.DataFrame(data)\n",
    "df_suno_petr_raw\n",
    "df_suno_petr_format_datetime = df_suno_petr_raw.copy()\n",
    "df_suno_petr_format_datetime['date'] = pd.to_datetime(df_suno_petr_format_datetime['date'], format='%d/%m/%Y %H:%M')\n",
    "df_suno_petr_format_datetime\n"
   ],
   "metadata": {
    "collapsed": false,
    "ExecuteTime": {
     "end_time": "2023-05-23T14:50:06.584648500Z",
     "start_time": "2023-05-23T14:50:06.321300200Z"
    }
   }
  },
  {
   "cell_type": "code",
   "execution_count": 5,
   "outputs": [
    {
     "data": {
      "text/plain": "                     topic                                              title  \\\n0                 Mercados  Ibovespa dispara hoje por quê? Inflação no Bra...   \n1             Combustíveis  Defasagem do diesel cai para 17% após aumento,...   \n2     Carteira Recomendada  Adeus, Ibovespa: 5 ações do BB Investimentos p...   \n3                 Política  Setor de etanol não se surpreenderá se após Al...   \n4                 Petróleo  EUA perguntaram se Petrobras poderia aumentar ...   \n...                    ...                                                ...   \n6124          George Soros  George Soros volta a comprar ação da Petrobras...   \n6125    Comprar ou vender?  Petrobras deve aumentar gasolina em breve, diz...   \n6126    Comprar ou vender?      XP recoloca Petrobras em carteira recomendada   \n6127              Benndorf  Petrobras: Dia é decisivo para tendência de al...   \n6128    Comprar ou vender?  Quer comprar ação da Petrobras? Passa lá no po...   \n\n                    date          search_date  \\\n0    2022-05-11 12:14:00  2022-05-11 19:03:09   \n1    2022-05-10 13:40:00  2022-05-11 19:03:17   \n2    2022-05-08 17:18:00  2022-05-11 19:03:22   \n3    2022-05-11 11:57:00  2022-05-11 19:03:22   \n4    2022-05-10 08:23:00  2022-05-11 19:03:22   \n...                  ...                  ...   \n6124 2016-11-23 12:22:00  2022-05-11 21:19:57   \n6125 2016-12-02 18:32:00  2022-05-11 21:19:57   \n6126 2016-11-21 19:55:00  2022-05-11 21:20:00   \n6127 2016-12-01 11:59:00  2022-05-11 21:20:00   \n6128 2016-11-21 12:52:00  2022-05-11 21:20:03   \n\n                                                    url  \\\n0     https://www.moneytimes.com.br/ibovespa-dispara...   \n1     https://www.moneytimes.com.br/defasagem-do-die...   \n2     https://www.moneytimes.com.br/adeus-ibovespa-5...   \n3     https://www.moneytimes.com.br/setor-de-etanol-...   \n4     https://www.moneytimes.com.br/eua-perguntaram-...   \n...                                                 ...   \n6124  https://www.moneytimes.com.br/george-soros-vol...   \n6125  https://www.moneytimes.com.br/petrobras-deve-a...   \n6126  https://www.moneytimes.com.br/xp-recoloca-petr...   \n6127  https://www.moneytimes.com.br/petrobras-dia-e-...   \n6128  https://www.moneytimes.com.br/quer-comprar-aca...   \n\n                                                   tags  \n0     [Ações, Alimentos, Ativa Investimentos, B3, Bo...  \n1     [Amazonas, Bahia, Combustíveis, Diesel, Estadã...  \n2     [Ações, Alpargatas, BB Investimentos, Bradesco...  \n3     [Agro Times, Bento Albuquerque, Etanol, Jair B...  \n4     [Bento Albuquerque, Brasil, Combustíveis, Comm...  \n...                                                 ...  \n6124                          [George Soros, Petrobras]  \n6125    [Comprar ou vender?, Itaú BBA, Opep, Petrobras]  \n6126  [Comprar ou vender?, Petrobras, XP Investimentos]  \n6127   [Benndorf, Bolsa, Comprar ou vender?, Petrobras]  \n6128  [Comprar ou vender?, Fusões & Aquisições, Petr...  \n\n[6129 rows x 6 columns]",
      "text/html": "<div>\n<style scoped>\n    .dataframe tbody tr th:only-of-type {\n        vertical-align: middle;\n    }\n\n    .dataframe tbody tr th {\n        vertical-align: top;\n    }\n\n    .dataframe thead th {\n        text-align: right;\n    }\n</style>\n<table border=\"1\" class=\"dataframe\">\n  <thead>\n    <tr style=\"text-align: right;\">\n      <th></th>\n      <th>topic</th>\n      <th>title</th>\n      <th>date</th>\n      <th>search_date</th>\n      <th>url</th>\n      <th>tags</th>\n    </tr>\n  </thead>\n  <tbody>\n    <tr>\n      <th>0</th>\n      <td>Mercados</td>\n      <td>Ibovespa dispara hoje por quê? Inflação no Bra...</td>\n      <td>2022-05-11 12:14:00</td>\n      <td>2022-05-11 19:03:09</td>\n      <td>https://www.moneytimes.com.br/ibovespa-dispara...</td>\n      <td>[Ações, Alimentos, Ativa Investimentos, B3, Bo...</td>\n    </tr>\n    <tr>\n      <th>1</th>\n      <td>Combustíveis</td>\n      <td>Defasagem do diesel cai para 17% após aumento,...</td>\n      <td>2022-05-10 13:40:00</td>\n      <td>2022-05-11 19:03:17</td>\n      <td>https://www.moneytimes.com.br/defasagem-do-die...</td>\n      <td>[Amazonas, Bahia, Combustíveis, Diesel, Estadã...</td>\n    </tr>\n    <tr>\n      <th>2</th>\n      <td>Carteira Recomendada</td>\n      <td>Adeus, Ibovespa: 5 ações do BB Investimentos p...</td>\n      <td>2022-05-08 17:18:00</td>\n      <td>2022-05-11 19:03:22</td>\n      <td>https://www.moneytimes.com.br/adeus-ibovespa-5...</td>\n      <td>[Ações, Alpargatas, BB Investimentos, Bradesco...</td>\n    </tr>\n    <tr>\n      <th>3</th>\n      <td>Política</td>\n      <td>Setor de etanol não se surpreenderá se após Al...</td>\n      <td>2022-05-11 11:57:00</td>\n      <td>2022-05-11 19:03:22</td>\n      <td>https://www.moneytimes.com.br/setor-de-etanol-...</td>\n      <td>[Agro Times, Bento Albuquerque, Etanol, Jair B...</td>\n    </tr>\n    <tr>\n      <th>4</th>\n      <td>Petróleo</td>\n      <td>EUA perguntaram se Petrobras poderia aumentar ...</td>\n      <td>2022-05-10 08:23:00</td>\n      <td>2022-05-11 19:03:22</td>\n      <td>https://www.moneytimes.com.br/eua-perguntaram-...</td>\n      <td>[Bento Albuquerque, Brasil, Combustíveis, Comm...</td>\n    </tr>\n    <tr>\n      <th>...</th>\n      <td>...</td>\n      <td>...</td>\n      <td>...</td>\n      <td>...</td>\n      <td>...</td>\n      <td>...</td>\n    </tr>\n    <tr>\n      <th>6124</th>\n      <td>George Soros</td>\n      <td>George Soros volta a comprar ação da Petrobras...</td>\n      <td>2016-11-23 12:22:00</td>\n      <td>2022-05-11 21:19:57</td>\n      <td>https://www.moneytimes.com.br/george-soros-vol...</td>\n      <td>[George Soros, Petrobras]</td>\n    </tr>\n    <tr>\n      <th>6125</th>\n      <td>Comprar ou vender?</td>\n      <td>Petrobras deve aumentar gasolina em breve, diz...</td>\n      <td>2016-12-02 18:32:00</td>\n      <td>2022-05-11 21:19:57</td>\n      <td>https://www.moneytimes.com.br/petrobras-deve-a...</td>\n      <td>[Comprar ou vender?, Itaú BBA, Opep, Petrobras]</td>\n    </tr>\n    <tr>\n      <th>6126</th>\n      <td>Comprar ou vender?</td>\n      <td>XP recoloca Petrobras em carteira recomendada</td>\n      <td>2016-11-21 19:55:00</td>\n      <td>2022-05-11 21:20:00</td>\n      <td>https://www.moneytimes.com.br/xp-recoloca-petr...</td>\n      <td>[Comprar ou vender?, Petrobras, XP Investimentos]</td>\n    </tr>\n    <tr>\n      <th>6127</th>\n      <td>Benndorf</td>\n      <td>Petrobras: Dia é decisivo para tendência de al...</td>\n      <td>2016-12-01 11:59:00</td>\n      <td>2022-05-11 21:20:00</td>\n      <td>https://www.moneytimes.com.br/petrobras-dia-e-...</td>\n      <td>[Benndorf, Bolsa, Comprar ou vender?, Petrobras]</td>\n    </tr>\n    <tr>\n      <th>6128</th>\n      <td>Comprar ou vender?</td>\n      <td>Quer comprar ação da Petrobras? Passa lá no po...</td>\n      <td>2016-11-21 12:52:00</td>\n      <td>2022-05-11 21:20:03</td>\n      <td>https://www.moneytimes.com.br/quer-comprar-aca...</td>\n      <td>[Comprar ou vender?, Fusões &amp; Aquisições, Petr...</td>\n    </tr>\n  </tbody>\n</table>\n<p>6129 rows × 6 columns</p>\n</div>"
     },
     "execution_count": 5,
     "metadata": {},
     "output_type": "execute_result"
    }
   ],
   "source": [
    "json_data_path = 'https://raw.githubusercontent.com/guico3lho/DataScience_Assets/main/Datasets/financial_market/moneytimes/moneytimes-petr4.json'\n",
    "\n",
    "# url = 'https://raw.githubusercontent.com/guico3lho/TCC/main/assets/Datasets/suno/suno-petr4.json?token=GHSAT0AAAAAABYDRQ4ZASOZJOMO2OAKI4MEZAOJOKA'\n",
    "r = requests.get(json_data_path)\n",
    "data = r.json()\n",
    "\n",
    "df_moneytimes_petr_raw = pd.DataFrame(data)\n",
    "df_moneytimes_petr_raw\n",
    "\n",
    "df_moneytimes_petr_format_datetime = df_moneytimes_petr_raw.copy()\n",
    "# df_moneytimes_petr_format_datetime = getDateOutOfDatetimeToIndex(df_moneytimes_petr_format_datetime)\n",
    "df_moneytimes_petr_format_datetime['date'] = pd.to_datetime(df_moneytimes_petr_format_datetime['date'], format='%d/%m/%Y - %H:%M')\n",
    "df_moneytimes_petr_format_datetime.rename(columns={'link':'url'}, inplace=True)\n",
    "df_moneytimes_petr_format_datetime"
   ],
   "metadata": {
    "collapsed": false,
    "ExecuteTime": {
     "end_time": "2023-05-23T14:50:06.873277300Z",
     "start_time": "2023-05-23T14:50:06.552643400Z"
    }
   }
  },
  {
   "cell_type": "code",
   "execution_count": 6,
   "outputs": [
    {
     "data": {
      "text/plain": "                                                  title  \\\n0     Petrobras (PETR4) finaliza venda do Polo Peroá...   \n1     Conselheiro da Petrobras (PETR4) sugere congel...   \n2     Radar: MRV (MRVE3) paga dividendos milionários...   \n3     Líder dos caminhoneiros sobre voucher: “Não pr...   \n4     Petrobras (PETR4): Petroleiros aprovam indicat...   \n...                                                 ...   \n7554  George Soros volta a comprar ação da Petrobras...   \n7555  Petrobras deve aumentar gasolina em breve, diz...   \n7556      XP recoloca Petrobras em carteira recomendada   \n7557  Petrobras: Dia é decisivo para tendência de al...   \n7558  Quer comprar ação da Petrobras? Passa lá no po...   \n\n                                                   tags  \\\n0     [Petrobras (PETR4), 3R Petroleum (RRRP3), Petr...   \n1     [Petrobras (PETR4), Arthur Lira, Jair Bolsonar...   \n2     [Ibovespa, Ibovespa, Magazine Luiza (MGLU3), M...   \n3     [Petrobras (PETR4), combustíveis, diesel, Jair...   \n4     [Petrobras (PETR4), greves, Petrobras (PETR4),...   \n...                                                 ...   \n7554                          [George Soros, Petrobras]   \n7555    [Comprar ou vender?, Itaú BBA, Opep, Petrobras]   \n7556  [Comprar ou vender?, Petrobras, XP Investimentos]   \n7557   [Benndorf, Bolsa, Comprar ou vender?, Petrobras]   \n7558  [Comprar ou vender?, Fusões & Aquisições, Petr...   \n\n                                                    url                date  \n0     https://www.suno.com.br/noticias/petrobras-pet... 2022-08-03 13:46:00  \n1     https://www.suno.com.br/noticias/petrobras-pet... 2022-06-17 19:52:00  \n2     https://www.suno.com.br/noticias/radar-petrobr... 2022-06-20 23:05:00  \n3     https://www.suno.com.br/noticias/lider-caminho... 2022-06-22 17:24:00  \n4     https://www.suno.com.br/noticias/petrobras-pet... 2022-07-10 09:40:00  \n...                                                 ...                 ...  \n7554  https://www.moneytimes.com.br/george-soros-vol... 2016-11-23 12:22:00  \n7555  https://www.moneytimes.com.br/petrobras-deve-a... 2016-12-02 18:32:00  \n7556  https://www.moneytimes.com.br/xp-recoloca-petr... 2016-11-21 19:55:00  \n7557  https://www.moneytimes.com.br/petrobras-dia-e-... 2016-12-01 11:59:00  \n7558  https://www.moneytimes.com.br/quer-comprar-aca... 2016-11-21 12:52:00  \n\n[7559 rows x 4 columns]",
      "text/html": "<div>\n<style scoped>\n    .dataframe tbody tr th:only-of-type {\n        vertical-align: middle;\n    }\n\n    .dataframe tbody tr th {\n        vertical-align: top;\n    }\n\n    .dataframe thead th {\n        text-align: right;\n    }\n</style>\n<table border=\"1\" class=\"dataframe\">\n  <thead>\n    <tr style=\"text-align: right;\">\n      <th></th>\n      <th>title</th>\n      <th>tags</th>\n      <th>url</th>\n      <th>date</th>\n    </tr>\n  </thead>\n  <tbody>\n    <tr>\n      <th>0</th>\n      <td>Petrobras (PETR4) finaliza venda do Polo Peroá...</td>\n      <td>[Petrobras (PETR4), 3R Petroleum (RRRP3), Petr...</td>\n      <td>https://www.suno.com.br/noticias/petrobras-pet...</td>\n      <td>2022-08-03 13:46:00</td>\n    </tr>\n    <tr>\n      <th>1</th>\n      <td>Conselheiro da Petrobras (PETR4) sugere congel...</td>\n      <td>[Petrobras (PETR4), Arthur Lira, Jair Bolsonar...</td>\n      <td>https://www.suno.com.br/noticias/petrobras-pet...</td>\n      <td>2022-06-17 19:52:00</td>\n    </tr>\n    <tr>\n      <th>2</th>\n      <td>Radar: MRV (MRVE3) paga dividendos milionários...</td>\n      <td>[Ibovespa, Ibovespa, Magazine Luiza (MGLU3), M...</td>\n      <td>https://www.suno.com.br/noticias/radar-petrobr...</td>\n      <td>2022-06-20 23:05:00</td>\n    </tr>\n    <tr>\n      <th>3</th>\n      <td>Líder dos caminhoneiros sobre voucher: “Não pr...</td>\n      <td>[Petrobras (PETR4), combustíveis, diesel, Jair...</td>\n      <td>https://www.suno.com.br/noticias/lider-caminho...</td>\n      <td>2022-06-22 17:24:00</td>\n    </tr>\n    <tr>\n      <th>4</th>\n      <td>Petrobras (PETR4): Petroleiros aprovam indicat...</td>\n      <td>[Petrobras (PETR4), greves, Petrobras (PETR4),...</td>\n      <td>https://www.suno.com.br/noticias/petrobras-pet...</td>\n      <td>2022-07-10 09:40:00</td>\n    </tr>\n    <tr>\n      <th>...</th>\n      <td>...</td>\n      <td>...</td>\n      <td>...</td>\n      <td>...</td>\n    </tr>\n    <tr>\n      <th>7554</th>\n      <td>George Soros volta a comprar ação da Petrobras...</td>\n      <td>[George Soros, Petrobras]</td>\n      <td>https://www.moneytimes.com.br/george-soros-vol...</td>\n      <td>2016-11-23 12:22:00</td>\n    </tr>\n    <tr>\n      <th>7555</th>\n      <td>Petrobras deve aumentar gasolina em breve, diz...</td>\n      <td>[Comprar ou vender?, Itaú BBA, Opep, Petrobras]</td>\n      <td>https://www.moneytimes.com.br/petrobras-deve-a...</td>\n      <td>2016-12-02 18:32:00</td>\n    </tr>\n    <tr>\n      <th>7556</th>\n      <td>XP recoloca Petrobras em carteira recomendada</td>\n      <td>[Comprar ou vender?, Petrobras, XP Investimentos]</td>\n      <td>https://www.moneytimes.com.br/xp-recoloca-petr...</td>\n      <td>2016-11-21 19:55:00</td>\n    </tr>\n    <tr>\n      <th>7557</th>\n      <td>Petrobras: Dia é decisivo para tendência de al...</td>\n      <td>[Benndorf, Bolsa, Comprar ou vender?, Petrobras]</td>\n      <td>https://www.moneytimes.com.br/petrobras-dia-e-...</td>\n      <td>2016-12-01 11:59:00</td>\n    </tr>\n    <tr>\n      <th>7558</th>\n      <td>Quer comprar ação da Petrobras? Passa lá no po...</td>\n      <td>[Comprar ou vender?, Fusões &amp; Aquisições, Petr...</td>\n      <td>https://www.moneytimes.com.br/quer-comprar-aca...</td>\n      <td>2016-11-21 12:52:00</td>\n    </tr>\n  </tbody>\n</table>\n<p>7559 rows × 4 columns</p>\n</div>"
     },
     "execution_count": 6,
     "metadata": {},
     "output_type": "execute_result"
    }
   ],
   "source": [
    "df_petr4 = pd.concat([df_suno_petr_format_datetime[['title', 'tags', 'url','date']], df_moneytimes_petr_format_datetime[['title', 'tags', 'url', 'date']]])\n",
    "\n",
    "df_petr4.reset_index(inplace=True, drop=True)\n",
    "\n",
    "df_petr4['title'] = df_petr4['title'].map(lambda s: s.replace('\\xa0', ''))\n",
    "\n",
    "\n",
    "df_petr4"
   ],
   "metadata": {
    "collapsed": false,
    "ExecuteTime": {
     "end_time": "2023-05-23T14:50:06.928909500Z",
     "start_time": "2023-05-23T14:50:06.876275300Z"
    }
   }
  },
  {
   "cell_type": "code",
   "execution_count": 89,
   "outputs": [],
   "source": [],
   "metadata": {
    "collapsed": false,
    "ExecuteTime": {
     "end_time": "2023-05-23T14:50:06.963890500Z",
     "start_time": "2023-05-23T14:50:06.907258400Z"
    }
   }
  },
  {
   "cell_type": "markdown",
   "source": [
    "### Historical Prices"
   ],
   "metadata": {
    "collapsed": false
   }
  },
  {
   "cell_type": "code",
   "execution_count": 7,
   "outputs": [
    {
     "data": {
      "text/plain": "           Date       Open       High        Low      Close  Adj Close  \\\n0    2020-07-16  23.160000  23.280001  22.520000  22.719999  10.791756   \n1    2020-07-17  22.830000  23.030001  22.580000  22.740000  10.801254   \n2    2020-07-20  22.700001  22.910000  22.520000  22.740000  10.801254   \n3    2020-07-21  23.150000  23.600000  23.139999  23.370001  11.100499   \n4    2020-07-22  23.299999  23.410000  23.010000  23.049999  10.948501   \n..          ...        ...        ...        ...        ...        ...   \n359  2021-12-29  28.700001  28.900000  28.420000  28.540001  16.678885   \n360  2021-12-30  28.549999  28.700001  28.389999  28.450001  16.626287   \n361  2022-01-03  28.540001  29.219999  28.530001  29.090000  17.000307   \n362  2022-01-04  29.160000  29.400000  28.910000  29.200001  17.064590   \n363  2022-01-05  29.190001  29.270000  27.940001  28.070000  16.404213   \n\n        Volume  profit_brute    profit  \n0     69698700     -0.440001 -0.018998  \n1     49927600     -0.090000 -0.003942  \n2     48679800      0.039999  0.001762  \n3    101769600      0.220001  0.009503  \n4     43085500     -0.250000 -0.010730  \n..         ...           ...       ...  \n359   35508400     -0.160000 -0.005575  \n360   43229100     -0.099998 -0.003503  \n361   52704700      0.549999  0.019271  \n362   51739200      0.040001  0.001372  \n363   78459800     -1.120001 -0.038369  \n\n[364 rows x 9 columns]",
      "text/html": "<div>\n<style scoped>\n    .dataframe tbody tr th:only-of-type {\n        vertical-align: middle;\n    }\n\n    .dataframe tbody tr th {\n        vertical-align: top;\n    }\n\n    .dataframe thead th {\n        text-align: right;\n    }\n</style>\n<table border=\"1\" class=\"dataframe\">\n  <thead>\n    <tr style=\"text-align: right;\">\n      <th></th>\n      <th>Date</th>\n      <th>Open</th>\n      <th>High</th>\n      <th>Low</th>\n      <th>Close</th>\n      <th>Adj Close</th>\n      <th>Volume</th>\n      <th>profit_brute</th>\n      <th>profit</th>\n    </tr>\n  </thead>\n  <tbody>\n    <tr>\n      <th>0</th>\n      <td>2020-07-16</td>\n      <td>23.160000</td>\n      <td>23.280001</td>\n      <td>22.520000</td>\n      <td>22.719999</td>\n      <td>10.791756</td>\n      <td>69698700</td>\n      <td>-0.440001</td>\n      <td>-0.018998</td>\n    </tr>\n    <tr>\n      <th>1</th>\n      <td>2020-07-17</td>\n      <td>22.830000</td>\n      <td>23.030001</td>\n      <td>22.580000</td>\n      <td>22.740000</td>\n      <td>10.801254</td>\n      <td>49927600</td>\n      <td>-0.090000</td>\n      <td>-0.003942</td>\n    </tr>\n    <tr>\n      <th>2</th>\n      <td>2020-07-20</td>\n      <td>22.700001</td>\n      <td>22.910000</td>\n      <td>22.520000</td>\n      <td>22.740000</td>\n      <td>10.801254</td>\n      <td>48679800</td>\n      <td>0.039999</td>\n      <td>0.001762</td>\n    </tr>\n    <tr>\n      <th>3</th>\n      <td>2020-07-21</td>\n      <td>23.150000</td>\n      <td>23.600000</td>\n      <td>23.139999</td>\n      <td>23.370001</td>\n      <td>11.100499</td>\n      <td>101769600</td>\n      <td>0.220001</td>\n      <td>0.009503</td>\n    </tr>\n    <tr>\n      <th>4</th>\n      <td>2020-07-22</td>\n      <td>23.299999</td>\n      <td>23.410000</td>\n      <td>23.010000</td>\n      <td>23.049999</td>\n      <td>10.948501</td>\n      <td>43085500</td>\n      <td>-0.250000</td>\n      <td>-0.010730</td>\n    </tr>\n    <tr>\n      <th>...</th>\n      <td>...</td>\n      <td>...</td>\n      <td>...</td>\n      <td>...</td>\n      <td>...</td>\n      <td>...</td>\n      <td>...</td>\n      <td>...</td>\n      <td>...</td>\n    </tr>\n    <tr>\n      <th>359</th>\n      <td>2021-12-29</td>\n      <td>28.700001</td>\n      <td>28.900000</td>\n      <td>28.420000</td>\n      <td>28.540001</td>\n      <td>16.678885</td>\n      <td>35508400</td>\n      <td>-0.160000</td>\n      <td>-0.005575</td>\n    </tr>\n    <tr>\n      <th>360</th>\n      <td>2021-12-30</td>\n      <td>28.549999</td>\n      <td>28.700001</td>\n      <td>28.389999</td>\n      <td>28.450001</td>\n      <td>16.626287</td>\n      <td>43229100</td>\n      <td>-0.099998</td>\n      <td>-0.003503</td>\n    </tr>\n    <tr>\n      <th>361</th>\n      <td>2022-01-03</td>\n      <td>28.540001</td>\n      <td>29.219999</td>\n      <td>28.530001</td>\n      <td>29.090000</td>\n      <td>17.000307</td>\n      <td>52704700</td>\n      <td>0.549999</td>\n      <td>0.019271</td>\n    </tr>\n    <tr>\n      <th>362</th>\n      <td>2022-01-04</td>\n      <td>29.160000</td>\n      <td>29.400000</td>\n      <td>28.910000</td>\n      <td>29.200001</td>\n      <td>17.064590</td>\n      <td>51739200</td>\n      <td>0.040001</td>\n      <td>0.001372</td>\n    </tr>\n    <tr>\n      <th>363</th>\n      <td>2022-01-05</td>\n      <td>29.190001</td>\n      <td>29.270000</td>\n      <td>27.940001</td>\n      <td>28.070000</td>\n      <td>16.404213</td>\n      <td>78459800</td>\n      <td>-1.120001</td>\n      <td>-0.038369</td>\n    </tr>\n  </tbody>\n</table>\n<p>364 rows × 9 columns</p>\n</div>"
     },
     "execution_count": 7,
     "metadata": {},
     "output_type": "execute_result"
    }
   ],
   "source": [
    "df_historical_prices_petr = pd.read_csv('https://raw.githubusercontent.com/guico3lho/DataScience_Assets/main/Datasets/financial_market/historical_data/PETR4.SA_2020_2022.csv')\n",
    "df_historical_prices_petr_analysis = df_historical_prices_petr.copy()\n",
    "df_historical_prices_petr_analysis['profit_brute'] = (df_historical_prices_petr_analysis['Close'] - df_historical_prices_petr_analysis['Open'])\n",
    "df_historical_prices_petr_analysis['profit'] = (df_historical_prices_petr_analysis['Close'] - df_historical_prices_petr_analysis['Open']) / df_historical_prices_petr_analysis['Open']\n",
    "df_historical_prices_petr_analysis"
   ],
   "metadata": {
    "collapsed": false,
    "ExecuteTime": {
     "end_time": "2023-05-23T14:50:07.189801900Z",
     "start_time": "2023-05-23T14:50:06.925911700Z"
    }
   }
  },
  {
   "cell_type": "markdown",
   "source": [
    "### Merge"
   ],
   "metadata": {
    "collapsed": false
   }
  },
  {
   "cell_type": "code",
   "execution_count": 9,
   "outputs": [
    {
     "data": {
      "text/plain": "                                                        title  \\\ndate                                                            \n2020-07-16  OGCI estabelece nova meta de emissão de carbon...   \n2020-07-16  Pelo acréscimo previsto da nova gasolina e efi...   \n2020-07-16  Ibovespa hoje cai 1,22% em mau humor com bater...   \n2020-07-16  Petrobras (PETR4) conclui venda de campos pelo...   \n2020-07-17  ANP autoriza Petrobras a movimentar gasolina d...   \n...                                                       ...   \n2022-01-05  Ibovespa tem nova queda com mercado à espera d...   \n2022-01-05  Discurso mais duro do Fed leva Ibovespa a maio...   \n2022-01-05  Ações ligadas a commodities dominam lista de i...   \n2022-01-05  Após alta de 5,5%, Mirae faz 3 substituições e...   \n2022-01-05  Camil deve pagar bons dividendos em 2022, diz ...   \n\n                                                         tags  \\\ndate                                                            \n2020-07-16  [Combustíveis, Empresas, Meio Ambiente, Petrob...   \n2020-07-16         [Agronegócio, Etanol, Gasolina, Petrobras]   \n2020-07-16  [Ibovespa, JHSF (JHSF3), Petrobras (PETR4), Va...   \n2020-07-16                         [PETR3, Petrobras (PETR4)]   \n2020-07-17  [Aeroportos, Agência Brasil, Anac, ANP, Biocom...   \n...                                                       ...   \n2022-01-05  [Ações, Alliar, B3, Braskem, BRF, Ecorodovias,...   \n2022-01-05  [3R Petroleum, Banco Inter, Bradespar, Braskem...   \n2022-01-05  [Ações, Ágora Investimentos, Ativa Investiment...   \n2022-01-05  [Ações, AES Brasil, Carteira Recomendada, Comp...   \n2022-01-05  [Ações, Ativa Investimentos, BB Seguridade, Ca...   \n\n                                                          url      time  label  \ndate                                                                            \n2020-07-16  https://www.moneytimes.com.br/ogci-estabelece-...  10:15:00      0  \n2020-07-16  https://www.moneytimes.com.br/pelo-acrescimo-p...  10:35:00      0  \n2020-07-16  https://www.suno.com.br/noticias/ibovespa-fech...  17:28:00      0  \n2020-07-16  https://www.suno.com.br/noticias/petrobras-pet...  09:46:00      0  \n2020-07-17  https://www.moneytimes.com.br/anp-autoriza-pet...  14:06:00      0  \n...                                                       ...       ...    ...  \n2022-01-05  https://www.moneytimes.com.br/ibovespa-estende...  10:15:00      0  \n2022-01-05  https://www.moneytimes.com.br/ibovespa-acelera...  17:15:00      0  \n2022-01-05  https://www.moneytimes.com.br/acoes-ligadas-a-...  17:40:00      0  \n2022-01-05  https://www.moneytimes.com.br/apos-alta-de-55-...  15:01:00      0  \n2022-01-05  https://www.moneytimes.com.br/camil-deve-pagar...  09:57:00      0  \n\n[2037 rows x 5 columns]",
      "text/html": "<div>\n<style scoped>\n    .dataframe tbody tr th:only-of-type {\n        vertical-align: middle;\n    }\n\n    .dataframe tbody tr th {\n        vertical-align: top;\n    }\n\n    .dataframe thead th {\n        text-align: right;\n    }\n</style>\n<table border=\"1\" class=\"dataframe\">\n  <thead>\n    <tr style=\"text-align: right;\">\n      <th></th>\n      <th>title</th>\n      <th>tags</th>\n      <th>url</th>\n      <th>time</th>\n      <th>label</th>\n    </tr>\n    <tr>\n      <th>date</th>\n      <th></th>\n      <th></th>\n      <th></th>\n      <th></th>\n      <th></th>\n    </tr>\n  </thead>\n  <tbody>\n    <tr>\n      <th>2020-07-16</th>\n      <td>OGCI estabelece nova meta de emissão de carbon...</td>\n      <td>[Combustíveis, Empresas, Meio Ambiente, Petrob...</td>\n      <td>https://www.moneytimes.com.br/ogci-estabelece-...</td>\n      <td>10:15:00</td>\n      <td>0</td>\n    </tr>\n    <tr>\n      <th>2020-07-16</th>\n      <td>Pelo acréscimo previsto da nova gasolina e efi...</td>\n      <td>[Agronegócio, Etanol, Gasolina, Petrobras]</td>\n      <td>https://www.moneytimes.com.br/pelo-acrescimo-p...</td>\n      <td>10:35:00</td>\n      <td>0</td>\n    </tr>\n    <tr>\n      <th>2020-07-16</th>\n      <td>Ibovespa hoje cai 1,22% em mau humor com bater...</td>\n      <td>[Ibovespa, JHSF (JHSF3), Petrobras (PETR4), Va...</td>\n      <td>https://www.suno.com.br/noticias/ibovespa-fech...</td>\n      <td>17:28:00</td>\n      <td>0</td>\n    </tr>\n    <tr>\n      <th>2020-07-16</th>\n      <td>Petrobras (PETR4) conclui venda de campos pelo...</td>\n      <td>[PETR3, Petrobras (PETR4)]</td>\n      <td>https://www.suno.com.br/noticias/petrobras-pet...</td>\n      <td>09:46:00</td>\n      <td>0</td>\n    </tr>\n    <tr>\n      <th>2020-07-17</th>\n      <td>ANP autoriza Petrobras a movimentar gasolina d...</td>\n      <td>[Aeroportos, Agência Brasil, Anac, ANP, Biocom...</td>\n      <td>https://www.moneytimes.com.br/anp-autoriza-pet...</td>\n      <td>14:06:00</td>\n      <td>0</td>\n    </tr>\n    <tr>\n      <th>...</th>\n      <td>...</td>\n      <td>...</td>\n      <td>...</td>\n      <td>...</td>\n      <td>...</td>\n    </tr>\n    <tr>\n      <th>2022-01-05</th>\n      <td>Ibovespa tem nova queda com mercado à espera d...</td>\n      <td>[Ações, Alliar, B3, Braskem, BRF, Ecorodovias,...</td>\n      <td>https://www.moneytimes.com.br/ibovespa-estende...</td>\n      <td>10:15:00</td>\n      <td>0</td>\n    </tr>\n    <tr>\n      <th>2022-01-05</th>\n      <td>Discurso mais duro do Fed leva Ibovespa a maio...</td>\n      <td>[3R Petroleum, Banco Inter, Bradespar, Braskem...</td>\n      <td>https://www.moneytimes.com.br/ibovespa-acelera...</td>\n      <td>17:15:00</td>\n      <td>0</td>\n    </tr>\n    <tr>\n      <th>2022-01-05</th>\n      <td>Ações ligadas a commodities dominam lista de i...</td>\n      <td>[Ações, Ágora Investimentos, Ativa Investiment...</td>\n      <td>https://www.moneytimes.com.br/acoes-ligadas-a-...</td>\n      <td>17:40:00</td>\n      <td>0</td>\n    </tr>\n    <tr>\n      <th>2022-01-05</th>\n      <td>Após alta de 5,5%, Mirae faz 3 substituições e...</td>\n      <td>[Ações, AES Brasil, Carteira Recomendada, Comp...</td>\n      <td>https://www.moneytimes.com.br/apos-alta-de-55-...</td>\n      <td>15:01:00</td>\n      <td>0</td>\n    </tr>\n    <tr>\n      <th>2022-01-05</th>\n      <td>Camil deve pagar bons dividendos em 2022, diz ...</td>\n      <td>[Ações, Ativa Investimentos, BB Seguridade, Ca...</td>\n      <td>https://www.moneytimes.com.br/camil-deve-pagar...</td>\n      <td>09:57:00</td>\n      <td>0</td>\n    </tr>\n  </tbody>\n</table>\n<p>2037 rows × 5 columns</p>\n</div>"
     },
     "execution_count": 9,
     "metadata": {},
     "output_type": "execute_result"
    }
   ],
   "source": [
    "df = makeDataset(df_petr4, df_historical_prices_petr)\n",
    "df = df[(df['time'] >= '09:30:00') & (df['time'] <= '18:15:00')]\n",
    "df"
   ],
   "metadata": {
    "collapsed": false,
    "ExecuteTime": {
     "end_time": "2023-05-23T14:50:07.293739300Z",
     "start_time": "2023-05-23T14:50:07.097853400Z"
    }
   }
  },
  {
   "cell_type": "code",
   "execution_count": 11,
   "outputs": [
    {
     "data": {
      "text/plain": "          0 category_name\nlabel                    \n0      1118        Desceu\n1       919         Subiu",
      "text/html": "<div>\n<style scoped>\n    .dataframe tbody tr th:only-of-type {\n        vertical-align: middle;\n    }\n\n    .dataframe tbody tr th {\n        vertical-align: top;\n    }\n\n    .dataframe thead th {\n        text-align: right;\n    }\n</style>\n<table border=\"1\" class=\"dataframe\">\n  <thead>\n    <tr style=\"text-align: right;\">\n      <th></th>\n      <th>0</th>\n      <th>category_name</th>\n    </tr>\n    <tr>\n      <th>label</th>\n      <th></th>\n      <th></th>\n    </tr>\n  </thead>\n  <tbody>\n    <tr>\n      <th>0</th>\n      <td>1118</td>\n      <td>Desceu</td>\n    </tr>\n    <tr>\n      <th>1</th>\n      <td>919</td>\n      <td>Subiu</td>\n    </tr>\n  </tbody>\n</table>\n</div>"
     },
     "execution_count": 11,
     "metadata": {},
     "output_type": "execute_result"
    }
   ],
   "source": [
    "df_overview_categories = pd.DataFrame(df.value_counts('label').sort_index())\n",
    "df_overview_categories = df_overview_categories.assign(category_name=['Desceu','Subiu'])\n",
    "df_overview_categories"
   ],
   "metadata": {
    "collapsed": false,
    "ExecuteTime": {
     "end_time": "2023-05-23T14:50:07.314728Z",
     "start_time": "2023-05-23T14:50:07.235773800Z"
    }
   }
  },
  {
   "cell_type": "markdown",
   "source": [
    "## Split size"
   ],
   "metadata": {
    "collapsed": false
   }
  },
  {
   "cell_type": "code",
   "execution_count": 13,
   "outputs": [
    {
     "name": "stdout",
     "output_type": "stream",
     "text": [
      "label\n",
      "0    896\n",
      "1    733\n",
      "dtype: int64\n",
      "label\n",
      "0    113\n",
      "1     91\n",
      "dtype: int64\n",
      "label\n",
      "0    109\n",
      "1     95\n",
      "dtype: int64\n",
      "Total treino:  1629\n",
      "Total validação:  204\n",
      "Total teste:  204\n"
     ]
    }
   ],
   "source": [
    "from sklearn.model_selection import train_test_split\n",
    "\n",
    "# Split data into train and test\n",
    "train, rem = train_test_split(df, train_size=0.8, random_state=52)  # 80% train\n",
    "\n",
    "val, test = train_test_split(rem, test_size=0.5, random_state=52)  # 10% val, 10% test\n",
    "\n",
    "print(train.value_counts('label').sort_index())\n",
    "print(val.value_counts('label').sort_index())\n",
    "print(test.value_counts('label').sort_index())\n",
    "print(\"Total treino: \", train.shape[0])\n",
    "print(\"Total validação: \", val.shape[0])\n",
    "print(\"Total teste: \", test.shape[0])"
   ],
   "metadata": {
    "collapsed": false,
    "ExecuteTime": {
     "end_time": "2023-05-23T14:50:07.314728Z",
     "start_time": "2023-05-23T14:50:07.265756900Z"
    }
   }
  },
  {
   "cell_type": "code",
   "execution_count": 14,
   "outputs": [
    {
     "data": {
      "text/plain": "<Axes: xlabel='label'>"
     },
     "execution_count": 14,
     "metadata": {},
     "output_type": "execute_result"
    },
    {
     "data": {
      "text/plain": "<Figure size 640x480 with 1 Axes>",
      "image/png": "[encoded data removed]"
     },
     "metadata": {},
     "output_type": "display_data"
    }
   ],
   "source": [
    "train.value_counts('label').plot(kind='bar')"
   ],
   "metadata": {
    "collapsed": false,
    "ExecuteTime": {
     "end_time": "2023-05-23T14:50:07.552589800Z",
     "start_time": "2023-05-23T14:50:07.301735Z"
    }
   }
  },
  {
   "cell_type": "markdown",
   "source": [
    "## Export full df, train, val and test for future use"
   ],
   "metadata": {
    "collapsed": false
   }
  },
  {
   "cell_type": "code",
   "execution_count": 16,
   "outputs": [],
   "source": [
    "df.to_csv('../assets/data/df.csv', index=False)\n",
    "train.to_csv('../assets/data/splits/train/raw.csv', index=False)\n",
    "val.to_csv('../assets/data/splits/val/raw.csv', index=False)\n",
    "test.to_csv('../assets/data/splits/test/raw.csv', index=False)"
   ],
   "metadata": {
    "collapsed": false,
    "ExecuteTime": {
     "end_time": "2023-05-23T14:50:07.698503600Z",
     "start_time": "2023-05-23T14:50:07.486627700Z"
    }
   }
  }
 ],
 "metadata": {
  "kernelspec": {
   "display_name": "Python 3",
   "language": "python",
   "name": "python3"
  },
  "language_info": {
   "codemirror_mode": {
    "name": "ipython",
    "version": 2
   },
   "file_extension": ".py",
   "mimetype": "text/x-python",
   "name": "python",
   "nbconvert_exporter": "python",
   "pygments_lexer": "ipython2",
   "version": "2.7.6"
  }
 },
 "nbformat": 4,
 "nbformat_minor": 0
}
