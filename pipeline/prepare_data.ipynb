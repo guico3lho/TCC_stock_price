{
 "cells": [
  {
   "cell_type": "markdown",
   "source": [
    "## Packages"
   ],
   "metadata": {
    "collapsed": false
   }
  },
  {
   "cell_type": "code",
   "execution_count": 1,
   "outputs": [
    {
     "name": "stdout",
     "output_type": "stream",
     "text": [
      "C:\\Users\\Guilherme\\.conda\\envs\\nlp2\\python.exe\n",
      "C:\\Users\\Guilherme\\Documents\\Programming\\Python\\DataScience\\TCC_stock_price\\pipeline\n"
     ]
    }
   ],
   "source": [
    "import json\n",
    "import pandas as pd\n",
    "import os\n",
    "import sys\n",
    "import requests\n",
    "\n",
    "print(sys.executable)\n",
    "print(os.getcwd())\n",
    "\n"
   ],
   "metadata": {
    "collapsed": false,
    "ExecuteTime": {
     "end_time": "2023-06-25T21:04:57.164303900Z",
     "start_time": "2023-06-25T21:04:53.642844100Z"
    }
   }
  },
  {
   "cell_type": "markdown",
   "source": [
    "## Functions"
   ],
   "metadata": {
    "collapsed": false
   }
  },
  {
   "cell_type": "code",
   "execution_count": 2,
   "outputs": [],
   "source": [
    "def getDateOutOfDatetimeToIndex(df):\n",
    "    df['time'] = df['date'].apply(lambda x: str(x).split()[1])\n",
    "    df['date'] = df['date'].apply(lambda x: str(x).split()[0])\n",
    "    df.set_index('date', inplace=True)\n",
    "    df.sort_index(inplace=True)\n",
    "    return df\n",
    "\n",
    "\n",
    "def makeDataset(df1_raw, df2_raw, shift=False, onlyPetr=False):\n",
    "    df1 = df1_raw.copy()\n",
    "    df2 = df2_raw.copy()\n",
    "    # 27/12/2020 10:25 -> 27-12-2020\n",
    "\n",
    "    df2['profit'] = (df2['Close'] - df2['Open']) / df2['Open']\n",
    "    df2['profit (%)'] = df2['profit'].apply(lambda x: round(x * 100, 2))\n",
    "    th = 0.0025\n",
    "    df2['label'] = df2['profit'].apply(lambda x: 0 if x < -th else 2 if x > th else 1 if -th <= x <= th else None)\n",
    "    # df2['label'] = df2['profit'].apply(lambda x: 0 if x <=0 else 1 if x > 0 else None)\n",
    "\n",
    "    # profit will be influenced by news on same day (Shift\n",
    "    if shift:\n",
    "        df2['label'] = df2['label'].shift(-1)\n",
    "        # remove row with nan value\n",
    "        df2.dropna(inplace=True)\n",
    "\n",
    "    df = df1.merge(df2, on='date', how='inner')\n",
    "\n",
    "    df = df.loc[df['time'] <= '17:00:00']\n",
    "\n",
    "    if onlyPetr:\n",
    "        df['petr'] = df['tags'].apply(\n",
    "            lambda x: 1 if ('PETR3' in x) or ('PETR4' in x) or ('Petrobras' in x) else 0)\n",
    "        df = df[df['petr'] == 1]\n",
    "        df = df.reset_index()\n",
    "\n",
    "    return df"
   ],
   "metadata": {
    "collapsed": false,
    "ExecuteTime": {
     "end_time": "2023-06-25T21:04:57.165303Z",
     "start_time": "2023-06-25T21:04:54.325547400Z"
    }
   }
  },
  {
   "cell_type": "markdown",
   "source": [
    "## Load data"
   ],
   "metadata": {
    "collapsed": false
   }
  },
  {
   "cell_type": "markdown",
   "source": [
    "### News"
   ],
   "metadata": {
    "collapsed": false
   }
  },
  {
   "cell_type": "code",
   "execution_count": 3,
   "outputs": [
    {
     "data": {
      "text/plain": "         topic                                              title  \\\n0     Negócios  Petrobras (PETR4) finaliza venda do Polo Peroá...   \n1     Economia  Conselheiro da Petrobras (PETR4) sugere congel...   \n2     Negócios  Radar: MRV (MRVE3) paga dividendos milionários...   \n3     Política  Líder dos caminhoneiros sobre voucher: “Não pr...   \n4     Negócios  Petrobras (PETR4): Petroleiros aprovam indicat...   \n...        ...                                                ...   \n1425   Mercado  Ibovespa fecha em queda de 0,35%, a 104.109,07...   \n1426  Negócios  Petrobras faz pré-pagamento de US$ 3,5 bi em l...   \n1427  Negócios  Petrobras (PETR4) divulga teaser de venda de p...   \n1428  Negócios  Agenda do Dia: Petrobras; Yduqs; Oi; AES Tietê...   \n1429  Negócios  Petrobras (PETR4): BNDES reprovou bonificação ...   \n\n                  date          search_date  \\\n0     03/08/2022 13:46  2022-08-04 00:21:19   \n1     17/06/2022 19:52  2022-08-04 00:21:35   \n2     20/06/2022 23:05  2022-08-04 00:21:35   \n3     22/06/2022 17:24  2022-08-04 00:21:35   \n4     10/07/2022 09:40  2022-08-04 00:21:35   \n...                ...                  ...   \n1425  28/07/2020 17:37  2022-05-03 16:22:55   \n1426  28/07/2020 15:00  2022-05-03 16:22:56   \n1427  28/07/2020 11:26  2022-05-03 16:22:57   \n1428  28/07/2020 09:49  2022-05-03 16:22:57   \n1429  28/07/2020 08:28  2022-05-03 16:22:57   \n\n                                                    url  \\\n0     https://www.suno.com.br/noticias/petrobras-pet...   \n1     https://www.suno.com.br/noticias/petrobras-pet...   \n2     https://www.suno.com.br/noticias/radar-petrobr...   \n3     https://www.suno.com.br/noticias/lider-caminho...   \n4     https://www.suno.com.br/noticias/petrobras-pet...   \n...                                                 ...   \n1425  https://www.suno.com.br/noticias/ibovespa-fech...   \n1426  https://www.suno.com.br/noticias/petrobras-pre...   \n1427  https://www.suno.com.br/noticias/petrobras-pet...   \n1428  https://www.suno.com.br/noticias/agenda-do-dia...   \n1429  https://www.suno.com.br/noticias/petrobras-pet...   \n\n                                                   tags  \n0     [Petrobras (PETR4), 3R Petroleum (RRRP3), Petr...  \n1     [Petrobras (PETR4), Arthur Lira, Jair Bolsonar...  \n2     [Ibovespa, Ibovespa, Magazine Luiza (MGLU3), M...  \n3     [Petrobras (PETR4), combustíveis, diesel, Jair...  \n4     [Petrobras (PETR4), greves, Petrobras (PETR4),...  \n...                                                 ...  \n1425  [AES Tietê (TIET3/TIET4/TIET11), BNDES, Iboves...  \n1426                         [PETR3, Petrobras (PETR4)]  \n1427                         [PETR3, Petrobras (PETR4)]  \n1428  [AES Tietê (TIET3/TIET4/TIET11), agenda do dia...  \n1429                      [BNDESPar, Petrobras (PETR4)]  \n\n[1430 rows x 6 columns]",
      "text/html": "<div>\n<style scoped>\n    .dataframe tbody tr th:only-of-type {\n        vertical-align: middle;\n    }\n\n    .dataframe tbody tr th {\n        vertical-align: top;\n    }\n\n    .dataframe thead th {\n        text-align: right;\n    }\n</style>\n<table border=\"1\" class=\"dataframe\">\n  <thead>\n    <tr style=\"text-align: right;\">\n      <th></th>\n      <th>topic</th>\n      <th>title</th>\n      <th>date</th>\n      <th>search_date</th>\n      <th>url</th>\n      <th>tags</th>\n    </tr>\n  </thead>\n  <tbody>\n    <tr>\n      <th>0</th>\n      <td>Negócios</td>\n      <td>Petrobras (PETR4) finaliza venda do Polo Peroá...</td>\n      <td>03/08/2022 13:46</td>\n      <td>2022-08-04 00:21:19</td>\n      <td>https://www.suno.com.br/noticias/petrobras-pet...</td>\n      <td>[Petrobras (PETR4), 3R Petroleum (RRRP3), Petr...</td>\n    </tr>\n    <tr>\n      <th>1</th>\n      <td>Economia</td>\n      <td>Conselheiro da Petrobras (PETR4) sugere congel...</td>\n      <td>17/06/2022 19:52</td>\n      <td>2022-08-04 00:21:35</td>\n      <td>https://www.suno.com.br/noticias/petrobras-pet...</td>\n      <td>[Petrobras (PETR4), Arthur Lira, Jair Bolsonar...</td>\n    </tr>\n    <tr>\n      <th>2</th>\n      <td>Negócios</td>\n      <td>Radar: MRV (MRVE3) paga dividendos milionários...</td>\n      <td>20/06/2022 23:05</td>\n      <td>2022-08-04 00:21:35</td>\n      <td>https://www.suno.com.br/noticias/radar-petrobr...</td>\n      <td>[Ibovespa, Ibovespa, Magazine Luiza (MGLU3), M...</td>\n    </tr>\n    <tr>\n      <th>3</th>\n      <td>Política</td>\n      <td>Líder dos caminhoneiros sobre voucher: “Não pr...</td>\n      <td>22/06/2022 17:24</td>\n      <td>2022-08-04 00:21:35</td>\n      <td>https://www.suno.com.br/noticias/lider-caminho...</td>\n      <td>[Petrobras (PETR4), combustíveis, diesel, Jair...</td>\n    </tr>\n    <tr>\n      <th>4</th>\n      <td>Negócios</td>\n      <td>Petrobras (PETR4): Petroleiros aprovam indicat...</td>\n      <td>10/07/2022 09:40</td>\n      <td>2022-08-04 00:21:35</td>\n      <td>https://www.suno.com.br/noticias/petrobras-pet...</td>\n      <td>[Petrobras (PETR4), greves, Petrobras (PETR4),...</td>\n    </tr>\n    <tr>\n      <th>...</th>\n      <td>...</td>\n      <td>...</td>\n      <td>...</td>\n      <td>...</td>\n      <td>...</td>\n      <td>...</td>\n    </tr>\n    <tr>\n      <th>1425</th>\n      <td>Mercado</td>\n      <td>Ibovespa fecha em queda de 0,35%, a 104.109,07...</td>\n      <td>28/07/2020 17:37</td>\n      <td>2022-05-03 16:22:55</td>\n      <td>https://www.suno.com.br/noticias/ibovespa-fech...</td>\n      <td>[AES Tietê (TIET3/TIET4/TIET11), BNDES, Iboves...</td>\n    </tr>\n    <tr>\n      <th>1426</th>\n      <td>Negócios</td>\n      <td>Petrobras faz pré-pagamento de US$ 3,5 bi em l...</td>\n      <td>28/07/2020 15:00</td>\n      <td>2022-05-03 16:22:56</td>\n      <td>https://www.suno.com.br/noticias/petrobras-pre...</td>\n      <td>[PETR3, Petrobras (PETR4)]</td>\n    </tr>\n    <tr>\n      <th>1427</th>\n      <td>Negócios</td>\n      <td>Petrobras (PETR4) divulga teaser de venda de p...</td>\n      <td>28/07/2020 11:26</td>\n      <td>2022-05-03 16:22:57</td>\n      <td>https://www.suno.com.br/noticias/petrobras-pet...</td>\n      <td>[PETR3, Petrobras (PETR4)]</td>\n    </tr>\n    <tr>\n      <th>1428</th>\n      <td>Negócios</td>\n      <td>Agenda do Dia: Petrobras; Yduqs; Oi; AES Tietê...</td>\n      <td>28/07/2020 09:49</td>\n      <td>2022-05-03 16:22:57</td>\n      <td>https://www.suno.com.br/noticias/agenda-do-dia...</td>\n      <td>[AES Tietê (TIET3/TIET4/TIET11), agenda do dia...</td>\n    </tr>\n    <tr>\n      <th>1429</th>\n      <td>Negócios</td>\n      <td>Petrobras (PETR4): BNDES reprovou bonificação ...</td>\n      <td>28/07/2020 08:28</td>\n      <td>2022-05-03 16:22:57</td>\n      <td>https://www.suno.com.br/noticias/petrobras-pet...</td>\n      <td>[BNDESPar, Petrobras (PETR4)]</td>\n    </tr>\n  </tbody>\n</table>\n<p>1430 rows × 6 columns</p>\n</div>"
     },
     "execution_count": 3,
     "metadata": {},
     "output_type": "execute_result"
    }
   ],
   "source": [
    "json_data_path = 'https://raw.githubusercontent.com/guico3lho/DataScience_Assets/main/Datasets/financial_market/suno/suno-petr4.json'\n",
    "\n",
    "# url = 'https://raw.githubusercontent.com/guico3lho/TCC/main/assets/Datasets/suno/suno-petr4.json?token=GHSAT0AAAAAABYDRQ4ZASOZJOMO2OAKI4MEZAOJOKA'\n",
    "r = requests.get(json_data_path)\n",
    "data = r.json()\n",
    "df_suno_petr_raw = pd.DataFrame(data)\n",
    "df_suno_petr_raw"
   ],
   "metadata": {
    "collapsed": false,
    "ExecuteTime": {
     "end_time": "2023-06-25T21:04:57.167302Z",
     "start_time": "2023-06-25T21:04:54.340740400Z"
    }
   }
  },
  {
   "cell_type": "code",
   "execution_count": 4,
   "outputs": [
    {
     "data": {
      "text/plain": "         topic                                              title  \\\n0     Negócios  Petrobras (PETR4) finaliza venda do Polo Peroá...   \n1     Economia  Conselheiro da Petrobras (PETR4) sugere congel...   \n2     Negócios  Radar: MRV (MRVE3) paga dividendos milionários...   \n3     Política  Líder dos caminhoneiros sobre voucher: “Não pr...   \n4     Negócios  Petrobras (PETR4): Petroleiros aprovam indicat...   \n...        ...                                                ...   \n1425   Mercado  Ibovespa fecha em queda de 0,35%, a 104.109,07...   \n1426  Negócios  Petrobras faz pré-pagamento de US$ 3,5 bi em l...   \n1427  Negócios  Petrobras (PETR4) divulga teaser de venda de p...   \n1428  Negócios  Agenda do Dia: Petrobras; Yduqs; Oi; AES Tietê...   \n1429  Negócios  Petrobras (PETR4): BNDES reprovou bonificação ...   \n\n                    date          search_date  \\\n0    2022-08-03 13:46:00  2022-08-04 00:21:19   \n1    2022-06-17 19:52:00  2022-08-04 00:21:35   \n2    2022-06-20 23:05:00  2022-08-04 00:21:35   \n3    2022-06-22 17:24:00  2022-08-04 00:21:35   \n4    2022-07-10 09:40:00  2022-08-04 00:21:35   \n...                  ...                  ...   \n1425 2020-07-28 17:37:00  2022-05-03 16:22:55   \n1426 2020-07-28 15:00:00  2022-05-03 16:22:56   \n1427 2020-07-28 11:26:00  2022-05-03 16:22:57   \n1428 2020-07-28 09:49:00  2022-05-03 16:22:57   \n1429 2020-07-28 08:28:00  2022-05-03 16:22:57   \n\n                                                    url  \\\n0     https://www.suno.com.br/noticias/petrobras-pet...   \n1     https://www.suno.com.br/noticias/petrobras-pet...   \n2     https://www.suno.com.br/noticias/radar-petrobr...   \n3     https://www.suno.com.br/noticias/lider-caminho...   \n4     https://www.suno.com.br/noticias/petrobras-pet...   \n...                                                 ...   \n1425  https://www.suno.com.br/noticias/ibovespa-fech...   \n1426  https://www.suno.com.br/noticias/petrobras-pre...   \n1427  https://www.suno.com.br/noticias/petrobras-pet...   \n1428  https://www.suno.com.br/noticias/agenda-do-dia...   \n1429  https://www.suno.com.br/noticias/petrobras-pet...   \n\n                                                   tags  \n0     [Petrobras (PETR4), 3R Petroleum (RRRP3), Petr...  \n1     [Petrobras (PETR4), Arthur Lira, Jair Bolsonar...  \n2     [Ibovespa, Ibovespa, Magazine Luiza (MGLU3), M...  \n3     [Petrobras (PETR4), combustíveis, diesel, Jair...  \n4     [Petrobras (PETR4), greves, Petrobras (PETR4),...  \n...                                                 ...  \n1425  [AES Tietê (TIET3/TIET4/TIET11), BNDES, Iboves...  \n1426                         [PETR3, Petrobras (PETR4)]  \n1427                         [PETR3, Petrobras (PETR4)]  \n1428  [AES Tietê (TIET3/TIET4/TIET11), agenda do dia...  \n1429                      [BNDESPar, Petrobras (PETR4)]  \n\n[1430 rows x 6 columns]",
      "text/html": "<div>\n<style scoped>\n    .dataframe tbody tr th:only-of-type {\n        vertical-align: middle;\n    }\n\n    .dataframe tbody tr th {\n        vertical-align: top;\n    }\n\n    .dataframe thead th {\n        text-align: right;\n    }\n</style>\n<table border=\"1\" class=\"dataframe\">\n  <thead>\n    <tr style=\"text-align: right;\">\n      <th></th>\n      <th>topic</th>\n      <th>title</th>\n      <th>date</th>\n      <th>search_date</th>\n      <th>url</th>\n      <th>tags</th>\n    </tr>\n  </thead>\n  <tbody>\n    <tr>\n      <th>0</th>\n      <td>Negócios</td>\n      <td>Petrobras (PETR4) finaliza venda do Polo Peroá...</td>\n      <td>2022-08-03 13:46:00</td>\n      <td>2022-08-04 00:21:19</td>\n      <td>https://www.suno.com.br/noticias/petrobras-pet...</td>\n      <td>[Petrobras (PETR4), 3R Petroleum (RRRP3), Petr...</td>\n    </tr>\n    <tr>\n      <th>1</th>\n      <td>Economia</td>\n      <td>Conselheiro da Petrobras (PETR4) sugere congel...</td>\n      <td>2022-06-17 19:52:00</td>\n      <td>2022-08-04 00:21:35</td>\n      <td>https://www.suno.com.br/noticias/petrobras-pet...</td>\n      <td>[Petrobras (PETR4), Arthur Lira, Jair Bolsonar...</td>\n    </tr>\n    <tr>\n      <th>2</th>\n      <td>Negócios</td>\n      <td>Radar: MRV (MRVE3) paga dividendos milionários...</td>\n      <td>2022-06-20 23:05:00</td>\n      <td>2022-08-04 00:21:35</td>\n      <td>https://www.suno.com.br/noticias/radar-petrobr...</td>\n      <td>[Ibovespa, Ibovespa, Magazine Luiza (MGLU3), M...</td>\n    </tr>\n    <tr>\n      <th>3</th>\n      <td>Política</td>\n      <td>Líder dos caminhoneiros sobre voucher: “Não pr...</td>\n      <td>2022-06-22 17:24:00</td>\n      <td>2022-08-04 00:21:35</td>\n      <td>https://www.suno.com.br/noticias/lider-caminho...</td>\n      <td>[Petrobras (PETR4), combustíveis, diesel, Jair...</td>\n    </tr>\n    <tr>\n      <th>4</th>\n      <td>Negócios</td>\n      <td>Petrobras (PETR4): Petroleiros aprovam indicat...</td>\n      <td>2022-07-10 09:40:00</td>\n      <td>2022-08-04 00:21:35</td>\n      <td>https://www.suno.com.br/noticias/petrobras-pet...</td>\n      <td>[Petrobras (PETR4), greves, Petrobras (PETR4),...</td>\n    </tr>\n    <tr>\n      <th>...</th>\n      <td>...</td>\n      <td>...</td>\n      <td>...</td>\n      <td>...</td>\n      <td>...</td>\n      <td>...</td>\n    </tr>\n    <tr>\n      <th>1425</th>\n      <td>Mercado</td>\n      <td>Ibovespa fecha em queda de 0,35%, a 104.109,07...</td>\n      <td>2020-07-28 17:37:00</td>\n      <td>2022-05-03 16:22:55</td>\n      <td>https://www.suno.com.br/noticias/ibovespa-fech...</td>\n      <td>[AES Tietê (TIET3/TIET4/TIET11), BNDES, Iboves...</td>\n    </tr>\n    <tr>\n      <th>1426</th>\n      <td>Negócios</td>\n      <td>Petrobras faz pré-pagamento de US$ 3,5 bi em l...</td>\n      <td>2020-07-28 15:00:00</td>\n      <td>2022-05-03 16:22:56</td>\n      <td>https://www.suno.com.br/noticias/petrobras-pre...</td>\n      <td>[PETR3, Petrobras (PETR4)]</td>\n    </tr>\n    <tr>\n      <th>1427</th>\n      <td>Negócios</td>\n      <td>Petrobras (PETR4) divulga teaser de venda de p...</td>\n      <td>2020-07-28 11:26:00</td>\n      <td>2022-05-03 16:22:57</td>\n      <td>https://www.suno.com.br/noticias/petrobras-pet...</td>\n      <td>[PETR3, Petrobras (PETR4)]</td>\n    </tr>\n    <tr>\n      <th>1428</th>\n      <td>Negócios</td>\n      <td>Agenda do Dia: Petrobras; Yduqs; Oi; AES Tietê...</td>\n      <td>2020-07-28 09:49:00</td>\n      <td>2022-05-03 16:22:57</td>\n      <td>https://www.suno.com.br/noticias/agenda-do-dia...</td>\n      <td>[AES Tietê (TIET3/TIET4/TIET11), agenda do dia...</td>\n    </tr>\n    <tr>\n      <th>1429</th>\n      <td>Negócios</td>\n      <td>Petrobras (PETR4): BNDES reprovou bonificação ...</td>\n      <td>2020-07-28 08:28:00</td>\n      <td>2022-05-03 16:22:57</td>\n      <td>https://www.suno.com.br/noticias/petrobras-pet...</td>\n      <td>[BNDESPar, Petrobras (PETR4)]</td>\n    </tr>\n  </tbody>\n</table>\n<p>1430 rows × 6 columns</p>\n</div>"
     },
     "execution_count": 4,
     "metadata": {},
     "output_type": "execute_result"
    }
   ],
   "source": [
    "df_suno_petr_format_datetime = df_suno_petr_raw.copy()\n",
    "df_suno_petr_format_datetime['date'] = pd.to_datetime(df_suno_petr_format_datetime['date'], format='%d/%m/%Y %H:%M')\n",
    "df_suno_petr_format_datetime"
   ],
   "metadata": {
    "collapsed": false,
    "ExecuteTime": {
     "end_time": "2023-06-25T21:04:57.181293500Z",
     "start_time": "2023-06-25T21:04:54.934443500Z"
    }
   }
  },
  {
   "cell_type": "code",
   "execution_count": 5,
   "outputs": [
    {
     "data": {
      "text/plain": "                     topic                                              title  \\\n0                 Mercados  Ibovespa dispara hoje por quê? Inflação no Bra...   \n1             Combustíveis  Defasagem do diesel cai para 17% após aumento,...   \n2     Carteira Recomendada  Adeus, Ibovespa: 5 ações do BB Investimentos p...   \n3                 Política  Setor de etanol não se surpreenderá se após Al...   \n4                 Petróleo  EUA perguntaram se Petrobras poderia aumentar ...   \n...                    ...                                                ...   \n6124          George Soros  George Soros volta a comprar ação da Petrobras...   \n6125    Comprar ou vender?  Petrobras deve aumentar gasolina em breve, diz...   \n6126    Comprar ou vender?      XP recoloca Petrobras em carteira recomendada   \n6127              Benndorf  Petrobras: Dia é decisivo para tendência de al...   \n6128    Comprar ou vender?  Quer comprar ação da Petrobras? Passa lá no po...   \n\n                    date          search_date  \\\n0    2022-05-11 12:14:00  2022-05-11 19:03:09   \n1    2022-05-10 13:40:00  2022-05-11 19:03:17   \n2    2022-05-08 17:18:00  2022-05-11 19:03:22   \n3    2022-05-11 11:57:00  2022-05-11 19:03:22   \n4    2022-05-10 08:23:00  2022-05-11 19:03:22   \n...                  ...                  ...   \n6124 2016-11-23 12:22:00  2022-05-11 21:19:57   \n6125 2016-12-02 18:32:00  2022-05-11 21:19:57   \n6126 2016-11-21 19:55:00  2022-05-11 21:20:00   \n6127 2016-12-01 11:59:00  2022-05-11 21:20:00   \n6128 2016-11-21 12:52:00  2022-05-11 21:20:03   \n\n                                                    url  \\\n0     https://www.moneytimes.com.br/ibovespa-dispara...   \n1     https://www.moneytimes.com.br/defasagem-do-die...   \n2     https://www.moneytimes.com.br/adeus-ibovespa-5...   \n3     https://www.moneytimes.com.br/setor-de-etanol-...   \n4     https://www.moneytimes.com.br/eua-perguntaram-...   \n...                                                 ...   \n6124  https://www.moneytimes.com.br/george-soros-vol...   \n6125  https://www.moneytimes.com.br/petrobras-deve-a...   \n6126  https://www.moneytimes.com.br/xp-recoloca-petr...   \n6127  https://www.moneytimes.com.br/petrobras-dia-e-...   \n6128  https://www.moneytimes.com.br/quer-comprar-aca...   \n\n                                                   tags  \n0     [Ações, Alimentos, Ativa Investimentos, B3, Bo...  \n1     [Amazonas, Bahia, Combustíveis, Diesel, Estadã...  \n2     [Ações, Alpargatas, BB Investimentos, Bradesco...  \n3     [Agro Times, Bento Albuquerque, Etanol, Jair B...  \n4     [Bento Albuquerque, Brasil, Combustíveis, Comm...  \n...                                                 ...  \n6124                          [George Soros, Petrobras]  \n6125    [Comprar ou vender?, Itaú BBA, Opep, Petrobras]  \n6126  [Comprar ou vender?, Petrobras, XP Investimentos]  \n6127   [Benndorf, Bolsa, Comprar ou vender?, Petrobras]  \n6128  [Comprar ou vender?, Fusões & Aquisições, Petr...  \n\n[6129 rows x 6 columns]",
      "text/html": "<div>\n<style scoped>\n    .dataframe tbody tr th:only-of-type {\n        vertical-align: middle;\n    }\n\n    .dataframe tbody tr th {\n        vertical-align: top;\n    }\n\n    .dataframe thead th {\n        text-align: right;\n    }\n</style>\n<table border=\"1\" class=\"dataframe\">\n  <thead>\n    <tr style=\"text-align: right;\">\n      <th></th>\n      <th>topic</th>\n      <th>title</th>\n      <th>date</th>\n      <th>search_date</th>\n      <th>url</th>\n      <th>tags</th>\n    </tr>\n  </thead>\n  <tbody>\n    <tr>\n      <th>0</th>\n      <td>Mercados</td>\n      <td>Ibovespa dispara hoje por quê? Inflação no Bra...</td>\n      <td>2022-05-11 12:14:00</td>\n      <td>2022-05-11 19:03:09</td>\n      <td>https://www.moneytimes.com.br/ibovespa-dispara...</td>\n      <td>[Ações, Alimentos, Ativa Investimentos, B3, Bo...</td>\n    </tr>\n    <tr>\n      <th>1</th>\n      <td>Combustíveis</td>\n      <td>Defasagem do diesel cai para 17% após aumento,...</td>\n      <td>2022-05-10 13:40:00</td>\n      <td>2022-05-11 19:03:17</td>\n      <td>https://www.moneytimes.com.br/defasagem-do-die...</td>\n      <td>[Amazonas, Bahia, Combustíveis, Diesel, Estadã...</td>\n    </tr>\n    <tr>\n      <th>2</th>\n      <td>Carteira Recomendada</td>\n      <td>Adeus, Ibovespa: 5 ações do BB Investimentos p...</td>\n      <td>2022-05-08 17:18:00</td>\n      <td>2022-05-11 19:03:22</td>\n      <td>https://www.moneytimes.com.br/adeus-ibovespa-5...</td>\n      <td>[Ações, Alpargatas, BB Investimentos, Bradesco...</td>\n    </tr>\n    <tr>\n      <th>3</th>\n      <td>Política</td>\n      <td>Setor de etanol não se surpreenderá se após Al...</td>\n      <td>2022-05-11 11:57:00</td>\n      <td>2022-05-11 19:03:22</td>\n      <td>https://www.moneytimes.com.br/setor-de-etanol-...</td>\n      <td>[Agro Times, Bento Albuquerque, Etanol, Jair B...</td>\n    </tr>\n    <tr>\n      <th>4</th>\n      <td>Petróleo</td>\n      <td>EUA perguntaram se Petrobras poderia aumentar ...</td>\n      <td>2022-05-10 08:23:00</td>\n      <td>2022-05-11 19:03:22</td>\n      <td>https://www.moneytimes.com.br/eua-perguntaram-...</td>\n      <td>[Bento Albuquerque, Brasil, Combustíveis, Comm...</td>\n    </tr>\n    <tr>\n      <th>...</th>\n      <td>...</td>\n      <td>...</td>\n      <td>...</td>\n      <td>...</td>\n      <td>...</td>\n      <td>...</td>\n    </tr>\n    <tr>\n      <th>6124</th>\n      <td>George Soros</td>\n      <td>George Soros volta a comprar ação da Petrobras...</td>\n      <td>2016-11-23 12:22:00</td>\n      <td>2022-05-11 21:19:57</td>\n      <td>https://www.moneytimes.com.br/george-soros-vol...</td>\n      <td>[George Soros, Petrobras]</td>\n    </tr>\n    <tr>\n      <th>6125</th>\n      <td>Comprar ou vender?</td>\n      <td>Petrobras deve aumentar gasolina em breve, diz...</td>\n      <td>2016-12-02 18:32:00</td>\n      <td>2022-05-11 21:19:57</td>\n      <td>https://www.moneytimes.com.br/petrobras-deve-a...</td>\n      <td>[Comprar ou vender?, Itaú BBA, Opep, Petrobras]</td>\n    </tr>\n    <tr>\n      <th>6126</th>\n      <td>Comprar ou vender?</td>\n      <td>XP recoloca Petrobras em carteira recomendada</td>\n      <td>2016-11-21 19:55:00</td>\n      <td>2022-05-11 21:20:00</td>\n      <td>https://www.moneytimes.com.br/xp-recoloca-petr...</td>\n      <td>[Comprar ou vender?, Petrobras, XP Investimentos]</td>\n    </tr>\n    <tr>\n      <th>6127</th>\n      <td>Benndorf</td>\n      <td>Petrobras: Dia é decisivo para tendência de al...</td>\n      <td>2016-12-01 11:59:00</td>\n      <td>2022-05-11 21:20:00</td>\n      <td>https://www.moneytimes.com.br/petrobras-dia-e-...</td>\n      <td>[Benndorf, Bolsa, Comprar ou vender?, Petrobras]</td>\n    </tr>\n    <tr>\n      <th>6128</th>\n      <td>Comprar ou vender?</td>\n      <td>Quer comprar ação da Petrobras? Passa lá no po...</td>\n      <td>2016-11-21 12:52:00</td>\n      <td>2022-05-11 21:20:03</td>\n      <td>https://www.moneytimes.com.br/quer-comprar-aca...</td>\n      <td>[Comprar ou vender?, Fusões &amp; Aquisições, Petr...</td>\n    </tr>\n  </tbody>\n</table>\n<p>6129 rows × 6 columns</p>\n</div>"
     },
     "execution_count": 5,
     "metadata": {},
     "output_type": "execute_result"
    }
   ],
   "source": [
    "json_data_path = 'https://raw.githubusercontent.com/guico3lho/DataScience_Assets/main/Datasets/financial_market/moneytimes/moneytimes-petr4.json'\n",
    "\n",
    "# url = 'https://raw.githubusercontent.com/guico3lho/TCC/main/assets/Datasets/suno/suno-petr4.json?token=GHSAT0AAAAAABYDRQ4ZASOZJOMO2OAKI4MEZAOJOKA'\n",
    "r = requests.get(json_data_path)\n",
    "data = r.json()\n",
    "\n",
    "df_moneytimes_petr_raw = pd.DataFrame(data)\n",
    "\n",
    "df_moneytimes_petr_format_datetime = df_moneytimes_petr_raw.copy()\n",
    "# df_moneytimes_petr_format_datetime = getDateOutOfDatetimeToIndex(df_moneytimes_petr_format_datetime)\n",
    "df_moneytimes_petr_format_datetime['date'] = pd.to_datetime(df_moneytimes_petr_format_datetime['date'],\n",
    "                                                            format='%d/%m/%Y - %H:%M')\n",
    "df_moneytimes_petr_format_datetime.rename(columns={'link': 'url'}, inplace=True)\n",
    "df_moneytimes_petr_format_datetime"
   ],
   "metadata": {
    "collapsed": false,
    "ExecuteTime": {
     "end_time": "2023-06-25T21:04:57.183292200Z",
     "start_time": "2023-06-25T21:04:54.976982500Z"
    }
   }
  },
  {
   "cell_type": "code",
   "execution_count": 6,
   "outputs": [
    {
     "data": {
      "text/plain": "                                                        title  \\\ndate                                                            \n2016-09-21  Petrobras: Menos é mais, assim como nos casame...   \n2016-11-02     As 5 apostas do BB Investimentos para novembro   \n2016-11-02  Projeção nada boa para Petrobras na volta do f...   \n2016-11-08           Como a Petrobras pode ganhar com Hillary   \n2016-11-21  Quer comprar ação da Petrobras? Passa lá no po...   \n...                                                       ...   \n2022-07-31  Dividendos bilionários da Petrobras (PETR4) sã...   \n2022-08-01  Radar: Petrobras (PETR4) lidera ranking de div...   \n2022-08-02  Carteira de dividendos: BTG troca Vale (VALE3)...   \n2022-08-02  Ibovespa se mantém em 103 mil pontos; Magazine...   \n2022-08-03  Petrobras (PETR4) finaliza venda do Polo Peroá...   \n\n                                                         tags  \\\ndate                                                            \n2016-09-21          [Comprar ou vender?, Petrobras, Petróleo]   \n2016-11-02  [BB Investimentos, Bolsa, Comprar ou vender?, ...   \n2016-11-02                              [Petrobras, Petróleo]   \n2016-11-08  [Donald Trump, Hillary Clinton, Petrobras, Pet...   \n2016-11-21  [Comprar ou vender?, Fusões & Aquisições, Petr...   \n...                                                       ...   \n2022-07-31             [Petrobras (PETR4), Petrobras (PETR4)]   \n2022-08-01  [Petrobras (PETR4), CSN (CSNA3), EDP Brasil (E...   \n2022-08-02  [Petrobras (PETR4), BTG Pactual (BPAC11/BPAC3/...   \n2022-08-02  [Ibovespa, Bradesco (BBDC3/BBDC4), CVC (CVCB3)...   \n2022-08-03  [Petrobras (PETR4), 3R Petroleum (RRRP3), Petr...   \n\n                                                          url      time  \ndate                                                                     \n2016-09-21  https://www.moneytimes.com.br/petrobras-menos-...  00:31:00  \n2016-11-02  https://www.moneytimes.com.br/as-5-apostas-do-...  04:53:00  \n2016-11-02  https://www.moneytimes.com.br/projecao-nada-bo...  15:04:00  \n2016-11-08  https://www.moneytimes.com.br/como-a-petrobras...  18:55:00  \n2016-11-21  https://www.moneytimes.com.br/quer-comprar-aca...  12:52:00  \n...                                                       ...       ...  \n2022-07-31  https://www.suno.com.br/noticias/dividendos-bi...  16:28:00  \n2022-08-01  https://www.suno.com.br/noticias/radar-petrobr...  23:21:00  \n2022-08-02  https://www.suno.com.br/noticias/dividendos-ca...  12:34:00  \n2022-08-02  https://www.suno.com.br/noticias/ibovespa-102-...  10:55:00  \n2022-08-03  https://www.suno.com.br/noticias/petrobras-pet...  13:46:00  \n\n[7559 rows x 4 columns]",
      "text/html": "<div>\n<style scoped>\n    .dataframe tbody tr th:only-of-type {\n        vertical-align: middle;\n    }\n\n    .dataframe tbody tr th {\n        vertical-align: top;\n    }\n\n    .dataframe thead th {\n        text-align: right;\n    }\n</style>\n<table border=\"1\" class=\"dataframe\">\n  <thead>\n    <tr style=\"text-align: right;\">\n      <th></th>\n      <th>title</th>\n      <th>tags</th>\n      <th>url</th>\n      <th>time</th>\n    </tr>\n    <tr>\n      <th>date</th>\n      <th></th>\n      <th></th>\n      <th></th>\n      <th></th>\n    </tr>\n  </thead>\n  <tbody>\n    <tr>\n      <th>2016-09-21</th>\n      <td>Petrobras: Menos é mais, assim como nos casame...</td>\n      <td>[Comprar ou vender?, Petrobras, Petróleo]</td>\n      <td>https://www.moneytimes.com.br/petrobras-menos-...</td>\n      <td>00:31:00</td>\n    </tr>\n    <tr>\n      <th>2016-11-02</th>\n      <td>As 5 apostas do BB Investimentos para novembro</td>\n      <td>[BB Investimentos, Bolsa, Comprar ou vender?, ...</td>\n      <td>https://www.moneytimes.com.br/as-5-apostas-do-...</td>\n      <td>04:53:00</td>\n    </tr>\n    <tr>\n      <th>2016-11-02</th>\n      <td>Projeção nada boa para Petrobras na volta do f...</td>\n      <td>[Petrobras, Petróleo]</td>\n      <td>https://www.moneytimes.com.br/projecao-nada-bo...</td>\n      <td>15:04:00</td>\n    </tr>\n    <tr>\n      <th>2016-11-08</th>\n      <td>Como a Petrobras pode ganhar com Hillary</td>\n      <td>[Donald Trump, Hillary Clinton, Petrobras, Pet...</td>\n      <td>https://www.moneytimes.com.br/como-a-petrobras...</td>\n      <td>18:55:00</td>\n    </tr>\n    <tr>\n      <th>2016-11-21</th>\n      <td>Quer comprar ação da Petrobras? Passa lá no po...</td>\n      <td>[Comprar ou vender?, Fusões &amp; Aquisições, Petr...</td>\n      <td>https://www.moneytimes.com.br/quer-comprar-aca...</td>\n      <td>12:52:00</td>\n    </tr>\n    <tr>\n      <th>...</th>\n      <td>...</td>\n      <td>...</td>\n      <td>...</td>\n      <td>...</td>\n    </tr>\n    <tr>\n      <th>2022-07-31</th>\n      <td>Dividendos bilionários da Petrobras (PETR4) sã...</td>\n      <td>[Petrobras (PETR4), Petrobras (PETR4)]</td>\n      <td>https://www.suno.com.br/noticias/dividendos-bi...</td>\n      <td>16:28:00</td>\n    </tr>\n    <tr>\n      <th>2022-08-01</th>\n      <td>Radar: Petrobras (PETR4) lidera ranking de div...</td>\n      <td>[Petrobras (PETR4), CSN (CSNA3), EDP Brasil (E...</td>\n      <td>https://www.suno.com.br/noticias/radar-petrobr...</td>\n      <td>23:21:00</td>\n    </tr>\n    <tr>\n      <th>2022-08-02</th>\n      <td>Carteira de dividendos: BTG troca Vale (VALE3)...</td>\n      <td>[Petrobras (PETR4), BTG Pactual (BPAC11/BPAC3/...</td>\n      <td>https://www.suno.com.br/noticias/dividendos-ca...</td>\n      <td>12:34:00</td>\n    </tr>\n    <tr>\n      <th>2022-08-02</th>\n      <td>Ibovespa se mantém em 103 mil pontos; Magazine...</td>\n      <td>[Ibovespa, Bradesco (BBDC3/BBDC4), CVC (CVCB3)...</td>\n      <td>https://www.suno.com.br/noticias/ibovespa-102-...</td>\n      <td>10:55:00</td>\n    </tr>\n    <tr>\n      <th>2022-08-03</th>\n      <td>Petrobras (PETR4) finaliza venda do Polo Peroá...</td>\n      <td>[Petrobras (PETR4), 3R Petroleum (RRRP3), Petr...</td>\n      <td>https://www.suno.com.br/noticias/petrobras-pet...</td>\n      <td>13:46:00</td>\n    </tr>\n  </tbody>\n</table>\n<p>7559 rows × 4 columns</p>\n</div>"
     },
     "execution_count": 6,
     "metadata": {},
     "output_type": "execute_result"
    }
   ],
   "source": [
    "df_petr4_news = pd.concat([df_suno_petr_format_datetime[['title', 'tags', 'url', 'date']],\n",
    "                           df_moneytimes_petr_format_datetime[['title', 'tags', 'url', 'date']]])\n",
    "\n",
    "df_petr4_news.reset_index(inplace=True, drop=True)\n",
    "\n",
    "df_petr4_news['title'] = df_petr4_news['title'].map(lambda s: s.replace('\\xa0', ''))\n",
    "df_petr4_news = getDateOutOfDatetimeToIndex(df_petr4_news)\n",
    "\n",
    "df_petr4_news"
   ],
   "metadata": {
    "collapsed": false,
    "ExecuteTime": {
     "end_time": "2023-06-25T21:04:57.183292200Z",
     "start_time": "2023-06-25T21:04:55.709310500Z"
    }
   }
  },
  {
   "cell_type": "markdown",
   "source": [
    "### Historical Prices"
   ],
   "metadata": {
    "collapsed": false
   }
  },
  {
   "cell_type": "code",
   "execution_count": 7,
   "outputs": [],
   "source": [
    "# import opendatasets as od\n",
    "# od.download(\"https://www.kaggle.com/datasets/guico3lho/petr4-historical-data-2016-09-2022-08\")"
   ],
   "metadata": {
    "collapsed": false,
    "ExecuteTime": {
     "end_time": "2023-06-25T21:04:57.184291400Z",
     "start_time": "2023-06-25T21:04:55.819423400Z"
    }
   }
  },
  {
   "cell_type": "code",
   "execution_count": 8,
   "outputs": [
    {
     "data": {
      "text/plain": "                 Open       High        Low      Close  Adj Close     Volume\ndate                                                                        \n2016-09-21  13.600000  13.690000  13.400000  13.660000   5.028104   61094100\n2016-09-22  13.890000  14.090000  13.840000  14.000000   5.153255   47574500\n2016-09-23  13.980000  13.980000  13.540000  13.690000   5.039146   53264300\n2016-09-26  13.590000  13.690000  13.390000  13.400000   4.932401   35545800\n2016-09-27  13.400000  13.400000  12.870000  13.120000   4.829334   58098200\n...               ...        ...        ...        ...        ...        ...\n2022-07-27  31.299999  31.469999  30.620001  31.350000  18.657389   56097200\n2022-07-28  31.590000  32.630001  31.430000  32.290001  19.216816  114996500\n2022-07-29  33.599998  34.660000  32.830002  34.150002  20.323761  181480600\n2022-08-01  34.000000  34.150002  33.220001  33.680000  20.044048   81365100\n2022-08-02  33.770000  34.500000  33.480000  33.830002  20.133320   69147100\n\n[1459 rows x 6 columns]",
      "text/html": "<div>\n<style scoped>\n    .dataframe tbody tr th:only-of-type {\n        vertical-align: middle;\n    }\n\n    .dataframe tbody tr th {\n        vertical-align: top;\n    }\n\n    .dataframe thead th {\n        text-align: right;\n    }\n</style>\n<table border=\"1\" class=\"dataframe\">\n  <thead>\n    <tr style=\"text-align: right;\">\n      <th></th>\n      <th>Open</th>\n      <th>High</th>\n      <th>Low</th>\n      <th>Close</th>\n      <th>Adj Close</th>\n      <th>Volume</th>\n    </tr>\n    <tr>\n      <th>date</th>\n      <th></th>\n      <th></th>\n      <th></th>\n      <th></th>\n      <th></th>\n      <th></th>\n    </tr>\n  </thead>\n  <tbody>\n    <tr>\n      <th>2016-09-21</th>\n      <td>13.600000</td>\n      <td>13.690000</td>\n      <td>13.400000</td>\n      <td>13.660000</td>\n      <td>5.028104</td>\n      <td>61094100</td>\n    </tr>\n    <tr>\n      <th>2016-09-22</th>\n      <td>13.890000</td>\n      <td>14.090000</td>\n      <td>13.840000</td>\n      <td>14.000000</td>\n      <td>5.153255</td>\n      <td>47574500</td>\n    </tr>\n    <tr>\n      <th>2016-09-23</th>\n      <td>13.980000</td>\n      <td>13.980000</td>\n      <td>13.540000</td>\n      <td>13.690000</td>\n      <td>5.039146</td>\n      <td>53264300</td>\n    </tr>\n    <tr>\n      <th>2016-09-26</th>\n      <td>13.590000</td>\n      <td>13.690000</td>\n      <td>13.390000</td>\n      <td>13.400000</td>\n      <td>4.932401</td>\n      <td>35545800</td>\n    </tr>\n    <tr>\n      <th>2016-09-27</th>\n      <td>13.400000</td>\n      <td>13.400000</td>\n      <td>12.870000</td>\n      <td>13.120000</td>\n      <td>4.829334</td>\n      <td>58098200</td>\n    </tr>\n    <tr>\n      <th>...</th>\n      <td>...</td>\n      <td>...</td>\n      <td>...</td>\n      <td>...</td>\n      <td>...</td>\n      <td>...</td>\n    </tr>\n    <tr>\n      <th>2022-07-27</th>\n      <td>31.299999</td>\n      <td>31.469999</td>\n      <td>30.620001</td>\n      <td>31.350000</td>\n      <td>18.657389</td>\n      <td>56097200</td>\n    </tr>\n    <tr>\n      <th>2022-07-28</th>\n      <td>31.590000</td>\n      <td>32.630001</td>\n      <td>31.430000</td>\n      <td>32.290001</td>\n      <td>19.216816</td>\n      <td>114996500</td>\n    </tr>\n    <tr>\n      <th>2022-07-29</th>\n      <td>33.599998</td>\n      <td>34.660000</td>\n      <td>32.830002</td>\n      <td>34.150002</td>\n      <td>20.323761</td>\n      <td>181480600</td>\n    </tr>\n    <tr>\n      <th>2022-08-01</th>\n      <td>34.000000</td>\n      <td>34.150002</td>\n      <td>33.220001</td>\n      <td>33.680000</td>\n      <td>20.044048</td>\n      <td>81365100</td>\n    </tr>\n    <tr>\n      <th>2022-08-02</th>\n      <td>33.770000</td>\n      <td>34.500000</td>\n      <td>33.480000</td>\n      <td>33.830002</td>\n      <td>20.133320</td>\n      <td>69147100</td>\n    </tr>\n  </tbody>\n</table>\n<p>1459 rows × 6 columns</p>\n</div>"
     },
     "execution_count": 8,
     "metadata": {},
     "output_type": "execute_result"
    }
   ],
   "source": [
    "df_petr4_historical_prices = pd.read_csv('../assets/petr4-historical-data-2016-09-2022-08/PETR4_2016_09__2022_08.csv')\n",
    "df_petr4_historical_prices.rename(columns={'Date': 'date'}, inplace=True)\n",
    "df_petr4_historical_prices.set_index('date', inplace=True)\n",
    "df_petr4_historical_prices"
   ],
   "metadata": {
    "collapsed": false,
    "ExecuteTime": {
     "end_time": "2023-06-25T21:04:57.185290600Z",
     "start_time": "2023-06-25T21:04:55.834758100Z"
    }
   }
  },
  {
   "cell_type": "markdown",
   "source": [
    "## Making Dataset"
   ],
   "metadata": {
    "collapsed": false
   }
  },
  {
   "cell_type": "code",
   "execution_count": 14,
   "outputs": [
    {
     "data": {
      "text/plain": "                                                        title  \\\ndate                                                            \n2016-09-21  Petrobras: Menos é mais, assim como nos casame...   \n2016-11-21  Quer comprar ação da Petrobras? Passa lá no po...   \n2016-11-23  George Soros volta a comprar ação da Petrobras...   \n2016-11-28  Itaú BBA remove ação da Petrobras de carteira ...   \n2016-11-28                       Vem aí o novo velho Ibovespa   \n...                                                       ...   \n2022-07-28  Petrobras (PETR4) pagará dividendos de R$ 6,73...   \n2022-07-29  Ibovespa sobe com Petrobras (PETR4), mas Vale ...   \n2022-07-29  Petrobras (PETR4) tem preço-alvo elevado, com ...   \n2022-08-02  Carteira de dividendos: BTG troca Vale (VALE3)...   \n2022-08-02  Ibovespa se mantém em 103 mil pontos; Magazine...   \n\n                                                         tags  \\\ndate                                                            \n2016-09-21          [Comprar ou vender?, Petrobras, Petróleo]   \n2016-11-21  [Comprar ou vender?, Fusões & Aquisições, Petr...   \n2016-11-23                          [George Soros, Petrobras]   \n2016-11-28   [Ambev, Comprar ou vender?, Itaú BBA, Petrobras]   \n2016-11-28  [Banco do Brasil, BRF, Comprar ou vender?, Emb...   \n...                                                       ...   \n2022-07-28  [Petrobras (PETR4), dividendos, Petrobras (PET...   \n2022-07-29  [Ibovespa, 3R Petroleum (RRRP3), americanas S....   \n2022-07-29  [Petrobras (PETR4), Especialistas, Petrobras (...   \n2022-08-02  [Petrobras (PETR4), BTG Pactual (BPAC11/BPAC3/...   \n2022-08-02  [Ibovespa, Bradesco (BBDC3/BBDC4), CVC (CVCB3)...   \n\n                                                          url      time  \\\ndate                                                                      \n2016-09-21  https://www.moneytimes.com.br/petrobras-menos-...  00:31:00   \n2016-11-21  https://www.moneytimes.com.br/quer-comprar-aca...  12:52:00   \n2016-11-23  https://www.moneytimes.com.br/george-soros-vol...  12:22:00   \n2016-11-28  https://www.moneytimes.com.br/itau-bba-remove-...  15:13:00   \n2016-11-28  https://www.moneytimes.com.br/vem-ai-o-novo-ve...  08:59:00   \n...                                                       ...       ...   \n2022-07-28  https://www.suno.com.br/noticias/petrobras-pet...  16:02:00   \n2022-07-29  https://www.suno.com.br/noticias/ibovespa-hoje...  10:42:00   \n2022-07-29  https://www.suno.com.br/noticias/petrobras-pet...  14:21:00   \n2022-08-02  https://www.suno.com.br/noticias/dividendos-ca...  12:34:00   \n2022-08-02  https://www.suno.com.br/noticias/ibovespa-102-...  10:55:00   \n\n                 Open       High        Low      Close  Adj Close     Volume  \\\ndate                                                                           \n2016-09-21  13.600000  13.690000  13.400000  13.660000   5.028104   61094100   \n2016-11-21  15.050000  15.580000  14.880000  15.580000   5.734836   59122000   \n2016-11-23  15.720000  15.990000  15.530000  15.850000   5.834219   42490100   \n2016-11-28  15.200000  15.560000  15.200000  15.460000   5.690664   38747500   \n2016-11-28  15.200000  15.560000  15.200000  15.460000   5.690664   38747500   \n...               ...        ...        ...        ...        ...        ...   \n2022-07-28  31.590000  32.630001  31.430000  32.290001  19.216816  114996500   \n2022-07-29  33.599998  34.660000  32.830002  34.150002  20.323761  181480600   \n2022-07-29  33.599998  34.660000  32.830002  34.150002  20.323761  181480600   \n2022-08-02  33.770000  34.500000  33.480000  33.830002  20.133320   69147100   \n2022-08-02  33.770000  34.500000  33.480000  33.830002  20.133320   69147100   \n\n              profit  profit (%)  label  \ndate                                     \n2016-09-21  0.004412        0.44      2  \n2016-11-21  0.035216        3.52      2  \n2016-11-23  0.008270        0.83      2  \n2016-11-28  0.017105        1.71      2  \n2016-11-28  0.017105        1.71      2  \n...              ...         ...    ...  \n2022-07-28  0.022159        2.22      2  \n2022-07-29  0.016369        1.64      2  \n2022-07-29  0.016369        1.64      2  \n2022-08-02  0.001777        0.18      1  \n2022-08-02  0.001777        0.18      1  \n\n[4431 rows x 13 columns]",
      "text/html": "<div>\n<style scoped>\n    .dataframe tbody tr th:only-of-type {\n        vertical-align: middle;\n    }\n\n    .dataframe tbody tr th {\n        vertical-align: top;\n    }\n\n    .dataframe thead th {\n        text-align: right;\n    }\n</style>\n<table border=\"1\" class=\"dataframe\">\n  <thead>\n    <tr style=\"text-align: right;\">\n      <th></th>\n      <th>title</th>\n      <th>tags</th>\n      <th>url</th>\n      <th>time</th>\n      <th>Open</th>\n      <th>High</th>\n      <th>Low</th>\n      <th>Close</th>\n      <th>Adj Close</th>\n      <th>Volume</th>\n      <th>profit</th>\n      <th>profit (%)</th>\n      <th>label</th>\n    </tr>\n    <tr>\n      <th>date</th>\n      <th></th>\n      <th></th>\n      <th></th>\n      <th></th>\n      <th></th>\n      <th></th>\n      <th></th>\n      <th></th>\n      <th></th>\n      <th></th>\n      <th></th>\n      <th></th>\n      <th></th>\n    </tr>\n  </thead>\n  <tbody>\n    <tr>\n      <th>2016-09-21</th>\n      <td>Petrobras: Menos é mais, assim como nos casame...</td>\n      <td>[Comprar ou vender?, Petrobras, Petróleo]</td>\n      <td>https://www.moneytimes.com.br/petrobras-menos-...</td>\n      <td>00:31:00</td>\n      <td>13.600000</td>\n      <td>13.690000</td>\n      <td>13.400000</td>\n      <td>13.660000</td>\n      <td>5.028104</td>\n      <td>61094100</td>\n      <td>0.004412</td>\n      <td>0.44</td>\n      <td>2</td>\n    </tr>\n    <tr>\n      <th>2016-11-21</th>\n      <td>Quer comprar ação da Petrobras? Passa lá no po...</td>\n      <td>[Comprar ou vender?, Fusões &amp; Aquisições, Petr...</td>\n      <td>https://www.moneytimes.com.br/quer-comprar-aca...</td>\n      <td>12:52:00</td>\n      <td>15.050000</td>\n      <td>15.580000</td>\n      <td>14.880000</td>\n      <td>15.580000</td>\n      <td>5.734836</td>\n      <td>59122000</td>\n      <td>0.035216</td>\n      <td>3.52</td>\n      <td>2</td>\n    </tr>\n    <tr>\n      <th>2016-11-23</th>\n      <td>George Soros volta a comprar ação da Petrobras...</td>\n      <td>[George Soros, Petrobras]</td>\n      <td>https://www.moneytimes.com.br/george-soros-vol...</td>\n      <td>12:22:00</td>\n      <td>15.720000</td>\n      <td>15.990000</td>\n      <td>15.530000</td>\n      <td>15.850000</td>\n      <td>5.834219</td>\n      <td>42490100</td>\n      <td>0.008270</td>\n      <td>0.83</td>\n      <td>2</td>\n    </tr>\n    <tr>\n      <th>2016-11-28</th>\n      <td>Itaú BBA remove ação da Petrobras de carteira ...</td>\n      <td>[Ambev, Comprar ou vender?, Itaú BBA, Petrobras]</td>\n      <td>https://www.moneytimes.com.br/itau-bba-remove-...</td>\n      <td>15:13:00</td>\n      <td>15.200000</td>\n      <td>15.560000</td>\n      <td>15.200000</td>\n      <td>15.460000</td>\n      <td>5.690664</td>\n      <td>38747500</td>\n      <td>0.017105</td>\n      <td>1.71</td>\n      <td>2</td>\n    </tr>\n    <tr>\n      <th>2016-11-28</th>\n      <td>Vem aí o novo velho Ibovespa</td>\n      <td>[Banco do Brasil, BRF, Comprar ou vender?, Emb...</td>\n      <td>https://www.moneytimes.com.br/vem-ai-o-novo-ve...</td>\n      <td>08:59:00</td>\n      <td>15.200000</td>\n      <td>15.560000</td>\n      <td>15.200000</td>\n      <td>15.460000</td>\n      <td>5.690664</td>\n      <td>38747500</td>\n      <td>0.017105</td>\n      <td>1.71</td>\n      <td>2</td>\n    </tr>\n    <tr>\n      <th>...</th>\n      <td>...</td>\n      <td>...</td>\n      <td>...</td>\n      <td>...</td>\n      <td>...</td>\n      <td>...</td>\n      <td>...</td>\n      <td>...</td>\n      <td>...</td>\n      <td>...</td>\n      <td>...</td>\n      <td>...</td>\n      <td>...</td>\n    </tr>\n    <tr>\n      <th>2022-07-28</th>\n      <td>Petrobras (PETR4) pagará dividendos de R$ 6,73...</td>\n      <td>[Petrobras (PETR4), dividendos, Petrobras (PET...</td>\n      <td>https://www.suno.com.br/noticias/petrobras-pet...</td>\n      <td>16:02:00</td>\n      <td>31.590000</td>\n      <td>32.630001</td>\n      <td>31.430000</td>\n      <td>32.290001</td>\n      <td>19.216816</td>\n      <td>114996500</td>\n      <td>0.022159</td>\n      <td>2.22</td>\n      <td>2</td>\n    </tr>\n    <tr>\n      <th>2022-07-29</th>\n      <td>Ibovespa sobe com Petrobras (PETR4), mas Vale ...</td>\n      <td>[Ibovespa, 3R Petroleum (RRRP3), americanas S....</td>\n      <td>https://www.suno.com.br/noticias/ibovespa-hoje...</td>\n      <td>10:42:00</td>\n      <td>33.599998</td>\n      <td>34.660000</td>\n      <td>32.830002</td>\n      <td>34.150002</td>\n      <td>20.323761</td>\n      <td>181480600</td>\n      <td>0.016369</td>\n      <td>1.64</td>\n      <td>2</td>\n    </tr>\n    <tr>\n      <th>2022-07-29</th>\n      <td>Petrobras (PETR4) tem preço-alvo elevado, com ...</td>\n      <td>[Petrobras (PETR4), Especialistas, Petrobras (...</td>\n      <td>https://www.suno.com.br/noticias/petrobras-pet...</td>\n      <td>14:21:00</td>\n      <td>33.599998</td>\n      <td>34.660000</td>\n      <td>32.830002</td>\n      <td>34.150002</td>\n      <td>20.323761</td>\n      <td>181480600</td>\n      <td>0.016369</td>\n      <td>1.64</td>\n      <td>2</td>\n    </tr>\n    <tr>\n      <th>2022-08-02</th>\n      <td>Carteira de dividendos: BTG troca Vale (VALE3)...</td>\n      <td>[Petrobras (PETR4), BTG Pactual (BPAC11/BPAC3/...</td>\n      <td>https://www.suno.com.br/noticias/dividendos-ca...</td>\n      <td>12:34:00</td>\n      <td>33.770000</td>\n      <td>34.500000</td>\n      <td>33.480000</td>\n      <td>33.830002</td>\n      <td>20.133320</td>\n      <td>69147100</td>\n      <td>0.001777</td>\n      <td>0.18</td>\n      <td>1</td>\n    </tr>\n    <tr>\n      <th>2022-08-02</th>\n      <td>Ibovespa se mantém em 103 mil pontos; Magazine...</td>\n      <td>[Ibovespa, Bradesco (BBDC3/BBDC4), CVC (CVCB3)...</td>\n      <td>https://www.suno.com.br/noticias/ibovespa-102-...</td>\n      <td>10:55:00</td>\n      <td>33.770000</td>\n      <td>34.500000</td>\n      <td>33.480000</td>\n      <td>33.830002</td>\n      <td>20.133320</td>\n      <td>69147100</td>\n      <td>0.001777</td>\n      <td>0.18</td>\n      <td>1</td>\n    </tr>\n  </tbody>\n</table>\n<p>4431 rows × 13 columns</p>\n</div>"
     },
     "execution_count": 14,
     "metadata": {},
     "output_type": "execute_result"
    }
   ],
   "source": [
    "df_raw = makeDataset(df_petr4_news, df_petr4_historical_prices)\n",
    "df_raw"
   ],
   "metadata": {
    "collapsed": false,
    "ExecuteTime": {
     "end_time": "2023-06-25T21:08:54.699240900Z",
     "start_time": "2023-06-25T21:08:54.634446Z"
    }
   }
  },
  {
   "cell_type": "code",
   "execution_count": 15,
   "outputs": [
    {
     "data": {
      "text/plain": "          0 category_name\nlabel                    \n0      2113        Desceu\n1       435     Constante\n2      1883         Subiu",
      "text/html": "<div>\n<style scoped>\n    .dataframe tbody tr th:only-of-type {\n        vertical-align: middle;\n    }\n\n    .dataframe tbody tr th {\n        vertical-align: top;\n    }\n\n    .dataframe thead th {\n        text-align: right;\n    }\n</style>\n<table border=\"1\" class=\"dataframe\">\n  <thead>\n    <tr style=\"text-align: right;\">\n      <th></th>\n      <th>0</th>\n      <th>category_name</th>\n    </tr>\n    <tr>\n      <th>label</th>\n      <th></th>\n      <th></th>\n    </tr>\n  </thead>\n  <tbody>\n    <tr>\n      <th>0</th>\n      <td>2113</td>\n      <td>Desceu</td>\n    </tr>\n    <tr>\n      <th>1</th>\n      <td>435</td>\n      <td>Constante</td>\n    </tr>\n    <tr>\n      <th>2</th>\n      <td>1883</td>\n      <td>Subiu</td>\n    </tr>\n  </tbody>\n</table>\n</div>"
     },
     "metadata": {},
     "output_type": "display_data"
    }
   ],
   "source": [
    "df_overview_categories = pd.DataFrame(df_raw.value_counts('label').sort_index())\n",
    "df_overview_categories = df_overview_categories.assign(category_name=['Desceu', 'Constante', 'Subiu'])\n",
    "display(df_overview_categories)"
   ],
   "metadata": {
    "collapsed": false,
    "ExecuteTime": {
     "end_time": "2023-06-25T21:09:17.682455900Z",
     "start_time": "2023-06-25T21:09:17.651194200Z"
    }
   }
  },
  {
   "cell_type": "markdown",
   "source": [
    "## Defining train, val and test"
   ],
   "metadata": {
    "collapsed": false
   }
  },
  {
   "cell_type": "code",
   "execution_count": 16,
   "outputs": [
    {
     "name": "stdout",
     "output_type": "stream",
     "text": [
      "label\n",
      "0    1678\n",
      "1     354\n",
      "2    1512\n",
      "dtype: int64\n",
      "label\n",
      "0    221\n",
      "1     46\n",
      "2    176\n",
      "dtype: int64\n",
      "label\n",
      "0    214\n",
      "1     35\n",
      "2    195\n",
      "dtype: int64\n",
      "Total treino:  3544\n",
      "Total validação:  443\n",
      "Total teste:  444\n"
     ]
    }
   ],
   "source": [
    "from sklearn.model_selection import train_test_split\n",
    "\n",
    "# Split data into train and test\n",
    "train, rem = train_test_split(df_raw, train_size=0.8, random_state=52)  # 80% train\n",
    "\n",
    "val, test = train_test_split(rem, test_size=0.5, random_state=52)  # 10% val, 10% test\n",
    "\n",
    "print(train.value_counts('label').sort_index())\n",
    "print(val.value_counts('label').sort_index())\n",
    "print(test.value_counts('label').sort_index())\n",
    "print(\"Total treino: \", train.shape[0])\n",
    "print(\"Total validação: \", val.shape[0])\n",
    "print(\"Total teste: \", test.shape[0])"
   ],
   "metadata": {
    "collapsed": false,
    "ExecuteTime": {
     "end_time": "2023-06-25T21:09:25.986922300Z",
     "start_time": "2023-06-25T21:09:25.940870Z"
    }
   }
  },
  {
   "cell_type": "markdown",
   "source": [
    "## Export full df, train, val and test for future use"
   ],
   "metadata": {
    "collapsed": false
   }
  },
  {
   "cell_type": "code",
   "execution_count": 17,
   "outputs": [],
   "source": [
    "train.to_csv('../assets/data/splits/train/raw.csv', index=False)\n",
    "val.to_csv('../assets/data/splits/val/raw.csv', index=False)\n",
    "test.to_csv('../assets/data/splits/test/raw.csv', index=False)\n",
    "df_raw.to_csv('../assets/data/splits/full/raw.csv', index=False)"
   ],
   "metadata": {
    "collapsed": false,
    "ExecuteTime": {
     "end_time": "2023-06-25T21:09:27.975830900Z",
     "start_time": "2023-06-25T21:09:27.779445Z"
    }
   }
  }
 ],
 "metadata": {
  "kernelspec": {
   "display_name": "Python 3",
   "language": "python",
   "name": "python3"
  },
  "language_info": {
   "codemirror_mode": {
    "name": "ipython",
    "version": 2
   },
   "file_extension": ".py",
   "mimetype": "text/x-python",
   "name": "python",
   "nbconvert_exporter": "python",
   "pygments_lexer": "ipython2",
   "version": "2.7.6"
  }
 },
 "nbformat": 4,
 "nbformat_minor": 0
}
