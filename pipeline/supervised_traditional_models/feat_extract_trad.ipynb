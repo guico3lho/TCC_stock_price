{
 "cells": [
  {
   "cell_type": "code",
   "execution_count": 1,
   "outputs": [],
   "source": [
    "import pickle\n",
    "import pandas as pd"
   ],
   "metadata": {
    "collapsed": false,
    "ExecuteTime": {
     "end_time": "2023-06-21T21:02:54.853349500Z",
     "start_time": "2023-06-21T21:02:54.841281700Z"
    }
   }
  },
  {
   "cell_type": "markdown",
   "source": [
    "## Packages"
   ],
   "metadata": {
    "collapsed": false
   }
  },
  {
   "cell_type": "markdown",
   "source": [
    "## Dependencies"
   ],
   "metadata": {
    "collapsed": false
   }
  },
  {
   "cell_type": "code",
   "execution_count": 2,
   "outputs": [],
   "source": [
    "train = pd.read_csv('../../assets/data/splits/train/preprocessed.csv')"
   ],
   "metadata": {
    "collapsed": false,
    "ExecuteTime": {
     "end_time": "2023-06-21T21:02:54.887807400Z",
     "start_time": "2023-06-21T21:02:54.855348700Z"
    }
   }
  },
  {
   "cell_type": "markdown",
   "source": [
    "## Functions and Assets"
   ],
   "metadata": {
    "collapsed": false
   }
  },
  {
   "cell_type": "markdown",
   "source": [
    "## CountVectorizer"
   ],
   "metadata": {
    "collapsed": false
   }
  },
  {
   "cell_type": "code",
   "execution_count": 3,
   "outputs": [
    {
     "data": {
      "text/plain": "      abaixo  abertura  abicom  absurdo  aceita  acelerar  acendem  \\\n0          0         0       0        0       0         0        0   \n1          0         0       0        0       0         0        0   \n2          0         0       0        0       0         0        0   \n3          0         0       0        0       0         0        0   \n4          0         0       0        0       0         0        0   \n...      ...       ...     ...      ...     ...       ...      ...   \n1624       0         0       0        0       0         0        0   \n1625       0         0       0        0       0         0        0   \n1626       0         0       0        0       0         0        0   \n1627       0         0       0        0       0         0        0   \n1628       0         1       0        0       0         0        0   \n\n      acionistas  acompanha  acordo  ...  vender  vermelho  vespera  \\\n0              0          0       1  ...       0         0        0   \n1              0          0       0  ...       0         0        0   \n2              0          0       0  ...       0         0        0   \n3              0          0       0  ...       1         0        0   \n4              0          0       0  ...       0         0        0   \n...          ...        ...     ...  ...     ...       ...      ...   \n1624           0          0       0  ...       0         0        0   \n1625           0          0       0  ...       0         0        0   \n1626           0          0       0  ...       0         0        0   \n1627           0          0       0  ...       0         0        0   \n1628           0          0       0  ...       0         0        0   \n\n      vinculante  vinculantes  volatil  volatilidade  volume  vontade  warren  \n0              0            0        0             0       0        0       0  \n1              0            0        0             0       0        0       0  \n2              0            0        0             0       0        0       0  \n3              0            0        0             0       0        0       0  \n4              0            0        0             0       0        0       0  \n...          ...          ...      ...           ...     ...      ...     ...  \n1624           0            0        0             0       0        0       0  \n1625           0            0        0             0       0        0       0  \n1626           0            0        0             0       0        0       0  \n1627           0            0        0             0       0        0       0  \n1628           0            0        0             0       0        0       0  \n\n[1629 rows x 894 columns]",
      "text/html": "<div>\n<style scoped>\n    .dataframe tbody tr th:only-of-type {\n        vertical-align: middle;\n    }\n\n    .dataframe tbody tr th {\n        vertical-align: top;\n    }\n\n    .dataframe thead th {\n        text-align: right;\n    }\n</style>\n<table border=\"1\" class=\"dataframe\">\n  <thead>\n    <tr style=\"text-align: right;\">\n      <th></th>\n      <th>abaixo</th>\n      <th>abertura</th>\n      <th>abicom</th>\n      <th>absurdo</th>\n      <th>aceita</th>\n      <th>acelerar</th>\n      <th>acendem</th>\n      <th>acionistas</th>\n      <th>acompanha</th>\n      <th>acordo</th>\n      <th>...</th>\n      <th>vender</th>\n      <th>vermelho</th>\n      <th>vespera</th>\n      <th>vinculante</th>\n      <th>vinculantes</th>\n      <th>volatil</th>\n      <th>volatilidade</th>\n      <th>volume</th>\n      <th>vontade</th>\n      <th>warren</th>\n    </tr>\n  </thead>\n  <tbody>\n    <tr>\n      <th>0</th>\n      <td>0</td>\n      <td>0</td>\n      <td>0</td>\n      <td>0</td>\n      <td>0</td>\n      <td>0</td>\n      <td>0</td>\n      <td>0</td>\n      <td>0</td>\n      <td>1</td>\n      <td>...</td>\n      <td>0</td>\n      <td>0</td>\n      <td>0</td>\n      <td>0</td>\n      <td>0</td>\n      <td>0</td>\n      <td>0</td>\n      <td>0</td>\n      <td>0</td>\n      <td>0</td>\n    </tr>\n    <tr>\n      <th>1</th>\n      <td>0</td>\n      <td>0</td>\n      <td>0</td>\n      <td>0</td>\n      <td>0</td>\n      <td>0</td>\n      <td>0</td>\n      <td>0</td>\n      <td>0</td>\n      <td>0</td>\n      <td>...</td>\n      <td>0</td>\n      <td>0</td>\n      <td>0</td>\n      <td>0</td>\n      <td>0</td>\n      <td>0</td>\n      <td>0</td>\n      <td>0</td>\n      <td>0</td>\n      <td>0</td>\n    </tr>\n    <tr>\n      <th>2</th>\n      <td>0</td>\n      <td>0</td>\n      <td>0</td>\n      <td>0</td>\n      <td>0</td>\n      <td>0</td>\n      <td>0</td>\n      <td>0</td>\n      <td>0</td>\n      <td>0</td>\n      <td>...</td>\n      <td>0</td>\n      <td>0</td>\n      <td>0</td>\n      <td>0</td>\n      <td>0</td>\n      <td>0</td>\n      <td>0</td>\n      <td>0</td>\n      <td>0</td>\n      <td>0</td>\n    </tr>\n    <tr>\n      <th>3</th>\n      <td>0</td>\n      <td>0</td>\n      <td>0</td>\n      <td>0</td>\n      <td>0</td>\n      <td>0</td>\n      <td>0</td>\n      <td>0</td>\n      <td>0</td>\n      <td>0</td>\n      <td>...</td>\n      <td>1</td>\n      <td>0</td>\n      <td>0</td>\n      <td>0</td>\n      <td>0</td>\n      <td>0</td>\n      <td>0</td>\n      <td>0</td>\n      <td>0</td>\n      <td>0</td>\n    </tr>\n    <tr>\n      <th>4</th>\n      <td>0</td>\n      <td>0</td>\n      <td>0</td>\n      <td>0</td>\n      <td>0</td>\n      <td>0</td>\n      <td>0</td>\n      <td>0</td>\n      <td>0</td>\n      <td>0</td>\n      <td>...</td>\n      <td>0</td>\n      <td>0</td>\n      <td>0</td>\n      <td>0</td>\n      <td>0</td>\n      <td>0</td>\n      <td>0</td>\n      <td>0</td>\n      <td>0</td>\n      <td>0</td>\n    </tr>\n    <tr>\n      <th>...</th>\n      <td>...</td>\n      <td>...</td>\n      <td>...</td>\n      <td>...</td>\n      <td>...</td>\n      <td>...</td>\n      <td>...</td>\n      <td>...</td>\n      <td>...</td>\n      <td>...</td>\n      <td>...</td>\n      <td>...</td>\n      <td>...</td>\n      <td>...</td>\n      <td>...</td>\n      <td>...</td>\n      <td>...</td>\n      <td>...</td>\n      <td>...</td>\n      <td>...</td>\n      <td>...</td>\n    </tr>\n    <tr>\n      <th>1624</th>\n      <td>0</td>\n      <td>0</td>\n      <td>0</td>\n      <td>0</td>\n      <td>0</td>\n      <td>0</td>\n      <td>0</td>\n      <td>0</td>\n      <td>0</td>\n      <td>0</td>\n      <td>...</td>\n      <td>0</td>\n      <td>0</td>\n      <td>0</td>\n      <td>0</td>\n      <td>0</td>\n      <td>0</td>\n      <td>0</td>\n      <td>0</td>\n      <td>0</td>\n      <td>0</td>\n    </tr>\n    <tr>\n      <th>1625</th>\n      <td>0</td>\n      <td>0</td>\n      <td>0</td>\n      <td>0</td>\n      <td>0</td>\n      <td>0</td>\n      <td>0</td>\n      <td>0</td>\n      <td>0</td>\n      <td>0</td>\n      <td>...</td>\n      <td>0</td>\n      <td>0</td>\n      <td>0</td>\n      <td>0</td>\n      <td>0</td>\n      <td>0</td>\n      <td>0</td>\n      <td>0</td>\n      <td>0</td>\n      <td>0</td>\n    </tr>\n    <tr>\n      <th>1626</th>\n      <td>0</td>\n      <td>0</td>\n      <td>0</td>\n      <td>0</td>\n      <td>0</td>\n      <td>0</td>\n      <td>0</td>\n      <td>0</td>\n      <td>0</td>\n      <td>0</td>\n      <td>...</td>\n      <td>0</td>\n      <td>0</td>\n      <td>0</td>\n      <td>0</td>\n      <td>0</td>\n      <td>0</td>\n      <td>0</td>\n      <td>0</td>\n      <td>0</td>\n      <td>0</td>\n    </tr>\n    <tr>\n      <th>1627</th>\n      <td>0</td>\n      <td>0</td>\n      <td>0</td>\n      <td>0</td>\n      <td>0</td>\n      <td>0</td>\n      <td>0</td>\n      <td>0</td>\n      <td>0</td>\n      <td>0</td>\n      <td>...</td>\n      <td>0</td>\n      <td>0</td>\n      <td>0</td>\n      <td>0</td>\n      <td>0</td>\n      <td>0</td>\n      <td>0</td>\n      <td>0</td>\n      <td>0</td>\n      <td>0</td>\n    </tr>\n    <tr>\n      <th>1628</th>\n      <td>0</td>\n      <td>1</td>\n      <td>0</td>\n      <td>0</td>\n      <td>0</td>\n      <td>0</td>\n      <td>0</td>\n      <td>0</td>\n      <td>0</td>\n      <td>0</td>\n      <td>...</td>\n      <td>0</td>\n      <td>0</td>\n      <td>0</td>\n      <td>0</td>\n      <td>0</td>\n      <td>0</td>\n      <td>0</td>\n      <td>0</td>\n      <td>0</td>\n      <td>0</td>\n    </tr>\n  </tbody>\n</table>\n<p>1629 rows × 894 columns</p>\n</div>"
     },
     "execution_count": 3,
     "metadata": {},
     "output_type": "execute_result"
    }
   ],
   "source": [
    "from sklearn.feature_extraction.text import CountVectorizer\n",
    "\n",
    "stop_words = [\"da\", \"meu\", \"em\", \"voce\", \"de\", \"ao\", \"os\", \"cento\"]\n",
    "\n",
    "cv_vec = CountVectorizer(ngram_range=(1, 1), token_pattern=r'\\b[a-zA-Z]{3}[a-zA-Z0-9]{3,}\\b', max_df=0.5, min_df=2, stop_words=stop_words)\n",
    "X_train_cv = cv_vec.fit_transform(train['title']).toarray()\n",
    "\n",
    "X_train_names_cv = pd.DataFrame(X_train_cv, columns=cv_vec.get_feature_names_out())\n",
    "X_train_names_cv"
   ],
   "metadata": {
    "collapsed": false,
    "ExecuteTime": {
     "end_time": "2023-06-21T21:02:55.530541Z",
     "start_time": "2023-06-21T21:02:54.886807800Z"
    }
   }
  },
  {
   "cell_type": "code",
   "execution_count": 4,
   "outputs": [
    {
     "data": {
      "text/plain": "   acordo  aprova  dispara  embraer  ibovespa  manter  petrobras  pontos  \\\n0       1       1        0        0         0       0          1       0   \n1       0       0        1        1         1       1          0       1   \n\n   sindicato  trabalho  \n0          1         1  \n1          0         0  ",
      "text/html": "<div>\n<style scoped>\n    .dataframe tbody tr th:only-of-type {\n        vertical-align: middle;\n    }\n\n    .dataframe tbody tr th {\n        vertical-align: top;\n    }\n\n    .dataframe thead th {\n        text-align: right;\n    }\n</style>\n<table border=\"1\" class=\"dataframe\">\n  <thead>\n    <tr style=\"text-align: right;\">\n      <th></th>\n      <th>acordo</th>\n      <th>aprova</th>\n      <th>dispara</th>\n      <th>embraer</th>\n      <th>ibovespa</th>\n      <th>manter</th>\n      <th>petrobras</th>\n      <th>pontos</th>\n      <th>sindicato</th>\n      <th>trabalho</th>\n    </tr>\n  </thead>\n  <tbody>\n    <tr>\n      <th>0</th>\n      <td>1</td>\n      <td>1</td>\n      <td>0</td>\n      <td>0</td>\n      <td>0</td>\n      <td>0</td>\n      <td>1</td>\n      <td>0</td>\n      <td>1</td>\n      <td>1</td>\n    </tr>\n    <tr>\n      <th>1</th>\n      <td>0</td>\n      <td>0</td>\n      <td>1</td>\n      <td>1</td>\n      <td>1</td>\n      <td>1</td>\n      <td>0</td>\n      <td>1</td>\n      <td>0</td>\n      <td>0</td>\n    </tr>\n  </tbody>\n</table>\n</div>"
     },
     "execution_count": 4,
     "metadata": {},
     "output_type": "execute_result"
    }
   ],
   "source": [
    "import numpy as np\n",
    "X_train_cv_vis = X_train_names_cv.copy()\n",
    "X_train_cv_vis = X_train_cv_vis.iloc[:2]\n",
    "X_train_cv_vis = X_train_cv_vis.replace(0, np.nan).dropna(axis=1, how='all')\n",
    "X_train_cv_vis = X_train_cv_vis.replace(np.nan, 0)\n",
    "X_train_cv_vis.astype(int)"
   ],
   "metadata": {
    "collapsed": false,
    "ExecuteTime": {
     "end_time": "2023-06-21T21:02:55.748252300Z",
     "start_time": "2023-06-21T21:02:55.533539500Z"
    }
   }
  },
  {
   "cell_type": "markdown",
   "source": [
    "## TFIDF Vectorizer"
   ],
   "metadata": {
    "collapsed": false
   }
  },
  {
   "cell_type": "code",
   "execution_count": 5,
   "outputs": [
    {
     "data": {
      "text/plain": "      abaixo  abertura  abicom  absurdo  aceita  acelerar  acendem  \\\n0        0.0  0.000000     0.0      0.0     0.0       0.0      0.0   \n1        0.0  0.000000     0.0      0.0     0.0       0.0      0.0   \n2        0.0  0.000000     0.0      0.0     0.0       0.0      0.0   \n3        0.0  0.000000     0.0      0.0     0.0       0.0      0.0   \n4        0.0  0.000000     0.0      0.0     0.0       0.0      0.0   \n...      ...       ...     ...      ...     ...       ...      ...   \n1624     0.0  0.000000     0.0      0.0     0.0       0.0      0.0   \n1625     0.0  0.000000     0.0      0.0     0.0       0.0      0.0   \n1626     0.0  0.000000     0.0      0.0     0.0       0.0      0.0   \n1627     0.0  0.000000     0.0      0.0     0.0       0.0      0.0   \n1628     0.0  0.589296     0.0      0.0     0.0       0.0      0.0   \n\n      acionistas  acompanha    acordo  ...    vender  vermelho  vespera  \\\n0            0.0        0.0  0.409233  ...  0.000000       0.0      0.0   \n1            0.0        0.0  0.000000  ...  0.000000       0.0      0.0   \n2            0.0        0.0  0.000000  ...  0.000000       0.0      0.0   \n3            0.0        0.0  0.000000  ...  0.442358       0.0      0.0   \n4            0.0        0.0  0.000000  ...  0.000000       0.0      0.0   \n...          ...        ...       ...  ...       ...       ...      ...   \n1624         0.0        0.0  0.000000  ...  0.000000       0.0      0.0   \n1625         0.0        0.0  0.000000  ...  0.000000       0.0      0.0   \n1626         0.0        0.0  0.000000  ...  0.000000       0.0      0.0   \n1627         0.0        0.0  0.000000  ...  0.000000       0.0      0.0   \n1628         0.0        0.0  0.000000  ...  0.000000       0.0      0.0   \n\n      vinculante  vinculantes  volatil  volatilidade  volume  vontade  warren  \n0            0.0          0.0      0.0           0.0     0.0      0.0     0.0  \n1            0.0          0.0      0.0           0.0     0.0      0.0     0.0  \n2            0.0          0.0      0.0           0.0     0.0      0.0     0.0  \n3            0.0          0.0      0.0           0.0     0.0      0.0     0.0  \n4            0.0          0.0      0.0           0.0     0.0      0.0     0.0  \n...          ...          ...      ...           ...     ...      ...     ...  \n1624         0.0          0.0      0.0           0.0     0.0      0.0     0.0  \n1625         0.0          0.0      0.0           0.0     0.0      0.0     0.0  \n1626         0.0          0.0      0.0           0.0     0.0      0.0     0.0  \n1627         0.0          0.0      0.0           0.0     0.0      0.0     0.0  \n1628         0.0          0.0      0.0           0.0     0.0      0.0     0.0  \n\n[1629 rows x 894 columns]",
      "text/html": "<div>\n<style scoped>\n    .dataframe tbody tr th:only-of-type {\n        vertical-align: middle;\n    }\n\n    .dataframe tbody tr th {\n        vertical-align: top;\n    }\n\n    .dataframe thead th {\n        text-align: right;\n    }\n</style>\n<table border=\"1\" class=\"dataframe\">\n  <thead>\n    <tr style=\"text-align: right;\">\n      <th></th>\n      <th>abaixo</th>\n      <th>abertura</th>\n      <th>abicom</th>\n      <th>absurdo</th>\n      <th>aceita</th>\n      <th>acelerar</th>\n      <th>acendem</th>\n      <th>acionistas</th>\n      <th>acompanha</th>\n      <th>acordo</th>\n      <th>...</th>\n      <th>vender</th>\n      <th>vermelho</th>\n      <th>vespera</th>\n      <th>vinculante</th>\n      <th>vinculantes</th>\n      <th>volatil</th>\n      <th>volatilidade</th>\n      <th>volume</th>\n      <th>vontade</th>\n      <th>warren</th>\n    </tr>\n  </thead>\n  <tbody>\n    <tr>\n      <th>0</th>\n      <td>0.0</td>\n      <td>0.000000</td>\n      <td>0.0</td>\n      <td>0.0</td>\n      <td>0.0</td>\n      <td>0.0</td>\n      <td>0.0</td>\n      <td>0.0</td>\n      <td>0.0</td>\n      <td>0.409233</td>\n      <td>...</td>\n      <td>0.000000</td>\n      <td>0.0</td>\n      <td>0.0</td>\n      <td>0.0</td>\n      <td>0.0</td>\n      <td>0.0</td>\n      <td>0.0</td>\n      <td>0.0</td>\n      <td>0.0</td>\n      <td>0.0</td>\n    </tr>\n    <tr>\n      <th>1</th>\n      <td>0.0</td>\n      <td>0.000000</td>\n      <td>0.0</td>\n      <td>0.0</td>\n      <td>0.0</td>\n      <td>0.0</td>\n      <td>0.0</td>\n      <td>0.0</td>\n      <td>0.0</td>\n      <td>0.000000</td>\n      <td>...</td>\n      <td>0.000000</td>\n      <td>0.0</td>\n      <td>0.0</td>\n      <td>0.0</td>\n      <td>0.0</td>\n      <td>0.0</td>\n      <td>0.0</td>\n      <td>0.0</td>\n      <td>0.0</td>\n      <td>0.0</td>\n    </tr>\n    <tr>\n      <th>2</th>\n      <td>0.0</td>\n      <td>0.000000</td>\n      <td>0.0</td>\n      <td>0.0</td>\n      <td>0.0</td>\n      <td>0.0</td>\n      <td>0.0</td>\n      <td>0.0</td>\n      <td>0.0</td>\n      <td>0.000000</td>\n      <td>...</td>\n      <td>0.000000</td>\n      <td>0.0</td>\n      <td>0.0</td>\n      <td>0.0</td>\n      <td>0.0</td>\n      <td>0.0</td>\n      <td>0.0</td>\n      <td>0.0</td>\n      <td>0.0</td>\n      <td>0.0</td>\n    </tr>\n    <tr>\n      <th>3</th>\n      <td>0.0</td>\n      <td>0.000000</td>\n      <td>0.0</td>\n      <td>0.0</td>\n      <td>0.0</td>\n      <td>0.0</td>\n      <td>0.0</td>\n      <td>0.0</td>\n      <td>0.0</td>\n      <td>0.000000</td>\n      <td>...</td>\n      <td>0.442358</td>\n      <td>0.0</td>\n      <td>0.0</td>\n      <td>0.0</td>\n      <td>0.0</td>\n      <td>0.0</td>\n      <td>0.0</td>\n      <td>0.0</td>\n      <td>0.0</td>\n      <td>0.0</td>\n    </tr>\n    <tr>\n      <th>4</th>\n      <td>0.0</td>\n      <td>0.000000</td>\n      <td>0.0</td>\n      <td>0.0</td>\n      <td>0.0</td>\n      <td>0.0</td>\n      <td>0.0</td>\n      <td>0.0</td>\n      <td>0.0</td>\n      <td>0.000000</td>\n      <td>...</td>\n      <td>0.000000</td>\n      <td>0.0</td>\n      <td>0.0</td>\n      <td>0.0</td>\n      <td>0.0</td>\n      <td>0.0</td>\n      <td>0.0</td>\n      <td>0.0</td>\n      <td>0.0</td>\n      <td>0.0</td>\n    </tr>\n    <tr>\n      <th>...</th>\n      <td>...</td>\n      <td>...</td>\n      <td>...</td>\n      <td>...</td>\n      <td>...</td>\n      <td>...</td>\n      <td>...</td>\n      <td>...</td>\n      <td>...</td>\n      <td>...</td>\n      <td>...</td>\n      <td>...</td>\n      <td>...</td>\n      <td>...</td>\n      <td>...</td>\n      <td>...</td>\n      <td>...</td>\n      <td>...</td>\n      <td>...</td>\n      <td>...</td>\n      <td>...</td>\n    </tr>\n    <tr>\n      <th>1624</th>\n      <td>0.0</td>\n      <td>0.000000</td>\n      <td>0.0</td>\n      <td>0.0</td>\n      <td>0.0</td>\n      <td>0.0</td>\n      <td>0.0</td>\n      <td>0.0</td>\n      <td>0.0</td>\n      <td>0.000000</td>\n      <td>...</td>\n      <td>0.000000</td>\n      <td>0.0</td>\n      <td>0.0</td>\n      <td>0.0</td>\n      <td>0.0</td>\n      <td>0.0</td>\n      <td>0.0</td>\n      <td>0.0</td>\n      <td>0.0</td>\n      <td>0.0</td>\n    </tr>\n    <tr>\n      <th>1625</th>\n      <td>0.0</td>\n      <td>0.000000</td>\n      <td>0.0</td>\n      <td>0.0</td>\n      <td>0.0</td>\n      <td>0.0</td>\n      <td>0.0</td>\n      <td>0.0</td>\n      <td>0.0</td>\n      <td>0.000000</td>\n      <td>...</td>\n      <td>0.000000</td>\n      <td>0.0</td>\n      <td>0.0</td>\n      <td>0.0</td>\n      <td>0.0</td>\n      <td>0.0</td>\n      <td>0.0</td>\n      <td>0.0</td>\n      <td>0.0</td>\n      <td>0.0</td>\n    </tr>\n    <tr>\n      <th>1626</th>\n      <td>0.0</td>\n      <td>0.000000</td>\n      <td>0.0</td>\n      <td>0.0</td>\n      <td>0.0</td>\n      <td>0.0</td>\n      <td>0.0</td>\n      <td>0.0</td>\n      <td>0.0</td>\n      <td>0.000000</td>\n      <td>...</td>\n      <td>0.000000</td>\n      <td>0.0</td>\n      <td>0.0</td>\n      <td>0.0</td>\n      <td>0.0</td>\n      <td>0.0</td>\n      <td>0.0</td>\n      <td>0.0</td>\n      <td>0.0</td>\n      <td>0.0</td>\n    </tr>\n    <tr>\n      <th>1627</th>\n      <td>0.0</td>\n      <td>0.000000</td>\n      <td>0.0</td>\n      <td>0.0</td>\n      <td>0.0</td>\n      <td>0.0</td>\n      <td>0.0</td>\n      <td>0.0</td>\n      <td>0.0</td>\n      <td>0.000000</td>\n      <td>...</td>\n      <td>0.000000</td>\n      <td>0.0</td>\n      <td>0.0</td>\n      <td>0.0</td>\n      <td>0.0</td>\n      <td>0.0</td>\n      <td>0.0</td>\n      <td>0.0</td>\n      <td>0.0</td>\n      <td>0.0</td>\n    </tr>\n    <tr>\n      <th>1628</th>\n      <td>0.0</td>\n      <td>0.589296</td>\n      <td>0.0</td>\n      <td>0.0</td>\n      <td>0.0</td>\n      <td>0.0</td>\n      <td>0.0</td>\n      <td>0.0</td>\n      <td>0.0</td>\n      <td>0.000000</td>\n      <td>...</td>\n      <td>0.000000</td>\n      <td>0.0</td>\n      <td>0.0</td>\n      <td>0.0</td>\n      <td>0.0</td>\n      <td>0.0</td>\n      <td>0.0</td>\n      <td>0.0</td>\n      <td>0.0</td>\n      <td>0.0</td>\n    </tr>\n  </tbody>\n</table>\n<p>1629 rows × 894 columns</p>\n</div>"
     },
     "execution_count": 5,
     "metadata": {},
     "output_type": "execute_result"
    }
   ],
   "source": [
    "from sklearn.feature_extraction.text import TfidfVectorizer\n",
    "\n",
    "stop_words = [\"da\", \"meu\", \"em\", \"voce\", \"de\", \"ao\", \"os\", \"cento\"]\n",
    "\n",
    "tfidf_vec = TfidfVectorizer(ngram_range=(1, 1), token_pattern=r'\\b[a-zA-Z]{3}[a-zA-Z0-9]{3,}\\b', max_df=0.5, min_df=2,stop_words=stop_words)\n",
    "X_train_tfidf = tfidf_vec.fit_transform(train['title']).toarray()\n",
    "\n",
    "X_train_names_tfidf = pd.DataFrame(X_train_tfidf, columns=tfidf_vec.get_feature_names_out())\n",
    "X_train_names_tfidf\n",
    "# X_val_tfidf = cv_vec.transform(val['title']).toarray()"
   ],
   "metadata": {
    "collapsed": false,
    "ExecuteTime": {
     "end_time": "2023-06-21T21:02:55.833532300Z",
     "start_time": "2023-06-21T21:02:55.720450200Z"
    }
   }
  },
  {
   "cell_type": "code",
   "execution_count": 6,
   "outputs": [
    {
     "data": {
      "text/plain": "     acordo    aprova   dispara   embraer  ibovespa    manter  petrobras  \\\n0  0.409233  0.424712  0.000000  0.000000  0.000000  0.000000   0.135588   \n1  0.000000  0.000000  0.435464  0.550936  0.191271  0.586971   0.000000   \n\n     pontos  sindicato  trabalho  \n0  0.000000   0.562923  0.562923  \n1  0.354571   0.000000  0.000000  ",
      "text/html": "<div>\n<style scoped>\n    .dataframe tbody tr th:only-of-type {\n        vertical-align: middle;\n    }\n\n    .dataframe tbody tr th {\n        vertical-align: top;\n    }\n\n    .dataframe thead th {\n        text-align: right;\n    }\n</style>\n<table border=\"1\" class=\"dataframe\">\n  <thead>\n    <tr style=\"text-align: right;\">\n      <th></th>\n      <th>acordo</th>\n      <th>aprova</th>\n      <th>dispara</th>\n      <th>embraer</th>\n      <th>ibovespa</th>\n      <th>manter</th>\n      <th>petrobras</th>\n      <th>pontos</th>\n      <th>sindicato</th>\n      <th>trabalho</th>\n    </tr>\n  </thead>\n  <tbody>\n    <tr>\n      <th>0</th>\n      <td>0.409233</td>\n      <td>0.424712</td>\n      <td>0.000000</td>\n      <td>0.000000</td>\n      <td>0.000000</td>\n      <td>0.000000</td>\n      <td>0.135588</td>\n      <td>0.000000</td>\n      <td>0.562923</td>\n      <td>0.562923</td>\n    </tr>\n    <tr>\n      <th>1</th>\n      <td>0.000000</td>\n      <td>0.000000</td>\n      <td>0.435464</td>\n      <td>0.550936</td>\n      <td>0.191271</td>\n      <td>0.586971</td>\n      <td>0.000000</td>\n      <td>0.354571</td>\n      <td>0.000000</td>\n      <td>0.000000</td>\n    </tr>\n  </tbody>\n</table>\n</div>"
     },
     "execution_count": 6,
     "metadata": {},
     "output_type": "execute_result"
    }
   ],
   "source": [
    "import numpy as np\n",
    "X_train_tfidf_vis = X_train_names_tfidf.copy()\n",
    "X_train_tfidf_vis = X_train_tfidf_vis.iloc[:2]\n",
    "X_train_tfidf_vis = X_train_tfidf_vis.replace(0, np.nan).dropna(axis=1, how='all')\n",
    "X_train_tfidf_vis = X_train_tfidf_vis.replace(np.nan, 0)\n",
    "X_train_tfidf_vis"
   ],
   "metadata": {
    "collapsed": false,
    "ExecuteTime": {
     "end_time": "2023-06-21T21:02:55.864514800Z",
     "start_time": "2023-06-21T21:02:55.805549200Z"
    }
   }
  },
  {
   "cell_type": "markdown",
   "source": [
    "## Output"
   ],
   "metadata": {
    "collapsed": false
   }
  },
  {
   "cell_type": "code",
   "execution_count": 8,
   "outputs": [],
   "source": [
    "with open('../../assets/traditional_assets/cv_vec.pkl', 'wb') as fout:\n",
    "    pickle.dump(cv_vec, fout)"
   ],
   "metadata": {
    "collapsed": false,
    "ExecuteTime": {
     "end_time": "2023-06-21T21:02:55.986190700Z",
     "start_time": "2023-06-21T21:02:55.880505600Z"
    }
   }
  },
  {
   "cell_type": "code",
   "execution_count": 9,
   "outputs": [],
   "source": [
    "with open('../../assets/traditional_assets/tfidf_vec.pkl', 'wb') as fout:\n",
    "    pickle.dump(tfidf_vec, fout)"
   ],
   "metadata": {
    "collapsed": false,
    "ExecuteTime": {
     "end_time": "2023-06-21T21:02:56.015175700Z",
     "start_time": "2023-06-21T21:02:55.893497400Z"
    }
   }
  }
 ],
 "metadata": {
  "kernelspec": {
   "display_name": "Python 3",
   "language": "python",
   "name": "python3"
  },
  "language_info": {
   "codemirror_mode": {
    "name": "ipython",
    "version": 2
   },
   "file_extension": ".py",
   "mimetype": "text/x-python",
   "name": "python",
   "nbconvert_exporter": "python",
   "pygments_lexer": "ipython2",
   "version": "2.7.6"
  }
 },
 "nbformat": 4,
 "nbformat_minor": 0
}
