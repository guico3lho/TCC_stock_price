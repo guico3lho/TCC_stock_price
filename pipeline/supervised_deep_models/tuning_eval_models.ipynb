{
 "cells": [
  {
   "cell_type": "markdown",
   "source": [
    "## Packages and Assets"
   ],
   "metadata": {
    "collapsed": false
   }
  },
  {
   "cell_type": "code",
   "execution_count": 35,
   "outputs": [],
   "source": [
    "from gensim.models import Word2Vec\n",
    "import json\n",
    "import numpy as np\n",
    "import pandas as pd\n",
    "from keras.callbacks import EarlyStopping\n",
    "import seaborn as sns\n",
    "import keras_tuner as kt\n",
    "from keras.optimizers import SGD\n",
    "\n",
    "from keras.models import Sequential\n",
    "from keras.layers import Embedding, LSTM, Dense, Dropout, Bidirectional\n",
    "import matplotlib.pyplot as plt\n",
    "from keras.metrics import Accuracy, Precision, Recall\n",
    "from keras.preprocessing.text import tokenizer_from_json\n",
    "import os, sys\n",
    "\n",
    "\n",
    "import keras.backend as K"
   ],
   "metadata": {
    "collapsed": false,
    "ExecuteTime": {
     "end_time": "2023-05-23T14:30:32.813990900Z",
     "start_time": "2023-05-23T14:30:32.480183700Z"
    }
   }
  },
  {
   "cell_type": "code",
   "execution_count": 36,
   "outputs": [
    {
     "name": "stdout",
     "output_type": "stream",
     "text": [
      "C:\\Users\\Guilherme\\.conda\\envs\\nlp2\\python.exe\n",
      "C:\\Users\\Guilherme\\Documents\\Programming\\Python\\TCC_stock_price\\pipeline\\supervised_deep_models\n"
     ]
    }
   ],
   "source": [
    "print(sys.executable)\n",
    "print(os.getcwd())"
   ],
   "metadata": {
    "collapsed": false,
    "ExecuteTime": {
     "end_time": "2023-05-23T14:30:33.010876500Z",
     "start_time": "2023-05-23T14:30:32.488179100Z"
    }
   }
  },
  {
   "cell_type": "markdown",
   "source": [
    "## Dependencies"
   ],
   "metadata": {
    "collapsed": false
   }
  },
  {
   "cell_type": "code",
   "execution_count": 37,
   "outputs": [],
   "source": [
    "with open('../../assets/deep_assets/tokenizer.json', 'r', encoding='utf-8') as f:\n",
    "    tokenizer_json = f.read()\n",
    "    tokenizer = tokenizer_from_json(tokenizer_json)\n",
    "    word_index = tokenizer.word_index\n",
    "\n"
   ],
   "metadata": {
    "collapsed": false,
    "ExecuteTime": {
     "end_time": "2023-05-23T14:30:33.049853500Z",
     "start_time": "2023-05-23T14:30:32.507168Z"
    }
   }
  },
  {
   "cell_type": "code",
   "execution_count": 38,
   "outputs": [
    {
     "name": "stdout",
     "output_type": "stream",
     "text": [
      "[('dia', 0.9978405833244324), ('acoes', 0.9978338479995728), ('petr4', 0.9978331327438354), ('ibovespa', 0.9978314638137817), ('gas', 0.9978266358375549), ('cento', 0.9978122711181641), ('carteira', 0.9978005886077881), ('<NUM>', 0.9977992177009583), ('petrobras', 0.9977961778640747), ('vai', 0.9977909326553345)]\n"
     ]
    }
   ],
   "source": [
    "model_we = Word2Vec.load('../../assets/deep_assets/word2vec.model')\n",
    "\n",
    "print(model_we.wv.most_similar('itau'))\n",
    "\n",
    "# List of nparrays of size 300\n",
    "embeddings_dict = {}\n",
    "for word in model_we.wv.index_to_key:\n",
    "    embeddings_dict[word] = model_we.wv[word]\n",
    "\n",
    "embeddings_on_this_context = np.zeros((len(word_index), 300))\n",
    "for word, i in word_index.items():\n",
    "    embeddings_vector = embeddings_dict.get(word)\n",
    "    if embeddings_vector is not None:\n",
    "        embeddings_on_this_context[i - 1] = embeddings_vector\n"
   ],
   "metadata": {
    "collapsed": false,
    "ExecuteTime": {
     "end_time": "2023-05-23T14:30:33.106820400Z",
     "start_time": "2023-05-23T14:30:32.551142300Z"
    }
   }
  },
  {
   "cell_type": "code",
   "execution_count": 39,
   "outputs": [],
   "source": [
    "train = pd.read_csv('../../assets/data/splits/train/padded.csv')\n",
    "val = pd.read_csv('../../assets/data/splits/val/padded.csv')"
   ],
   "metadata": {
    "collapsed": false,
    "ExecuteTime": {
     "end_time": "2023-05-23T14:30:33.106820400Z",
     "start_time": "2023-05-23T14:30:32.683065800Z"
    }
   }
  },
  {
   "cell_type": "markdown",
   "source": [
    "## Functions"
   ],
   "metadata": {
    "collapsed": false
   }
  },
  {
   "cell_type": "code",
   "execution_count": 40,
   "outputs": [],
   "source": [
    "def index2word(word_index):\n",
    "    index_word = {}\n",
    "    for key in word_index:\n",
    "        index_word[word_index[key]] = key\n",
    "    return index_word\n",
    "\n",
    "\n",
    "def seq2text(seq, index_word):\n",
    "    text = []\n",
    "    for index in seq:\n",
    "        text.append(index_word[index])\n",
    "    return text\n",
    "\n",
    "\n",
    "def show_confusion_matrix(cm):\n",
    "    print(\"Confusion Matrix\")\n",
    "    plt.figure(figsize=(10, 7))\n",
    "\n",
    "    sns.heatmap(cm, annot=True, fmt='d', cmap='Blues', xticklabels=['Negative', 'Positive'],\n",
    "                yticklabels=['Negative', 'Positive'])\n",
    "    plt.xlabel('Predicted')\n",
    "    plt.ylabel('Truth')\n",
    "    plt.title('Confusion Matrix')\n",
    "    plt.show()"
   ],
   "metadata": {
    "collapsed": false,
    "ExecuteTime": {
     "end_time": "2023-05-23T14:30:33.135803500Z",
     "start_time": "2023-05-23T14:30:32.724042200Z"
    }
   }
  },
  {
   "cell_type": "code",
   "execution_count": 41,
   "outputs": [],
   "source": [
    "def get_f1(y_true, y_pred): #taken from old keras source code\n",
    "    true_positives = K.sum(K.round(K.clip(y_true * y_pred, 0, 1)))\n",
    "    possible_positives = K.sum(K.round(K.clip(y_true, 0, 1)))\n",
    "    predicted_positives = K.sum(K.round(K.clip(y_pred, 0, 1)))\n",
    "    precision = true_positives / (predicted_positives + K.epsilon())\n",
    "    recall = true_positives / (possible_positives + K.epsilon())\n",
    "    f1_val = 2*(precision*recall)/(precision+recall+K.epsilon())\n",
    "    return f1_val"
   ],
   "metadata": {
    "collapsed": false,
    "ExecuteTime": {
     "end_time": "2023-05-23T14:30:33.140800800Z",
     "start_time": "2023-05-23T14:30:32.757023900Z"
    }
   }
  },
  {
   "cell_type": "markdown",
   "source": [
    "## RNN Model"
   ],
   "metadata": {
    "collapsed": false
   }
  },
  {
   "cell_type": "markdown",
   "source": [
    "### Data transformation for model"
   ],
   "metadata": {
    "collapsed": false
   }
  },
  {
   "cell_type": "code",
   "execution_count": 42,
   "outputs": [],
   "source": [
    "X_train = train.to_numpy()[:, :-1]\n",
    "X_val = val.to_numpy()[:, :-1]\n",
    "y_train = train.to_numpy()[:, -1]\n",
    "y_val = val.to_numpy()[:, -1]"
   ],
   "metadata": {
    "collapsed": false,
    "ExecuteTime": {
     "end_time": "2023-05-23T14:30:33.143798800Z",
     "start_time": "2023-05-23T14:30:32.784007600Z"
    }
   }
  },
  {
   "cell_type": "markdown",
   "source": [
    "### Tuning Architecture Hyperparams using RandomSearch and Early Stopping"
   ],
   "metadata": {
    "collapsed": false
   }
  },
  {
   "cell_type": "markdown",
   "source": [
    "#### Test 1"
   ],
   "metadata": {
    "collapsed": false
   }
  },
  {
   "cell_type": "code",
   "execution_count": 43,
   "outputs": [],
   "source": [
    "# def build_model(hp):\n",
    "#     model = Sequential([\n",
    "#         Embedding(input_dim=len(word_index), output_dim=300, input_length=X_train.shape[1], trainable=False,\n",
    "#                   weights=[embeddings_on_this_context]),\n",
    "#         Bidirectional(LSTM(16, return_sequences=True)),\n",
    "#         Dropout(hp.Float('rate_dp_1', 0, 0.4, step=0.1)),\n",
    "#         Bidirectional(LSTM(16)),\n",
    "#         Dense(64, 'tanh'),\n",
    "#         Dropout(hp.Float('rate_dp_1', 0.1, 0.4, step=0.1)),\n",
    "#         Dense(4, activation='softmax')\n",
    "#     ])\n",
    "#     loss = \"sparse_categorical_crossentropy\"\n",
    "#     # optimizer = SGD(learning_rate=0.01)\n",
    "#     metrics = ['accuracy']\n",
    "#\n",
    "#     model.compile(loss=loss, optimizer='adam', metrics=metrics)\n",
    "#     return model\n",
    "#\n",
    "#\n",
    "# es = EarlyStopping(monitor='val_loss', mode='min', verbose=1, patience=5)"
   ],
   "metadata": {
    "collapsed": false,
    "ExecuteTime": {
     "end_time": "2023-05-23T14:30:33.154792200Z",
     "start_time": "2023-05-23T14:30:32.814990400Z"
    }
   }
  },
  {
   "cell_type": "code",
   "execution_count": 43,
   "outputs": [],
   "source": [],
   "metadata": {
    "collapsed": false,
    "ExecuteTime": {
     "end_time": "2023-05-23T14:30:33.154792200Z",
     "start_time": "2023-05-23T14:30:32.855966300Z"
    }
   }
  },
  {
   "cell_type": "markdown",
   "source": [
    "####  Test 2"
   ],
   "metadata": {
    "collapsed": false
   }
  },
  {
   "cell_type": "code",
   "execution_count": 44,
   "outputs": [],
   "source": [
    "def build_model(hp):\n",
    "    model = Sequential([\n",
    "    Embedding(input_dim=len(word_index), output_dim= 300, input_length=X_train.shape[1], trainable=False, weights=[embeddings_on_this_context]),\n",
    "    Bidirectional(LSTM(hp.Choice('units_bilstm_1',[16,32,64]), return_sequences=True)),\n",
    "    Dropout(hp.Float('rate_dp_1',0,0.3,step=0.1)),\n",
    "    Bidirectional(LSTM(hp.Choice('units_bilstm_2',[16,32,64]))),\n",
    "    Dense(hp.Choice('units_dense',[16,32,64]), hp.Choice('activation',['tanh']) ),\n",
    "    Dropout(hp.Float('rate_dp_2',0,0.3,step=0.1)),\n",
    "    Dense(3, activation='softmax')\n",
    "])\n",
    "    loss = \"sparse_categorical_crossentropy\"\n",
    "    # optimizer = SGD(learning_rate=0.01)\n",
    "    metrics = ['accuracy']\n",
    "    # metrics = ['accuracy', Precision(), Recall()]\n",
    "\n",
    "    model.compile(loss=loss,optimizer='adam',metrics=metrics)\n",
    "    return model\n",
    "\n",
    "es = EarlyStopping(monitor='val_loss', mode='min', verbose=1, patience=5)"
   ],
   "metadata": {
    "collapsed": false,
    "ExecuteTime": {
     "end_time": "2023-05-23T14:30:33.154792200Z",
     "start_time": "2023-05-23T14:30:32.925924900Z"
    }
   }
  },
  {
   "cell_type": "code",
   "execution_count": 45,
   "outputs": [
    {
     "name": "stdout",
     "output_type": "stream",
     "text": [
      "Search space summary\n",
      "Default search space size: 6\n",
      "units_bilstm_1 (Choice)\n",
      "{'default': 16, 'conditions': [], 'values': [16, 32, 64], 'ordered': True}\n",
      "rate_dp_1 (Float)\n",
      "{'default': 0.0, 'conditions': [], 'min_value': 0.0, 'max_value': 0.3, 'step': 0.1, 'sampling': 'linear'}\n",
      "units_bilstm_2 (Choice)\n",
      "{'default': 16, 'conditions': [], 'values': [16, 32, 64], 'ordered': True}\n",
      "units_dense (Choice)\n",
      "{'default': 16, 'conditions': [], 'values': [16, 32, 64], 'ordered': True}\n",
      "activation (Choice)\n",
      "{'default': 'tanh', 'conditions': [], 'values': ['tanh'], 'ordered': False}\n",
      "rate_dp_2 (Float)\n",
      "{'default': 0.0, 'conditions': [], 'min_value': 0.0, 'max_value': 0.3, 'step': 0.1, 'sampling': 'linear'}\n"
     ]
    }
   ],
   "source": [
    "# amanha testar dropout 0.0, 0.1, 0.2\n",
    "tuner = kt.RandomSearch(\n",
    "    build_model,\n",
    "    objective='val_accuracy',\n",
    "    max_trials=10,\n",
    "    executions_per_trial=1,\n",
    "    directory='../../assets/deep_assets',\n",
    "    overwrite=True,\n",
    "    project_name='lstm_tuning')\n",
    "\n",
    "tuner.search_space_summary()"
   ],
   "metadata": {
    "collapsed": false,
    "ExecuteTime": {
     "end_time": "2023-05-23T14:30:35.074177100Z",
     "start_time": "2023-05-23T14:30:32.980893500Z"
    }
   }
  },
  {
   "cell_type": "code",
   "execution_count": 47,
   "outputs": [
    {
     "name": "stdout",
     "output_type": "stream",
     "text": [
      "Trial 10 Complete [00h 00m 28s]\n",
      "val_accuracy: 0.5904762148857117\n",
      "\n",
      "Best val_accuracy So Far: 0.5904762148857117\n",
      "Total elapsed time: 00h 06m 32s\n",
      "INFO:tensorflow:Oracle triggered exit\n"
     ]
    },
    {
     "name": "stderr",
     "output_type": "stream",
     "text": [
      "INFO:tensorflow:Oracle triggered exit\n"
     ]
    }
   ],
   "source": [
    "tuner.search(X_train, y_train, epochs=4000, validation_data=(X_val,y_val), callbacks=[es], batch_size=4, verbose=2)"
   ],
   "metadata": {
    "collapsed": false
   }
  },
  {
   "cell_type": "code",
   "execution_count": null,
   "outputs": [],
   "source": [
    "tuner.results_summary()\n",
    " # 0.845774233341217"
   ],
   "metadata": {
    "collapsed": false
   }
  },
  {
   "cell_type": "code",
   "execution_count": null,
   "outputs": [],
   "source": [
    "type(tuner.results_summary())"
   ],
   "metadata": {
    "collapsed": false
   }
  },
  {
   "cell_type": "code",
   "execution_count": null,
   "outputs": [],
   "source": [
    "with open('../../assets/deep_assets/tuner_results_10_attempts.txt', 'w') as f:\n",
    "    f.write(str(tuner.results_summary()))\n"
   ],
   "metadata": {
    "collapsed": false
   }
  },
  {
   "cell_type": "code",
   "execution_count": 50,
   "outputs": [],
   "source": [
    "best_model_hp = tuner.get_best_hyperparameters()[0].values\n"
   ],
   "metadata": {
    "collapsed": false,
    "ExecuteTime": {
     "end_time": "2023-05-23T14:39:54.180528200Z",
     "start_time": "2023-05-23T14:39:54.172533200Z"
    }
   }
  },
  {
   "cell_type": "markdown",
   "source": [
    "#### Evaluation"
   ],
   "metadata": {
    "collapsed": false
   }
  },
  {
   "cell_type": "markdown",
   "source": [
    "### Tuning fit hyperparamters using GridSearch"
   ],
   "metadata": {
    "collapsed": false
   }
  },
  {
   "cell_type": "code",
   "execution_count": null,
   "outputs": [],
   "source": [
    "# model = Sequential([\n",
    "#     Embedding(input_dim=len(word_index), output_dim= 300, input_length=X_train.shape[1], trainable=False, weights=[embeddings_on_this_context]),\n",
    "#     Bidirectional(LSTM(64, return_sequences=True)),\n",
    "#     # Dropout(0.29),\n",
    "#     # Bidirectional(LSTM(hp.Choice('units',[32,64]))),\n",
    "#     Bidirectional(LSTM(64)),\n",
    "#     Dense(32, activation='relu'),\n",
    "#     # Dropout(0.73),\n",
    "#     Dense(4, activation='softmax')\n",
    "# ])\n",
    "#\n",
    "# model.summary()\n",
    "#\n",
    "# from keras.optimizers import SGD\n",
    "#\n",
    "# loss = \"sparse_categorical_crossentropy\"\n",
    "# optimizer = 'adam'\n",
    "# metrics = ['accuracy']\n",
    "#\n",
    "# model.compile(loss=loss,optimizer=optimizer,metrics=metrics)\n",
    "#\n",
    "# es = EarlyStopping(monitor='val_loss', mode='min', verbose=1, patience=5)\n",
    "#\n",
    "#\n",
    "# history = model.fit(X_train, y_train, epochs=4000, validation_data=(X_val,y_val), verbose=2, callbacks=[es])\n"
   ],
   "metadata": {
    "collapsed": false
   }
  },
  {
   "cell_type": "code",
   "execution_count": null,
   "outputs": [],
   "source": [
    "# def architecture_tuned_model():\n",
    "#     model = Sequential([\n",
    "#         Embedding(input_dim=len(word_index), output_dim=300, input_length=X_train.shape[1], trainable=False,\n",
    "#                   weights=[embeddings_on_this_context]),\n",
    "#         Bidirectional(LSTM(32, return_sequences=True)),\n",
    "#         Dropout(0.29),\n",
    "#         Bidirectional(LSTM(16)),\n",
    "#         Dense(64, 'tanh'),\n",
    "#         Dropout(0.73),\n",
    "#         Dense(4, activation='softmax')\n",
    "#     ])\n",
    "#     loss = \"sparse_categorical_crossentropy\"\n",
    "#     optimizer = 'adam'\n",
    "#     metrics = ['accuracy']\n",
    "#\n",
    "#     model.compile(loss=loss, optimizer=optimizer, metrics=metrics)\n",
    "#     return model\n"
   ],
   "metadata": {
    "collapsed": false
   }
  },
  {
   "cell_type": "code",
   "execution_count": null,
   "outputs": [],
   "source": [
    "# from keras.wrappers.scikit_learn import KerasClassifier\n",
    "#\n",
    "# model = KerasClassifier(build_fn=architecture_tuned_model, verbose=0)"
   ],
   "metadata": {
    "collapsed": false
   }
  },
  {
   "cell_type": "code",
   "execution_count": null,
   "outputs": [],
   "source": [
    "# from sklearn.model_selection import GridSearchCV\n",
    "#\n",
    "# es = EarlyStopping(monitor='accuracy', mode='min', verbose=1, patience=5)\n",
    "#\n",
    "# param_grid = {'batch_size': [1,2,4,8]}\n",
    "#\n",
    "# gs = GridSearchCV(estimator=model,\n",
    "#                   param_grid=param_grid,\n",
    "#                   cv=5)\n",
    "# gs.fit(X_train, y_train, callbacks=[es])\n",
    "# print(f\"Best results for {model.__class__.__name__}\")\n",
    "# print(\"Best Score of train set: \" + str(gs.best_score_))\n",
    "# print(\"Best estimator: \" + str(gs.best_estimator_))\n",
    "# print(\"Best parameter set: \" + str(gs.best_params_))\n"
   ],
   "metadata": {
    "collapsed": false
   }
  },
  {
   "cell_type": "code",
   "execution_count": null,
   "outputs": [],
   "source": [
    "# gs.best_estimator_.model.history.history\n",
    "# # 0.7766810655593872"
   ],
   "metadata": {
    "collapsed": false
   }
  },
  {
   "cell_type": "code",
   "execution_count": null,
   "outputs": [],
   "source": [
    "# fig, (ax1, ax2) = plt.subplots(1, 2, figsize=(15, 5))\n",
    "# ax1.plot(gs.best_estimator_.model.history.history['accuracy'])\n",
    "# ax1.plot(gs.best_estimator_.model.history.history['loss'])\n",
    "# ax1.set_title('Model Accuracy')\n",
    "# ax1.set_ylabel('Accuracy')\n",
    "# ax1.set_xlabel('Epoch')\n",
    "# ax1.legend(['Train', 'Validation'], loc='upper left')\n",
    "#\n",
    "# ax2.plot(gs.best_estimator_.model.history.history['loss'])\n",
    "# ax2.plot(gs.best_estimator_.model.history.history['val_loss'])\n",
    "# ax2.set_title('Model Loss')\n",
    "# ax2.set_ylabel('Loss')\n",
    "# ax2.set_xlabel('Epoch')\n",
    "# ax2.legend(['Train', 'Validation'], loc='upper left')\n",
    "# plt.show()\n",
    "\n",
    "# {'units_bilstm_1': 64,\n",
    "#  'rate_dp_1': 0.1,\n",
    "#  'units_bilstm_2': 32,\n",
    "#  'units_dense': 32,\n",
    "#  'activation': 'tanh',\n",
    "#  'rate_dp_2': 0.0}"
   ],
   "metadata": {
    "collapsed": false
   }
  },
  {
   "cell_type": "markdown",
   "source": [
    "### Tuning fit hyperparameters manually"
   ],
   "metadata": {
    "collapsed": false
   }
  },
  {
   "cell_type": "code",
   "execution_count": 51,
   "outputs": [
    {
     "name": "stdout",
     "output_type": "stream",
     "text": [
      "Model: \"sequential_1\"\n",
      "_________________________________________________________________\n",
      " Layer (type)                Output Shape              Param #   \n",
      "=================================================================\n",
      " embedding_1 (Embedding)     (None, 8, 300)            873300    \n",
      "                                                                 \n",
      " bidirectional_2 (Bidirectio  (None, 8, 64)            85248     \n",
      " nal)                                                            \n",
      "                                                                 \n",
      " dropout_2 (Dropout)         (None, 8, 64)             0         \n",
      "                                                                 \n",
      " bidirectional_3 (Bidirectio  (None, 128)              66048     \n",
      " nal)                                                            \n",
      "                                                                 \n",
      " dense_2 (Dense)             (None, 64)                8256      \n",
      "                                                                 \n",
      " dense_3 (Dense)             (None, 3)                 195       \n",
      "                                                                 \n",
      "=================================================================\n",
      "Total params: 1,033,047\n",
      "Trainable params: 159,747\n",
      "Non-trainable params: 873,300\n",
      "_________________________________________________________________\n"
     ]
    }
   ],
   "source": [
    "best_model = Sequential([\n",
    "    Embedding(input_dim=len(word_index), output_dim= 300, input_length=X_train.shape[1], trainable=False, weights=[embeddings_on_this_context]),\n",
    "    Bidirectional(LSTM(best_model_hp['units_bilstm_1'], return_sequences=True)),\n",
    "    Dropout(best_model_hp['rate_dp_1']),\n",
    "    # Bidirectional(LSTM(hp.Choice('units',[32,64]))),\n",
    "    Bidirectional(LSTM(best_model_hp['units_bilstm_2'])),\n",
    "    Dense(best_model_hp['units_dense'], activation=best_model_hp['activation']),\n",
    "    # Dropout(0.73),\n",
    "    Dense(3, activation='softmax')\n",
    "])\n",
    "\n",
    "\n",
    "\n",
    "\n",
    "\n",
    "loss = \"sparse_categorical_crossentropy\"\n",
    "optimizer = 'adam'\n",
    "metrics = ['accuracy']\n",
    "\n",
    "\n",
    "best_model.compile(loss=loss,optimizer=optimizer,metrics=metrics)\n",
    "\n",
    "es = EarlyStopping(monitor='val_loss', mode='min', verbose=1, patience=10)\n",
    "\n",
    "\n",
    "best_model.summary()\n"
   ],
   "metadata": {
    "collapsed": false,
    "ExecuteTime": {
     "end_time": "2023-05-23T14:39:59.647901500Z",
     "start_time": "2023-05-23T14:39:57.740675200Z"
    }
   }
  },
  {
   "cell_type": "code",
   "execution_count": 52,
   "outputs": [
    {
     "name": "stdout",
     "output_type": "stream",
     "text": [
      "Epoch 1/4000\n",
      "1676/1676 - 16s - loss: 0.9907 - accuracy: 0.5716 - val_loss: 0.9623 - val_accuracy: 0.5905 - 16s/epoch - 10ms/step\n",
      "Epoch 2/4000\n",
      "1676/1676 - 8s - loss: 0.9807 - accuracy: 0.5764 - val_loss: 0.9598 - val_accuracy: 0.5905 - 8s/epoch - 5ms/step\n",
      "Epoch 3/4000\n",
      "1676/1676 - 9s - loss: 0.9798 - accuracy: 0.5764 - val_loss: 0.9573 - val_accuracy: 0.5905 - 9s/epoch - 6ms/step\n",
      "Epoch 4/4000\n",
      "1676/1676 - 7s - loss: 0.9840 - accuracy: 0.5746 - val_loss: 0.9597 - val_accuracy: 0.5905 - 7s/epoch - 4ms/step\n",
      "Epoch 5/4000\n",
      "1676/1676 - 8s - loss: 0.9778 - accuracy: 0.5764 - val_loss: 0.9614 - val_accuracy: 0.5905 - 8s/epoch - 5ms/step\n",
      "Epoch 6/4000\n",
      "1676/1676 - 9s - loss: 0.9778 - accuracy: 0.5764 - val_loss: 0.9573 - val_accuracy: 0.5905 - 9s/epoch - 5ms/step\n",
      "Epoch 7/4000\n",
      "1676/1676 - 9s - loss: 0.9776 - accuracy: 0.5764 - val_loss: 0.9541 - val_accuracy: 0.5905 - 9s/epoch - 6ms/step\n",
      "Epoch 8/4000\n",
      "1676/1676 - 10s - loss: 0.9779 - accuracy: 0.5764 - val_loss: 0.9551 - val_accuracy: 0.5905 - 10s/epoch - 6ms/step\n",
      "Epoch 9/4000\n",
      "1676/1676 - 9s - loss: 0.9764 - accuracy: 0.5764 - val_loss: 0.9643 - val_accuracy: 0.5905 - 9s/epoch - 6ms/step\n",
      "Epoch 10/4000\n",
      "1676/1676 - 10s - loss: 0.9774 - accuracy: 0.5764 - val_loss: 0.9603 - val_accuracy: 0.5905 - 10s/epoch - 6ms/step\n",
      "Epoch 11/4000\n",
      "1676/1676 - 9s - loss: 0.9783 - accuracy: 0.5764 - val_loss: 0.9583 - val_accuracy: 0.5905 - 9s/epoch - 5ms/step\n",
      "Epoch 12/4000\n",
      "1676/1676 - 8s - loss: 0.9779 - accuracy: 0.5764 - val_loss: 0.9613 - val_accuracy: 0.5905 - 8s/epoch - 5ms/step\n",
      "Epoch 13/4000\n",
      "1676/1676 - 8s - loss: 0.9764 - accuracy: 0.5764 - val_loss: 1.0021 - val_accuracy: 0.5905 - 8s/epoch - 5ms/step\n",
      "Epoch 14/4000\n",
      "1676/1676 - 8s - loss: 1.0118 - accuracy: 0.5644 - val_loss: 0.9571 - val_accuracy: 0.5905 - 8s/epoch - 5ms/step\n",
      "Epoch 15/4000\n",
      "1676/1676 - 9s - loss: 0.9933 - accuracy: 0.5764 - val_loss: 0.9713 - val_accuracy: 0.5905 - 9s/epoch - 5ms/step\n",
      "Epoch 16/4000\n",
      "1676/1676 - 9s - loss: 0.9921 - accuracy: 0.5764 - val_loss: 0.9814 - val_accuracy: 0.5905 - 9s/epoch - 6ms/step\n",
      "Epoch 17/4000\n",
      "1676/1676 - 9s - loss: 0.9917 - accuracy: 0.5740 - val_loss: 0.9820 - val_accuracy: 0.5905 - 9s/epoch - 5ms/step\n",
      "Epoch 17: early stopping\n"
     ]
    }
   ],
   "source": [
    "history = best_model.fit(X_train, y_train, epochs=4000, batch_size=1, validation_data=(X_val,y_val), verbose=2, callbacks=[es])"
   ],
   "metadata": {
    "collapsed": false,
    "ExecuteTime": {
     "end_time": "2023-05-23T14:42:36.316613Z",
     "start_time": "2023-05-23T14:39:59.599928600Z"
    }
   }
  },
  {
   "cell_type": "code",
   "execution_count": 53,
   "outputs": [
    {
     "data": {
      "text/plain": "<Figure size 1500x500 with 2 Axes>",
      "image/png": "[encoded data removed]"
     },
     "metadata": {},
     "output_type": "display_data"
    }
   ],
   "source": [
    "fig, (ax1, ax2) = plt.subplots(1, 2, figsize=(15, 5))\n",
    "ax1.plot(history.history['accuracy'])\n",
    "ax1.plot(history.history['val_accuracy'])\n",
    "ax1.set_title('Model Accuracy')\n",
    "ax1.set_ylabel('Accuracy')\n",
    "ax1.set_xlabel('Epoch')\n",
    "ax1.legend(['Train', 'Validation'], loc='upper left')\n",
    "\n",
    "ax2.plot(history.history['loss'])\n",
    "ax2.plot(history.history['val_loss'])\n",
    "ax2.set_title('Model Loss')\n",
    "ax2.set_ylabel('Loss')\n",
    "ax2.set_xlabel('Epoch')\n",
    "ax2.legend(['Train', 'Validation'], loc='upper left')\n",
    "plt.show()"
   ],
   "metadata": {
    "collapsed": false,
    "ExecuteTime": {
     "end_time": "2023-05-23T14:42:36.991221600Z",
     "start_time": "2023-05-23T14:42:36.290628900Z"
    }
   }
  },
  {
   "cell_type": "markdown",
   "source": [
    "### Exporting model"
   ],
   "metadata": {
    "collapsed": false
   }
  },
  {
   "cell_type": "code",
   "execution_count": null,
   "outputs": [],
   "source": [
    "best_model.save('../../assets/deep_assets/lstm_model')"
   ],
   "metadata": {
    "collapsed": false
   }
  }
 ],
 "metadata": {
  "kernelspec": {
   "display_name": "Python 3",
   "language": "python",
   "name": "python3"
  },
  "language_info": {
   "codemirror_mode": {
    "name": "ipython",
    "version": 2
   },
   "file_extension": ".py",
   "mimetype": "text/x-python",
   "name": "python",
   "nbconvert_exporter": "python",
   "pygments_lexer": "ipython2",
   "version": "2.7.6"
  }
 },
 "nbformat": 4,
 "nbformat_minor": 0
}
