{
 "cells": [
  {
   "cell_type": "markdown",
   "source": [
    "## Packages and Assets"
   ],
   "metadata": {
    "collapsed": false
   }
  },
  {
   "cell_type": "code",
   "execution_count": 8,
   "outputs": [],
   "source": [
    "from gensim.models import Word2Vec\n",
    "import json\n",
    "import numpy as np\n",
    "import pandas as pd\n",
    "from keras.callbacks import EarlyStopping\n",
    "import seaborn as sns\n",
    "import keras_tuner as kt\n",
    "from keras.optimizers import SGD\n",
    "\n",
    "from keras.models import Sequential\n",
    "from keras.layers import Embedding, LSTM, Dense, Dropout, Bidirectional\n",
    "import matplotlib.pyplot as plt\n",
    "from keras.metrics import Accuracy, Precision, Recall\n",
    "from keras.preprocessing.text import tokenizer_from_json\n",
    "import os, sys\n",
    "\n",
    "\n",
    "import keras.backend as K"
   ],
   "metadata": {
    "collapsed": false,
    "ExecuteTime": {
     "end_time": "2023-05-24T19:19:10.625926100Z",
     "start_time": "2023-05-24T19:19:10.262112800Z"
    }
   }
  },
  {
   "cell_type": "code",
   "execution_count": 9,
   "outputs": [
    {
     "name": "stdout",
     "output_type": "stream",
     "text": [
      "C:\\Users\\Guilherme\\.conda\\envs\\nlp2\\python.exe\n",
      "C:\\Users\\Guilherme\\Documents\\Programming\\Python\\TCC_stock_price\\pipeline\\supervised_deep_models\n"
     ]
    }
   ],
   "source": [
    "print(sys.executable)\n",
    "print(os.getcwd())"
   ],
   "metadata": {
    "collapsed": false,
    "ExecuteTime": {
     "end_time": "2023-05-24T19:19:10.646915600Z",
     "start_time": "2023-05-24T19:19:10.285101Z"
    }
   }
  },
  {
   "cell_type": "markdown",
   "source": [
    "## Dependencies"
   ],
   "metadata": {
    "collapsed": false
   }
  },
  {
   "cell_type": "code",
   "execution_count": 10,
   "outputs": [],
   "source": [
    "with open('../../assets/deep_assets/tokenizer.json', 'r', encoding='utf-8') as f:\n",
    "    tokenizer_json = f.read()\n",
    "    tokenizer = tokenizer_from_json(tokenizer_json)\n",
    "    word_index = tokenizer.word_index\n",
    "\n"
   ],
   "metadata": {
    "collapsed": false,
    "ExecuteTime": {
     "end_time": "2023-05-24T19:19:10.648915200Z",
     "start_time": "2023-05-24T19:19:10.302091400Z"
    }
   }
  },
  {
   "cell_type": "code",
   "execution_count": 11,
   "outputs": [
    {
     "name": "stdout",
     "output_type": "stream",
     "text": [
      "[('<NUM>', 0.9972829818725586), ('pode', 0.9972649216651917), ('queda', 0.9972538948059082), ('etanol', 0.9972485899925232), ('petrobras', 0.9972319602966309), ('fecha', 0.9972299933433533), ('semana', 0.9972253441810608), ('sobe', 0.9972184300422668), ('alta', 0.9972174763679504), ('nova', 0.9972140192985535)]\n"
     ]
    }
   ],
   "source": [
    "model_we = Word2Vec.load('../../assets/deep_assets/word2vec.model')\n",
    "\n",
    "print(model_we.wv.most_similar('itau'))\n",
    "\n",
    "# List of nparrays of size 300\n",
    "embeddings_dict = {}\n",
    "for word in model_we.wv.index_to_key:\n",
    "    embeddings_dict[word] = model_we.wv[word]\n",
    "\n",
    "embeddings_on_this_context = np.zeros((len(word_index), 300))\n",
    "for word, i in word_index.items():\n",
    "    embeddings_vector = embeddings_dict.get(word)\n",
    "    if embeddings_vector is not None:\n",
    "        embeddings_on_this_context[i - 1] = embeddings_vector\n"
   ],
   "metadata": {
    "collapsed": false,
    "ExecuteTime": {
     "end_time": "2023-05-24T19:19:10.685895800Z",
     "start_time": "2023-05-24T19:19:10.318083800Z"
    }
   }
  },
  {
   "cell_type": "code",
   "execution_count": 12,
   "outputs": [],
   "source": [
    "train = pd.read_csv('../../assets/data/splits/train/padded.csv')\n",
    "val = pd.read_csv('../../assets/data/splits/val/padded.csv')"
   ],
   "metadata": {
    "collapsed": false,
    "ExecuteTime": {
     "end_time": "2023-05-24T19:19:10.750862700Z",
     "start_time": "2023-05-24T19:19:10.376055Z"
    }
   }
  },
  {
   "cell_type": "markdown",
   "source": [
    "## Functions"
   ],
   "metadata": {
    "collapsed": false
   }
  },
  {
   "cell_type": "code",
   "execution_count": 13,
   "outputs": [],
   "source": [
    "def index2word(word_index):\n",
    "    index_word = {}\n",
    "    for key in word_index:\n",
    "        index_word[word_index[key]] = key\n",
    "    return index_word\n",
    "\n",
    "\n",
    "def seq2text(seq, index_word):\n",
    "    text = []\n",
    "    for index in seq:\n",
    "        text.append(index_word[index])\n",
    "    return text\n",
    "\n",
    "\n",
    "def show_confusion_matrix(cm):\n",
    "    print(\"Confusion Matrix\")\n",
    "    plt.figure(figsize=(10, 7))\n",
    "\n",
    "    sns.heatmap(cm, annot=True, fmt='d', cmap='Blues', xticklabels=['Negative', 'Positive'],\n",
    "                yticklabels=['Negative', 'Positive'])\n",
    "    plt.xlabel('Predicted')\n",
    "    plt.ylabel('Truth')\n",
    "    plt.title('Confusion Matrix')\n",
    "    plt.show()"
   ],
   "metadata": {
    "collapsed": false,
    "ExecuteTime": {
     "end_time": "2023-05-24T19:19:10.752861400Z",
     "start_time": "2023-05-24T19:19:10.451016Z"
    }
   }
  },
  {
   "cell_type": "code",
   "execution_count": 14,
   "outputs": [],
   "source": [
    "def get_f1(y_true, y_pred): #taken from old keras source code\n",
    "    true_positives = K.sum(K.round(K.clip(y_true * y_pred, 0, 1)))\n",
    "    possible_positives = K.sum(K.round(K.clip(y_true, 0, 1)))\n",
    "    predicted_positives = K.sum(K.round(K.clip(y_pred, 0, 1)))\n",
    "    precision = true_positives / (predicted_positives + K.epsilon())\n",
    "    recall = true_positives / (possible_positives + K.epsilon())\n",
    "    f1_val = 2*(precision*recall)/(precision+recall+K.epsilon())\n",
    "    return f1_val"
   ],
   "metadata": {
    "collapsed": false,
    "ExecuteTime": {
     "end_time": "2023-05-24T19:19:10.753861400Z",
     "start_time": "2023-05-24T19:19:10.510985800Z"
    }
   }
  },
  {
   "cell_type": "markdown",
   "source": [
    "## RNN Model"
   ],
   "metadata": {
    "collapsed": false
   }
  },
  {
   "cell_type": "markdown",
   "source": [
    "### Data transformation for model"
   ],
   "metadata": {
    "collapsed": false
   }
  },
  {
   "cell_type": "code",
   "execution_count": 15,
   "outputs": [],
   "source": [
    "X_train = train.to_numpy()[:, :-1]\n",
    "X_val = val.to_numpy()[:, :-1]\n",
    "y_train = train.to_numpy()[:, -1]\n",
    "y_val = val.to_numpy()[:, -1]"
   ],
   "metadata": {
    "collapsed": false,
    "ExecuteTime": {
     "end_time": "2023-05-24T19:19:10.753861400Z",
     "start_time": "2023-05-24T19:19:10.539970600Z"
    }
   }
  },
  {
   "cell_type": "markdown",
   "source": [
    "### Tuning Architecture Hyperparams using RandomSearch and Early Stopping"
   ],
   "metadata": {
    "collapsed": false
   }
  },
  {
   "cell_type": "markdown",
   "source": [
    "#### Test 1"
   ],
   "metadata": {
    "collapsed": false
   }
  },
  {
   "cell_type": "code",
   "execution_count": 16,
   "outputs": [],
   "source": [
    "# def build_model(hp):\n",
    "#     model = Sequential([\n",
    "#         Embedding(input_dim=len(word_index), output_dim=300, input_length=X_train.shape[1], trainable=False,\n",
    "#                   weights=[embeddings_on_this_context]),\n",
    "#         Bidirectional(LSTM(16, return_sequences=True)),\n",
    "#         Dropout(hp.Float('rate_dp_1', 0, 0.4, step=0.1)),\n",
    "#         Bidirectional(LSTM(16)),\n",
    "#         Dense(64, 'tanh'),\n",
    "#         Dropout(hp.Float('rate_dp_1', 0.1, 0.4, step=0.1)),\n",
    "#         Dense(4, activation='softmax')\n",
    "#     ])\n",
    "#     loss = \"sparse_categorical_crossentropy\"\n",
    "#     # optimizer = SGD(learning_rate=0.01)\n",
    "#     metrics = ['accuracy']\n",
    "#\n",
    "#     model.compile(loss=loss, optimizer='adam', metrics=metrics)\n",
    "#     return model\n",
    "#\n",
    "#\n",
    "# es = EarlyStopping(monitor='val_loss', mode='min', verbose=1, patience=5)"
   ],
   "metadata": {
    "collapsed": false,
    "ExecuteTime": {
     "end_time": "2023-05-24T19:19:10.829822600Z",
     "start_time": "2023-05-24T19:19:10.645916600Z"
    }
   }
  },
  {
   "cell_type": "code",
   "execution_count": 16,
   "outputs": [],
   "source": [],
   "metadata": {
    "collapsed": false,
    "ExecuteTime": {
     "end_time": "2023-05-24T19:19:10.846813100Z",
     "start_time": "2023-05-24T19:19:10.666906400Z"
    }
   }
  },
  {
   "cell_type": "markdown",
   "source": [
    "####  Test 2"
   ],
   "metadata": {
    "collapsed": false
   }
  },
  {
   "cell_type": "code",
   "execution_count": 17,
   "outputs": [],
   "source": [
    "from keras.losses import BinaryCrossentropy\n",
    "def build_model(hp):\n",
    "    model = Sequential([\n",
    "    Embedding(input_dim=len(word_index), output_dim= 300, input_length=X_train.shape[1], trainable=False, weights=[embeddings_on_this_context]),\n",
    "    Bidirectional(LSTM(hp.Choice('units_bilstm_1',[16,32,64]), return_sequences=True)),\n",
    "    Dropout(hp.Float('rate_dp_1',0,0.3,step=0.1)),\n",
    "    Bidirectional(LSTM(hp.Choice('units_bilstm_2',[16,32,64]))),\n",
    "    Dense(hp.Choice('units_dense',[16,32,64]), hp.Choice('activation',['tanh']) ),\n",
    "    Dropout(hp.Float('rate_dp_2',0,0.3,step=0.1)),\n",
    "    Dense(1, activation='sigmoid')\n",
    "])\n",
    "    loss = BinaryCrossentropy(from_logits=False)\n",
    "    # optimizer = SGD(learning_rate=0.01)\n",
    "    metrics = ['accuracy']\n",
    "    # metrics = ['accuracy', Precision(), Recall()]\n",
    "\n",
    "    model.compile(loss=loss,optimizer='adam',metrics=metrics)\n",
    "    return model\n",
    "\n",
    "es = EarlyStopping(monitor='val_loss', mode='min', verbose=1, patience=5)"
   ],
   "metadata": {
    "collapsed": false,
    "ExecuteTime": {
     "end_time": "2023-05-24T19:19:10.847812800Z",
     "start_time": "2023-05-24T19:19:10.687896Z"
    }
   }
  },
  {
   "cell_type": "code",
   "execution_count": 18,
   "outputs": [
    {
     "name": "stdout",
     "output_type": "stream",
     "text": [
      "Search space summary\n",
      "Default search space size: 6\n",
      "units_bilstm_1 (Choice)\n",
      "{'default': 16, 'conditions': [], 'values': [16, 32, 64], 'ordered': True}\n",
      "rate_dp_1 (Float)\n",
      "{'default': 0.0, 'conditions': [], 'min_value': 0.0, 'max_value': 0.3, 'step': 0.1, 'sampling': 'linear'}\n",
      "units_bilstm_2 (Choice)\n",
      "{'default': 16, 'conditions': [], 'values': [16, 32, 64], 'ordered': True}\n",
      "units_dense (Choice)\n",
      "{'default': 16, 'conditions': [], 'values': [16, 32, 64], 'ordered': True}\n",
      "activation (Choice)\n",
      "{'default': 'tanh', 'conditions': [], 'values': ['tanh'], 'ordered': False}\n",
      "rate_dp_2 (Float)\n",
      "{'default': 0.0, 'conditions': [], 'min_value': 0.0, 'max_value': 0.3, 'step': 0.1, 'sampling': 'linear'}\n"
     ]
    }
   ],
   "source": [
    "# amanha testar dropout 0.0, 0.1, 0.2\n",
    "tuner = kt.RandomSearch(\n",
    "    build_model,\n",
    "    objective='val_accuracy',\n",
    "    max_trials=10,\n",
    "    executions_per_trial=1,\n",
    "    directory='../../assets/deep_assets',\n",
    "    overwrite=True,\n",
    "    project_name='lstm_tuning')\n",
    "\n",
    "tuner.search_space_summary()"
   ],
   "metadata": {
    "collapsed": false,
    "ExecuteTime": {
     "end_time": "2023-05-24T19:19:12.929747300Z",
     "start_time": "2023-05-24T19:19:10.712882Z"
    }
   }
  },
  {
   "cell_type": "code",
   "execution_count": 19,
   "outputs": [
    {
     "name": "stdout",
     "output_type": "stream",
     "text": [
      "Trial 10 Complete [00h 00m 34s]\n",
      "val_accuracy: 0.5539215803146362\n",
      "\n",
      "Best val_accuracy So Far: 0.5539215803146362\n",
      "Total elapsed time: 00h 03m 47s\n",
      "INFO:tensorflow:Oracle triggered exit\n"
     ]
    }
   ],
   "source": [
    "tuner.search(X_train, y_train, epochs=4000, validation_data=(X_val,y_val), callbacks=[es], batch_size=32, verbose=2)"
   ],
   "metadata": {
    "collapsed": false
   }
  },
  {
   "cell_type": "code",
   "execution_count": 20,
   "outputs": [
    {
     "name": "stdout",
     "output_type": "stream",
     "text": [
      "Results summary\n",
      "Results in ../../assets/deep_assets\\lstm_tuning\n",
      "Showing 10 best trials\n",
      "Objective(name=\"val_accuracy\", direction=\"max\")\n",
      "\n",
      "Trial 00 summary\n",
      "Hyperparameters:\n",
      "units_bilstm_1: 64\n",
      "rate_dp_1: 0.2\n",
      "units_bilstm_2: 16\n",
      "units_dense: 64\n",
      "activation: tanh\n",
      "rate_dp_2: 0.1\n",
      "Score: 0.5539215803146362\n",
      "\n",
      "Trial 01 summary\n",
      "Hyperparameters:\n",
      "units_bilstm_1: 64\n",
      "rate_dp_1: 0.0\n",
      "units_bilstm_2: 16\n",
      "units_dense: 16\n",
      "activation: tanh\n",
      "rate_dp_2: 0.0\n",
      "Score: 0.5539215803146362\n",
      "\n",
      "Trial 02 summary\n",
      "Hyperparameters:\n",
      "units_bilstm_1: 16\n",
      "rate_dp_1: 0.1\n",
      "units_bilstm_2: 64\n",
      "units_dense: 64\n",
      "activation: tanh\n",
      "rate_dp_2: 0.1\n",
      "Score: 0.5539215803146362\n",
      "\n",
      "Trial 03 summary\n",
      "Hyperparameters:\n",
      "units_bilstm_1: 64\n",
      "rate_dp_1: 0.1\n",
      "units_bilstm_2: 64\n",
      "units_dense: 64\n",
      "activation: tanh\n",
      "rate_dp_2: 0.2\n",
      "Score: 0.5539215803146362\n",
      "\n",
      "Trial 04 summary\n",
      "Hyperparameters:\n",
      "units_bilstm_1: 64\n",
      "rate_dp_1: 0.2\n",
      "units_bilstm_2: 32\n",
      "units_dense: 32\n",
      "activation: tanh\n",
      "rate_dp_2: 0.0\n",
      "Score: 0.5539215803146362\n",
      "\n",
      "Trial 05 summary\n",
      "Hyperparameters:\n",
      "units_bilstm_1: 16\n",
      "rate_dp_1: 0.2\n",
      "units_bilstm_2: 16\n",
      "units_dense: 32\n",
      "activation: tanh\n",
      "rate_dp_2: 0.1\n",
      "Score: 0.5539215803146362\n",
      "\n",
      "Trial 06 summary\n",
      "Hyperparameters:\n",
      "units_bilstm_1: 16\n",
      "rate_dp_1: 0.2\n",
      "units_bilstm_2: 16\n",
      "units_dense: 16\n",
      "activation: tanh\n",
      "rate_dp_2: 0.0\n",
      "Score: 0.5539215803146362\n",
      "\n",
      "Trial 07 summary\n",
      "Hyperparameters:\n",
      "units_bilstm_1: 32\n",
      "rate_dp_1: 0.2\n",
      "units_bilstm_2: 16\n",
      "units_dense: 32\n",
      "activation: tanh\n",
      "rate_dp_2: 0.1\n",
      "Score: 0.5539215803146362\n",
      "\n",
      "Trial 08 summary\n",
      "Hyperparameters:\n",
      "units_bilstm_1: 16\n",
      "rate_dp_1: 0.2\n",
      "units_bilstm_2: 16\n",
      "units_dense: 64\n",
      "activation: tanh\n",
      "rate_dp_2: 0.1\n",
      "Score: 0.5539215803146362\n",
      "\n",
      "Trial 09 summary\n",
      "Hyperparameters:\n",
      "units_bilstm_1: 64\n",
      "rate_dp_1: 0.1\n",
      "units_bilstm_2: 16\n",
      "units_dense: 64\n",
      "activation: tanh\n",
      "rate_dp_2: 0.0\n",
      "Score: 0.5539215803146362\n"
     ]
    }
   ],
   "source": [
    "tuner.results_summary()\n",
    " # 0.845774233341217"
   ],
   "metadata": {
    "collapsed": false,
    "ExecuteTime": {
     "end_time": "2023-05-24T19:22:59.526497600Z",
     "start_time": "2023-05-24T19:22:59.517501800Z"
    }
   }
  },
  {
   "cell_type": "code",
   "execution_count": 21,
   "outputs": [
    {
     "name": "stdout",
     "output_type": "stream",
     "text": [
      "Results summary\n",
      "Results in ../../assets/deep_assets\\lstm_tuning\n",
      "Showing 10 best trials\n",
      "Objective(name=\"val_accuracy\", direction=\"max\")\n",
      "\n",
      "Trial 00 summary\n",
      "Hyperparameters:\n",
      "units_bilstm_1: 64\n",
      "rate_dp_1: 0.2\n",
      "units_bilstm_2: 16\n",
      "units_dense: 64\n",
      "activation: tanh\n",
      "rate_dp_2: 0.1\n",
      "Score: 0.5539215803146362\n",
      "\n",
      "Trial 01 summary\n",
      "Hyperparameters:\n",
      "units_bilstm_1: 64\n",
      "rate_dp_1: 0.0\n",
      "units_bilstm_2: 16\n",
      "units_dense: 16\n",
      "activation: tanh\n",
      "rate_dp_2: 0.0\n",
      "Score: 0.5539215803146362\n",
      "\n",
      "Trial 02 summary\n",
      "Hyperparameters:\n",
      "units_bilstm_1: 16\n",
      "rate_dp_1: 0.1\n",
      "units_bilstm_2: 64\n",
      "units_dense: 64\n",
      "activation: tanh\n",
      "rate_dp_2: 0.1\n",
      "Score: 0.5539215803146362\n",
      "\n",
      "Trial 03 summary\n",
      "Hyperparameters:\n",
      "units_bilstm_1: 64\n",
      "rate_dp_1: 0.1\n",
      "units_bilstm_2: 64\n",
      "units_dense: 64\n",
      "activation: tanh\n",
      "rate_dp_2: 0.2\n",
      "Score: 0.5539215803146362\n",
      "\n",
      "Trial 04 summary\n",
      "Hyperparameters:\n",
      "units_bilstm_1: 64\n",
      "rate_dp_1: 0.2\n",
      "units_bilstm_2: 32\n",
      "units_dense: 32\n",
      "activation: tanh\n",
      "rate_dp_2: 0.0\n",
      "Score: 0.5539215803146362\n",
      "\n",
      "Trial 05 summary\n",
      "Hyperparameters:\n",
      "units_bilstm_1: 16\n",
      "rate_dp_1: 0.2\n",
      "units_bilstm_2: 16\n",
      "units_dense: 32\n",
      "activation: tanh\n",
      "rate_dp_2: 0.1\n",
      "Score: 0.5539215803146362\n",
      "\n",
      "Trial 06 summary\n",
      "Hyperparameters:\n",
      "units_bilstm_1: 16\n",
      "rate_dp_1: 0.2\n",
      "units_bilstm_2: 16\n",
      "units_dense: 16\n",
      "activation: tanh\n",
      "rate_dp_2: 0.0\n",
      "Score: 0.5539215803146362\n",
      "\n",
      "Trial 07 summary\n",
      "Hyperparameters:\n",
      "units_bilstm_1: 32\n",
      "rate_dp_1: 0.2\n",
      "units_bilstm_2: 16\n",
      "units_dense: 32\n",
      "activation: tanh\n",
      "rate_dp_2: 0.1\n",
      "Score: 0.5539215803146362\n",
      "\n",
      "Trial 08 summary\n",
      "Hyperparameters:\n",
      "units_bilstm_1: 16\n",
      "rate_dp_1: 0.2\n",
      "units_bilstm_2: 16\n",
      "units_dense: 64\n",
      "activation: tanh\n",
      "rate_dp_2: 0.1\n",
      "Score: 0.5539215803146362\n",
      "\n",
      "Trial 09 summary\n",
      "Hyperparameters:\n",
      "units_bilstm_1: 64\n",
      "rate_dp_1: 0.1\n",
      "units_bilstm_2: 16\n",
      "units_dense: 64\n",
      "activation: tanh\n",
      "rate_dp_2: 0.0\n",
      "Score: 0.5539215803146362\n"
     ]
    },
    {
     "data": {
      "text/plain": "NoneType"
     },
     "execution_count": 21,
     "metadata": {},
     "output_type": "execute_result"
    }
   ],
   "source": [
    "type(tuner.results_summary())"
   ],
   "metadata": {
    "collapsed": false,
    "ExecuteTime": {
     "end_time": "2023-05-24T19:22:59.617449900Z",
     "start_time": "2023-05-24T19:22:59.529495400Z"
    }
   }
  },
  {
   "cell_type": "code",
   "execution_count": 22,
   "outputs": [
    {
     "name": "stdout",
     "output_type": "stream",
     "text": [
      "Results summary\n",
      "Results in ../../assets/deep_assets\\lstm_tuning\n",
      "Showing 10 best trials\n",
      "Objective(name=\"val_accuracy\", direction=\"max\")\n",
      "\n",
      "Trial 00 summary\n",
      "Hyperparameters:\n",
      "units_bilstm_1: 64\n",
      "rate_dp_1: 0.2\n",
      "units_bilstm_2: 16\n",
      "units_dense: 64\n",
      "activation: tanh\n",
      "rate_dp_2: 0.1\n",
      "Score: 0.5539215803146362\n",
      "\n",
      "Trial 01 summary\n",
      "Hyperparameters:\n",
      "units_bilstm_1: 64\n",
      "rate_dp_1: 0.0\n",
      "units_bilstm_2: 16\n",
      "units_dense: 16\n",
      "activation: tanh\n",
      "rate_dp_2: 0.0\n",
      "Score: 0.5539215803146362\n",
      "\n",
      "Trial 02 summary\n",
      "Hyperparameters:\n",
      "units_bilstm_1: 16\n",
      "rate_dp_1: 0.1\n",
      "units_bilstm_2: 64\n",
      "units_dense: 64\n",
      "activation: tanh\n",
      "rate_dp_2: 0.1\n",
      "Score: 0.5539215803146362\n",
      "\n",
      "Trial 03 summary\n",
      "Hyperparameters:\n",
      "units_bilstm_1: 64\n",
      "rate_dp_1: 0.1\n",
      "units_bilstm_2: 64\n",
      "units_dense: 64\n",
      "activation: tanh\n",
      "rate_dp_2: 0.2\n",
      "Score: 0.5539215803146362\n",
      "\n",
      "Trial 04 summary\n",
      "Hyperparameters:\n",
      "units_bilstm_1: 64\n",
      "rate_dp_1: 0.2\n",
      "units_bilstm_2: 32\n",
      "units_dense: 32\n",
      "activation: tanh\n",
      "rate_dp_2: 0.0\n",
      "Score: 0.5539215803146362\n",
      "\n",
      "Trial 05 summary\n",
      "Hyperparameters:\n",
      "units_bilstm_1: 16\n",
      "rate_dp_1: 0.2\n",
      "units_bilstm_2: 16\n",
      "units_dense: 32\n",
      "activation: tanh\n",
      "rate_dp_2: 0.1\n",
      "Score: 0.5539215803146362\n",
      "\n",
      "Trial 06 summary\n",
      "Hyperparameters:\n",
      "units_bilstm_1: 16\n",
      "rate_dp_1: 0.2\n",
      "units_bilstm_2: 16\n",
      "units_dense: 16\n",
      "activation: tanh\n",
      "rate_dp_2: 0.0\n",
      "Score: 0.5539215803146362\n",
      "\n",
      "Trial 07 summary\n",
      "Hyperparameters:\n",
      "units_bilstm_1: 32\n",
      "rate_dp_1: 0.2\n",
      "units_bilstm_2: 16\n",
      "units_dense: 32\n",
      "activation: tanh\n",
      "rate_dp_2: 0.1\n",
      "Score: 0.5539215803146362\n",
      "\n",
      "Trial 08 summary\n",
      "Hyperparameters:\n",
      "units_bilstm_1: 16\n",
      "rate_dp_1: 0.2\n",
      "units_bilstm_2: 16\n",
      "units_dense: 64\n",
      "activation: tanh\n",
      "rate_dp_2: 0.1\n",
      "Score: 0.5539215803146362\n",
      "\n",
      "Trial 09 summary\n",
      "Hyperparameters:\n",
      "units_bilstm_1: 64\n",
      "rate_dp_1: 0.1\n",
      "units_bilstm_2: 16\n",
      "units_dense: 64\n",
      "activation: tanh\n",
      "rate_dp_2: 0.0\n",
      "Score: 0.5539215803146362\n"
     ]
    }
   ],
   "source": [
    "with open('../../assets/deep_assets/tuner_results_10_attempts.txt', 'w') as f:\n",
    "    f.write(str(tuner.results_summary()))\n"
   ],
   "metadata": {
    "collapsed": false,
    "ExecuteTime": {
     "end_time": "2023-05-24T19:22:59.678418300Z",
     "start_time": "2023-05-24T19:22:59.544487800Z"
    }
   }
  },
  {
   "cell_type": "code",
   "execution_count": 23,
   "outputs": [],
   "source": [
    "best_model_hp = tuner.get_best_hyperparameters()[0].values\n"
   ],
   "metadata": {
    "collapsed": false,
    "ExecuteTime": {
     "end_time": "2023-05-24T19:22:59.693411300Z",
     "start_time": "2023-05-24T19:22:59.653431700Z"
    }
   }
  },
  {
   "cell_type": "markdown",
   "source": [
    "#### Evaluation"
   ],
   "metadata": {
    "collapsed": false
   }
  },
  {
   "cell_type": "markdown",
   "source": [
    "### Tuning fit hyperparamters using GridSearch"
   ],
   "metadata": {
    "collapsed": false
   }
  },
  {
   "cell_type": "code",
   "execution_count": 24,
   "outputs": [],
   "source": [
    "# model = Sequential([\n",
    "#     Embedding(input_dim=len(word_index), output_dim= 300, input_length=X_train.shape[1], trainable=False, weights=[embeddings_on_this_context]),\n",
    "#     Bidirectional(LSTM(64, return_sequences=True)),\n",
    "#     # Dropout(0.29),\n",
    "#     # Bidirectional(LSTM(hp.Choice('units',[32,64]))),\n",
    "#     Bidirectional(LSTM(64)),\n",
    "#     Dense(32, activation='relu'),\n",
    "#     # Dropout(0.73),\n",
    "#     Dense(4, activation='softmax')\n",
    "# ])\n",
    "#\n",
    "# model.summary()\n",
    "#\n",
    "# from keras.optimizers import SGD\n",
    "#\n",
    "# loss = \"sparse_categorical_crossentropy\"\n",
    "# optimizer = 'adam'\n",
    "# metrics = ['accuracy']\n",
    "#\n",
    "# model.compile(loss=loss,optimizer=optimizer,metrics=metrics)\n",
    "#\n",
    "# es = EarlyStopping(monitor='val_loss', mode='min', verbose=1, patience=5)\n",
    "#\n",
    "#\n",
    "# history = model.fit(X_train, y_train, epochs=4000, validation_data=(X_val,y_val), verbose=2, callbacks=[es])\n"
   ],
   "metadata": {
    "collapsed": false,
    "ExecuteTime": {
     "end_time": "2023-05-24T19:22:59.694410900Z",
     "start_time": "2023-05-24T19:22:59.679418800Z"
    }
   }
  },
  {
   "cell_type": "code",
   "execution_count": 25,
   "outputs": [],
   "source": [
    "# def architecture_tuned_model():\n",
    "#     model = Sequential([\n",
    "#         Embedding(input_dim=len(word_index), output_dim=300, input_length=X_train.shape[1], trainable=False,\n",
    "#                   weights=[embeddings_on_this_context]),\n",
    "#         Bidirectional(LSTM(32, return_sequences=True)),\n",
    "#         Dropout(0.29),\n",
    "#         Bidirectional(LSTM(16)),\n",
    "#         Dense(64, 'tanh'),\n",
    "#         Dropout(0.73),\n",
    "#         Dense(4, activation='softmax')\n",
    "#     ])\n",
    "#     loss = \"sparse_categorical_crossentropy\"\n",
    "#     optimizer = 'adam'\n",
    "#     metrics = ['accuracy']\n",
    "#\n",
    "#     model.compile(loss=loss, optimizer=optimizer, metrics=metrics)\n",
    "#     return model\n"
   ],
   "metadata": {
    "collapsed": false,
    "ExecuteTime": {
     "end_time": "2023-05-24T19:22:59.699409Z",
     "start_time": "2023-05-24T19:22:59.685415700Z"
    }
   }
  },
  {
   "cell_type": "code",
   "execution_count": 26,
   "outputs": [],
   "source": [
    "# from keras.wrappers.scikit_learn import KerasClassifier\n",
    "#\n",
    "# model = KerasClassifier(build_fn=architecture_tuned_model, verbose=0)"
   ],
   "metadata": {
    "collapsed": false,
    "ExecuteTime": {
     "end_time": "2023-05-24T19:22:59.723787500Z",
     "start_time": "2023-05-24T19:22:59.700407700Z"
    }
   }
  },
  {
   "cell_type": "code",
   "execution_count": 27,
   "outputs": [],
   "source": [
    "# from sklearn.model_selection import GridSearchCV\n",
    "#\n",
    "# es = EarlyStopping(monitor='accuracy', mode='min', verbose=1, patience=5)\n",
    "#\n",
    "# param_grid = {'batch_size': [1,2,4,8]}\n",
    "#\n",
    "# gs = GridSearchCV(estimator=model,\n",
    "#                   param_grid=param_grid,\n",
    "#                   cv=5)\n",
    "# gs.fit(X_train, y_train, callbacks=[es])\n",
    "# print(f\"Best results for {model.__class__.__name__}\")\n",
    "# print(\"Best Score of train set: \" + str(gs.best_score_))\n",
    "# print(\"Best estimator: \" + str(gs.best_estimator_))\n",
    "# print(\"Best parameter set: \" + str(gs.best_params_))\n"
   ],
   "metadata": {
    "collapsed": false,
    "ExecuteTime": {
     "end_time": "2023-05-24T19:22:59.735781600Z",
     "start_time": "2023-05-24T19:22:59.713793100Z"
    }
   }
  },
  {
   "cell_type": "code",
   "execution_count": 28,
   "outputs": [],
   "source": [
    "# gs.best_estimator_.model.history.history\n",
    "# # 0.7766810655593872"
   ],
   "metadata": {
    "collapsed": false,
    "ExecuteTime": {
     "end_time": "2023-05-24T19:22:59.743777700Z",
     "start_time": "2023-05-24T19:22:59.729785800Z"
    }
   }
  },
  {
   "cell_type": "code",
   "execution_count": 29,
   "outputs": [],
   "source": [
    "# fig, (ax1, ax2) = plt.subplots(1, 2, figsize=(15, 5))\n",
    "# ax1.plot(gs.best_estimator_.model.history.history['accuracy'])\n",
    "# ax1.plot(gs.best_estimator_.model.history.history['loss'])\n",
    "# ax1.set_title('Model Accuracy')\n",
    "# ax1.set_ylabel('Accuracy')\n",
    "# ax1.set_xlabel('Epoch')\n",
    "# ax1.legend(['Train', 'Validation'], loc='upper left')\n",
    "#\n",
    "# ax2.plot(gs.best_estimator_.model.history.history['loss'])\n",
    "# ax2.plot(gs.best_estimator_.model.history.history['val_loss'])\n",
    "# ax2.set_title('Model Loss')\n",
    "# ax2.set_ylabel('Loss')\n",
    "# ax2.set_xlabel('Epoch')\n",
    "# ax2.legend(['Train', 'Validation'], loc='upper left')\n",
    "# plt.show()\n",
    "\n",
    "# {'units_bilstm_1': 64,\n",
    "#  'rate_dp_1': 0.1,\n",
    "#  'units_bilstm_2': 32,\n",
    "#  'units_dense': 32,\n",
    "#  'activation': 'tanh',\n",
    "#  'rate_dp_2': 0.0}"
   ],
   "metadata": {
    "collapsed": false,
    "ExecuteTime": {
     "end_time": "2023-05-24T19:22:59.767188300Z",
     "start_time": "2023-05-24T19:22:59.746776Z"
    }
   }
  },
  {
   "cell_type": "markdown",
   "source": [
    "### Tuning fit hyperparameters manually"
   ],
   "metadata": {
    "collapsed": false
   }
  },
  {
   "cell_type": "code",
   "execution_count": 30,
   "outputs": [
    {
     "name": "stdout",
     "output_type": "stream",
     "text": [
      "Model: \"sequential_1\"\n",
      "_________________________________________________________________\n",
      " Layer (type)                Output Shape              Param #   \n",
      "=================================================================\n",
      " embedding_1 (Embedding)     (None, 8, 300)            869100    \n",
      "                                                                 \n",
      " bidirectional_2 (Bidirectio  (None, 8, 128)           186880    \n",
      " nal)                                                            \n",
      "                                                                 \n",
      " dropout_2 (Dropout)         (None, 8, 128)            0         \n",
      "                                                                 \n",
      " bidirectional_3 (Bidirectio  (None, 32)               18560     \n",
      " nal)                                                            \n",
      "                                                                 \n",
      " dense_2 (Dense)             (None, 64)                2112      \n",
      "                                                                 \n",
      " dense_3 (Dense)             (None, 1)                 65        \n",
      "                                                                 \n",
      "=================================================================\n",
      "Total params: 1,076,717\n",
      "Trainable params: 207,617\n",
      "Non-trainable params: 869,100\n",
      "_________________________________________________________________\n"
     ]
    }
   ],
   "source": [
    "best_model = Sequential([\n",
    "    Embedding(input_dim=len(word_index), output_dim= 300, input_length=X_train.shape[1], trainable=False, weights=[embeddings_on_this_context]),\n",
    "    Bidirectional(LSTM(best_model_hp['units_bilstm_1'], return_sequences=True)),\n",
    "    Dropout(best_model_hp['rate_dp_1']),\n",
    "    # Bidirectional(LSTM(hp.Choice('units',[32,64]))),\n",
    "    Bidirectional(LSTM(best_model_hp['units_bilstm_2'])),\n",
    "    Dense(best_model_hp['units_dense'], activation=best_model_hp['activation']),\n",
    "    # Dropout(0.73),\n",
    "    Dense(1, activation='sigmoid')\n",
    "])\n",
    "\n",
    "\n",
    "\n",
    "\n",
    "\n",
    "loss = BinaryCrossentropy(from_logits=False)\n",
    "optimizer = 'adam'\n",
    "metrics = ['accuracy']\n",
    "\n",
    "\n",
    "best_model.compile(loss=loss,optimizer=optimizer,metrics=metrics)\n",
    "\n",
    "es = EarlyStopping(monitor='val_loss', mode='min', verbose=1, patience=10)\n",
    "\n",
    "\n",
    "best_model.summary()\n"
   ],
   "metadata": {
    "collapsed": false,
    "ExecuteTime": {
     "end_time": "2023-05-24T19:23:01.374365300Z",
     "start_time": "2023-05-24T19:22:59.763191600Z"
    }
   }
  },
  {
   "cell_type": "code",
   "execution_count": 31,
   "outputs": [
    {
     "name": "stdout",
     "output_type": "stream",
     "text": [
      "Epoch 1/4000\n",
      "51/51 - 10s - loss: 0.6911 - accuracy: 0.5470 - val_loss: 0.6897 - val_accuracy: 0.5539 - 10s/epoch - 191ms/step\n",
      "Epoch 2/4000\n",
      "51/51 - 1s - loss: 0.6887 - accuracy: 0.5500 - val_loss: 0.6903 - val_accuracy: 0.5539 - 692ms/epoch - 14ms/step\n",
      "Epoch 3/4000\n",
      "51/51 - 1s - loss: 0.6890 - accuracy: 0.5500 - val_loss: 0.6895 - val_accuracy: 0.5539 - 682ms/epoch - 13ms/step\n",
      "Epoch 4/4000\n",
      "51/51 - 1s - loss: 0.6895 - accuracy: 0.5500 - val_loss: 0.6897 - val_accuracy: 0.5539 - 712ms/epoch - 14ms/step\n",
      "Epoch 5/4000\n",
      "51/51 - 1s - loss: 0.6894 - accuracy: 0.5500 - val_loss: 0.6887 - val_accuracy: 0.5539 - 685ms/epoch - 13ms/step\n",
      "Epoch 6/4000\n",
      "51/51 - 1s - loss: 0.6884 - accuracy: 0.5500 - val_loss: 0.6890 - val_accuracy: 0.5539 - 687ms/epoch - 13ms/step\n",
      "Epoch 7/4000\n",
      "51/51 - 1s - loss: 0.6882 - accuracy: 0.5500 - val_loss: 0.6889 - val_accuracy: 0.5539 - 705ms/epoch - 14ms/step\n",
      "Epoch 8/4000\n",
      "51/51 - 1s - loss: 0.6881 - accuracy: 0.5500 - val_loss: 0.6888 - val_accuracy: 0.5539 - 703ms/epoch - 14ms/step\n",
      "Epoch 9/4000\n",
      "51/51 - 1s - loss: 0.6880 - accuracy: 0.5500 - val_loss: 0.6903 - val_accuracy: 0.5539 - 745ms/epoch - 15ms/step\n",
      "Epoch 10/4000\n",
      "51/51 - 1s - loss: 0.6899 - accuracy: 0.5500 - val_loss: 0.6892 - val_accuracy: 0.5539 - 901ms/epoch - 18ms/step\n",
      "Epoch 11/4000\n",
      "51/51 - 1s - loss: 0.6887 - accuracy: 0.5500 - val_loss: 0.6895 - val_accuracy: 0.5539 - 760ms/epoch - 15ms/step\n",
      "Epoch 12/4000\n",
      "51/51 - 1s - loss: 0.6886 - accuracy: 0.5500 - val_loss: 0.6888 - val_accuracy: 0.5539 - 835ms/epoch - 16ms/step\n",
      "Epoch 13/4000\n",
      "51/51 - 1s - loss: 0.6890 - accuracy: 0.5500 - val_loss: 0.6887 - val_accuracy: 0.5539 - 1s/epoch - 20ms/step\n",
      "Epoch 14/4000\n",
      "51/51 - 1s - loss: 0.6880 - accuracy: 0.5500 - val_loss: 0.6888 - val_accuracy: 0.5539 - 803ms/epoch - 16ms/step\n",
      "Epoch 15/4000\n",
      "51/51 - 1s - loss: 0.6885 - accuracy: 0.5500 - val_loss: 0.6887 - val_accuracy: 0.5539 - 879ms/epoch - 17ms/step\n",
      "Epoch 16/4000\n",
      "51/51 - 1s - loss: 0.6881 - accuracy: 0.5500 - val_loss: 0.6884 - val_accuracy: 0.5539 - 1s/epoch - 22ms/step\n",
      "Epoch 17/4000\n",
      "51/51 - 2s - loss: 0.6878 - accuracy: 0.5500 - val_loss: 0.6896 - val_accuracy: 0.5539 - 2s/epoch - 36ms/step\n",
      "Epoch 18/4000\n",
      "51/51 - 2s - loss: 0.6878 - accuracy: 0.5500 - val_loss: 0.6883 - val_accuracy: 0.5539 - 2s/epoch - 35ms/step\n",
      "Epoch 19/4000\n",
      "51/51 - 1s - loss: 0.6877 - accuracy: 0.5500 - val_loss: 0.6898 - val_accuracy: 0.5539 - 797ms/epoch - 16ms/step\n",
      "Epoch 20/4000\n",
      "51/51 - 1s - loss: 0.6882 - accuracy: 0.5500 - val_loss: 0.6888 - val_accuracy: 0.5539 - 728ms/epoch - 14ms/step\n",
      "Epoch 21/4000\n",
      "51/51 - 1s - loss: 0.6876 - accuracy: 0.5488 - val_loss: 0.6894 - val_accuracy: 0.5490 - 678ms/epoch - 13ms/step\n",
      "Epoch 22/4000\n",
      "51/51 - 1s - loss: 0.6874 - accuracy: 0.5482 - val_loss: 0.6899 - val_accuracy: 0.5490 - 917ms/epoch - 18ms/step\n",
      "Epoch 23/4000\n",
      "51/51 - 1s - loss: 0.6870 - accuracy: 0.5476 - val_loss: 0.6950 - val_accuracy: 0.5441 - 1s/epoch - 22ms/step\n",
      "Epoch 24/4000\n",
      "51/51 - 1s - loss: 0.6883 - accuracy: 0.5488 - val_loss: 0.6893 - val_accuracy: 0.5490 - 1s/epoch - 22ms/step\n",
      "Epoch 25/4000\n",
      "51/51 - 1s - loss: 0.6870 - accuracy: 0.5476 - val_loss: 0.6899 - val_accuracy: 0.5539 - 1s/epoch - 22ms/step\n",
      "Epoch 26/4000\n",
      "51/51 - 1s - loss: 0.6860 - accuracy: 0.5470 - val_loss: 0.6933 - val_accuracy: 0.5392 - 970ms/epoch - 19ms/step\n",
      "Epoch 27/4000\n",
      "51/51 - 1s - loss: 0.6867 - accuracy: 0.5470 - val_loss: 0.6905 - val_accuracy: 0.5392 - 770ms/epoch - 15ms/step\n",
      "Epoch 28/4000\n",
      "51/51 - 1s - loss: 0.6866 - accuracy: 0.5476 - val_loss: 0.6924 - val_accuracy: 0.5392 - 809ms/epoch - 16ms/step\n",
      "Epoch 28: early stopping\n"
     ]
    }
   ],
   "source": [
    "history = best_model.fit(X_train, y_train, epochs=4000, batch_size=32, validation_data=(X_val,y_val), verbose=2, callbacks=[es])"
   ],
   "metadata": {
    "collapsed": false,
    "ExecuteTime": {
     "end_time": "2023-05-24T19:23:35.883198600Z",
     "start_time": "2023-05-24T19:23:01.331388600Z"
    }
   }
  },
  {
   "cell_type": "code",
   "execution_count": 32,
   "outputs": [
    {
     "data": {
      "text/plain": "<Figure size 1500x500 with 2 Axes>",
      "image/png": "[encoded data removed]"
     },
     "metadata": {},
     "output_type": "display_data"
    }
   ],
   "source": [
    "fig, (ax1, ax2) = plt.subplots(1, 2, figsize=(15, 5))\n",
    "ax1.plot(history.history['accuracy'])\n",
    "ax1.plot(history.history['val_accuracy'])\n",
    "ax1.set_title('Model Accuracy')\n",
    "ax1.set_ylabel('Accuracy')\n",
    "ax1.set_xlabel('Epoch')\n",
    "ax1.legend(['Train', 'Validation'], loc='upper left')\n",
    "\n",
    "ax2.plot(history.history['loss'])\n",
    "ax2.plot(history.history['val_loss'])\n",
    "ax2.set_title('Model Loss')\n",
    "ax2.set_ylabel('Loss')\n",
    "ax2.set_xlabel('Epoch')\n",
    "ax2.legend(['Train', 'Validation'], loc='upper left')\n",
    "plt.show()"
   ],
   "metadata": {
    "collapsed": false,
    "ExecuteTime": {
     "end_time": "2023-05-24T19:23:36.876690500Z",
     "start_time": "2023-05-24T19:23:35.884198800Z"
    }
   }
  },
  {
   "cell_type": "markdown",
   "source": [
    "### Exporting model"
   ],
   "metadata": {
    "collapsed": false
   }
  },
  {
   "cell_type": "code",
   "execution_count": 33,
   "outputs": [
    {
     "name": "stderr",
     "output_type": "stream",
     "text": [
      "WARNING:absl:Found untraced functions such as _update_step_xla, lstm_cell_7_layer_call_fn, lstm_cell_7_layer_call_and_return_conditional_losses, lstm_cell_8_layer_call_fn, lstm_cell_8_layer_call_and_return_conditional_losses while saving (showing 5 of 9). These functions will not be directly callable after loading.\n"
     ]
    },
    {
     "name": "stdout",
     "output_type": "stream",
     "text": [
      "INFO:tensorflow:Assets written to: ../../assets/deep_assets/lstm_model\\assets\n"
     ]
    },
    {
     "name": "stderr",
     "output_type": "stream",
     "text": [
      "INFO:tensorflow:Assets written to: ../../assets/deep_assets/lstm_model\\assets\n"
     ]
    }
   ],
   "source": [
    "best_model.save('../../assets/deep_assets/lstm_model')"
   ],
   "metadata": {
    "collapsed": false,
    "ExecuteTime": {
     "end_time": "2023-05-24T19:24:03.862244600Z",
     "start_time": "2023-05-24T19:23:36.878690Z"
    }
   }
  }
 ],
 "metadata": {
  "kernelspec": {
   "display_name": "Python 3",
   "language": "python",
   "name": "python3"
  },
  "language_info": {
   "codemirror_mode": {
    "name": "ipython",
    "version": 2
   },
   "file_extension": ".py",
   "mimetype": "text/x-python",
   "name": "python",
   "nbconvert_exporter": "python",
   "pygments_lexer": "ipython2",
   "version": "2.7.6"
  }
 },
 "nbformat": 4,
 "nbformat_minor": 0
}
