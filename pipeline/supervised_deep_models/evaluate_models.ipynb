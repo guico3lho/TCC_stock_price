{
 "cells": [
  {
   "cell_type": "markdown",
   "source": [
    "## Packages and Assets"
   ],
   "metadata": {
    "collapsed": false
   }
  },
  {
   "cell_type": "code",
   "execution_count": 60,
   "outputs": [],
   "source": [
    "import keras.models\n",
    "from sklearn.metrics import accuracy_score, precision_score, recall_score, f1_score, confusion_matrix, \\\n",
    "    classification_report\n",
    "\n",
    "import seaborn as sns\n",
    "import matplotlib.pyplot as plt\n",
    "import numpy as np\n",
    "from keras.preprocessing.text import tokenizer_from_json\n",
    "from keras.utils import pad_sequences\n",
    "import pandas as pd\n",
    "\n",
    "\n",
    "import plotly.express as px\n",
    "\n"
   ],
   "metadata": {
    "collapsed": false,
    "pycharm": {
     "is_executing": true
    },
    "ExecuteTime": {
     "end_time": "2023-06-26T22:02:50.668784Z",
     "start_time": "2023-06-26T22:02:50.386846200Z"
    }
   }
  },
  {
   "cell_type": "markdown",
   "source": [
    "## Dependencies"
   ],
   "metadata": {
    "collapsed": false
   }
  },
  {
   "cell_type": "code",
   "execution_count": 61,
   "outputs": [
    {
     "data": {
      "text/plain": "                                                 title  \\\n0    petrobras reajusta hoje preco medio gasolina d...   \n1    petrobras precificara maior oferta acoes decad...   \n2             tradingview ideias analises nesta quinta   \n3     petrobras petr4 petrorio prio3 destaques mercado   \n4    maior demanda combustiveis america latina ajud...   \n..                                                 ...   \n439  senado aprova projeto cria conta estabilizacao...   \n440  petrobras petr4 gerente rh suspeito insider re...   \n441  george washington indias orientais petrobras r...   \n442  anp adia chamada publica alocacao capacidade g...   \n443  gasolina cara producao menor acendem etanol us...   \n\n                                                  tags  \\\n0                ['Empresas', 'Gasolina', 'Petrobras']   \n1    ['Ações', 'BNDES', 'CVM', 'Empresas', 'Ofertas...   \n2    ['Empresas', 'Internacional', 'Mercados', 'Pet...   \n3    ['Petrobras (PETR4)', 'PetroRecôncavo (RECV3)'...   \n4    ['Argentina', 'Bloomberg', 'Brasil', 'Colômbia...   \n..                                                 ...   \n439  ['Câmara dos Deputados', 'Combustíveis', 'Dies...   \n440                              ['Petrobras (PETR4)']   \n441      ['Opinião', 'Petrobras', 'Terraço Econômico']   \n442  ['ANP', 'Bolívia', 'Brasil', 'Empresas', 'Gás'...   \n443  ['Açúcar', 'Agronegócio', 'Biocombustível', 'E...   \n\n                                                   url      time       Open  \\\n0    https://www.moneytimes.com.br/petrobras-reajus...  12:45:00  19.879999   \n1    https://www.moneytimes.com.br/petrobras-preve-...  15:20:00  29.730000   \n2    https://www.moneytimes.com.br/tradingview-idei...  09:36:00  25.400000   \n3    https://www.suno.com.br/noticias/petrobras-pet...  10:08:00  29.280001   \n4    https://www.moneytimes.com.br/maior-demanda-po...  13:08:00  23.150000   \n..                                                 ...       ...        ...   \n439  https://www.moneytimes.com.br/senado-aprova-pr...  16:26:00  32.599998   \n440  https://www.suno.com.br/noticias/petrobras-pet...  08:59:00  24.129999   \n441  https://www.moneytimes.com.br/george-washingto...  11:30:00  16.100000   \n442  https://www.moneytimes.com.br/anp-adia-chamada...  14:56:00  13.150000   \n443  https://www.moneytimes.com.br/gasolina-mais-ca...  13:33:00  20.330000   \n\n          High        Low      Close  Adj Close     Volume    profit  \\\n0    20.820000  19.820000  20.440001   7.523751   67418700  0.028169   \n1    29.809999  29.270000  29.290001  11.620691   32491500 -0.014800   \n2    25.540001  25.320000  25.540001   9.807138   40109000  0.005512   \n3    29.570000  28.799999  29.360001  14.332482   98989300  0.002732   \n4    23.600000  23.139999  23.370001   9.272458  101769600  0.009503   \n..         ...        ...        ...        ...        ...       ...   \n439  34.599998  32.520000  33.700001  16.451113  136437700  0.033742   \n440  24.200001  23.680000  24.040001   9.538484   40454400 -0.003730   \n441  16.100000  16.100000  16.100000   5.926244          0  0.000000   \n442  13.740000  12.830000  13.380000   5.308463  110947200  0.017490   \n443  20.559999  19.629999  19.629999   7.788701   48797400 -0.034432   \n\n     profit (%)  label  \n0          2.82      2  \n1         -1.48      0  \n2          0.55      2  \n3          0.27      2  \n4          0.95      2  \n..          ...    ...  \n439        3.37      2  \n440       -0.37      0  \n441        0.00      1  \n442        1.75      2  \n443       -3.44      0  \n\n[444 rows x 13 columns]",
      "text/html": "<div>\n<style scoped>\n    .dataframe tbody tr th:only-of-type {\n        vertical-align: middle;\n    }\n\n    .dataframe tbody tr th {\n        vertical-align: top;\n    }\n\n    .dataframe thead th {\n        text-align: right;\n    }\n</style>\n<table border=\"1\" class=\"dataframe\">\n  <thead>\n    <tr style=\"text-align: right;\">\n      <th></th>\n      <th>title</th>\n      <th>tags</th>\n      <th>url</th>\n      <th>time</th>\n      <th>Open</th>\n      <th>High</th>\n      <th>Low</th>\n      <th>Close</th>\n      <th>Adj Close</th>\n      <th>Volume</th>\n      <th>profit</th>\n      <th>profit (%)</th>\n      <th>label</th>\n    </tr>\n  </thead>\n  <tbody>\n    <tr>\n      <th>0</th>\n      <td>petrobras reajusta hoje preco medio gasolina d...</td>\n      <td>['Empresas', 'Gasolina', 'Petrobras']</td>\n      <td>https://www.moneytimes.com.br/petrobras-reajus...</td>\n      <td>12:45:00</td>\n      <td>19.879999</td>\n      <td>20.820000</td>\n      <td>19.820000</td>\n      <td>20.440001</td>\n      <td>7.523751</td>\n      <td>67418700</td>\n      <td>0.028169</td>\n      <td>2.82</td>\n      <td>2</td>\n    </tr>\n    <tr>\n      <th>1</th>\n      <td>petrobras precificara maior oferta acoes decad...</td>\n      <td>['Ações', 'BNDES', 'CVM', 'Empresas', 'Ofertas...</td>\n      <td>https://www.moneytimes.com.br/petrobras-preve-...</td>\n      <td>15:20:00</td>\n      <td>29.730000</td>\n      <td>29.809999</td>\n      <td>29.270000</td>\n      <td>29.290001</td>\n      <td>11.620691</td>\n      <td>32491500</td>\n      <td>-0.014800</td>\n      <td>-1.48</td>\n      <td>0</td>\n    </tr>\n    <tr>\n      <th>2</th>\n      <td>tradingview ideias analises nesta quinta</td>\n      <td>['Empresas', 'Internacional', 'Mercados', 'Pet...</td>\n      <td>https://www.moneytimes.com.br/tradingview-idei...</td>\n      <td>09:36:00</td>\n      <td>25.400000</td>\n      <td>25.540001</td>\n      <td>25.320000</td>\n      <td>25.540001</td>\n      <td>9.807138</td>\n      <td>40109000</td>\n      <td>0.005512</td>\n      <td>0.55</td>\n      <td>2</td>\n    </tr>\n    <tr>\n      <th>3</th>\n      <td>petrobras petr4 petrorio prio3 destaques mercado</td>\n      <td>['Petrobras (PETR4)', 'PetroRecôncavo (RECV3)'...</td>\n      <td>https://www.suno.com.br/noticias/petrobras-pet...</td>\n      <td>10:08:00</td>\n      <td>29.280001</td>\n      <td>29.570000</td>\n      <td>28.799999</td>\n      <td>29.360001</td>\n      <td>14.332482</td>\n      <td>98989300</td>\n      <td>0.002732</td>\n      <td>0.27</td>\n      <td>2</td>\n    </tr>\n    <tr>\n      <th>4</th>\n      <td>maior demanda combustiveis america latina ajud...</td>\n      <td>['Argentina', 'Bloomberg', 'Brasil', 'Colômbia...</td>\n      <td>https://www.moneytimes.com.br/maior-demanda-po...</td>\n      <td>13:08:00</td>\n      <td>23.150000</td>\n      <td>23.600000</td>\n      <td>23.139999</td>\n      <td>23.370001</td>\n      <td>9.272458</td>\n      <td>101769600</td>\n      <td>0.009503</td>\n      <td>0.95</td>\n      <td>2</td>\n    </tr>\n    <tr>\n      <th>...</th>\n      <td>...</td>\n      <td>...</td>\n      <td>...</td>\n      <td>...</td>\n      <td>...</td>\n      <td>...</td>\n      <td>...</td>\n      <td>...</td>\n      <td>...</td>\n      <td>...</td>\n      <td>...</td>\n      <td>...</td>\n      <td>...</td>\n    </tr>\n    <tr>\n      <th>439</th>\n      <td>senado aprova projeto cria conta estabilizacao...</td>\n      <td>['Câmara dos Deputados', 'Combustíveis', 'Dies...</td>\n      <td>https://www.moneytimes.com.br/senado-aprova-pr...</td>\n      <td>16:26:00</td>\n      <td>32.599998</td>\n      <td>34.599998</td>\n      <td>32.520000</td>\n      <td>33.700001</td>\n      <td>16.451113</td>\n      <td>136437700</td>\n      <td>0.033742</td>\n      <td>3.37</td>\n      <td>2</td>\n    </tr>\n    <tr>\n      <th>440</th>\n      <td>petrobras petr4 gerente rh suspeito insider re...</td>\n      <td>['Petrobras (PETR4)']</td>\n      <td>https://www.suno.com.br/noticias/petrobras-pet...</td>\n      <td>08:59:00</td>\n      <td>24.129999</td>\n      <td>24.200001</td>\n      <td>23.680000</td>\n      <td>24.040001</td>\n      <td>9.538484</td>\n      <td>40454400</td>\n      <td>-0.003730</td>\n      <td>-0.37</td>\n      <td>0</td>\n    </tr>\n    <tr>\n      <th>441</th>\n      <td>george washington indias orientais petrobras r...</td>\n      <td>['Opinião', 'Petrobras', 'Terraço Econômico']</td>\n      <td>https://www.moneytimes.com.br/george-washingto...</td>\n      <td>11:30:00</td>\n      <td>16.100000</td>\n      <td>16.100000</td>\n      <td>16.100000</td>\n      <td>16.100000</td>\n      <td>5.926244</td>\n      <td>0</td>\n      <td>0.000000</td>\n      <td>0.00</td>\n      <td>1</td>\n    </tr>\n    <tr>\n      <th>442</th>\n      <td>anp adia chamada publica alocacao capacidade g...</td>\n      <td>['ANP', 'Bolívia', 'Brasil', 'Empresas', 'Gás'...</td>\n      <td>https://www.moneytimes.com.br/anp-adia-chamada...</td>\n      <td>14:56:00</td>\n      <td>13.150000</td>\n      <td>13.740000</td>\n      <td>12.830000</td>\n      <td>13.380000</td>\n      <td>5.308463</td>\n      <td>110947200</td>\n      <td>0.017490</td>\n      <td>1.75</td>\n      <td>2</td>\n    </tr>\n    <tr>\n      <th>443</th>\n      <td>gasolina cara producao menor acendem etanol us...</td>\n      <td>['Açúcar', 'Agronegócio', 'Biocombustível', 'E...</td>\n      <td>https://www.moneytimes.com.br/gasolina-mais-ca...</td>\n      <td>13:33:00</td>\n      <td>20.330000</td>\n      <td>20.559999</td>\n      <td>19.629999</td>\n      <td>19.629999</td>\n      <td>7.788701</td>\n      <td>48797400</td>\n      <td>-0.034432</td>\n      <td>-3.44</td>\n      <td>0</td>\n    </tr>\n  </tbody>\n</table>\n<p>444 rows × 13 columns</p>\n</div>"
     },
     "execution_count": 61,
     "metadata": {},
     "output_type": "execute_result"
    }
   ],
   "source": [
    "# test_padded = pd.read_csv('../../assets/data/splits/test/padded.csv')\n",
    "test_pp = pd.read_csv('../../assets/data/splits/test/preprocessed.csv')\n",
    "test_pp"
   ],
   "metadata": {
    "collapsed": false,
    "ExecuteTime": {
     "end_time": "2023-06-26T22:02:54.207336700Z",
     "start_time": "2023-06-26T22:02:50.682002200Z"
    }
   }
  },
  {
   "cell_type": "code",
   "execution_count": 61,
   "outputs": [],
   "source": [],
   "metadata": {
    "collapsed": false,
    "ExecuteTime": {
     "end_time": "2023-06-26T22:02:54.295774800Z",
     "start_time": "2023-06-26T22:02:54.240348200Z"
    }
   }
  },
  {
   "cell_type": "code",
   "execution_count": 62,
   "outputs": [
    {
     "name": "stdout",
     "output_type": "stream",
     "text": [
      "Model: \"sequential_1\"\n",
      "_________________________________________________________________\n",
      " Layer (type)                Output Shape              Param #   \n",
      "=================================================================\n",
      " embedding_1 (Embedding)     (None, 8, 25)             115600    \n",
      "                                                                 \n",
      " lstm_2 (LSTM)               (None, 8, 32)             7424      \n",
      "                                                                 \n",
      " dropout_2 (Dropout)         (None, 8, 32)             0         \n",
      "                                                                 \n",
      " lstm_3 (LSTM)               (None, 32)                8320      \n",
      "                                                                 \n",
      " dense_2 (Dense)             (None, 32)                1056      \n",
      "                                                                 \n",
      " dense_3 (Dense)             (None, 3)                 99        \n",
      "                                                                 \n",
      "=================================================================\n",
      "Total params: 132,499\n",
      "Trainable params: 132,499\n",
      "Non-trainable params: 0\n",
      "_________________________________________________________________\n"
     ]
    }
   ],
   "source": [
    "lstm_model = keras.models.load_model('../../assets/deep_assets/lstm_model')\n",
    "lstm_model.summary()"
   ],
   "metadata": {
    "collapsed": false,
    "pycharm": {
     "is_executing": true
    },
    "ExecuteTime": {
     "end_time": "2023-06-26T22:03:44.108876200Z",
     "start_time": "2023-06-26T22:02:54.367725900Z"
    }
   }
  },
  {
   "cell_type": "code",
   "execution_count": 63,
   "outputs": [
    {
     "name": "stdout",
     "output_type": "stream",
     "text": [
      "Model: \"sequential_1\"\n",
      "_________________________________________________________________\n",
      " Layer (type)                Output Shape              Param #   \n",
      "=================================================================\n",
      " embedding_1 (Embedding)     (None, 8, 25)             115600    \n",
      "                                                                 \n",
      " bidirectional_2 (Bidirectio  (None, 8, 32)            5376      \n",
      " nal)                                                            \n",
      "                                                                 \n",
      " dropout_2 (Dropout)         (None, 8, 32)             0         \n",
      "                                                                 \n",
      " bidirectional_3 (Bidirectio  (None, 32)               6272      \n",
      " nal)                                                            \n",
      "                                                                 \n",
      " dense_2 (Dense)             (None, 16)                528       \n",
      "                                                                 \n",
      " dense_3 (Dense)             (None, 3)                 51        \n",
      "                                                                 \n",
      "=================================================================\n",
      "Total params: 127,827\n",
      "Trainable params: 127,827\n",
      "Non-trainable params: 0\n",
      "_________________________________________________________________\n"
     ]
    }
   ],
   "source": [
    "bilstm_model = keras.models.load_model('../../assets/deep_assets/bilstm_model')\n",
    "bilstm_model.summary()"
   ],
   "metadata": {
    "collapsed": false,
    "ExecuteTime": {
     "end_time": "2023-06-26T22:04:59.722872300Z",
     "start_time": "2023-06-26T22:03:44.118868200Z"
    }
   }
  },
  {
   "cell_type": "code",
   "execution_count": 64,
   "outputs": [],
   "source": [
    "# Load the tokenizer from the file\n",
    "with open('../../assets/deep_assets/tokenizer.json', 'r', encoding='utf-8') as f:\n",
    "    tokenizer_json = f.read()\n",
    "    tokenizer = tokenizer_from_json(tokenizer_json)\n",
    "    word_index = tokenizer.word_index"
   ],
   "metadata": {
    "collapsed": false,
    "pycharm": {
     "is_executing": true
    },
    "ExecuteTime": {
     "end_time": "2023-06-26T22:04:59.802257800Z",
     "start_time": "2023-06-26T22:04:59.738916700Z"
    }
   }
  },
  {
   "cell_type": "markdown",
   "source": [],
   "metadata": {
    "collapsed": false
   }
  },
  {
   "cell_type": "markdown",
   "source": [
    "## Predictions"
   ],
   "metadata": {
    "collapsed": false
   }
  },
  {
   "cell_type": "markdown",
   "source": [
    "### Functions"
   ],
   "metadata": {
    "collapsed": false
   }
  },
  {
   "cell_type": "code",
   "execution_count": 65,
   "outputs": [],
   "source": [
    "def index2word(word_index):\n",
    "    index_word = {}\n",
    "    for key in word_index:\n",
    "        index_word[word_index[key]] = key\n",
    "    return index_word\n",
    "\n",
    "\n",
    "def seq2text(seq, index_word):\n",
    "    text = []\n",
    "    for index in seq:\n",
    "        text.append(index_word[index])\n",
    "    return text\n",
    "\n",
    "\n",
    "def show_confusion_matrix(cm):\n",
    "    print(\"Confusion Matrix\")\n",
    "    plt.figure(figsize=(10, 7))\n",
    "\n",
    "    sns.heatmap(cm, annot=True, fmt='d', cmap='Blues', xticklabels=['Negative', 'Positive'],\n",
    "                yticklabels=['Negative', 'Positive'])\n",
    "    plt.xlabel('Predicted')\n",
    "    plt.ylabel('Truth')\n",
    "    plt.title('Confusion Matrix')\n",
    "    plt.show()"
   ],
   "metadata": {
    "collapsed": false,
    "pycharm": {
     "is_executing": true
    },
    "ExecuteTime": {
     "end_time": "2023-06-26T22:04:59.848850100Z",
     "start_time": "2023-06-26T22:04:59.834858600Z"
    }
   }
  },
  {
   "cell_type": "markdown",
   "source": [
    "### Preparing Input"
   ],
   "metadata": {
    "collapsed": false
   }
  },
  {
   "cell_type": "code",
   "execution_count": 66,
   "outputs": [
    {
     "data": {
      "text/plain": "array([[   2,  633,  127, ...,   11,   15,   28],\n       [   2,    1,  104, ..., 3549,    3,  145],\n       [ 315,  640,  641, ...,    0,    0,    0],\n       ...,\n       [2746,    1,    1, ..., 1767,    1,    0],\n       [  52,  545, 1890, ..., 1564,  784,    1],\n       [  11,  657,   36, ...,   44,  497,    0]])"
     },
     "execution_count": 66,
     "metadata": {},
     "output_type": "execute_result"
    }
   ],
   "source": [
    "X_test = test_pp.title\n",
    "y_test = test_pp.to_numpy()[:, -1]\n",
    "\n",
    "test_sequences = tokenizer.texts_to_sequences(X_test)\n",
    "test_padded = pad_sequences(test_sequences, maxlen=8, padding='post', truncating='post')\n",
    "test_padded"
   ],
   "metadata": {
    "collapsed": false,
    "ExecuteTime": {
     "end_time": "2023-06-26T22:04:59.890525800Z",
     "start_time": "2023-06-26T22:04:59.859535300Z"
    }
   }
  },
  {
   "cell_type": "markdown",
   "source": [
    "### Best LSTM Model"
   ],
   "metadata": {
    "collapsed": false
   }
  },
  {
   "cell_type": "markdown",
   "source": [
    "#### Predict"
   ],
   "metadata": {
    "collapsed": false
   }
  },
  {
   "cell_type": "code",
   "execution_count": 67,
   "outputs": [],
   "source": [
    "index_word = index2word(word_index)"
   ],
   "metadata": {
    "collapsed": false,
    "ExecuteTime": {
     "end_time": "2023-06-26T22:04:59.898509900Z",
     "start_time": "2023-06-26T22:04:59.886518Z"
    }
   }
  },
  {
   "cell_type": "code",
   "execution_count": 68,
   "outputs": [
    {
     "name": "stdout",
     "output_type": "stream",
     "text": [
      "14/14 [==============================] - 4s 4ms/step\n"
     ]
    }
   ],
   "source": [
    "pred_prob = lstm_model.predict(test_padded)"
   ],
   "metadata": {
    "collapsed": false,
    "ExecuteTime": {
     "end_time": "2023-06-26T22:05:03.806267100Z",
     "start_time": "2023-06-26T22:04:59.898509900Z"
    }
   }
  },
  {
   "cell_type": "code",
   "execution_count": 69,
   "outputs": [],
   "source": [
    "# y_pred = [1 if p > 0.5 else 0 for p in pred_prob]\n",
    "y_pred = np.argmax(pred_prob, axis=1)"
   ],
   "metadata": {
    "collapsed": false,
    "ExecuteTime": {
     "end_time": "2023-06-26T22:05:03.825705500Z",
     "start_time": "2023-06-26T22:05:03.807256900Z"
    }
   }
  },
  {
   "cell_type": "markdown",
   "source": [
    "#### Results"
   ],
   "metadata": {
    "collapsed": false
   }
  },
  {
   "cell_type": "code",
   "execution_count": 70,
   "outputs": [
    {
     "data": {
      "text/plain": "                                        sequence  \\\n0             [2, 633, 127, 18, 479, 11, 15, 28]   \n1               [2, 1, 104, 48, 8, 3549, 3, 145]   \n2                       [315, 640, 641, 49, 184]   \n3                       [2, 4, 157, 324, 59, 20]   \n4          [104, 346, 32, 298, 590, 598, 28, 80]   \n..                                           ...   \n439       [516, 77, 197, 527, 1333, 948, 27, 32]   \n440       [2, 4, 1117, 3362, 1679, 1328, 1, 481]   \n441                  [2746, 1, 1, 1, 2, 1767, 1]   \n442  [52, 545, 1890, 578, 1, 1564, 784, 1, 2199]   \n443               [11, 657, 36, 328, 1, 44, 497]   \n\n                                                X_test  \\\n0    petrobras reajusta hoje preco medio gasolina d...   \n1    petrobras precificara maior oferta acoes decad...   \n2             tradingview ideias analises nesta quinta   \n3     petrobras petr4 petrorio prio3 destaques mercado   \n4    maior demanda combustiveis america latina ajud...   \n..                                                 ...   \n439  senado aprova projeto cria conta estabilizacao...   \n440  petrobras petr4 gerente rh suspeito insider re...   \n441  george washington indias orientais petrobras r...   \n442  anp adia chamada publica alocacao capacidade g...   \n443  gasolina cara producao menor acendem etanol us...   \n\n                                              seq2text  y_pred  y_true  \n0    [petrobras, reajusta, hoje, preco, medio, gaso...       2       2  \n1    [petrobras, <OOV>, maior, oferta, acoes, decad...       0       0  \n2       [tradingview, ideias, analises, nesta, quinta]       2       2  \n3    [petrobras, petr4, petrorio, prio3, destaques,...       2       2  \n4    [maior, demanda, combustiveis, america, latina...       2       2  \n..                                                 ...     ...     ...  \n439  [senado, aprova, projeto, cria, conta, estabil...       0       2  \n440  [petrobras, petr4, gerente, rh, suspeito, insi...       0       0  \n441  [george, <OOV>, <OOV>, <OOV>, petrobras, relac...       0       1  \n442  [anp, adia, chamada, publica, <OOV>, capacidad...       0       2  \n443  [gasolina, cara, producao, menor, <OOV>, etano...       0       0  \n\n[444 rows x 5 columns]",
      "text/html": "<div>\n<style scoped>\n    .dataframe tbody tr th:only-of-type {\n        vertical-align: middle;\n    }\n\n    .dataframe tbody tr th {\n        vertical-align: top;\n    }\n\n    .dataframe thead th {\n        text-align: right;\n    }\n</style>\n<table border=\"1\" class=\"dataframe\">\n  <thead>\n    <tr style=\"text-align: right;\">\n      <th></th>\n      <th>sequence</th>\n      <th>X_test</th>\n      <th>seq2text</th>\n      <th>y_pred</th>\n      <th>y_true</th>\n    </tr>\n  </thead>\n  <tbody>\n    <tr>\n      <th>0</th>\n      <td>[2, 633, 127, 18, 479, 11, 15, 28]</td>\n      <td>petrobras reajusta hoje preco medio gasolina d...</td>\n      <td>[petrobras, reajusta, hoje, preco, medio, gaso...</td>\n      <td>2</td>\n      <td>2</td>\n    </tr>\n    <tr>\n      <th>1</th>\n      <td>[2, 1, 104, 48, 8, 3549, 3, 145]</td>\n      <td>petrobras precificara maior oferta acoes decad...</td>\n      <td>[petrobras, &lt;OOV&gt;, maior, oferta, acoes, decad...</td>\n      <td>0</td>\n      <td>0</td>\n    </tr>\n    <tr>\n      <th>2</th>\n      <td>[315, 640, 641, 49, 184]</td>\n      <td>tradingview ideias analises nesta quinta</td>\n      <td>[tradingview, ideias, analises, nesta, quinta]</td>\n      <td>2</td>\n      <td>2</td>\n    </tr>\n    <tr>\n      <th>3</th>\n      <td>[2, 4, 157, 324, 59, 20]</td>\n      <td>petrobras petr4 petrorio prio3 destaques mercado</td>\n      <td>[petrobras, petr4, petrorio, prio3, destaques,...</td>\n      <td>2</td>\n      <td>2</td>\n    </tr>\n    <tr>\n      <th>4</th>\n      <td>[104, 346, 32, 298, 590, 598, 28, 80]</td>\n      <td>maior demanda combustiveis america latina ajud...</td>\n      <td>[maior, demanda, combustiveis, america, latina...</td>\n      <td>2</td>\n      <td>2</td>\n    </tr>\n    <tr>\n      <th>...</th>\n      <td>...</td>\n      <td>...</td>\n      <td>...</td>\n      <td>...</td>\n      <td>...</td>\n    </tr>\n    <tr>\n      <th>439</th>\n      <td>[516, 77, 197, 527, 1333, 948, 27, 32]</td>\n      <td>senado aprova projeto cria conta estabilizacao...</td>\n      <td>[senado, aprova, projeto, cria, conta, estabil...</td>\n      <td>0</td>\n      <td>2</td>\n    </tr>\n    <tr>\n      <th>440</th>\n      <td>[2, 4, 1117, 3362, 1679, 1328, 1, 481]</td>\n      <td>petrobras petr4 gerente rh suspeito insider re...</td>\n      <td>[petrobras, petr4, gerente, rh, suspeito, insi...</td>\n      <td>0</td>\n      <td>0</td>\n    </tr>\n    <tr>\n      <th>441</th>\n      <td>[2746, 1, 1, 1, 2, 1767, 1]</td>\n      <td>george washington indias orientais petrobras r...</td>\n      <td>[george, &lt;OOV&gt;, &lt;OOV&gt;, &lt;OOV&gt;, petrobras, relac...</td>\n      <td>0</td>\n      <td>1</td>\n    </tr>\n    <tr>\n      <th>442</th>\n      <td>[52, 545, 1890, 578, 1, 1564, 784, 1, 2199]</td>\n      <td>anp adia chamada publica alocacao capacidade g...</td>\n      <td>[anp, adia, chamada, publica, &lt;OOV&gt;, capacidad...</td>\n      <td>0</td>\n      <td>2</td>\n    </tr>\n    <tr>\n      <th>443</th>\n      <td>[11, 657, 36, 328, 1, 44, 497]</td>\n      <td>gasolina cara producao menor acendem etanol us...</td>\n      <td>[gasolina, cara, producao, menor, &lt;OOV&gt;, etano...</td>\n      <td>0</td>\n      <td>0</td>\n    </tr>\n  </tbody>\n</table>\n<p>444 rows × 5 columns</p>\n</div>"
     },
     "execution_count": 70,
     "metadata": {},
     "output_type": "execute_result"
    }
   ],
   "source": [
    "df_results = pd.DataFrame()\n",
    "X_test = list(X_test)\n",
    "y_test = list(y_test)\n",
    "df_results['sequence'] = test_sequences\n",
    "df_results['X_test'] = X_test\n",
    "df_results['seq2text'] = df_results['sequence'].apply(lambda x: seq2text(x, index_word))\n",
    "df_results['y_pred'] = y_pred\n",
    "df_results['y_true'] = y_test\n",
    "df_results"
   ],
   "metadata": {
    "collapsed": false,
    "ExecuteTime": {
     "end_time": "2023-06-26T22:05:03.904677200Z",
     "start_time": "2023-06-26T22:05:03.839818100Z"
    }
   }
  },
  {
   "cell_type": "code",
   "execution_count": 71,
   "outputs": [],
   "source": [
    "# accuracy = accuracy_score(y_true=y_test, y_pred=y_pred)\n",
    "# precision = precision_score(average='macro', y_true=y_test, y_pred=y_pred)\n",
    "# recall = recall_score(average='macro', y_true=y_test, y_pred=y_pred)\n",
    "# f1 = f1_score(average='macro', y_true=y_test, y_pred=y_pred)\n",
    "# cm = confusion_matrix(y_true=y_test, y_pred=y_pred)"
   ],
   "metadata": {
    "collapsed": false,
    "ExecuteTime": {
     "end_time": "2023-06-26T22:05:03.908693400Z",
     "start_time": "2023-06-26T22:05:03.908693400Z"
    }
   }
  },
  {
   "cell_type": "code",
   "execution_count": 72,
   "outputs": [
    {
     "name": "stdout",
     "output_type": "stream",
     "text": [
      "              precision    recall  f1-score   support\n",
      "\n",
      "           0       0.48      0.58      0.53       214\n",
      "           1       0.10      0.09      0.09        35\n",
      "           2       0.42      0.34      0.38       195\n",
      "\n",
      "    accuracy                           0.44       444\n",
      "   macro avg       0.34      0.34      0.33       444\n",
      "weighted avg       0.43      0.44      0.43       444\n",
      "\n",
      "Confusion Matrix\n"
     ]
    },
    {
     "data": {
      "text/plain": "<Figure size 1000x700 with 2 Axes>",
      "image/png": "[encoded data removed]"
     },
     "metadata": {},
     "output_type": "display_data"
    }
   ],
   "source": [
    "print(classification_report(y_test, y_pred))\n",
    "cm = confusion_matrix(y_true=y_test, y_pred=y_pred)\n",
    "show_confusion_matrix(cm)"
   ],
   "metadata": {
    "collapsed": false,
    "ExecuteTime": {
     "end_time": "2023-06-26T22:05:04.223146Z",
     "start_time": "2023-06-26T22:05:03.911674Z"
    }
   }
  },
  {
   "cell_type": "markdown",
   "source": [
    "### Best BiLSTM Model"
   ],
   "metadata": {
    "collapsed": false
   }
  },
  {
   "cell_type": "markdown",
   "source": [
    "#### Predict"
   ],
   "metadata": {
    "collapsed": false
   }
  },
  {
   "cell_type": "code",
   "execution_count": 73,
   "outputs": [],
   "source": [
    "index_word = index2word(word_index)"
   ],
   "metadata": {
    "collapsed": false,
    "ExecuteTime": {
     "end_time": "2023-06-26T22:05:04.239135700Z",
     "start_time": "2023-06-26T22:05:04.224145100Z"
    }
   }
  },
  {
   "cell_type": "code",
   "execution_count": 74,
   "outputs": [
    {
     "name": "stdout",
     "output_type": "stream",
     "text": [
      "14/14 [==============================] - 2s 2ms/step\n"
     ]
    }
   ],
   "source": [
    "pred_prob = bilstm_model.predict(test_padded)"
   ],
   "metadata": {
    "collapsed": false,
    "ExecuteTime": {
     "end_time": "2023-06-26T22:05:06.204004200Z",
     "start_time": "2023-06-26T22:05:04.238135400Z"
    }
   }
  },
  {
   "cell_type": "code",
   "execution_count": 75,
   "outputs": [],
   "source": [
    "# y_pred = [1 if p > 0.5 else 0 for p in pred_prob]\n",
    "y_pred = np.argmax(pred_prob, axis=1)"
   ],
   "metadata": {
    "collapsed": false,
    "ExecuteTime": {
     "end_time": "2023-06-26T22:05:06.218416Z",
     "start_time": "2023-06-26T22:05:06.205003700Z"
    }
   }
  },
  {
   "cell_type": "markdown",
   "source": [
    "#### Results"
   ],
   "metadata": {
    "collapsed": false
   }
  },
  {
   "cell_type": "code",
   "execution_count": 76,
   "outputs": [
    {
     "data": {
      "text/plain": "                                        sequence  \\\n0             [2, 633, 127, 18, 479, 11, 15, 28]   \n1               [2, 1, 104, 48, 8, 3549, 3, 145]   \n2                       [315, 640, 641, 49, 184]   \n3                       [2, 4, 157, 324, 59, 20]   \n4          [104, 346, 32, 298, 590, 598, 28, 80]   \n..                                           ...   \n439       [516, 77, 197, 527, 1333, 948, 27, 32]   \n440       [2, 4, 1117, 3362, 1679, 1328, 1, 481]   \n441                  [2746, 1, 1, 1, 2, 1767, 1]   \n442  [52, 545, 1890, 578, 1, 1564, 784, 1, 2199]   \n443               [11, 657, 36, 328, 1, 44, 497]   \n\n                                                X_test  \\\n0    petrobras reajusta hoje preco medio gasolina d...   \n1    petrobras precificara maior oferta acoes decad...   \n2             tradingview ideias analises nesta quinta   \n3     petrobras petr4 petrorio prio3 destaques mercado   \n4    maior demanda combustiveis america latina ajud...   \n..                                                 ...   \n439  senado aprova projeto cria conta estabilizacao...   \n440  petrobras petr4 gerente rh suspeito insider re...   \n441  george washington indias orientais petrobras r...   \n442  anp adia chamada publica alocacao capacidade g...   \n443  gasolina cara producao menor acendem etanol us...   \n\n                                              seq2text  y_pred  y_true  \n0    [petrobras, reajusta, hoje, preco, medio, gaso...       2       2  \n1    [petrobras, <OOV>, maior, oferta, acoes, decad...       2       0  \n2       [tradingview, ideias, analises, nesta, quinta]       1       2  \n3    [petrobras, petr4, petrorio, prio3, destaques,...       2       2  \n4    [maior, demanda, combustiveis, america, latina...       1       2  \n..                                                 ...     ...     ...  \n439  [senado, aprova, projeto, cria, conta, estabil...       2       2  \n440  [petrobras, petr4, gerente, rh, suspeito, insi...       2       0  \n441  [george, <OOV>, <OOV>, <OOV>, petrobras, relac...       2       1  \n442  [anp, adia, chamada, publica, <OOV>, capacidad...       2       2  \n443  [gasolina, cara, producao, menor, <OOV>, etano...       0       0  \n\n[444 rows x 5 columns]",
      "text/html": "<div>\n<style scoped>\n    .dataframe tbody tr th:only-of-type {\n        vertical-align: middle;\n    }\n\n    .dataframe tbody tr th {\n        vertical-align: top;\n    }\n\n    .dataframe thead th {\n        text-align: right;\n    }\n</style>\n<table border=\"1\" class=\"dataframe\">\n  <thead>\n    <tr style=\"text-align: right;\">\n      <th></th>\n      <th>sequence</th>\n      <th>X_test</th>\n      <th>seq2text</th>\n      <th>y_pred</th>\n      <th>y_true</th>\n    </tr>\n  </thead>\n  <tbody>\n    <tr>\n      <th>0</th>\n      <td>[2, 633, 127, 18, 479, 11, 15, 28]</td>\n      <td>petrobras reajusta hoje preco medio gasolina d...</td>\n      <td>[petrobras, reajusta, hoje, preco, medio, gaso...</td>\n      <td>2</td>\n      <td>2</td>\n    </tr>\n    <tr>\n      <th>1</th>\n      <td>[2, 1, 104, 48, 8, 3549, 3, 145]</td>\n      <td>petrobras precificara maior oferta acoes decad...</td>\n      <td>[petrobras, &lt;OOV&gt;, maior, oferta, acoes, decad...</td>\n      <td>2</td>\n      <td>0</td>\n    </tr>\n    <tr>\n      <th>2</th>\n      <td>[315, 640, 641, 49, 184]</td>\n      <td>tradingview ideias analises nesta quinta</td>\n      <td>[tradingview, ideias, analises, nesta, quinta]</td>\n      <td>1</td>\n      <td>2</td>\n    </tr>\n    <tr>\n      <th>3</th>\n      <td>[2, 4, 157, 324, 59, 20]</td>\n      <td>petrobras petr4 petrorio prio3 destaques mercado</td>\n      <td>[petrobras, petr4, petrorio, prio3, destaques,...</td>\n      <td>2</td>\n      <td>2</td>\n    </tr>\n    <tr>\n      <th>4</th>\n      <td>[104, 346, 32, 298, 590, 598, 28, 80]</td>\n      <td>maior demanda combustiveis america latina ajud...</td>\n      <td>[maior, demanda, combustiveis, america, latina...</td>\n      <td>1</td>\n      <td>2</td>\n    </tr>\n    <tr>\n      <th>...</th>\n      <td>...</td>\n      <td>...</td>\n      <td>...</td>\n      <td>...</td>\n      <td>...</td>\n    </tr>\n    <tr>\n      <th>439</th>\n      <td>[516, 77, 197, 527, 1333, 948, 27, 32]</td>\n      <td>senado aprova projeto cria conta estabilizacao...</td>\n      <td>[senado, aprova, projeto, cria, conta, estabil...</td>\n      <td>2</td>\n      <td>2</td>\n    </tr>\n    <tr>\n      <th>440</th>\n      <td>[2, 4, 1117, 3362, 1679, 1328, 1, 481]</td>\n      <td>petrobras petr4 gerente rh suspeito insider re...</td>\n      <td>[petrobras, petr4, gerente, rh, suspeito, insi...</td>\n      <td>2</td>\n      <td>0</td>\n    </tr>\n    <tr>\n      <th>441</th>\n      <td>[2746, 1, 1, 1, 2, 1767, 1]</td>\n      <td>george washington indias orientais petrobras r...</td>\n      <td>[george, &lt;OOV&gt;, &lt;OOV&gt;, &lt;OOV&gt;, petrobras, relac...</td>\n      <td>2</td>\n      <td>1</td>\n    </tr>\n    <tr>\n      <th>442</th>\n      <td>[52, 545, 1890, 578, 1, 1564, 784, 1, 2199]</td>\n      <td>anp adia chamada publica alocacao capacidade g...</td>\n      <td>[anp, adia, chamada, publica, &lt;OOV&gt;, capacidad...</td>\n      <td>2</td>\n      <td>2</td>\n    </tr>\n    <tr>\n      <th>443</th>\n      <td>[11, 657, 36, 328, 1, 44, 497]</td>\n      <td>gasolina cara producao menor acendem etanol us...</td>\n      <td>[gasolina, cara, producao, menor, &lt;OOV&gt;, etano...</td>\n      <td>0</td>\n      <td>0</td>\n    </tr>\n  </tbody>\n</table>\n<p>444 rows × 5 columns</p>\n</div>"
     },
     "execution_count": 76,
     "metadata": {},
     "output_type": "execute_result"
    }
   ],
   "source": [
    "df_results = pd.DataFrame()\n",
    "X_test = list(X_test)\n",
    "y_test = list(y_test)\n",
    "df_results['sequence'] = test_sequences\n",
    "df_results['X_test'] = X_test\n",
    "df_results['seq2text'] = df_results['sequence'].apply(lambda x: seq2text(x, index_word))\n",
    "df_results['y_pred'] = y_pred\n",
    "df_results['y_true'] = y_test\n",
    "df_results"
   ],
   "metadata": {
    "collapsed": false,
    "ExecuteTime": {
     "end_time": "2023-06-26T22:05:06.262805500Z",
     "start_time": "2023-06-26T22:05:06.220414600Z"
    }
   }
  },
  {
   "cell_type": "code",
   "execution_count": 77,
   "outputs": [],
   "source": [
    "# accuracy = accuracy_score(y_true=y_test, y_pred=y_pred)\n",
    "# precision = precision_score(average='macro', y_true=y_test, y_pred=y_pred)\n",
    "# recall = recall_score(average='macro', y_true=y_test, y_pred=y_pred)\n",
    "# f1 = f1_score(average='macro', y_true=y_test, y_pred=y_pred)\n",
    "# cm = confusion_matrix(y_true=y_test, y_pred=y_pred)"
   ],
   "metadata": {
    "collapsed": false,
    "ExecuteTime": {
     "end_time": "2023-06-26T22:05:06.268801500Z",
     "start_time": "2023-06-26T22:05:06.265788100Z"
    }
   }
  },
  {
   "cell_type": "code",
   "execution_count": 78,
   "outputs": [
    {
     "name": "stdout",
     "output_type": "stream",
     "text": [
      "              precision    recall  f1-score   support\n",
      "\n",
      "           0       0.49      0.46      0.48       214\n",
      "           1       0.15      0.11      0.13        35\n",
      "           2       0.44      0.50      0.47       195\n",
      "\n",
      "    accuracy                           0.45       444\n",
      "   macro avg       0.36      0.36      0.36       444\n",
      "weighted avg       0.44      0.45      0.45       444\n",
      "\n"
     ]
    }
   ],
   "source": [
    "print(classification_report(y_test, y_pred))\n",
    "cm = confusion_matrix(y_true=y_test, y_pred=y_pred)"
   ],
   "metadata": {
    "collapsed": false,
    "ExecuteTime": {
     "end_time": "2023-06-26T22:05:06.308760200Z",
     "start_time": "2023-06-26T22:05:06.272783200Z"
    }
   }
  },
  {
   "cell_type": "code",
   "execution_count": 79,
   "outputs": [
    {
     "data": {
      "text/plain": "array([0.45794393, 0.11428571, 0.4974359 ])"
     },
     "execution_count": 79,
     "metadata": {},
     "output_type": "execute_result"
    }
   ],
   "source": [
    "recall = recall_score(y_true=y_test, y_pred=y_pred, average=None)\n",
    "recall"
   ],
   "metadata": {
    "collapsed": false,
    "ExecuteTime": {
     "end_time": "2023-06-26T22:05:06.316755Z",
     "start_time": "2023-06-26T22:05:06.298766700Z"
    }
   }
  },
  {
   "cell_type": "markdown",
   "source": [
    "### Creating dataframe to pass to plotly"
   ],
   "metadata": {
    "collapsed": false
   }
  },
  {
   "cell_type": "code",
   "execution_count": 80,
   "outputs": [
    {
     "data": {
      "text/plain": "           Acurácia  Precisão    Recall  F1-Score\nDesceu     0.448198  0.494949  0.457944  0.475728\nConstante  0.448198  0.148148  0.114286  0.129032\nSubiu      0.448198  0.442922  0.497436  0.468599",
      "text/html": "<div>\n<style scoped>\n    .dataframe tbody tr th:only-of-type {\n        vertical-align: middle;\n    }\n\n    .dataframe tbody tr th {\n        vertical-align: top;\n    }\n\n    .dataframe thead th {\n        text-align: right;\n    }\n</style>\n<table border=\"1\" class=\"dataframe\">\n  <thead>\n    <tr style=\"text-align: right;\">\n      <th></th>\n      <th>Acurácia</th>\n      <th>Precisão</th>\n      <th>Recall</th>\n      <th>F1-Score</th>\n    </tr>\n  </thead>\n  <tbody>\n    <tr>\n      <th>Desceu</th>\n      <td>0.448198</td>\n      <td>0.494949</td>\n      <td>0.457944</td>\n      <td>0.475728</td>\n    </tr>\n    <tr>\n      <th>Constante</th>\n      <td>0.448198</td>\n      <td>0.148148</td>\n      <td>0.114286</td>\n      <td>0.129032</td>\n    </tr>\n    <tr>\n      <th>Subiu</th>\n      <td>0.448198</td>\n      <td>0.442922</td>\n      <td>0.497436</td>\n      <td>0.468599</td>\n    </tr>\n  </tbody>\n</table>\n</div>"
     },
     "execution_count": 80,
     "metadata": {},
     "output_type": "execute_result"
    }
   ],
   "source": [
    "df_metrics = pd.DataFrame(index=['Desceu', 'Constante', 'Subiu'])\n",
    "df_metrics['Acurácia'] = accuracy_score(y_true=y_test, y_pred=y_pred)\n",
    "df_metrics['Precisão'] = precision_score(y_true=y_test, y_pred=y_pred, average=None)\n",
    "df_metrics['Recall'] = recall_score(y_true=y_test, y_pred=y_pred, average=None)\n",
    "df_metrics['F1-Score'] = f1_score(y_true=y_test, y_pred=y_pred, average=None)\n",
    "\n",
    "\n",
    "df_metrics"
   ],
   "metadata": {
    "collapsed": false,
    "ExecuteTime": {
     "end_time": "2023-06-26T22:05:06.357727300Z",
     "start_time": "2023-06-26T22:05:06.314757300Z"
    }
   }
  },
  {
   "cell_type": "code",
   "execution_count": 81,
   "outputs": [
    {
     "data": {
      "text/plain": "Acurácia    0.448198\nPrecisão    0.494949\nRecall      0.457944\nF1-Score    0.475728\nName: Desceu, dtype: float64"
     },
     "execution_count": 81,
     "metadata": {},
     "output_type": "execute_result"
    }
   ],
   "source": [
    "df_metrics.iloc[0]"
   ],
   "metadata": {
    "collapsed": false,
    "ExecuteTime": {
     "end_time": "2023-06-26T22:05:06.364723800Z",
     "start_time": "2023-06-26T22:05:06.347735300Z"
    }
   }
  },
  {
   "cell_type": "code",
   "execution_count": 82,
   "outputs": [
    {
     "data": {
      "application/vnd.plotly.v1+json": {
       "data": [
        {
         "alignmentgroup": "True",
         "hovertemplate": "Métricas=Acurácia<br>Classes=%{x}<br>Porcentagem (%)=%{y}<extra></extra>",
         "legendgroup": "Acurácia",
         "marker": {
          "color": "#636efa",
          "pattern": {
           "shape": ""
          }
         },
         "name": "Acurácia",
         "offsetgroup": "Acurácia",
         "orientation": "v",
         "showlegend": true,
         "textposition": "auto",
         "x": [
          "Desceu",
          "Constante",
          "Subiu"
         ],
         "xaxis": "x",
         "y": [
          0.44819819819819817,
          0.44819819819819817,
          0.44819819819819817
         ],
         "yaxis": "y",
         "type": "bar"
        },
        {
         "alignmentgroup": "True",
         "hovertemplate": "Métricas=Precisão<br>Classes=%{x}<br>Porcentagem (%)=%{y}<extra></extra>",
         "legendgroup": "Precisão",
         "marker": {
          "color": "#EF553B",
          "pattern": {
           "shape": ""
          }
         },
         "name": "Precisão",
         "offsetgroup": "Precisão",
         "orientation": "v",
         "showlegend": true,
         "textposition": "auto",
         "x": [
          "Desceu",
          "Constante",
          "Subiu"
         ],
         "xaxis": "x",
         "y": [
          0.494949494949495,
          0.14814814814814814,
          0.4429223744292237
         ],
         "yaxis": "y",
         "type": "bar"
        },
        {
         "alignmentgroup": "True",
         "hovertemplate": "Métricas=Recall<br>Classes=%{x}<br>Porcentagem (%)=%{y}<extra></extra>",
         "legendgroup": "Recall",
         "marker": {
          "color": "#00cc96",
          "pattern": {
           "shape": ""
          }
         },
         "name": "Recall",
         "offsetgroup": "Recall",
         "orientation": "v",
         "showlegend": true,
         "textposition": "auto",
         "x": [
          "Desceu",
          "Constante",
          "Subiu"
         ],
         "xaxis": "x",
         "y": [
          0.45794392523364486,
          0.11428571428571428,
          0.49743589743589745
         ],
         "yaxis": "y",
         "type": "bar"
        },
        {
         "alignmentgroup": "True",
         "hovertemplate": "Métricas=F1-Score<br>Classes=%{x}<br>Porcentagem (%)=%{y}<extra></extra>",
         "legendgroup": "F1-Score",
         "marker": {
          "color": "#ab63fa",
          "pattern": {
           "shape": ""
          }
         },
         "name": "F1-Score",
         "offsetgroup": "F1-Score",
         "orientation": "v",
         "showlegend": true,
         "textposition": "auto",
         "x": [
          "Desceu",
          "Constante",
          "Subiu"
         ],
         "xaxis": "x",
         "y": [
          0.47572815533980584,
          0.12903225806451613,
          0.46859903381642515
         ],
         "yaxis": "y",
         "type": "bar"
        }
       ],
       "layout": {
        "template": {
         "data": {
          "histogram2dcontour": [
           {
            "type": "histogram2dcontour",
            "colorbar": {
             "outlinewidth": 0,
             "ticks": ""
            },
            "colorscale": [
             [
              0.0,
              "#0d0887"
             ],
             [
              0.1111111111111111,
              "#46039f"
             ],
             [
              0.2222222222222222,
              "#7201a8"
             ],
             [
              0.3333333333333333,
              "#9c179e"
             ],
             [
              0.4444444444444444,
              "#bd3786"
             ],
             [
              0.5555555555555556,
              "#d8576b"
             ],
             [
              0.6666666666666666,
              "#ed7953"
             ],
             [
              0.7777777777777778,
              "#fb9f3a"
             ],
             [
              0.8888888888888888,
              "#fdca26"
             ],
             [
              1.0,
              "#f0f921"
             ]
            ]
           }
          ],
          "choropleth": [
           {
            "type": "choropleth",
            "colorbar": {
             "outlinewidth": 0,
             "ticks": ""
            }
           }
          ],
          "histogram2d": [
           {
            "type": "histogram2d",
            "colorbar": {
             "outlinewidth": 0,
             "ticks": ""
            },
            "colorscale": [
             [
              0.0,
              "#0d0887"
             ],
             [
              0.1111111111111111,
              "#46039f"
             ],
             [
              0.2222222222222222,
              "#7201a8"
             ],
             [
              0.3333333333333333,
              "#9c179e"
             ],
             [
              0.4444444444444444,
              "#bd3786"
             ],
             [
              0.5555555555555556,
              "#d8576b"
             ],
             [
              0.6666666666666666,
              "#ed7953"
             ],
             [
              0.7777777777777778,
              "#fb9f3a"
             ],
             [
              0.8888888888888888,
              "#fdca26"
             ],
             [
              1.0,
              "#f0f921"
             ]
            ]
           }
          ],
          "heatmap": [
           {
            "type": "heatmap",
            "colorbar": {
             "outlinewidth": 0,
             "ticks": ""
            },
            "colorscale": [
             [
              0.0,
              "#0d0887"
             ],
             [
              0.1111111111111111,
              "#46039f"
             ],
             [
              0.2222222222222222,
              "#7201a8"
             ],
             [
              0.3333333333333333,
              "#9c179e"
             ],
             [
              0.4444444444444444,
              "#bd3786"
             ],
             [
              0.5555555555555556,
              "#d8576b"
             ],
             [
              0.6666666666666666,
              "#ed7953"
             ],
             [
              0.7777777777777778,
              "#fb9f3a"
             ],
             [
              0.8888888888888888,
              "#fdca26"
             ],
             [
              1.0,
              "#f0f921"
             ]
            ]
           }
          ],
          "heatmapgl": [
           {
            "type": "heatmapgl",
            "colorbar": {
             "outlinewidth": 0,
             "ticks": ""
            },
            "colorscale": [
             [
              0.0,
              "#0d0887"
             ],
             [
              0.1111111111111111,
              "#46039f"
             ],
             [
              0.2222222222222222,
              "#7201a8"
             ],
             [
              0.3333333333333333,
              "#9c179e"
             ],
             [
              0.4444444444444444,
              "#bd3786"
             ],
             [
              0.5555555555555556,
              "#d8576b"
             ],
             [
              0.6666666666666666,
              "#ed7953"
             ],
             [
              0.7777777777777778,
              "#fb9f3a"
             ],
             [
              0.8888888888888888,
              "#fdca26"
             ],
             [
              1.0,
              "#f0f921"
             ]
            ]
           }
          ],
          "contourcarpet": [
           {
            "type": "contourcarpet",
            "colorbar": {
             "outlinewidth": 0,
             "ticks": ""
            }
           }
          ],
          "contour": [
           {
            "type": "contour",
            "colorbar": {
             "outlinewidth": 0,
             "ticks": ""
            },
            "colorscale": [
             [
              0.0,
              "#0d0887"
             ],
             [
              0.1111111111111111,
              "#46039f"
             ],
             [
              0.2222222222222222,
              "#7201a8"
             ],
             [
              0.3333333333333333,
              "#9c179e"
             ],
             [
              0.4444444444444444,
              "#bd3786"
             ],
             [
              0.5555555555555556,
              "#d8576b"
             ],
             [
              0.6666666666666666,
              "#ed7953"
             ],
             [
              0.7777777777777778,
              "#fb9f3a"
             ],
             [
              0.8888888888888888,
              "#fdca26"
             ],
             [
              1.0,
              "#f0f921"
             ]
            ]
           }
          ],
          "surface": [
           {
            "type": "surface",
            "colorbar": {
             "outlinewidth": 0,
             "ticks": ""
            },
            "colorscale": [
             [
              0.0,
              "#0d0887"
             ],
             [
              0.1111111111111111,
              "#46039f"
             ],
             [
              0.2222222222222222,
              "#7201a8"
             ],
             [
              0.3333333333333333,
              "#9c179e"
             ],
             [
              0.4444444444444444,
              "#bd3786"
             ],
             [
              0.5555555555555556,
              "#d8576b"
             ],
             [
              0.6666666666666666,
              "#ed7953"
             ],
             [
              0.7777777777777778,
              "#fb9f3a"
             ],
             [
              0.8888888888888888,
              "#fdca26"
             ],
             [
              1.0,
              "#f0f921"
             ]
            ]
           }
          ],
          "mesh3d": [
           {
            "type": "mesh3d",
            "colorbar": {
             "outlinewidth": 0,
             "ticks": ""
            }
           }
          ],
          "scatter": [
           {
            "marker": {
             "line": {
              "color": "#283442"
             }
            },
            "type": "scatter"
           }
          ],
          "parcoords": [
           {
            "type": "parcoords",
            "line": {
             "colorbar": {
              "outlinewidth": 0,
              "ticks": ""
             }
            }
           }
          ],
          "scatterpolargl": [
           {
            "type": "scatterpolargl",
            "marker": {
             "colorbar": {
              "outlinewidth": 0,
              "ticks": ""
             }
            }
           }
          ],
          "bar": [
           {
            "error_x": {
             "color": "#f2f5fa"
            },
            "error_y": {
             "color": "#f2f5fa"
            },
            "marker": {
             "line": {
              "color": "rgb(17,17,17)",
              "width": 0.5
             },
             "pattern": {
              "fillmode": "overlay",
              "size": 10,
              "solidity": 0.2
             }
            },
            "type": "bar"
           }
          ],
          "scattergeo": [
           {
            "type": "scattergeo",
            "marker": {
             "colorbar": {
              "outlinewidth": 0,
              "ticks": ""
             }
            }
           }
          ],
          "scatterpolar": [
           {
            "type": "scatterpolar",
            "marker": {
             "colorbar": {
              "outlinewidth": 0,
              "ticks": ""
             }
            }
           }
          ],
          "histogram": [
           {
            "marker": {
             "pattern": {
              "fillmode": "overlay",
              "size": 10,
              "solidity": 0.2
             }
            },
            "type": "histogram"
           }
          ],
          "scattergl": [
           {
            "marker": {
             "line": {
              "color": "#283442"
             }
            },
            "type": "scattergl"
           }
          ],
          "scatter3d": [
           {
            "type": "scatter3d",
            "line": {
             "colorbar": {
              "outlinewidth": 0,
              "ticks": ""
             }
            },
            "marker": {
             "colorbar": {
              "outlinewidth": 0,
              "ticks": ""
             }
            }
           }
          ],
          "scattermapbox": [
           {
            "type": "scattermapbox",
            "marker": {
             "colorbar": {
              "outlinewidth": 0,
              "ticks": ""
             }
            }
           }
          ],
          "scatterternary": [
           {
            "type": "scatterternary",
            "marker": {
             "colorbar": {
              "outlinewidth": 0,
              "ticks": ""
             }
            }
           }
          ],
          "scattercarpet": [
           {
            "type": "scattercarpet",
            "marker": {
             "colorbar": {
              "outlinewidth": 0,
              "ticks": ""
             }
            }
           }
          ],
          "carpet": [
           {
            "aaxis": {
             "endlinecolor": "#A2B1C6",
             "gridcolor": "#506784",
             "linecolor": "#506784",
             "minorgridcolor": "#506784",
             "startlinecolor": "#A2B1C6"
            },
            "baxis": {
             "endlinecolor": "#A2B1C6",
             "gridcolor": "#506784",
             "linecolor": "#506784",
             "minorgridcolor": "#506784",
             "startlinecolor": "#A2B1C6"
            },
            "type": "carpet"
           }
          ],
          "table": [
           {
            "cells": {
             "fill": {
              "color": "#506784"
             },
             "line": {
              "color": "rgb(17,17,17)"
             }
            },
            "header": {
             "fill": {
              "color": "#2a3f5f"
             },
             "line": {
              "color": "rgb(17,17,17)"
             }
            },
            "type": "table"
           }
          ],
          "barpolar": [
           {
            "marker": {
             "line": {
              "color": "rgb(17,17,17)",
              "width": 0.5
             },
             "pattern": {
              "fillmode": "overlay",
              "size": 10,
              "solidity": 0.2
             }
            },
            "type": "barpolar"
           }
          ],
          "pie": [
           {
            "automargin": true,
            "type": "pie"
           }
          ]
         },
         "layout": {
          "autotypenumbers": "strict",
          "colorway": [
           "#636efa",
           "#EF553B",
           "#00cc96",
           "#ab63fa",
           "#FFA15A",
           "#19d3f3",
           "#FF6692",
           "#B6E880",
           "#FF97FF",
           "#FECB52"
          ],
          "font": {
           "color": "#f2f5fa"
          },
          "hovermode": "closest",
          "hoverlabel": {
           "align": "left"
          },
          "paper_bgcolor": "rgb(17,17,17)",
          "plot_bgcolor": "rgb(17,17,17)",
          "polar": {
           "bgcolor": "rgb(17,17,17)",
           "angularaxis": {
            "gridcolor": "#506784",
            "linecolor": "#506784",
            "ticks": ""
           },
           "radialaxis": {
            "gridcolor": "#506784",
            "linecolor": "#506784",
            "ticks": ""
           }
          },
          "ternary": {
           "bgcolor": "rgb(17,17,17)",
           "aaxis": {
            "gridcolor": "#506784",
            "linecolor": "#506784",
            "ticks": ""
           },
           "baxis": {
            "gridcolor": "#506784",
            "linecolor": "#506784",
            "ticks": ""
           },
           "caxis": {
            "gridcolor": "#506784",
            "linecolor": "#506784",
            "ticks": ""
           }
          },
          "coloraxis": {
           "colorbar": {
            "outlinewidth": 0,
            "ticks": ""
           }
          },
          "colorscale": {
           "sequential": [
            [
             0.0,
             "#0d0887"
            ],
            [
             0.1111111111111111,
             "#46039f"
            ],
            [
             0.2222222222222222,
             "#7201a8"
            ],
            [
             0.3333333333333333,
             "#9c179e"
            ],
            [
             0.4444444444444444,
             "#bd3786"
            ],
            [
             0.5555555555555556,
             "#d8576b"
            ],
            [
             0.6666666666666666,
             "#ed7953"
            ],
            [
             0.7777777777777778,
             "#fb9f3a"
            ],
            [
             0.8888888888888888,
             "#fdca26"
            ],
            [
             1.0,
             "#f0f921"
            ]
           ],
           "sequentialminus": [
            [
             0.0,
             "#0d0887"
            ],
            [
             0.1111111111111111,
             "#46039f"
            ],
            [
             0.2222222222222222,
             "#7201a8"
            ],
            [
             0.3333333333333333,
             "#9c179e"
            ],
            [
             0.4444444444444444,
             "#bd3786"
            ],
            [
             0.5555555555555556,
             "#d8576b"
            ],
            [
             0.6666666666666666,
             "#ed7953"
            ],
            [
             0.7777777777777778,
             "#fb9f3a"
            ],
            [
             0.8888888888888888,
             "#fdca26"
            ],
            [
             1.0,
             "#f0f921"
            ]
           ],
           "diverging": [
            [
             0,
             "#8e0152"
            ],
            [
             0.1,
             "#c51b7d"
            ],
            [
             0.2,
             "#de77ae"
            ],
            [
             0.3,
             "#f1b6da"
            ],
            [
             0.4,
             "#fde0ef"
            ],
            [
             0.5,
             "#f7f7f7"
            ],
            [
             0.6,
             "#e6f5d0"
            ],
            [
             0.7,
             "#b8e186"
            ],
            [
             0.8,
             "#7fbc41"
            ],
            [
             0.9,
             "#4d9221"
            ],
            [
             1,
             "#276419"
            ]
           ]
          },
          "xaxis": {
           "gridcolor": "#283442",
           "linecolor": "#506784",
           "ticks": "",
           "title": {
            "standoff": 15
           },
           "zerolinecolor": "#283442",
           "automargin": true,
           "zerolinewidth": 2
          },
          "yaxis": {
           "gridcolor": "#283442",
           "linecolor": "#506784",
           "ticks": "",
           "title": {
            "standoff": 15
           },
           "zerolinecolor": "#283442",
           "automargin": true,
           "zerolinewidth": 2
          },
          "scene": {
           "xaxis": {
            "backgroundcolor": "rgb(17,17,17)",
            "gridcolor": "#506784",
            "linecolor": "#506784",
            "showbackground": true,
            "ticks": "",
            "zerolinecolor": "#C8D4E3",
            "gridwidth": 2
           },
           "yaxis": {
            "backgroundcolor": "rgb(17,17,17)",
            "gridcolor": "#506784",
            "linecolor": "#506784",
            "showbackground": true,
            "ticks": "",
            "zerolinecolor": "#C8D4E3",
            "gridwidth": 2
           },
           "zaxis": {
            "backgroundcolor": "rgb(17,17,17)",
            "gridcolor": "#506784",
            "linecolor": "#506784",
            "showbackground": true,
            "ticks": "",
            "zerolinecolor": "#C8D4E3",
            "gridwidth": 2
           }
          },
          "shapedefaults": {
           "line": {
            "color": "#f2f5fa"
           }
          },
          "annotationdefaults": {
           "arrowcolor": "#f2f5fa",
           "arrowhead": 0,
           "arrowwidth": 1
          },
          "geo": {
           "bgcolor": "rgb(17,17,17)",
           "landcolor": "rgb(17,17,17)",
           "subunitcolor": "#506784",
           "showland": true,
           "showlakes": true,
           "lakecolor": "rgb(17,17,17)"
          },
          "title": {
           "x": 0.05
          },
          "updatemenudefaults": {
           "bgcolor": "#506784",
           "borderwidth": 0
          },
          "sliderdefaults": {
           "bgcolor": "#C8D4E3",
           "borderwidth": 1,
           "bordercolor": "rgb(17,17,17)",
           "tickwidth": 0
          },
          "mapbox": {
           "style": "dark"
          }
         }
        },
        "xaxis": {
         "anchor": "y",
         "domain": [
          0.0,
          1.0
         ],
         "title": {
          "text": "Classes"
         }
        },
        "yaxis": {
         "anchor": "x",
         "domain": [
          0.0,
          1.0
         ],
         "title": {
          "text": "Porcentagem (%)"
         }
        },
        "legend": {
         "title": {
          "text": "Métricas"
         },
         "tracegroupgap": 0
        },
        "title": {
         "text": "Desempenho da BiLSTM em relação a precisão, recall e F1-Score"
        },
        "barmode": "group"
       },
       "config": {
        "plotlyServerURL": "https://plot.ly"
       }
      },
      "text/html": "<div>                            <div id=\"60f49da3-3820-44d8-8c65-454765f9788d\" class=\"plotly-graph-div\" style=\"height:525px; width:100%;\"></div>            <script type=\"text/javascript\">                require([\"plotly\"], function(Plotly) {                    window.PLOTLYENV=window.PLOTLYENV || {};                                    if (document.getElementById(\"60f49da3-3820-44d8-8c65-454765f9788d\")) {                    Plotly.newPlot(                        \"60f49da3-3820-44d8-8c65-454765f9788d\",                        [{\"alignmentgroup\":\"True\",\"hovertemplate\":\"Métricas=Acurácia<br>Classes=%{x}<br>Porcentagem (%)=%{y}<extra></extra>\",\"legendgroup\":\"Acurácia\",\"marker\":{\"color\":\"#636efa\",\"pattern\":{\"shape\":\"\"}},\"name\":\"Acurácia\",\"offsetgroup\":\"Acurácia\",\"orientation\":\"v\",\"showlegend\":true,\"textposition\":\"auto\",\"x\":[\"Desceu\",\"Constante\",\"Subiu\"],\"xaxis\":\"x\",\"y\":[0.44819819819819817,0.44819819819819817,0.44819819819819817],\"yaxis\":\"y\",\"type\":\"bar\"},{\"alignmentgroup\":\"True\",\"hovertemplate\":\"Métricas=Precisão<br>Classes=%{x}<br>Porcentagem (%)=%{y}<extra></extra>\",\"legendgroup\":\"Precisão\",\"marker\":{\"color\":\"#EF553B\",\"pattern\":{\"shape\":\"\"}},\"name\":\"Precisão\",\"offsetgroup\":\"Precisão\",\"orientation\":\"v\",\"showlegend\":true,\"textposition\":\"auto\",\"x\":[\"Desceu\",\"Constante\",\"Subiu\"],\"xaxis\":\"x\",\"y\":[0.494949494949495,0.14814814814814814,0.4429223744292237],\"yaxis\":\"y\",\"type\":\"bar\"},{\"alignmentgroup\":\"True\",\"hovertemplate\":\"Métricas=Recall<br>Classes=%{x}<br>Porcentagem (%)=%{y}<extra></extra>\",\"legendgroup\":\"Recall\",\"marker\":{\"color\":\"#00cc96\",\"pattern\":{\"shape\":\"\"}},\"name\":\"Recall\",\"offsetgroup\":\"Recall\",\"orientation\":\"v\",\"showlegend\":true,\"textposition\":\"auto\",\"x\":[\"Desceu\",\"Constante\",\"Subiu\"],\"xaxis\":\"x\",\"y\":[0.45794392523364486,0.11428571428571428,0.49743589743589745],\"yaxis\":\"y\",\"type\":\"bar\"},{\"alignmentgroup\":\"True\",\"hovertemplate\":\"Métricas=F1-Score<br>Classes=%{x}<br>Porcentagem (%)=%{y}<extra></extra>\",\"legendgroup\":\"F1-Score\",\"marker\":{\"color\":\"#ab63fa\",\"pattern\":{\"shape\":\"\"}},\"name\":\"F1-Score\",\"offsetgroup\":\"F1-Score\",\"orientation\":\"v\",\"showlegend\":true,\"textposition\":\"auto\",\"x\":[\"Desceu\",\"Constante\",\"Subiu\"],\"xaxis\":\"x\",\"y\":[0.47572815533980584,0.12903225806451613,0.46859903381642515],\"yaxis\":\"y\",\"type\":\"bar\"}],                        {\"template\":{\"data\":{\"histogram2dcontour\":[{\"type\":\"histogram2dcontour\",\"colorbar\":{\"outlinewidth\":0,\"ticks\":\"\"},\"colorscale\":[[0.0,\"#0d0887\"],[0.1111111111111111,\"#46039f\"],[0.2222222222222222,\"#7201a8\"],[0.3333333333333333,\"#9c179e\"],[0.4444444444444444,\"#bd3786\"],[0.5555555555555556,\"#d8576b\"],[0.6666666666666666,\"#ed7953\"],[0.7777777777777778,\"#fb9f3a\"],[0.8888888888888888,\"#fdca26\"],[1.0,\"#f0f921\"]]}],\"choropleth\":[{\"type\":\"choropleth\",\"colorbar\":{\"outlinewidth\":0,\"ticks\":\"\"}}],\"histogram2d\":[{\"type\":\"histogram2d\",\"colorbar\":{\"outlinewidth\":0,\"ticks\":\"\"},\"colorscale\":[[0.0,\"#0d0887\"],[0.1111111111111111,\"#46039f\"],[0.2222222222222222,\"#7201a8\"],[0.3333333333333333,\"#9c179e\"],[0.4444444444444444,\"#bd3786\"],[0.5555555555555556,\"#d8576b\"],[0.6666666666666666,\"#ed7953\"],[0.7777777777777778,\"#fb9f3a\"],[0.8888888888888888,\"#fdca26\"],[1.0,\"#f0f921\"]]}],\"heatmap\":[{\"type\":\"heatmap\",\"colorbar\":{\"outlinewidth\":0,\"ticks\":\"\"},\"colorscale\":[[0.0,\"#0d0887\"],[0.1111111111111111,\"#46039f\"],[0.2222222222222222,\"#7201a8\"],[0.3333333333333333,\"#9c179e\"],[0.4444444444444444,\"#bd3786\"],[0.5555555555555556,\"#d8576b\"],[0.6666666666666666,\"#ed7953\"],[0.7777777777777778,\"#fb9f3a\"],[0.8888888888888888,\"#fdca26\"],[1.0,\"#f0f921\"]]}],\"heatmapgl\":[{\"type\":\"heatmapgl\",\"colorbar\":{\"outlinewidth\":0,\"ticks\":\"\"},\"colorscale\":[[0.0,\"#0d0887\"],[0.1111111111111111,\"#46039f\"],[0.2222222222222222,\"#7201a8\"],[0.3333333333333333,\"#9c179e\"],[0.4444444444444444,\"#bd3786\"],[0.5555555555555556,\"#d8576b\"],[0.6666666666666666,\"#ed7953\"],[0.7777777777777778,\"#fb9f3a\"],[0.8888888888888888,\"#fdca26\"],[1.0,\"#f0f921\"]]}],\"contourcarpet\":[{\"type\":\"contourcarpet\",\"colorbar\":{\"outlinewidth\":0,\"ticks\":\"\"}}],\"contour\":[{\"type\":\"contour\",\"colorbar\":{\"outlinewidth\":0,\"ticks\":\"\"},\"colorscale\":[[0.0,\"#0d0887\"],[0.1111111111111111,\"#46039f\"],[0.2222222222222222,\"#7201a8\"],[0.3333333333333333,\"#9c179e\"],[0.4444444444444444,\"#bd3786\"],[0.5555555555555556,\"#d8576b\"],[0.6666666666666666,\"#ed7953\"],[0.7777777777777778,\"#fb9f3a\"],[0.8888888888888888,\"#fdca26\"],[1.0,\"#f0f921\"]]}],\"surface\":[{\"type\":\"surface\",\"colorbar\":{\"outlinewidth\":0,\"ticks\":\"\"},\"colorscale\":[[0.0,\"#0d0887\"],[0.1111111111111111,\"#46039f\"],[0.2222222222222222,\"#7201a8\"],[0.3333333333333333,\"#9c179e\"],[0.4444444444444444,\"#bd3786\"],[0.5555555555555556,\"#d8576b\"],[0.6666666666666666,\"#ed7953\"],[0.7777777777777778,\"#fb9f3a\"],[0.8888888888888888,\"#fdca26\"],[1.0,\"#f0f921\"]]}],\"mesh3d\":[{\"type\":\"mesh3d\",\"colorbar\":{\"outlinewidth\":0,\"ticks\":\"\"}}],\"scatter\":[{\"marker\":{\"line\":{\"color\":\"#283442\"}},\"type\":\"scatter\"}],\"parcoords\":[{\"type\":\"parcoords\",\"line\":{\"colorbar\":{\"outlinewidth\":0,\"ticks\":\"\"}}}],\"scatterpolargl\":[{\"type\":\"scatterpolargl\",\"marker\":{\"colorbar\":{\"outlinewidth\":0,\"ticks\":\"\"}}}],\"bar\":[{\"error_x\":{\"color\":\"#f2f5fa\"},\"error_y\":{\"color\":\"#f2f5fa\"},\"marker\":{\"line\":{\"color\":\"rgb(17,17,17)\",\"width\":0.5},\"pattern\":{\"fillmode\":\"overlay\",\"size\":10,\"solidity\":0.2}},\"type\":\"bar\"}],\"scattergeo\":[{\"type\":\"scattergeo\",\"marker\":{\"colorbar\":{\"outlinewidth\":0,\"ticks\":\"\"}}}],\"scatterpolar\":[{\"type\":\"scatterpolar\",\"marker\":{\"colorbar\":{\"outlinewidth\":0,\"ticks\":\"\"}}}],\"histogram\":[{\"marker\":{\"pattern\":{\"fillmode\":\"overlay\",\"size\":10,\"solidity\":0.2}},\"type\":\"histogram\"}],\"scattergl\":[{\"marker\":{\"line\":{\"color\":\"#283442\"}},\"type\":\"scattergl\"}],\"scatter3d\":[{\"type\":\"scatter3d\",\"line\":{\"colorbar\":{\"outlinewidth\":0,\"ticks\":\"\"}},\"marker\":{\"colorbar\":{\"outlinewidth\":0,\"ticks\":\"\"}}}],\"scattermapbox\":[{\"type\":\"scattermapbox\",\"marker\":{\"colorbar\":{\"outlinewidth\":0,\"ticks\":\"\"}}}],\"scatterternary\":[{\"type\":\"scatterternary\",\"marker\":{\"colorbar\":{\"outlinewidth\":0,\"ticks\":\"\"}}}],\"scattercarpet\":[{\"type\":\"scattercarpet\",\"marker\":{\"colorbar\":{\"outlinewidth\":0,\"ticks\":\"\"}}}],\"carpet\":[{\"aaxis\":{\"endlinecolor\":\"#A2B1C6\",\"gridcolor\":\"#506784\",\"linecolor\":\"#506784\",\"minorgridcolor\":\"#506784\",\"startlinecolor\":\"#A2B1C6\"},\"baxis\":{\"endlinecolor\":\"#A2B1C6\",\"gridcolor\":\"#506784\",\"linecolor\":\"#506784\",\"minorgridcolor\":\"#506784\",\"startlinecolor\":\"#A2B1C6\"},\"type\":\"carpet\"}],\"table\":[{\"cells\":{\"fill\":{\"color\":\"#506784\"},\"line\":{\"color\":\"rgb(17,17,17)\"}},\"header\":{\"fill\":{\"color\":\"#2a3f5f\"},\"line\":{\"color\":\"rgb(17,17,17)\"}},\"type\":\"table\"}],\"barpolar\":[{\"marker\":{\"line\":{\"color\":\"rgb(17,17,17)\",\"width\":0.5},\"pattern\":{\"fillmode\":\"overlay\",\"size\":10,\"solidity\":0.2}},\"type\":\"barpolar\"}],\"pie\":[{\"automargin\":true,\"type\":\"pie\"}]},\"layout\":{\"autotypenumbers\":\"strict\",\"colorway\":[\"#636efa\",\"#EF553B\",\"#00cc96\",\"#ab63fa\",\"#FFA15A\",\"#19d3f3\",\"#FF6692\",\"#B6E880\",\"#FF97FF\",\"#FECB52\"],\"font\":{\"color\":\"#f2f5fa\"},\"hovermode\":\"closest\",\"hoverlabel\":{\"align\":\"left\"},\"paper_bgcolor\":\"rgb(17,17,17)\",\"plot_bgcolor\":\"rgb(17,17,17)\",\"polar\":{\"bgcolor\":\"rgb(17,17,17)\",\"angularaxis\":{\"gridcolor\":\"#506784\",\"linecolor\":\"#506784\",\"ticks\":\"\"},\"radialaxis\":{\"gridcolor\":\"#506784\",\"linecolor\":\"#506784\",\"ticks\":\"\"}},\"ternary\":{\"bgcolor\":\"rgb(17,17,17)\",\"aaxis\":{\"gridcolor\":\"#506784\",\"linecolor\":\"#506784\",\"ticks\":\"\"},\"baxis\":{\"gridcolor\":\"#506784\",\"linecolor\":\"#506784\",\"ticks\":\"\"},\"caxis\":{\"gridcolor\":\"#506784\",\"linecolor\":\"#506784\",\"ticks\":\"\"}},\"coloraxis\":{\"colorbar\":{\"outlinewidth\":0,\"ticks\":\"\"}},\"colorscale\":{\"sequential\":[[0.0,\"#0d0887\"],[0.1111111111111111,\"#46039f\"],[0.2222222222222222,\"#7201a8\"],[0.3333333333333333,\"#9c179e\"],[0.4444444444444444,\"#bd3786\"],[0.5555555555555556,\"#d8576b\"],[0.6666666666666666,\"#ed7953\"],[0.7777777777777778,\"#fb9f3a\"],[0.8888888888888888,\"#fdca26\"],[1.0,\"#f0f921\"]],\"sequentialminus\":[[0.0,\"#0d0887\"],[0.1111111111111111,\"#46039f\"],[0.2222222222222222,\"#7201a8\"],[0.3333333333333333,\"#9c179e\"],[0.4444444444444444,\"#bd3786\"],[0.5555555555555556,\"#d8576b\"],[0.6666666666666666,\"#ed7953\"],[0.7777777777777778,\"#fb9f3a\"],[0.8888888888888888,\"#fdca26\"],[1.0,\"#f0f921\"]],\"diverging\":[[0,\"#8e0152\"],[0.1,\"#c51b7d\"],[0.2,\"#de77ae\"],[0.3,\"#f1b6da\"],[0.4,\"#fde0ef\"],[0.5,\"#f7f7f7\"],[0.6,\"#e6f5d0\"],[0.7,\"#b8e186\"],[0.8,\"#7fbc41\"],[0.9,\"#4d9221\"],[1,\"#276419\"]]},\"xaxis\":{\"gridcolor\":\"#283442\",\"linecolor\":\"#506784\",\"ticks\":\"\",\"title\":{\"standoff\":15},\"zerolinecolor\":\"#283442\",\"automargin\":true,\"zerolinewidth\":2},\"yaxis\":{\"gridcolor\":\"#283442\",\"linecolor\":\"#506784\",\"ticks\":\"\",\"title\":{\"standoff\":15},\"zerolinecolor\":\"#283442\",\"automargin\":true,\"zerolinewidth\":2},\"scene\":{\"xaxis\":{\"backgroundcolor\":\"rgb(17,17,17)\",\"gridcolor\":\"#506784\",\"linecolor\":\"#506784\",\"showbackground\":true,\"ticks\":\"\",\"zerolinecolor\":\"#C8D4E3\",\"gridwidth\":2},\"yaxis\":{\"backgroundcolor\":\"rgb(17,17,17)\",\"gridcolor\":\"#506784\",\"linecolor\":\"#506784\",\"showbackground\":true,\"ticks\":\"\",\"zerolinecolor\":\"#C8D4E3\",\"gridwidth\":2},\"zaxis\":{\"backgroundcolor\":\"rgb(17,17,17)\",\"gridcolor\":\"#506784\",\"linecolor\":\"#506784\",\"showbackground\":true,\"ticks\":\"\",\"zerolinecolor\":\"#C8D4E3\",\"gridwidth\":2}},\"shapedefaults\":{\"line\":{\"color\":\"#f2f5fa\"}},\"annotationdefaults\":{\"arrowcolor\":\"#f2f5fa\",\"arrowhead\":0,\"arrowwidth\":1},\"geo\":{\"bgcolor\":\"rgb(17,17,17)\",\"landcolor\":\"rgb(17,17,17)\",\"subunitcolor\":\"#506784\",\"showland\":true,\"showlakes\":true,\"lakecolor\":\"rgb(17,17,17)\"},\"title\":{\"x\":0.05},\"updatemenudefaults\":{\"bgcolor\":\"#506784\",\"borderwidth\":0},\"sliderdefaults\":{\"bgcolor\":\"#C8D4E3\",\"borderwidth\":1,\"bordercolor\":\"rgb(17,17,17)\",\"tickwidth\":0},\"mapbox\":{\"style\":\"dark\"}}},\"xaxis\":{\"anchor\":\"y\",\"domain\":[0.0,1.0],\"title\":{\"text\":\"Classes\"}},\"yaxis\":{\"anchor\":\"x\",\"domain\":[0.0,1.0],\"title\":{\"text\":\"Porcentagem (%)\"}},\"legend\":{\"title\":{\"text\":\"Métricas\"},\"tracegroupgap\":0},\"title\":{\"text\":\"Desempenho da BiLSTM em relação a precisão, recall e F1-Score\"},\"barmode\":\"group\"},                        {\"responsive\": true}                    ).then(function(){\n                            \nvar gd = document.getElementById('60f49da3-3820-44d8-8c65-454765f9788d');\nvar x = new MutationObserver(function (mutations, observer) {{\n        var display = window.getComputedStyle(gd).display;\n        if (!display || display === 'none') {{\n            console.log([gd, 'removed!']);\n            Plotly.purge(gd);\n            observer.disconnect();\n        }}\n}});\n\n// Listen for the removal of the full notebook cells\nvar notebookContainer = gd.closest('#notebook-container');\nif (notebookContainer) {{\n    x.observe(notebookContainer, {childList: true});\n}}\n\n// Listen for the clearing of the current output cell\nvar outputEl = gd.closest('.output');\nif (outputEl) {{\n    x.observe(outputEl, {childList: true});\n}}\n\n                        })                };                });            </script>        </div>"
     },
     "metadata": {},
     "output_type": "display_data"
    }
   ],
   "source": [
    "\n",
    "fig = px.bar(df_metrics, x=df_metrics.index, y=[\"Acurácia\", \"Precisão\", \"Recall\", \"F1-Score\"],\n",
    "             barmode=\"group\", title=\"Desempenho da BiLSTM em relação a precisão, recall e F1-Score\", labels={'index': 'Classes', 'value': 'Porcentagem (%)', 'variable': 'Métricas'})\n",
    "\n",
    "fig.show()\n",
    "\n",
    "\n",
    "\n"
   ],
   "metadata": {
    "collapsed": false,
    "ExecuteTime": {
     "end_time": "2023-06-26T22:05:06.531614800Z",
     "start_time": "2023-06-26T22:05:06.361726200Z"
    }
   }
  },
  {
   "cell_type": "code",
   "execution_count": 83,
   "outputs": [],
   "source": [],
   "metadata": {
    "collapsed": false,
    "ExecuteTime": {
     "end_time": "2023-06-26T22:05:06.629551100Z",
     "start_time": "2023-06-26T22:05:06.614561Z"
    }
   }
  }
 ],
 "metadata": {
  "kernelspec": {
   "display_name": "Python 3",
   "language": "python",
   "name": "python3"
  },
  "language_info": {
   "codemirror_mode": {
    "name": "ipython",
    "version": 2
   },
   "file_extension": ".py",
   "mimetype": "text/x-python",
   "name": "python",
   "nbconvert_exporter": "python",
   "pygments_lexer": "ipython2",
   "version": "2.7.6"
  }
 },
 "nbformat": 4,
 "nbformat_minor": 0
}
