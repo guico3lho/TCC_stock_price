{
 "cells": [
  {
   "cell_type": "markdown",
   "source": [
    "## Packages and Assets"
   ],
   "metadata": {
    "collapsed": false
   }
  },
  {
   "cell_type": "code",
   "execution_count": 64,
   "outputs": [],
   "source": [
    "import keras.models\n",
    "from sklearn.metrics import accuracy_score, precision_score, recall_score, f1_score, confusion_matrix, classification_report\n",
    "\n",
    "import seaborn as sns\n",
    "import json\n",
    "import matplotlib.pyplot as plt\n",
    "import numpy as np\n",
    "\n",
    "from keras.preprocessing.text import tokenizer_from_json\n",
    "\n",
    "from keras.utils import pad_sequences\n",
    "import pandas as pd\n",
    "import re\n",
    "import string\n",
    "import nltk\n"
   ],
   "metadata": {
    "collapsed": false,
    "pycharm": {
     "is_executing": true
    },
    "ExecuteTime": {
     "end_time": "2023-06-26T01:59:09.165934600Z",
     "start_time": "2023-06-26T01:59:09.002265100Z"
    }
   }
  },
  {
   "cell_type": "markdown",
   "source": [
    "## Dependencies"
   ],
   "metadata": {
    "collapsed": false
   }
  },
  {
   "cell_type": "code",
   "execution_count": 65,
   "outputs": [
    {
     "data": {
      "text/plain": "                                                 title  \\\n0    petrobras reajusta hoje preco medio gasolina d...   \n1    petrobras precificara maior oferta acoes decad...   \n2             tradingview ideias analises nesta quinta   \n3     petrobras petr4 petrorio prio3 destaques mercado   \n4    maior demanda combustiveis america latina ajud...   \n..                                                 ...   \n439  senado aprova projeto cria conta estabilizacao...   \n440  petrobras petr4 gerente rh suspeito insider re...   \n441  george washington indias orientais petrobras r...   \n442  anp adia chamada publica alocacao capacidade g...   \n443  gasolina cara producao menor acendem etanol us...   \n\n                                                  tags  \\\n0                ['Empresas', 'Gasolina', 'Petrobras']   \n1    ['Ações', 'BNDES', 'CVM', 'Empresas', 'Ofertas...   \n2    ['Empresas', 'Internacional', 'Mercados', 'Pet...   \n3    ['Petrobras (PETR4)', 'PetroRecôncavo (RECV3)'...   \n4    ['Argentina', 'Bloomberg', 'Brasil', 'Colômbia...   \n..                                                 ...   \n439  ['Câmara dos Deputados', 'Combustíveis', 'Dies...   \n440                              ['Petrobras (PETR4)']   \n441      ['Opinião', 'Petrobras', 'Terraço Econômico']   \n442  ['ANP', 'Bolívia', 'Brasil', 'Empresas', 'Gás'...   \n443  ['Açúcar', 'Agronegócio', 'Biocombustível', 'E...   \n\n                                                   url      time       Open  \\\n0    https://www.moneytimes.com.br/petrobras-reajus...  12:45:00  19.879999   \n1    https://www.moneytimes.com.br/petrobras-preve-...  15:20:00  29.730000   \n2    https://www.moneytimes.com.br/tradingview-idei...  09:36:00  25.400000   \n3    https://www.suno.com.br/noticias/petrobras-pet...  10:08:00  29.280001   \n4    https://www.moneytimes.com.br/maior-demanda-po...  13:08:00  23.150000   \n..                                                 ...       ...        ...   \n439  https://www.moneytimes.com.br/senado-aprova-pr...  16:26:00  32.599998   \n440  https://www.suno.com.br/noticias/petrobras-pet...  08:59:00  24.129999   \n441  https://www.moneytimes.com.br/george-washingto...  11:30:00  16.100000   \n442  https://www.moneytimes.com.br/anp-adia-chamada...  14:56:00  13.150000   \n443  https://www.moneytimes.com.br/gasolina-mais-ca...  13:33:00  20.330000   \n\n          High        Low      Close  Adj Close     Volume    profit  \\\n0    20.820000  19.820000  20.440001   7.523751   67418700  0.028169   \n1    29.809999  29.270000  29.290001  11.620691   32491500 -0.014800   \n2    25.540001  25.320000  25.540001   9.807138   40109000  0.005512   \n3    29.570000  28.799999  29.360001  14.332482   98989300  0.002732   \n4    23.600000  23.139999  23.370001   9.272458  101769600  0.009503   \n..         ...        ...        ...        ...        ...       ...   \n439  34.599998  32.520000  33.700001  16.451113  136437700  0.033742   \n440  24.200001  23.680000  24.040001   9.538484   40454400 -0.003730   \n441  16.100000  16.100000  16.100000   5.926244          0  0.000000   \n442  13.740000  12.830000  13.380000   5.308463  110947200  0.017490   \n443  20.559999  19.629999  19.629999   7.788701   48797400 -0.034432   \n\n     profit (%)  label  \n0          2.82      2  \n1         -1.48      0  \n2          0.55      2  \n3          0.27      2  \n4          0.95      2  \n..          ...    ...  \n439        3.37      2  \n440       -0.37      0  \n441        0.00      1  \n442        1.75      2  \n443       -3.44      0  \n\n[444 rows x 13 columns]",
      "text/html": "<div>\n<style scoped>\n    .dataframe tbody tr th:only-of-type {\n        vertical-align: middle;\n    }\n\n    .dataframe tbody tr th {\n        vertical-align: top;\n    }\n\n    .dataframe thead th {\n        text-align: right;\n    }\n</style>\n<table border=\"1\" class=\"dataframe\">\n  <thead>\n    <tr style=\"text-align: right;\">\n      <th></th>\n      <th>title</th>\n      <th>tags</th>\n      <th>url</th>\n      <th>time</th>\n      <th>Open</th>\n      <th>High</th>\n      <th>Low</th>\n      <th>Close</th>\n      <th>Adj Close</th>\n      <th>Volume</th>\n      <th>profit</th>\n      <th>profit (%)</th>\n      <th>label</th>\n    </tr>\n  </thead>\n  <tbody>\n    <tr>\n      <th>0</th>\n      <td>petrobras reajusta hoje preco medio gasolina d...</td>\n      <td>['Empresas', 'Gasolina', 'Petrobras']</td>\n      <td>https://www.moneytimes.com.br/petrobras-reajus...</td>\n      <td>12:45:00</td>\n      <td>19.879999</td>\n      <td>20.820000</td>\n      <td>19.820000</td>\n      <td>20.440001</td>\n      <td>7.523751</td>\n      <td>67418700</td>\n      <td>0.028169</td>\n      <td>2.82</td>\n      <td>2</td>\n    </tr>\n    <tr>\n      <th>1</th>\n      <td>petrobras precificara maior oferta acoes decad...</td>\n      <td>['Ações', 'BNDES', 'CVM', 'Empresas', 'Ofertas...</td>\n      <td>https://www.moneytimes.com.br/petrobras-preve-...</td>\n      <td>15:20:00</td>\n      <td>29.730000</td>\n      <td>29.809999</td>\n      <td>29.270000</td>\n      <td>29.290001</td>\n      <td>11.620691</td>\n      <td>32491500</td>\n      <td>-0.014800</td>\n      <td>-1.48</td>\n      <td>0</td>\n    </tr>\n    <tr>\n      <th>2</th>\n      <td>tradingview ideias analises nesta quinta</td>\n      <td>['Empresas', 'Internacional', 'Mercados', 'Pet...</td>\n      <td>https://www.moneytimes.com.br/tradingview-idei...</td>\n      <td>09:36:00</td>\n      <td>25.400000</td>\n      <td>25.540001</td>\n      <td>25.320000</td>\n      <td>25.540001</td>\n      <td>9.807138</td>\n      <td>40109000</td>\n      <td>0.005512</td>\n      <td>0.55</td>\n      <td>2</td>\n    </tr>\n    <tr>\n      <th>3</th>\n      <td>petrobras petr4 petrorio prio3 destaques mercado</td>\n      <td>['Petrobras (PETR4)', 'PetroRecôncavo (RECV3)'...</td>\n      <td>https://www.suno.com.br/noticias/petrobras-pet...</td>\n      <td>10:08:00</td>\n      <td>29.280001</td>\n      <td>29.570000</td>\n      <td>28.799999</td>\n      <td>29.360001</td>\n      <td>14.332482</td>\n      <td>98989300</td>\n      <td>0.002732</td>\n      <td>0.27</td>\n      <td>2</td>\n    </tr>\n    <tr>\n      <th>4</th>\n      <td>maior demanda combustiveis america latina ajud...</td>\n      <td>['Argentina', 'Bloomberg', 'Brasil', 'Colômbia...</td>\n      <td>https://www.moneytimes.com.br/maior-demanda-po...</td>\n      <td>13:08:00</td>\n      <td>23.150000</td>\n      <td>23.600000</td>\n      <td>23.139999</td>\n      <td>23.370001</td>\n      <td>9.272458</td>\n      <td>101769600</td>\n      <td>0.009503</td>\n      <td>0.95</td>\n      <td>2</td>\n    </tr>\n    <tr>\n      <th>...</th>\n      <td>...</td>\n      <td>...</td>\n      <td>...</td>\n      <td>...</td>\n      <td>...</td>\n      <td>...</td>\n      <td>...</td>\n      <td>...</td>\n      <td>...</td>\n      <td>...</td>\n      <td>...</td>\n      <td>...</td>\n      <td>...</td>\n    </tr>\n    <tr>\n      <th>439</th>\n      <td>senado aprova projeto cria conta estabilizacao...</td>\n      <td>['Câmara dos Deputados', 'Combustíveis', 'Dies...</td>\n      <td>https://www.moneytimes.com.br/senado-aprova-pr...</td>\n      <td>16:26:00</td>\n      <td>32.599998</td>\n      <td>34.599998</td>\n      <td>32.520000</td>\n      <td>33.700001</td>\n      <td>16.451113</td>\n      <td>136437700</td>\n      <td>0.033742</td>\n      <td>3.37</td>\n      <td>2</td>\n    </tr>\n    <tr>\n      <th>440</th>\n      <td>petrobras petr4 gerente rh suspeito insider re...</td>\n      <td>['Petrobras (PETR4)']</td>\n      <td>https://www.suno.com.br/noticias/petrobras-pet...</td>\n      <td>08:59:00</td>\n      <td>24.129999</td>\n      <td>24.200001</td>\n      <td>23.680000</td>\n      <td>24.040001</td>\n      <td>9.538484</td>\n      <td>40454400</td>\n      <td>-0.003730</td>\n      <td>-0.37</td>\n      <td>0</td>\n    </tr>\n    <tr>\n      <th>441</th>\n      <td>george washington indias orientais petrobras r...</td>\n      <td>['Opinião', 'Petrobras', 'Terraço Econômico']</td>\n      <td>https://www.moneytimes.com.br/george-washingto...</td>\n      <td>11:30:00</td>\n      <td>16.100000</td>\n      <td>16.100000</td>\n      <td>16.100000</td>\n      <td>16.100000</td>\n      <td>5.926244</td>\n      <td>0</td>\n      <td>0.000000</td>\n      <td>0.00</td>\n      <td>1</td>\n    </tr>\n    <tr>\n      <th>442</th>\n      <td>anp adia chamada publica alocacao capacidade g...</td>\n      <td>['ANP', 'Bolívia', 'Brasil', 'Empresas', 'Gás'...</td>\n      <td>https://www.moneytimes.com.br/anp-adia-chamada...</td>\n      <td>14:56:00</td>\n      <td>13.150000</td>\n      <td>13.740000</td>\n      <td>12.830000</td>\n      <td>13.380000</td>\n      <td>5.308463</td>\n      <td>110947200</td>\n      <td>0.017490</td>\n      <td>1.75</td>\n      <td>2</td>\n    </tr>\n    <tr>\n      <th>443</th>\n      <td>gasolina cara producao menor acendem etanol us...</td>\n      <td>['Açúcar', 'Agronegócio', 'Biocombustível', 'E...</td>\n      <td>https://www.moneytimes.com.br/gasolina-mais-ca...</td>\n      <td>13:33:00</td>\n      <td>20.330000</td>\n      <td>20.559999</td>\n      <td>19.629999</td>\n      <td>19.629999</td>\n      <td>7.788701</td>\n      <td>48797400</td>\n      <td>-0.034432</td>\n      <td>-3.44</td>\n      <td>0</td>\n    </tr>\n  </tbody>\n</table>\n<p>444 rows × 13 columns</p>\n</div>"
     },
     "execution_count": 65,
     "metadata": {},
     "output_type": "execute_result"
    }
   ],
   "source": [
    "# test_padded = pd.read_csv('../../assets/data/splits/test/padded.csv')\n",
    "test_pp = pd.read_csv('../../assets/data/splits/test/preprocessed.csv')\n",
    "test_pp"
   ],
   "metadata": {
    "collapsed": false,
    "ExecuteTime": {
     "end_time": "2023-06-26T01:59:09.317827400Z",
     "start_time": "2023-06-26T01:59:09.005263800Z"
    }
   }
  },
  {
   "cell_type": "code",
   "execution_count": 65,
   "outputs": [],
   "source": [],
   "metadata": {
    "collapsed": false,
    "ExecuteTime": {
     "end_time": "2023-06-26T01:59:09.346810200Z",
     "start_time": "2023-06-26T01:59:09.170913800Z"
    }
   }
  },
  {
   "cell_type": "code",
   "execution_count": 66,
   "outputs": [
    {
     "name": "stdout",
     "output_type": "stream",
     "text": [
      "Model: \"sequential_1\"\n",
      "_________________________________________________________________\n",
      " Layer (type)                Output Shape              Param #   \n",
      "=================================================================\n",
      " embedding_1 (Embedding)     (None, 8, 300)            1387200   \n",
      "                                                                 \n",
      " lstm_2 (LSTM)               (None, 8, 32)             42624     \n",
      "                                                                 \n",
      " dropout_2 (Dropout)         (None, 8, 32)             0         \n",
      "                                                                 \n",
      " lstm_3 (LSTM)               (None, 16)                3136      \n",
      "                                                                 \n",
      " dense_2 (Dense)             (None, 64)                1088      \n",
      "                                                                 \n",
      " dense_3 (Dense)             (None, 3)                 195       \n",
      "                                                                 \n",
      "=================================================================\n",
      "Total params: 1,434,243\n",
      "Trainable params: 47,043\n",
      "Non-trainable params: 1,387,200\n",
      "_________________________________________________________________\n"
     ]
    }
   ],
   "source": [
    "lstm_model = keras.models.load_model('../../assets/deep_assets/lstm_model')\n",
    "lstm_model.summary()"
   ],
   "metadata": {
    "collapsed": false,
    "pycharm": {
     "is_executing": true
    },
    "ExecuteTime": {
     "end_time": "2023-06-26T01:59:41.727413300Z",
     "start_time": "2023-06-26T01:59:09.174928900Z"
    }
   }
  },
  {
   "cell_type": "code",
   "execution_count": 67,
   "outputs": [
    {
     "name": "stdout",
     "output_type": "stream",
     "text": [
      "Model: \"sequential_1\"\n",
      "_________________________________________________________________\n",
      " Layer (type)                Output Shape              Param #   \n",
      "=================================================================\n",
      " embedding_1 (Embedding)     (None, 8, 300)            1387200   \n",
      "                                                                 \n",
      " bidirectional_2 (Bidirectio  (None, 8, 64)            85248     \n",
      " nal)                                                            \n",
      "                                                                 \n",
      " dropout_2 (Dropout)         (None, 8, 64)             0         \n",
      "                                                                 \n",
      " bidirectional_3 (Bidirectio  (None, 32)               10368     \n",
      " nal)                                                            \n",
      "                                                                 \n",
      " dense_2 (Dense)             (None, 64)                2112      \n",
      "                                                                 \n",
      " dense_3 (Dense)             (None, 3)                 195       \n",
      "                                                                 \n",
      "=================================================================\n",
      "Total params: 1,485,123\n",
      "Trainable params: 97,923\n",
      "Non-trainable params: 1,387,200\n",
      "_________________________________________________________________\n"
     ]
    }
   ],
   "source": [
    "bilstm_model = keras.models.load_model('../../assets/deep_assets/bilstm_model')\n",
    "bilstm_model.summary()"
   ],
   "metadata": {
    "collapsed": false,
    "ExecuteTime": {
     "end_time": "2023-06-26T01:59:51.364739900Z",
     "start_time": "2023-06-26T01:59:41.727413300Z"
    }
   }
  },
  {
   "cell_type": "code",
   "execution_count": 68,
   "outputs": [],
   "source": [
    "# Load the tokenizer from the file\n",
    "with open('../../assets/deep_assets/tokenizer.json', 'r', encoding='utf-8') as f:\n",
    "    tokenizer_json = f.read()\n",
    "    tokenizer = tokenizer_from_json(tokenizer_json)\n",
    "    word_index = tokenizer.word_index"
   ],
   "metadata": {
    "collapsed": false,
    "pycharm": {
     "is_executing": true
    },
    "ExecuteTime": {
     "end_time": "2023-06-26T01:59:51.374734200Z",
     "start_time": "2023-06-26T01:59:51.354743100Z"
    }
   }
  },
  {
   "cell_type": "markdown",
   "source": [],
   "metadata": {
    "collapsed": false
   }
  },
  {
   "cell_type": "markdown",
   "source": [
    "## Predictions"
   ],
   "metadata": {
    "collapsed": false
   }
  },
  {
   "cell_type": "markdown",
   "source": [
    "### Functions"
   ],
   "metadata": {
    "collapsed": false
   }
  },
  {
   "cell_type": "code",
   "execution_count": 69,
   "outputs": [],
   "source": [
    "def index2word(word_index):\n",
    "    index_word = {}\n",
    "    for key in word_index:\n",
    "        index_word[word_index[key]] = key\n",
    "    return index_word\n",
    "\n",
    "\n",
    "def seq2text(seq, index_word):\n",
    "    text = []\n",
    "    for index in seq:\n",
    "        text.append(index_word[index])\n",
    "    return text\n",
    "\n",
    "def show_confusion_matrix(cm):\n",
    "        print(\"Confusion Matrix\")\n",
    "        plt.figure(figsize=(10, 7))\n",
    "\n",
    "        sns.heatmap(cm, annot=True, fmt='d', cmap='Blues', xticklabels=['Negative', 'Positive'],\n",
    "                    yticklabels=['Negative', 'Positive'])\n",
    "        plt.xlabel('Predicted')\n",
    "        plt.ylabel('Truth')\n",
    "        plt.title('Confusion Matrix')\n",
    "        plt.show()"
   ],
   "metadata": {
    "collapsed": false,
    "pycharm": {
     "is_executing": true
    },
    "ExecuteTime": {
     "end_time": "2023-06-26T01:59:51.397275600Z",
     "start_time": "2023-06-26T01:59:51.374734200Z"
    }
   }
  },
  {
   "cell_type": "markdown",
   "source": [
    "### Preparing Input"
   ],
   "metadata": {
    "collapsed": false
   }
  },
  {
   "cell_type": "code",
   "execution_count": 70,
   "outputs": [
    {
     "data": {
      "text/plain": "array([[   2,  633,  127, ...,   11,   15,   28],\n       [   2,    1,  104, ..., 3549,    3,  145],\n       [ 315,  640,  641, ...,    0,    0,    0],\n       ...,\n       [2746,    1,    1, ..., 1767,    1,    0],\n       [  52,  545, 1890, ..., 1564,  784,    1],\n       [  11,  657,   36, ...,   44,  497,    0]])"
     },
     "execution_count": 70,
     "metadata": {},
     "output_type": "execute_result"
    }
   ],
   "source": [
    "X_test = test_pp.title\n",
    "y_test = test_pp.to_numpy()[:, -1]\n",
    "\n",
    "test_sequences = tokenizer.texts_to_sequences(X_test)\n",
    "test_padded = pad_sequences(test_sequences, maxlen=8, padding='post', truncating='post')\n",
    "test_padded"
   ],
   "metadata": {
    "collapsed": false,
    "ExecuteTime": {
     "end_time": "2023-06-26T01:59:51.437252700Z",
     "start_time": "2023-06-26T01:59:51.390280500Z"
    }
   }
  },
  {
   "cell_type": "markdown",
   "source": [
    "### Best LSTM Model"
   ],
   "metadata": {
    "collapsed": false
   }
  },
  {
   "cell_type": "markdown",
   "source": [
    "#### Predict"
   ],
   "metadata": {
    "collapsed": false
   }
  },
  {
   "cell_type": "code",
   "execution_count": 71,
   "outputs": [],
   "source": [
    "index_word = index2word(word_index)"
   ],
   "metadata": {
    "collapsed": false,
    "ExecuteTime": {
     "end_time": "2023-06-26T01:59:51.438253100Z",
     "start_time": "2023-06-26T01:59:51.425260100Z"
    }
   }
  },
  {
   "cell_type": "code",
   "execution_count": 72,
   "outputs": [
    {
     "name": "stdout",
     "output_type": "stream",
     "text": [
      "14/14 [==============================] - 1s 5ms/step\n"
     ]
    }
   ],
   "source": [
    "pred_prob = lstm_model.predict(test_padded)"
   ],
   "metadata": {
    "collapsed": false,
    "ExecuteTime": {
     "end_time": "2023-06-26T01:59:52.321212800Z",
     "start_time": "2023-06-26T01:59:51.441253400Z"
    }
   }
  },
  {
   "cell_type": "code",
   "execution_count": 73,
   "outputs": [],
   "source": [
    "# y_pred = [1 if p > 0.5 else 0 for p in pred_prob]\n",
    "y_pred = np.argmax(pred_prob, axis=1)"
   ],
   "metadata": {
    "collapsed": false,
    "ExecuteTime": {
     "end_time": "2023-06-26T01:59:52.342423600Z",
     "start_time": "2023-06-26T01:59:52.326210700Z"
    }
   }
  },
  {
   "cell_type": "markdown",
   "source": [
    "#### Results"
   ],
   "metadata": {
    "collapsed": false
   }
  },
  {
   "cell_type": "code",
   "execution_count": 74,
   "outputs": [
    {
     "data": {
      "text/plain": "                                        sequence  \\\n0             [2, 633, 127, 18, 479, 11, 15, 28]   \n1               [2, 1, 104, 48, 8, 3549, 3, 145]   \n2                       [315, 640, 641, 49, 184]   \n3                       [2, 4, 157, 324, 59, 20]   \n4          [104, 346, 32, 298, 590, 598, 28, 80]   \n..                                           ...   \n439       [516, 77, 197, 527, 1333, 948, 27, 32]   \n440       [2, 4, 1117, 3362, 1679, 1328, 1, 481]   \n441                  [2746, 1, 1, 1, 2, 1767, 1]   \n442  [52, 545, 1890, 578, 1, 1564, 784, 1, 2199]   \n443               [11, 657, 36, 328, 1, 44, 497]   \n\n                                                X_test  \\\n0    petrobras reajusta hoje preco medio gasolina d...   \n1    petrobras precificara maior oferta acoes decad...   \n2             tradingview ideias analises nesta quinta   \n3     petrobras petr4 petrorio prio3 destaques mercado   \n4    maior demanda combustiveis america latina ajud...   \n..                                                 ...   \n439  senado aprova projeto cria conta estabilizacao...   \n440  petrobras petr4 gerente rh suspeito insider re...   \n441  george washington indias orientais petrobras r...   \n442  anp adia chamada publica alocacao capacidade g...   \n443  gasolina cara producao menor acendem etanol us...   \n\n                                              seq2text  y_pred  y_true  \n0    [petrobras, reajusta, hoje, preco, medio, gaso...       0       2  \n1    [petrobras, <OOV>, maior, oferta, acoes, decad...       0       0  \n2       [tradingview, ideias, analises, nesta, quinta]       0       2  \n3    [petrobras, petr4, petrorio, prio3, destaques,...       2       2  \n4    [maior, demanda, combustiveis, america, latina...       0       2  \n..                                                 ...     ...     ...  \n439  [senado, aprova, projeto, cria, conta, estabil...       0       2  \n440  [petrobras, petr4, gerente, rh, suspeito, insi...       0       0  \n441  [george, <OOV>, <OOV>, <OOV>, petrobras, relac...       0       1  \n442  [anp, adia, chamada, publica, <OOV>, capacidad...       0       2  \n443  [gasolina, cara, producao, menor, <OOV>, etano...       0       0  \n\n[444 rows x 5 columns]",
      "text/html": "<div>\n<style scoped>\n    .dataframe tbody tr th:only-of-type {\n        vertical-align: middle;\n    }\n\n    .dataframe tbody tr th {\n        vertical-align: top;\n    }\n\n    .dataframe thead th {\n        text-align: right;\n    }\n</style>\n<table border=\"1\" class=\"dataframe\">\n  <thead>\n    <tr style=\"text-align: right;\">\n      <th></th>\n      <th>sequence</th>\n      <th>X_test</th>\n      <th>seq2text</th>\n      <th>y_pred</th>\n      <th>y_true</th>\n    </tr>\n  </thead>\n  <tbody>\n    <tr>\n      <th>0</th>\n      <td>[2, 633, 127, 18, 479, 11, 15, 28]</td>\n      <td>petrobras reajusta hoje preco medio gasolina d...</td>\n      <td>[petrobras, reajusta, hoje, preco, medio, gaso...</td>\n      <td>0</td>\n      <td>2</td>\n    </tr>\n    <tr>\n      <th>1</th>\n      <td>[2, 1, 104, 48, 8, 3549, 3, 145]</td>\n      <td>petrobras precificara maior oferta acoes decad...</td>\n      <td>[petrobras, &lt;OOV&gt;, maior, oferta, acoes, decad...</td>\n      <td>0</td>\n      <td>0</td>\n    </tr>\n    <tr>\n      <th>2</th>\n      <td>[315, 640, 641, 49, 184]</td>\n      <td>tradingview ideias analises nesta quinta</td>\n      <td>[tradingview, ideias, analises, nesta, quinta]</td>\n      <td>0</td>\n      <td>2</td>\n    </tr>\n    <tr>\n      <th>3</th>\n      <td>[2, 4, 157, 324, 59, 20]</td>\n      <td>petrobras petr4 petrorio prio3 destaques mercado</td>\n      <td>[petrobras, petr4, petrorio, prio3, destaques,...</td>\n      <td>2</td>\n      <td>2</td>\n    </tr>\n    <tr>\n      <th>4</th>\n      <td>[104, 346, 32, 298, 590, 598, 28, 80]</td>\n      <td>maior demanda combustiveis america latina ajud...</td>\n      <td>[maior, demanda, combustiveis, america, latina...</td>\n      <td>0</td>\n      <td>2</td>\n    </tr>\n    <tr>\n      <th>...</th>\n      <td>...</td>\n      <td>...</td>\n      <td>...</td>\n      <td>...</td>\n      <td>...</td>\n    </tr>\n    <tr>\n      <th>439</th>\n      <td>[516, 77, 197, 527, 1333, 948, 27, 32]</td>\n      <td>senado aprova projeto cria conta estabilizacao...</td>\n      <td>[senado, aprova, projeto, cria, conta, estabil...</td>\n      <td>0</td>\n      <td>2</td>\n    </tr>\n    <tr>\n      <th>440</th>\n      <td>[2, 4, 1117, 3362, 1679, 1328, 1, 481]</td>\n      <td>petrobras petr4 gerente rh suspeito insider re...</td>\n      <td>[petrobras, petr4, gerente, rh, suspeito, insi...</td>\n      <td>0</td>\n      <td>0</td>\n    </tr>\n    <tr>\n      <th>441</th>\n      <td>[2746, 1, 1, 1, 2, 1767, 1]</td>\n      <td>george washington indias orientais petrobras r...</td>\n      <td>[george, &lt;OOV&gt;, &lt;OOV&gt;, &lt;OOV&gt;, petrobras, relac...</td>\n      <td>0</td>\n      <td>1</td>\n    </tr>\n    <tr>\n      <th>442</th>\n      <td>[52, 545, 1890, 578, 1, 1564, 784, 1, 2199]</td>\n      <td>anp adia chamada publica alocacao capacidade g...</td>\n      <td>[anp, adia, chamada, publica, &lt;OOV&gt;, capacidad...</td>\n      <td>0</td>\n      <td>2</td>\n    </tr>\n    <tr>\n      <th>443</th>\n      <td>[11, 657, 36, 328, 1, 44, 497]</td>\n      <td>gasolina cara producao menor acendem etanol us...</td>\n      <td>[gasolina, cara, producao, menor, &lt;OOV&gt;, etano...</td>\n      <td>0</td>\n      <td>0</td>\n    </tr>\n  </tbody>\n</table>\n<p>444 rows × 5 columns</p>\n</div>"
     },
     "execution_count": 74,
     "metadata": {},
     "output_type": "execute_result"
    }
   ],
   "source": [
    "df_results = pd.DataFrame()\n",
    "X_test = list(X_test)\n",
    "y_test = list(y_test)\n",
    "df_results['sequence'] = test_sequences\n",
    "df_results['X_test'] = X_test\n",
    "df_results['seq2text'] = df_results['sequence'].apply(lambda x: seq2text(x, index_word))\n",
    "df_results['y_pred'] = y_pred\n",
    "df_results['y_true'] = y_test\n",
    "df_results"
   ],
   "metadata": {
    "collapsed": false,
    "ExecuteTime": {
     "end_time": "2023-06-26T01:59:52.372406300Z",
     "start_time": "2023-06-26T01:59:52.337426300Z"
    }
   }
  },
  {
   "cell_type": "code",
   "execution_count": 75,
   "outputs": [],
   "source": [
    "# accuracy = accuracy_score(y_true=y_test, y_pred=y_pred)\n",
    "# precision = precision_score(average='macro', y_true=y_test, y_pred=y_pred)\n",
    "# recall = recall_score(average='macro', y_true=y_test, y_pred=y_pred)\n",
    "# f1 = f1_score(average='macro', y_true=y_test, y_pred=y_pred)\n",
    "# cm = confusion_matrix(y_true=y_test, y_pred=y_pred)"
   ],
   "metadata": {
    "collapsed": false,
    "ExecuteTime": {
     "end_time": "2023-06-26T01:59:52.384399500Z",
     "start_time": "2023-06-26T01:59:52.372406300Z"
    }
   }
  },
  {
   "cell_type": "code",
   "execution_count": 76,
   "outputs": [
    {
     "name": "stdout",
     "output_type": "stream",
     "text": [
      "              precision    recall  f1-score   support\n",
      "\n",
      "           0       0.49      0.91      0.64       214\n",
      "           1       0.00      0.00      0.00        35\n",
      "           2       0.45      0.10      0.17       195\n",
      "\n",
      "    accuracy                           0.48       444\n",
      "   macro avg       0.31      0.34      0.27       444\n",
      "weighted avg       0.43      0.48      0.38       444\n",
      "\n",
      "Confusion Matrix\n"
     ]
    },
    {
     "name": "stderr",
     "output_type": "stream",
     "text": [
      "C:\\Users\\Guilherme\\AppData\\Roaming\\Python\\Python310\\site-packages\\sklearn\\metrics\\_classification.py:1344: UndefinedMetricWarning: Precision and F-score are ill-defined and being set to 0.0 in labels with no predicted samples. Use `zero_division` parameter to control this behavior.\n",
      "  _warn_prf(average, modifier, msg_start, len(result))\n",
      "C:\\Users\\Guilherme\\AppData\\Roaming\\Python\\Python310\\site-packages\\sklearn\\metrics\\_classification.py:1344: UndefinedMetricWarning: Precision and F-score are ill-defined and being set to 0.0 in labels with no predicted samples. Use `zero_division` parameter to control this behavior.\n",
      "  _warn_prf(average, modifier, msg_start, len(result))\n",
      "C:\\Users\\Guilherme\\AppData\\Roaming\\Python\\Python310\\site-packages\\sklearn\\metrics\\_classification.py:1344: UndefinedMetricWarning: Precision and F-score are ill-defined and being set to 0.0 in labels with no predicted samples. Use `zero_division` parameter to control this behavior.\n",
      "  _warn_prf(average, modifier, msg_start, len(result))\n"
     ]
    },
    {
     "data": {
      "text/plain": "<Figure size 1000x700 with 2 Axes>",
      "image/png": "[encoded data removed]"
     },
     "metadata": {},
     "output_type": "display_data"
    }
   ],
   "source": [
    "print(classification_report(y_test,y_pred))\n",
    "cm = confusion_matrix(y_true=y_test, y_pred=y_pred)\n",
    "show_confusion_matrix(cm)"
   ],
   "metadata": {
    "collapsed": false,
    "ExecuteTime": {
     "end_time": "2023-06-26T01:59:52.684225Z",
     "start_time": "2023-06-26T01:59:52.387397900Z"
    }
   }
  },
  {
   "cell_type": "markdown",
   "source": [
    "### Best BiLSTM Model"
   ],
   "metadata": {
    "collapsed": false
   }
  },
  {
   "cell_type": "markdown",
   "source": [
    "#### Predict"
   ],
   "metadata": {
    "collapsed": false
   }
  },
  {
   "cell_type": "code",
   "execution_count": 77,
   "outputs": [],
   "source": [
    "index_word = index2word(word_index)"
   ],
   "metadata": {
    "collapsed": false,
    "ExecuteTime": {
     "end_time": "2023-06-26T01:59:52.699350300Z",
     "start_time": "2023-06-26T01:59:52.688223700Z"
    }
   }
  },
  {
   "cell_type": "code",
   "execution_count": 78,
   "outputs": [
    {
     "name": "stdout",
     "output_type": "stream",
     "text": [
      "14/14 [==============================] - 2s 8ms/step\n"
     ]
    }
   ],
   "source": [
    "pred_prob = bilstm_model.predict(test_padded)"
   ],
   "metadata": {
    "collapsed": false,
    "ExecuteTime": {
     "end_time": "2023-06-26T01:59:54.427053700Z",
     "start_time": "2023-06-26T01:59:52.704306400Z"
    }
   }
  },
  {
   "cell_type": "code",
   "execution_count": 79,
   "outputs": [],
   "source": [
    "# y_pred = [1 if p > 0.5 else 0 for p in pred_prob]\n",
    "y_pred = np.argmax(pred_prob, axis=1)"
   ],
   "metadata": {
    "collapsed": false,
    "ExecuteTime": {
     "end_time": "2023-06-26T01:59:54.456385Z",
     "start_time": "2023-06-26T01:59:54.430052400Z"
    }
   }
  },
  {
   "cell_type": "markdown",
   "source": [
    "#### Results"
   ],
   "metadata": {
    "collapsed": false
   }
  },
  {
   "cell_type": "code",
   "execution_count": 80,
   "outputs": [
    {
     "data": {
      "text/plain": "                                        sequence  \\\n0             [2, 633, 127, 18, 479, 11, 15, 28]   \n1               [2, 1, 104, 48, 8, 3549, 3, 145]   \n2                       [315, 640, 641, 49, 184]   \n3                       [2, 4, 157, 324, 59, 20]   \n4          [104, 346, 32, 298, 590, 598, 28, 80]   \n..                                           ...   \n439       [516, 77, 197, 527, 1333, 948, 27, 32]   \n440       [2, 4, 1117, 3362, 1679, 1328, 1, 481]   \n441                  [2746, 1, 1, 1, 2, 1767, 1]   \n442  [52, 545, 1890, 578, 1, 1564, 784, 1, 2199]   \n443               [11, 657, 36, 328, 1, 44, 497]   \n\n                                                X_test  \\\n0    petrobras reajusta hoje preco medio gasolina d...   \n1    petrobras precificara maior oferta acoes decad...   \n2             tradingview ideias analises nesta quinta   \n3     petrobras petr4 petrorio prio3 destaques mercado   \n4    maior demanda combustiveis america latina ajud...   \n..                                                 ...   \n439  senado aprova projeto cria conta estabilizacao...   \n440  petrobras petr4 gerente rh suspeito insider re...   \n441  george washington indias orientais petrobras r...   \n442  anp adia chamada publica alocacao capacidade g...   \n443  gasolina cara producao menor acendem etanol us...   \n\n                                              seq2text  y_pred  y_true  \n0    [petrobras, reajusta, hoje, preco, medio, gaso...       0       2  \n1    [petrobras, <OOV>, maior, oferta, acoes, decad...       0       0  \n2       [tradingview, ideias, analises, nesta, quinta]       2       2  \n3    [petrobras, petr4, petrorio, prio3, destaques,...       2       2  \n4    [maior, demanda, combustiveis, america, latina...       2       2  \n..                                                 ...     ...     ...  \n439  [senado, aprova, projeto, cria, conta, estabil...       2       2  \n440  [petrobras, petr4, gerente, rh, suspeito, insi...       2       0  \n441  [george, <OOV>, <OOV>, <OOV>, petrobras, relac...       0       1  \n442  [anp, adia, chamada, publica, <OOV>, capacidad...       0       2  \n443  [gasolina, cara, producao, menor, <OOV>, etano...       0       0  \n\n[444 rows x 5 columns]",
      "text/html": "<div>\n<style scoped>\n    .dataframe tbody tr th:only-of-type {\n        vertical-align: middle;\n    }\n\n    .dataframe tbody tr th {\n        vertical-align: top;\n    }\n\n    .dataframe thead th {\n        text-align: right;\n    }\n</style>\n<table border=\"1\" class=\"dataframe\">\n  <thead>\n    <tr style=\"text-align: right;\">\n      <th></th>\n      <th>sequence</th>\n      <th>X_test</th>\n      <th>seq2text</th>\n      <th>y_pred</th>\n      <th>y_true</th>\n    </tr>\n  </thead>\n  <tbody>\n    <tr>\n      <th>0</th>\n      <td>[2, 633, 127, 18, 479, 11, 15, 28]</td>\n      <td>petrobras reajusta hoje preco medio gasolina d...</td>\n      <td>[petrobras, reajusta, hoje, preco, medio, gaso...</td>\n      <td>0</td>\n      <td>2</td>\n    </tr>\n    <tr>\n      <th>1</th>\n      <td>[2, 1, 104, 48, 8, 3549, 3, 145]</td>\n      <td>petrobras precificara maior oferta acoes decad...</td>\n      <td>[petrobras, &lt;OOV&gt;, maior, oferta, acoes, decad...</td>\n      <td>0</td>\n      <td>0</td>\n    </tr>\n    <tr>\n      <th>2</th>\n      <td>[315, 640, 641, 49, 184]</td>\n      <td>tradingview ideias analises nesta quinta</td>\n      <td>[tradingview, ideias, analises, nesta, quinta]</td>\n      <td>2</td>\n      <td>2</td>\n    </tr>\n    <tr>\n      <th>3</th>\n      <td>[2, 4, 157, 324, 59, 20]</td>\n      <td>petrobras petr4 petrorio prio3 destaques mercado</td>\n      <td>[petrobras, petr4, petrorio, prio3, destaques,...</td>\n      <td>2</td>\n      <td>2</td>\n    </tr>\n    <tr>\n      <th>4</th>\n      <td>[104, 346, 32, 298, 590, 598, 28, 80]</td>\n      <td>maior demanda combustiveis america latina ajud...</td>\n      <td>[maior, demanda, combustiveis, america, latina...</td>\n      <td>2</td>\n      <td>2</td>\n    </tr>\n    <tr>\n      <th>...</th>\n      <td>...</td>\n      <td>...</td>\n      <td>...</td>\n      <td>...</td>\n      <td>...</td>\n    </tr>\n    <tr>\n      <th>439</th>\n      <td>[516, 77, 197, 527, 1333, 948, 27, 32]</td>\n      <td>senado aprova projeto cria conta estabilizacao...</td>\n      <td>[senado, aprova, projeto, cria, conta, estabil...</td>\n      <td>2</td>\n      <td>2</td>\n    </tr>\n    <tr>\n      <th>440</th>\n      <td>[2, 4, 1117, 3362, 1679, 1328, 1, 481]</td>\n      <td>petrobras petr4 gerente rh suspeito insider re...</td>\n      <td>[petrobras, petr4, gerente, rh, suspeito, insi...</td>\n      <td>2</td>\n      <td>0</td>\n    </tr>\n    <tr>\n      <th>441</th>\n      <td>[2746, 1, 1, 1, 2, 1767, 1]</td>\n      <td>george washington indias orientais petrobras r...</td>\n      <td>[george, &lt;OOV&gt;, &lt;OOV&gt;, &lt;OOV&gt;, petrobras, relac...</td>\n      <td>0</td>\n      <td>1</td>\n    </tr>\n    <tr>\n      <th>442</th>\n      <td>[52, 545, 1890, 578, 1, 1564, 784, 1, 2199]</td>\n      <td>anp adia chamada publica alocacao capacidade g...</td>\n      <td>[anp, adia, chamada, publica, &lt;OOV&gt;, capacidad...</td>\n      <td>0</td>\n      <td>2</td>\n    </tr>\n    <tr>\n      <th>443</th>\n      <td>[11, 657, 36, 328, 1, 44, 497]</td>\n      <td>gasolina cara producao menor acendem etanol us...</td>\n      <td>[gasolina, cara, producao, menor, &lt;OOV&gt;, etano...</td>\n      <td>0</td>\n      <td>0</td>\n    </tr>\n  </tbody>\n</table>\n<p>444 rows × 5 columns</p>\n</div>"
     },
     "execution_count": 80,
     "metadata": {},
     "output_type": "execute_result"
    }
   ],
   "source": [
    "df_results = pd.DataFrame()\n",
    "X_test = list(X_test)\n",
    "y_test = list(y_test)\n",
    "df_results['sequence'] = test_sequences\n",
    "df_results['X_test'] = X_test\n",
    "df_results['seq2text'] = df_results['sequence'].apply(lambda x: seq2text(x, index_word))\n",
    "df_results['y_pred'] = y_pred\n",
    "df_results['y_true'] = y_test\n",
    "df_results"
   ],
   "metadata": {
    "collapsed": false,
    "ExecuteTime": {
     "end_time": "2023-06-26T01:59:54.477373500Z",
     "start_time": "2023-06-26T01:59:54.446391800Z"
    }
   }
  },
  {
   "cell_type": "code",
   "execution_count": 81,
   "outputs": [],
   "source": [
    "# accuracy = accuracy_score(y_true=y_test, y_pred=y_pred)\n",
    "# precision = precision_score(average='macro', y_true=y_test, y_pred=y_pred)\n",
    "# recall = recall_score(average='macro', y_true=y_test, y_pred=y_pred)\n",
    "# f1 = f1_score(average='macro', y_true=y_test, y_pred=y_pred)\n",
    "# cm = confusion_matrix(y_true=y_test, y_pred=y_pred)"
   ],
   "metadata": {
    "collapsed": false,
    "ExecuteTime": {
     "end_time": "2023-06-26T01:59:54.501577900Z",
     "start_time": "2023-06-26T01:59:54.473376200Z"
    }
   }
  },
  {
   "cell_type": "code",
   "execution_count": 82,
   "outputs": [
    {
     "name": "stdout",
     "output_type": "stream",
     "text": [
      "              precision    recall  f1-score   support\n",
      "\n",
      "           0       0.52      0.57      0.54       214\n",
      "           1       0.00      0.00      0.00        35\n",
      "           2       0.49      0.53      0.51       195\n",
      "\n",
      "    accuracy                           0.50       444\n",
      "   macro avg       0.34      0.36      0.35       444\n",
      "weighted avg       0.46      0.50      0.48       444\n",
      "\n"
     ]
    },
    {
     "name": "stderr",
     "output_type": "stream",
     "text": [
      "C:\\Users\\Guilherme\\AppData\\Roaming\\Python\\Python310\\site-packages\\sklearn\\metrics\\_classification.py:1344: UndefinedMetricWarning: Precision and F-score are ill-defined and being set to 0.0 in labels with no predicted samples. Use `zero_division` parameter to control this behavior.\n",
      "  _warn_prf(average, modifier, msg_start, len(result))\n",
      "C:\\Users\\Guilherme\\AppData\\Roaming\\Python\\Python310\\site-packages\\sklearn\\metrics\\_classification.py:1344: UndefinedMetricWarning: Precision and F-score are ill-defined and being set to 0.0 in labels with no predicted samples. Use `zero_division` parameter to control this behavior.\n",
      "  _warn_prf(average, modifier, msg_start, len(result))\n",
      "C:\\Users\\Guilherme\\AppData\\Roaming\\Python\\Python310\\site-packages\\sklearn\\metrics\\_classification.py:1344: UndefinedMetricWarning: Precision and F-score are ill-defined and being set to 0.0 in labels with no predicted samples. Use `zero_division` parameter to control this behavior.\n",
      "  _warn_prf(average, modifier, msg_start, len(result))\n"
     ]
    }
   ],
   "source": [
    "print(classification_report(y_test,y_pred))\n",
    "cm = confusion_matrix(y_true=y_test, y_pred=y_pred)"
   ],
   "metadata": {
    "collapsed": false,
    "ExecuteTime": {
     "end_time": "2023-06-26T01:59:54.592525300Z",
     "start_time": "2023-06-26T01:59:54.491583800Z"
    }
   }
  },
  {
   "cell_type": "code",
   "execution_count": 83,
   "outputs": [
    {
     "data": {
      "text/plain": "array([0.56542056, 0.        , 0.52820513])"
     },
     "execution_count": 83,
     "metadata": {},
     "output_type": "execute_result"
    }
   ],
   "source": [
    "recall = recall_score(y_true=y_test, y_pred=y_pred, average=None)\n",
    "recall"
   ],
   "metadata": {
    "collapsed": false,
    "ExecuteTime": {
     "end_time": "2023-06-26T01:59:54.654947100Z",
     "start_time": "2023-06-26T01:59:54.519566700Z"
    }
   }
  },
  {
   "cell_type": "code",
   "execution_count": 84,
   "outputs": [],
   "source": [
    "import plotly.express as px"
   ],
   "metadata": {
    "collapsed": false,
    "ExecuteTime": {
     "end_time": "2023-06-26T01:59:54.669940300Z",
     "start_time": "2023-06-26T01:59:54.535559700Z"
    }
   }
  },
  {
   "cell_type": "code",
   "execution_count": 85,
   "outputs": [
    {
     "name": "stderr",
     "output_type": "stream",
     "text": [
      "C:\\Users\\Guilherme\\AppData\\Roaming\\Python\\Python310\\site-packages\\sklearn\\metrics\\_classification.py:1344: UndefinedMetricWarning: Precision and F-score are ill-defined and being set to 0.0 in labels with no predicted samples. Use `zero_division` parameter to control this behavior.\n",
      "  _warn_prf(average, modifier, msg_start, len(result))\n",
      "C:\\Users\\Guilherme\\AppData\\Roaming\\Python\\Python310\\site-packages\\sklearn\\metrics\\_classification.py:1344: UndefinedMetricWarning: Precision and F-score are ill-defined and being set to 0.0 in labels with no predicted samples. Use `zero_division` parameter to control this behavior.\n",
      "  _warn_prf(average, modifier, msg_start, len(result))\n",
      "C:\\Users\\Guilherme\\AppData\\Roaming\\Python\\Python310\\site-packages\\sklearn\\metrics\\_classification.py:1344: UndefinedMetricWarning: Precision and F-score are ill-defined and being set to 0.0 in labels with no predicted samples. Use `zero_division` parameter to control this behavior.\n",
      "  _warn_prf(average, modifier, msg_start, len(result))\n"
     ]
    }
   ],
   "source": [
    "result = (classification_report(y_test,y_pred))"
   ],
   "metadata": {
    "collapsed": false,
    "ExecuteTime": {
     "end_time": "2023-06-26T01:59:54.669940300Z",
     "start_time": "2023-06-26T01:59:54.551548300Z"
    }
   }
  }
 ],
 "metadata": {
  "kernelspec": {
   "display_name": "Python 3",
   "language": "python",
   "name": "python3"
  },
  "language_info": {
   "codemirror_mode": {
    "name": "ipython",
    "version": 2
   },
   "file_extension": ".py",
   "mimetype": "text/x-python",
   "name": "python",
   "nbconvert_exporter": "python",
   "pygments_lexer": "ipython2",
   "version": "2.7.6"
  }
 },
 "nbformat": 4,
 "nbformat_minor": 0
}
