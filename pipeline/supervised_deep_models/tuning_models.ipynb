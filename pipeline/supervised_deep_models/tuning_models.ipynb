{
 "cells": [
  {
   "cell_type": "markdown",
   "source": [
    "## Packages"
   ],
   "metadata": {
    "collapsed": false
   }
  },
  {
   "cell_type": "code",
   "execution_count": 140,
   "outputs": [],
   "source": [
    "from gensim.models import Word2Vec\n",
    "import numpy as np\n",
    "import pandas as pd\n",
    "from keras.callbacks import EarlyStopping\n",
    "import seaborn as sns\n",
    "import keras_tuner as kt\n",
    "from tensorflow.keras.optimizers import SGD, RMSprop\n",
    "\n",
    "from keras.models import Sequential\n",
    "from keras.layers import Embedding, LSTM, Dense, Dropout, Bidirectional\n",
    "import matplotlib.pyplot as plt\n",
    "from keras.preprocessing.text import tokenizer_from_json\n",
    "import os, sys\n",
    "from keras.losses import BinaryCrossentropy\n",
    "\n",
    "\n",
    "import keras.backend as K"
   ],
   "metadata": {
    "collapsed": false,
    "ExecuteTime": {
     "end_time": "2023-06-26T00:55:06.509864600Z",
     "start_time": "2023-06-26T00:55:06.344282900Z"
    }
   }
  },
  {
   "cell_type": "code",
   "execution_count": 141,
   "outputs": [
    {
     "name": "stdout",
     "output_type": "stream",
     "text": [
      "C:\\Users\\Guilherme\\.conda\\envs\\nlp2\\python.exe\n",
      "C:\\Users\\Guilherme\\Documents\\Programming\\Python\\DataScience\\TCC_stock_price\\pipeline\\supervised_deep_models\n"
     ]
    }
   ],
   "source": [
    "print(sys.executable)\n",
    "print(os.getcwd())"
   ],
   "metadata": {
    "collapsed": false,
    "ExecuteTime": {
     "end_time": "2023-06-26T00:55:06.701753400Z",
     "start_time": "2023-06-26T00:55:06.353277200Z"
    }
   }
  },
  {
   "cell_type": "markdown",
   "source": [
    "## Dependencies"
   ],
   "metadata": {
    "collapsed": false
   }
  },
  {
   "cell_type": "code",
   "execution_count": 142,
   "outputs": [
    {
     "data": {
      "text/plain": "4624"
     },
     "execution_count": 142,
     "metadata": {},
     "output_type": "execute_result"
    }
   ],
   "source": [
    "with open('../../assets/deep_assets/tokenizer.json', 'r', encoding='utf-8') as f:\n",
    "    tokenizer_json = f.read()\n",
    "    tokenizer = tokenizer_from_json(tokenizer_json)\n",
    "    word_index = tokenizer.word_index\n",
    "\n",
    "len(word_index)"
   ],
   "metadata": {
    "collapsed": false,
    "ExecuteTime": {
     "end_time": "2023-06-26T00:55:06.702752700Z",
     "start_time": "2023-06-26T00:55:06.367269300Z"
    }
   }
  },
  {
   "cell_type": "code",
   "execution_count": 143,
   "outputs": [
    {
     "name": "stdout",
     "output_type": "stream",
     "text": [
      "[('mercado', 0.8972763419151306), ('elet3', 0.8876447081565857), ('financeiro', 0.8797796964645386), ('eletrobras', 0.8726834058761597), ('atencao', 0.8672264814376831), ('chamam', 0.8558464050292969), ('agitam', 0.8534992933273315), ('oibr3', 0.8169822692871094), ('mexem', 0.8063585162162781), ('irbr3', 0.8050428628921509)]\n"
     ]
    }
   ],
   "source": [
    "model_we = Word2Vec.load('../../assets/deep_assets/word2vec.model')\n",
    "\n",
    "print(model_we.wv.most_similar('petr4'))\n",
    "\n",
    "# List of nparrays of size 300\n",
    "embeddings_dict = {}\n",
    "for word in model_we.wv.index_to_key:\n",
    "    embeddings_dict[word] = model_we.wv[word]\n",
    "\n",
    "embeddings_on_this_context = np.zeros((len(word_index), 300))\n",
    "for word, i in word_index.items():\n",
    "    embeddings_vector = embeddings_dict.get(word)\n",
    "    if embeddings_vector is not None:\n",
    "        embeddings_on_this_context[i - 1] = embeddings_vector\n"
   ],
   "metadata": {
    "collapsed": false,
    "ExecuteTime": {
     "end_time": "2023-06-26T00:55:06.715746100Z",
     "start_time": "2023-06-26T00:55:06.396252600Z"
    }
   }
  },
  {
   "cell_type": "code",
   "execution_count": 144,
   "outputs": [],
   "source": [
    "train_padded = pd.read_csv('../../assets/data/splits/train/padded.csv')\n",
    "val_padded = pd.read_csv('../../assets/data/splits/val/padded.csv')"
   ],
   "metadata": {
    "collapsed": false,
    "ExecuteTime": {
     "end_time": "2023-06-26T00:55:06.819685900Z",
     "start_time": "2023-06-26T00:55:06.428234500Z"
    }
   }
  },
  {
   "cell_type": "markdown",
   "source": [
    "## Functions"
   ],
   "metadata": {
    "collapsed": false
   }
  },
  {
   "cell_type": "code",
   "execution_count": 145,
   "outputs": [],
   "source": [
    "def index2word(word_index):\n",
    "    index_word = {}\n",
    "    for key in word_index:\n",
    "        index_word[word_index[key]] = key\n",
    "    return index_word\n",
    "\n",
    "\n",
    "def seq2text(seq, index_word):\n",
    "    text = []\n",
    "    for index in seq:\n",
    "        text.append(index_word[index])\n",
    "    return text\n",
    "\n",
    "\n",
    "def show_confusion_matrix(cm):\n",
    "    print(\"Confusion Matrix\")\n",
    "    plt.figure(figsize=(10, 7))\n",
    "\n",
    "    sns.heatmap(cm, annot=True, fmt='d', cmap='Blues', xticklabels=['Negative', 'Positive'],\n",
    "                yticklabels=['Negative', 'Positive'])\n",
    "    plt.xlabel('Predicted')\n",
    "    plt.ylabel('Truth')\n",
    "    plt.title('Confusion Matrix')\n",
    "    plt.show()"
   ],
   "metadata": {
    "collapsed": false,
    "ExecuteTime": {
     "end_time": "2023-06-26T00:55:06.819685900Z",
     "start_time": "2023-06-26T00:55:06.459894Z"
    }
   }
  },
  {
   "cell_type": "markdown",
   "source": [
    "## RNN Models"
   ],
   "metadata": {
    "collapsed": false
   }
  },
  {
   "cell_type": "markdown",
   "source": [
    "Tuning Architecture Hyperparams using RandomSearch and Early Stopping"
   ],
   "metadata": {
    "collapsed": false
   }
  },
  {
   "cell_type": "markdown",
   "source": [
    "### Preparing RNN inputs"
   ],
   "metadata": {
    "collapsed": false
   }
  },
  {
   "cell_type": "code",
   "execution_count": 146,
   "outputs": [],
   "source": [
    "X_train = train_padded.to_numpy()[:, :-1]\n",
    "X_val = val_padded.to_numpy()[:, :-1]\n",
    "y_train = train_padded.to_numpy()[:, -1]\n",
    "y_val = val_padded.to_numpy()[:, -1]"
   ],
   "metadata": {
    "collapsed": false,
    "ExecuteTime": {
     "end_time": "2023-06-26T00:55:06.849667900Z",
     "start_time": "2023-06-26T00:55:06.474887Z"
    }
   }
  },
  {
   "cell_type": "markdown",
   "source": [],
   "metadata": {
    "collapsed": false
   }
  },
  {
   "cell_type": "markdown",
   "source": [
    "### LSTM"
   ],
   "metadata": {
    "collapsed": false
   }
  },
  {
   "cell_type": "markdown",
   "source": [
    "#### Tuning"
   ],
   "metadata": {
    "collapsed": false
   }
  },
  {
   "cell_type": "code",
   "execution_count": 147,
   "outputs": [],
   "source": [
    "def build_model(hp):\n",
    "    model = Sequential([\n",
    "        Embedding(input_dim=len(word_index), output_dim=300, input_length=X_train.shape[1], trainable=False,\n",
    "                  weights=[embeddings_on_this_context]),\n",
    "        LSTM(hp.Choice('units_lstm_1', [16, 32, 64]), return_sequences=True),\n",
    "        Dropout(hp.Float('rate_dp_1', 0, 0.3, step=0.1)),\n",
    "        LSTM(hp.Choice('units_lstm_2', [16, 32, 64])),\n",
    "        Dense(hp.Choice('units_dense', [16, 32, 64]), hp.Choice('activation', ['tanh'])),\n",
    "        Dropout(hp.Float('rate_dp_2', 0, 0.3, step=0.1)),\n",
    "        Dense(3, activation='softmax')\n",
    "    ])\n",
    "    loss = 'sparse_categorical_crossentropy'\n",
    "    # optimizer = RMSprop())\n",
    "    metrics = ['accuracy']\n",
    "    # metrics = ['accuracy', Precision(), Recall()]\n",
    "\n",
    "    optimizer = RMSprop()\n",
    "\n",
    "\n",
    "    model.compile(loss=loss, optimizer=optimizer, metrics=metrics)\n",
    "    return model\n",
    "\n",
    "\n",
    "es = EarlyStopping(monitor='val_loss', mode='min', verbose=1, patience=5)"
   ],
   "metadata": {
    "collapsed": false,
    "ExecuteTime": {
     "end_time": "2023-06-26T00:55:06.859662100Z",
     "start_time": "2023-06-26T00:55:06.493874400Z"
    }
   }
  },
  {
   "cell_type": "code",
   "execution_count": 148,
   "outputs": [
    {
     "name": "stdout",
     "output_type": "stream",
     "text": [
      "Search space summary\n",
      "Default search space size: 6\n",
      "units_lstm_1 (Choice)\n",
      "{'default': 16, 'conditions': [], 'values': [16, 32, 64], 'ordered': True}\n",
      "rate_dp_1 (Float)\n",
      "{'default': 0.0, 'conditions': [], 'min_value': 0.0, 'max_value': 0.3, 'step': 0.1, 'sampling': 'linear'}\n",
      "units_lstm_2 (Choice)\n",
      "{'default': 16, 'conditions': [], 'values': [16, 32, 64], 'ordered': True}\n",
      "units_dense (Choice)\n",
      "{'default': 16, 'conditions': [], 'values': [16, 32, 64], 'ordered': True}\n",
      "activation (Choice)\n",
      "{'default': 'tanh', 'conditions': [], 'values': ['tanh'], 'ordered': False}\n",
      "rate_dp_2 (Float)\n",
      "{'default': 0.0, 'conditions': [], 'min_value': 0.0, 'max_value': 0.3, 'step': 0.1, 'sampling': 'linear'}\n"
     ]
    }
   ],
   "source": [
    "# amanha testar dropout 0.0, 0.1, 0.2\n",
    "tuner = kt.RandomSearch(\n",
    "    build_model,\n",
    "    objective='val_accuracy',\n",
    "    max_trials=10,\n",
    "    executions_per_trial=1,\n",
    "    directory='../../assets/deep_assets',\n",
    "    overwrite=True,\n",
    "    project_name='lstm_tuning')\n",
    "\n",
    "tuner.search_space_summary()"
   ],
   "metadata": {
    "collapsed": false,
    "ExecuteTime": {
     "end_time": "2023-06-26T00:55:07.221451800Z",
     "start_time": "2023-06-26T00:55:06.503868700Z"
    }
   }
  },
  {
   "cell_type": "code",
   "execution_count": 149,
   "outputs": [
    {
     "name": "stdout",
     "output_type": "stream",
     "text": [
      "Trial 10 Complete [00h 00m 15s]\n",
      "val_accuracy: 0.5033860206604004\n",
      "\n",
      "Best val_accuracy So Far: 0.5169300436973572\n",
      "Total elapsed time: 00h 03m 06s\n",
      "INFO:tensorflow:Oracle triggered exit\n"
     ]
    },
    {
     "name": "stderr",
     "output_type": "stream",
     "text": [
      "INFO:tensorflow:Oracle triggered exit\n"
     ]
    },
    {
     "name": "stdout",
     "output_type": "stream",
     "text": [
      "Results summary\n",
      "Results in ../../assets/deep_assets\\lstm_tuning\n",
      "Showing 10 best trials\n",
      "Objective(name=\"val_accuracy\", direction=\"max\")\n",
      "\n",
      "Trial 01 summary\n",
      "Hyperparameters:\n",
      "units_lstm_1: 32\n",
      "rate_dp_1: 0.0\n",
      "units_lstm_2: 16\n",
      "units_dense: 64\n",
      "activation: tanh\n",
      "rate_dp_2: 0.2\n",
      "Score: 0.5169300436973572\n",
      "\n",
      "Trial 00 summary\n",
      "Hyperparameters:\n",
      "units_lstm_1: 64\n",
      "rate_dp_1: 0.2\n",
      "units_lstm_2: 32\n",
      "units_dense: 64\n",
      "activation: tanh\n",
      "rate_dp_2: 0.0\n",
      "Score: 0.5079006552696228\n",
      "\n",
      "Trial 02 summary\n",
      "Hyperparameters:\n",
      "units_lstm_1: 16\n",
      "rate_dp_1: 0.1\n",
      "units_lstm_2: 16\n",
      "units_dense: 16\n",
      "activation: tanh\n",
      "rate_dp_2: 0.0\n",
      "Score: 0.5033860206604004\n",
      "\n",
      "Trial 03 summary\n",
      "Hyperparameters:\n",
      "units_lstm_1: 16\n",
      "rate_dp_1: 0.0\n",
      "units_lstm_2: 32\n",
      "units_dense: 64\n",
      "activation: tanh\n",
      "rate_dp_2: 0.2\n",
      "Score: 0.5033860206604004\n",
      "\n",
      "Trial 07 summary\n",
      "Hyperparameters:\n",
      "units_lstm_1: 16\n",
      "rate_dp_1: 0.0\n",
      "units_lstm_2: 32\n",
      "units_dense: 16\n",
      "activation: tanh\n",
      "rate_dp_2: 0.2\n",
      "Score: 0.5033860206604004\n",
      "\n",
      "Trial 08 summary\n",
      "Hyperparameters:\n",
      "units_lstm_1: 32\n",
      "rate_dp_1: 0.0\n",
      "units_lstm_2: 64\n",
      "units_dense: 16\n",
      "activation: tanh\n",
      "rate_dp_2: 0.1\n",
      "Score: 0.5033860206604004\n",
      "\n",
      "Trial 09 summary\n",
      "Hyperparameters:\n",
      "units_lstm_1: 16\n",
      "rate_dp_1: 0.1\n",
      "units_lstm_2: 16\n",
      "units_dense: 32\n",
      "activation: tanh\n",
      "rate_dp_2: 0.0\n",
      "Score: 0.5033860206604004\n",
      "\n",
      "Trial 04 summary\n",
      "Hyperparameters:\n",
      "units_lstm_1: 16\n",
      "rate_dp_1: 0.2\n",
      "units_lstm_2: 32\n",
      "units_dense: 32\n",
      "activation: tanh\n",
      "rate_dp_2: 0.2\n",
      "Score: 0.4988713264465332\n",
      "\n",
      "Trial 05 summary\n",
      "Hyperparameters:\n",
      "units_lstm_1: 32\n",
      "rate_dp_1: 0.1\n",
      "units_lstm_2: 64\n",
      "units_dense: 16\n",
      "activation: tanh\n",
      "rate_dp_2: 0.2\n",
      "Score: 0.4988713264465332\n",
      "\n",
      "Trial 06 summary\n",
      "Hyperparameters:\n",
      "units_lstm_1: 32\n",
      "rate_dp_1: 0.0\n",
      "units_lstm_2: 64\n",
      "units_dense: 16\n",
      "activation: tanh\n",
      "rate_dp_2: 0.0\n",
      "Score: 0.4988713264465332\n"
     ]
    }
   ],
   "source": [
    "tuner.search(X_train, y_train, epochs=4000, validation_data=(X_val, y_val), callbacks=[es], batch_size=32, verbose=2)\n",
    "tuner.results_summary()"
   ],
   "metadata": {
    "collapsed": false
   }
  },
  {
   "cell_type": "code",
   "execution_count": 150,
   "outputs": [],
   "source": [
    "best_model_lstm_params = tuner.get_best_hyperparameters()[0].values"
   ],
   "metadata": {
    "collapsed": false,
    "ExecuteTime": {
     "end_time": "2023-06-26T00:58:13.692515300Z",
     "start_time": "2023-06-26T00:58:13.651195400Z"
    }
   }
  },
  {
   "cell_type": "markdown",
   "source": [
    "#### Declaring Best Model and Plotting Accuracy and Loss"
   ],
   "metadata": {
    "collapsed": false
   }
  },
  {
   "cell_type": "code",
   "execution_count": 151,
   "outputs": [
    {
     "name": "stdout",
     "output_type": "stream",
     "text": [
      "Model: \"sequential_1\"\n",
      "_________________________________________________________________\n",
      " Layer (type)                Output Shape              Param #   \n",
      "=================================================================\n",
      " embedding_1 (Embedding)     (None, 8, 300)            1387200   \n",
      "                                                                 \n",
      " lstm_2 (LSTM)               (None, 8, 32)             42624     \n",
      "                                                                 \n",
      " dropout_2 (Dropout)         (None, 8, 32)             0         \n",
      "                                                                 \n",
      " lstm_3 (LSTM)               (None, 16)                3136      \n",
      "                                                                 \n",
      " dense_2 (Dense)             (None, 64)                1088      \n",
      "                                                                 \n",
      " dense_3 (Dense)             (None, 3)                 195       \n",
      "                                                                 \n",
      "=================================================================\n",
      "Total params: 1,434,243\n",
      "Trainable params: 47,043\n",
      "Non-trainable params: 1,387,200\n",
      "_________________________________________________________________\n"
     ]
    }
   ],
   "source": [
    "best_model_lstm = Sequential([\n",
    "    Embedding(input_dim=len(word_index), output_dim=300, input_length=X_train.shape[1], trainable=False,\n",
    "              weights=[embeddings_on_this_context]),\n",
    "    LSTM(best_model_lstm_params['units_lstm_1'], return_sequences=True),\n",
    "    Dropout(best_model_lstm_params['rate_dp_1']),\n",
    "    # Bidirectional(LSTM(hp.Choice('units',[32,64]))),\n",
    "    LSTM(best_model_lstm_params['units_lstm_2']),\n",
    "    Dense(best_model_lstm_params['units_dense'], activation=best_model_lstm_params['activation']),\n",
    "    # Dropout(0.73),\n",
    "    Dense(3, activation='softmax')\n",
    "])\n",
    "\n",
    "loss = 'sparse_categorical_crossentropy'\n",
    "#\n",
    "optimizer = RMSprop()\n",
    "\n",
    "metrics = ['accuracy']\n",
    "\n",
    "\n",
    "\n",
    "best_model_lstm.compile(loss=loss, optimizer=optimizer, metrics=metrics)\n",
    "\n",
    "es = EarlyStopping(monitor='val_loss', mode='min', verbose=1, patience=5)\n",
    "\n",
    "best_model_lstm.summary()\n"
   ],
   "metadata": {
    "collapsed": false,
    "ExecuteTime": {
     "end_time": "2023-06-26T00:58:14.281269600Z",
     "start_time": "2023-06-26T00:58:13.667841700Z"
    }
   }
  },
  {
   "cell_type": "code",
   "execution_count": 152,
   "outputs": [
    {
     "name": "stdout",
     "output_type": "stream",
     "text": [
      "Epoch 1/4000\n",
      "111/111 - 5s - loss: 0.9591 - accuracy: 0.4551 - val_loss: 0.9645 - val_accuracy: 0.3973 - 5s/epoch - 44ms/step\n",
      "Epoch 2/4000\n",
      "111/111 - 1s - loss: 0.9509 - accuracy: 0.4687 - val_loss: 0.9526 - val_accuracy: 0.4989 - 868ms/epoch - 8ms/step\n",
      "Epoch 3/4000\n",
      "111/111 - 1s - loss: 0.9496 - accuracy: 0.4715 - val_loss: 0.9544 - val_accuracy: 0.4989 - 864ms/epoch - 8ms/step\n",
      "Epoch 4/4000\n",
      "111/111 - 1s - loss: 0.9489 - accuracy: 0.4692 - val_loss: 0.9546 - val_accuracy: 0.4966 - 860ms/epoch - 8ms/step\n",
      "Epoch 5/4000\n",
      "111/111 - 1s - loss: 0.9475 - accuracy: 0.4676 - val_loss: 0.9532 - val_accuracy: 0.4989 - 859ms/epoch - 8ms/step\n",
      "Epoch 6/4000\n",
      "111/111 - 1s - loss: 0.9487 - accuracy: 0.4707 - val_loss: 0.9548 - val_accuracy: 0.4898 - 889ms/epoch - 8ms/step\n",
      "Epoch 7/4000\n",
      "111/111 - 1s - loss: 0.9483 - accuracy: 0.4723 - val_loss: 0.9531 - val_accuracy: 0.5034 - 908ms/epoch - 8ms/step\n",
      "Epoch 7: early stopping\n"
     ]
    }
   ],
   "source": [
    "history = best_model_lstm.fit(X_train, y_train, epochs=4000, batch_size=32, validation_data=(X_val, y_val), verbose=2,\n",
    "                              callbacks=[es])"
   ],
   "metadata": {
    "collapsed": false,
    "ExecuteTime": {
     "end_time": "2023-06-26T00:58:24.506892200Z",
     "start_time": "2023-06-26T00:58:14.249789700Z"
    }
   }
  },
  {
   "cell_type": "code",
   "execution_count": 153,
   "outputs": [
    {
     "data": {
      "text/plain": "<Figure size 1500x500 with 2 Axes>",
      "image/png": "[encoded data removed]"
     },
     "metadata": {},
     "output_type": "display_data"
    }
   ],
   "source": [
    "fig, (ax1, ax2) = plt.subplots(1, 2, figsize=(15, 5))\n",
    "ax1.plot(history.history['accuracy'])\n",
    "ax1.plot(history.history['val_accuracy'])\n",
    "ax1.set_title('Model Accuracy')\n",
    "ax1.set_ylabel('Accuracy')\n",
    "ax1.set_xlabel('Epoch')\n",
    "ax1.legend(['Train', 'Validation'], loc='upper left')\n",
    "\n",
    "ax2.plot(history.history['loss'])\n",
    "ax2.plot(history.history['val_loss'])\n",
    "ax2.set_title('Model Loss')\n",
    "ax2.set_ylabel('Loss')\n",
    "ax2.set_xlabel('Epoch')\n",
    "ax2.legend(['Train', 'Validation'], loc='upper left')\n",
    "plt.show()"
   ],
   "metadata": {
    "collapsed": false,
    "ExecuteTime": {
     "end_time": "2023-06-26T00:58:25.099273700Z",
     "start_time": "2023-06-26T00:58:24.506892200Z"
    }
   }
  },
  {
   "cell_type": "markdown",
   "source": [
    "### BiLSTM"
   ],
   "metadata": {
    "collapsed": false
   }
  },
  {
   "cell_type": "markdown",
   "source": [
    "#### Tuning"
   ],
   "metadata": {
    "collapsed": false
   }
  },
  {
   "cell_type": "code",
   "execution_count": 154,
   "outputs": [],
   "source": [
    "def build_model(hp):\n",
    "    model = Sequential([\n",
    "        Embedding(input_dim=len(word_index), output_dim=300, input_length=X_train.shape[1], trainable=False,\n",
    "                  weights=[embeddings_on_this_context]),\n",
    "        Bidirectional(LSTM(hp.Choice('units_bilstm_1', [16, 32, 64]), return_sequences=True)),\n",
    "        Dropout(hp.Float('rate_dp_1', 0, 0.3, step=0.1)),\n",
    "        Bidirectional(LSTM(hp.Choice('units_bilstm_2', [16, 32, 64]))),\n",
    "        Dense(hp.Choice('units_dense', [16, 32, 64]), hp.Choice('activation', ['tanh'])),\n",
    "        Dropout(hp.Float('rate_dp_2', 0, 0.3, step=0.1)),\n",
    "        Dense(3, activation='softmax')\n",
    "    ])\n",
    "    loss = 'sparse_categorical_crossentropy'\n",
    "    # optimizer = RMSprop())\n",
    "    metrics = ['accuracy']\n",
    "\n",
    "    optimizer = RMSprop()\n",
    "\n",
    "    # metrics = ['accuracy', Precision(), Recall()]\n",
    "\n",
    "    model.compile(loss=loss, optimizer=optimizer, metrics=metrics)\n",
    "    return model\n",
    "\n",
    "\n",
    "es = EarlyStopping(monitor='val_loss', mode='min', verbose=1, patience=5)"
   ],
   "metadata": {
    "collapsed": false,
    "ExecuteTime": {
     "end_time": "2023-06-26T00:58:25.208325200Z",
     "start_time": "2023-06-26T00:58:25.099273700Z"
    }
   }
  },
  {
   "cell_type": "code",
   "execution_count": 155,
   "outputs": [
    {
     "name": "stdout",
     "output_type": "stream",
     "text": [
      "Search space summary\n",
      "Default search space size: 6\n",
      "units_bilstm_1 (Choice)\n",
      "{'default': 16, 'conditions': [], 'values': [16, 32, 64], 'ordered': True}\n",
      "rate_dp_1 (Float)\n",
      "{'default': 0.0, 'conditions': [], 'min_value': 0.0, 'max_value': 0.3, 'step': 0.1, 'sampling': 'linear'}\n",
      "units_bilstm_2 (Choice)\n",
      "{'default': 16, 'conditions': [], 'values': [16, 32, 64], 'ordered': True}\n",
      "units_dense (Choice)\n",
      "{'default': 16, 'conditions': [], 'values': [16, 32, 64], 'ordered': True}\n",
      "activation (Choice)\n",
      "{'default': 'tanh', 'conditions': [], 'values': ['tanh'], 'ordered': False}\n",
      "rate_dp_2 (Float)\n",
      "{'default': 0.0, 'conditions': [], 'min_value': 0.0, 'max_value': 0.3, 'step': 0.1, 'sampling': 'linear'}\n"
     ]
    }
   ],
   "source": [
    "# amanha testar dropout 0.0, 0.1, 0.2\n",
    "tuner = kt.RandomSearch(\n",
    "    build_model,\n",
    "    objective='val_accuracy',\n",
    "    max_trials=10,\n",
    "    executions_per_trial=1,\n",
    "    directory='../../assets/deep_assets',\n",
    "    overwrite=True,\n",
    "    project_name='bilstm_tuning')\n",
    "\n",
    "tuner.search_space_summary()"
   ],
   "metadata": {
    "collapsed": false,
    "ExecuteTime": {
     "end_time": "2023-06-26T00:58:26.161853300Z",
     "start_time": "2023-06-26T00:58:25.114905400Z"
    }
   }
  },
  {
   "cell_type": "code",
   "execution_count": 156,
   "outputs": [
    {
     "name": "stdout",
     "output_type": "stream",
     "text": [
      "Trial 10 Complete [00h 00m 36s]\n",
      "val_accuracy: 0.5033860206604004\n",
      "\n",
      "Best val_accuracy So Far: 0.5033860206604004\n",
      "Total elapsed time: 00h 04m 49s\n",
      "INFO:tensorflow:Oracle triggered exit\n"
     ]
    },
    {
     "name": "stderr",
     "output_type": "stream",
     "text": [
      "INFO:tensorflow:Oracle triggered exit\n"
     ]
    },
    {
     "name": "stdout",
     "output_type": "stream",
     "text": [
      "Results summary\n",
      "Results in ../../assets/deep_assets\\bilstm_tuning\n",
      "Showing 10 best trials\n",
      "Objective(name=\"val_accuracy\", direction=\"max\")\n",
      "\n",
      "Trial 01 summary\n",
      "Hyperparameters:\n",
      "units_bilstm_1: 32\n",
      "rate_dp_1: 0.0\n",
      "units_bilstm_2: 16\n",
      "units_dense: 64\n",
      "activation: tanh\n",
      "rate_dp_2: 0.0\n",
      "Score: 0.5033860206604004\n",
      "\n",
      "Trial 09 summary\n",
      "Hyperparameters:\n",
      "units_bilstm_1: 16\n",
      "rate_dp_1: 0.2\n",
      "units_bilstm_2: 16\n",
      "units_dense: 32\n",
      "activation: tanh\n",
      "rate_dp_2: 0.1\n",
      "Score: 0.5033860206604004\n",
      "\n",
      "Trial 00 summary\n",
      "Hyperparameters:\n",
      "units_bilstm_1: 32\n",
      "rate_dp_1: 0.1\n",
      "units_bilstm_2: 64\n",
      "units_dense: 32\n",
      "activation: tanh\n",
      "rate_dp_2: 0.2\n",
      "Score: 0.5011286735534668\n",
      "\n",
      "Trial 02 summary\n",
      "Hyperparameters:\n",
      "units_bilstm_1: 16\n",
      "rate_dp_1: 0.1\n",
      "units_bilstm_2: 64\n",
      "units_dense: 16\n",
      "activation: tanh\n",
      "rate_dp_2: 0.1\n",
      "Score: 0.5011286735534668\n",
      "\n",
      "Trial 08 summary\n",
      "Hyperparameters:\n",
      "units_bilstm_1: 64\n",
      "rate_dp_1: 0.2\n",
      "units_bilstm_2: 32\n",
      "units_dense: 32\n",
      "activation: tanh\n",
      "rate_dp_2: 0.1\n",
      "Score: 0.5011286735534668\n",
      "\n",
      "Trial 03 summary\n",
      "Hyperparameters:\n",
      "units_bilstm_1: 64\n",
      "rate_dp_1: 0.1\n",
      "units_bilstm_2: 32\n",
      "units_dense: 16\n",
      "activation: tanh\n",
      "rate_dp_2: 0.0\n",
      "Score: 0.4988713264465332\n",
      "\n",
      "Trial 04 summary\n",
      "Hyperparameters:\n",
      "units_bilstm_1: 16\n",
      "rate_dp_1: 0.2\n",
      "units_bilstm_2: 64\n",
      "units_dense: 64\n",
      "activation: tanh\n",
      "rate_dp_2: 0.1\n",
      "Score: 0.4988713264465332\n",
      "\n",
      "Trial 05 summary\n",
      "Hyperparameters:\n",
      "units_bilstm_1: 32\n",
      "rate_dp_1: 0.0\n",
      "units_bilstm_2: 16\n",
      "units_dense: 16\n",
      "activation: tanh\n",
      "rate_dp_2: 0.0\n",
      "Score: 0.4988713264465332\n",
      "\n",
      "Trial 06 summary\n",
      "Hyperparameters:\n",
      "units_bilstm_1: 16\n",
      "rate_dp_1: 0.1\n",
      "units_bilstm_2: 32\n",
      "units_dense: 32\n",
      "activation: tanh\n",
      "rate_dp_2: 0.0\n",
      "Score: 0.4988713264465332\n",
      "\n",
      "Trial 07 summary\n",
      "Hyperparameters:\n",
      "units_bilstm_1: 32\n",
      "rate_dp_1: 0.0\n",
      "units_bilstm_2: 64\n",
      "units_dense: 32\n",
      "activation: tanh\n",
      "rate_dp_2: 0.1\n",
      "Score: 0.4988713264465332\n"
     ]
    }
   ],
   "source": [
    "tuner.search(X_train, y_train, epochs=4000, validation_data=(X_val, y_val), callbacks=[es], batch_size=32, verbose=2)\n",
    "tuner.results_summary()\n"
   ],
   "metadata": {
    "collapsed": false
   }
  },
  {
   "cell_type": "code",
   "execution_count": 157,
   "outputs": [],
   "source": [
    "best_model_bilstm_params = tuner.get_best_hyperparameters()[0].values"
   ],
   "metadata": {
    "collapsed": false,
    "ExecuteTime": {
     "end_time": "2023-06-26T01:03:14.840729900Z",
     "start_time": "2023-06-26T01:03:14.806749300Z"
    }
   }
  },
  {
   "cell_type": "markdown",
   "source": [
    "#### Declaring Best Model and Plotting Accuracy and Loss"
   ],
   "metadata": {
    "collapsed": false
   }
  },
  {
   "cell_type": "code",
   "execution_count": 158,
   "outputs": [
    {
     "name": "stdout",
     "output_type": "stream",
     "text": [
      "Model: \"sequential_1\"\n",
      "_________________________________________________________________\n",
      " Layer (type)                Output Shape              Param #   \n",
      "=================================================================\n",
      " embedding_1 (Embedding)     (None, 8, 300)            1387200   \n",
      "                                                                 \n",
      " bidirectional_2 (Bidirectio  (None, 8, 64)            85248     \n",
      " nal)                                                            \n",
      "                                                                 \n",
      " dropout_2 (Dropout)         (None, 8, 64)             0         \n",
      "                                                                 \n",
      " bidirectional_3 (Bidirectio  (None, 32)               10368     \n",
      " nal)                                                            \n",
      "                                                                 \n",
      " dense_2 (Dense)             (None, 64)                2112      \n",
      "                                                                 \n",
      " dense_3 (Dense)             (None, 3)                 195       \n",
      "                                                                 \n",
      "=================================================================\n",
      "Total params: 1,485,123\n",
      "Trainable params: 97,923\n",
      "Non-trainable params: 1,387,200\n",
      "_________________________________________________________________\n"
     ]
    }
   ],
   "source": [
    "best_model_bilstm = Sequential([\n",
    "    Embedding(input_dim=len(word_index), output_dim=300, input_length=X_train.shape[1], trainable=False,\n",
    "              weights=[embeddings_on_this_context]),\n",
    "    Bidirectional(LSTM(best_model_bilstm_params['units_bilstm_1'], return_sequences=True)),\n",
    "    Dropout(best_model_bilstm_params['rate_dp_1']),\n",
    "    # Bidirectional(LSTM(hp.Choice('units',[32,64]))),\n",
    "    Bidirectional(LSTM(best_model_bilstm_params['units_bilstm_2'])),\n",
    "    Dense(best_model_bilstm_params['units_dense'], activation=best_model_bilstm_params['activation']),\n",
    "    # Dropout(0.73),\n",
    "    Dense(3, activation='softmax')\n",
    "])\n",
    "\n",
    "loss = 'sparse_categorical_crossentropy'\n",
    "\n",
    "metrics = ['accuracy']\n",
    "\n",
    "optimizer = RMSprop()\n",
    "\n",
    "\n",
    "best_model_bilstm.compile(loss=loss, optimizer=optimizer, metrics=metrics)\n",
    "\n",
    "es = EarlyStopping(monitor='val_loss', mode='min', verbose=1, patience=5)\n",
    "\n",
    "best_model_bilstm.summary()\n"
   ],
   "metadata": {
    "collapsed": false,
    "ExecuteTime": {
     "end_time": "2023-06-26T01:03:15.919394Z",
     "start_time": "2023-06-26T01:03:14.831734400Z"
    }
   }
  },
  {
   "cell_type": "code",
   "execution_count": 159,
   "outputs": [
    {
     "name": "stdout",
     "output_type": "stream",
     "text": [
      "Epoch 1/4000\n",
      "111/111 - 9s - loss: 0.9585 - accuracy: 0.4436 - val_loss: 0.9703 - val_accuracy: 0.4989 - 9s/epoch - 77ms/step\n",
      "Epoch 2/4000\n",
      "111/111 - 1s - loss: 0.9507 - accuracy: 0.4616 - val_loss: 0.9644 - val_accuracy: 0.4086 - 1s/epoch - 12ms/step\n",
      "Epoch 3/4000\n",
      "111/111 - 1s - loss: 0.9503 - accuracy: 0.4577 - val_loss: 0.9565 - val_accuracy: 0.4989 - 1s/epoch - 12ms/step\n",
      "Epoch 4/4000\n",
      "111/111 - 1s - loss: 0.9486 - accuracy: 0.4639 - val_loss: 0.9578 - val_accuracy: 0.4989 - 1s/epoch - 12ms/step\n",
      "Epoch 5/4000\n",
      "111/111 - 1s - loss: 0.9472 - accuracy: 0.4757 - val_loss: 0.9557 - val_accuracy: 0.4989 - 1s/epoch - 12ms/step\n",
      "Epoch 6/4000\n",
      "111/111 - 1s - loss: 0.9465 - accuracy: 0.4735 - val_loss: 0.9552 - val_accuracy: 0.4718 - 1s/epoch - 12ms/step\n",
      "Epoch 7/4000\n",
      "111/111 - 1s - loss: 0.9475 - accuracy: 0.4752 - val_loss: 0.9533 - val_accuracy: 0.4989 - 1s/epoch - 12ms/step\n",
      "Epoch 8/4000\n",
      "111/111 - 1s - loss: 0.9482 - accuracy: 0.4771 - val_loss: 0.9587 - val_accuracy: 0.4402 - 1s/epoch - 12ms/step\n",
      "Epoch 9/4000\n",
      "111/111 - 1s - loss: 0.9467 - accuracy: 0.4653 - val_loss: 0.9535 - val_accuracy: 0.4876 - 1s/epoch - 12ms/step\n",
      "Epoch 10/4000\n",
      "111/111 - 1s - loss: 0.9452 - accuracy: 0.4723 - val_loss: 0.9626 - val_accuracy: 0.4718 - 1s/epoch - 12ms/step\n",
      "Epoch 11/4000\n",
      "111/111 - 1s - loss: 0.9443 - accuracy: 0.4777 - val_loss: 0.9529 - val_accuracy: 0.5011 - 1s/epoch - 12ms/step\n",
      "Epoch 12/4000\n",
      "111/111 - 1s - loss: 0.9437 - accuracy: 0.4788 - val_loss: 0.9630 - val_accuracy: 0.4515 - 1s/epoch - 12ms/step\n",
      "Epoch 13/4000\n",
      "111/111 - 1s - loss: 0.9442 - accuracy: 0.4822 - val_loss: 0.9605 - val_accuracy: 0.5056 - 1s/epoch - 12ms/step\n",
      "Epoch 14/4000\n",
      "111/111 - 1s - loss: 0.9444 - accuracy: 0.4769 - val_loss: 0.9559 - val_accuracy: 0.4695 - 1s/epoch - 12ms/step\n",
      "Epoch 15/4000\n",
      "111/111 - 1s - loss: 0.9422 - accuracy: 0.4904 - val_loss: 0.9538 - val_accuracy: 0.5034 - 1s/epoch - 12ms/step\n",
      "Epoch 16/4000\n",
      "111/111 - 1s - loss: 0.9427 - accuracy: 0.4856 - val_loss: 0.9601 - val_accuracy: 0.4470 - 1s/epoch - 12ms/step\n",
      "Epoch 16: early stopping\n"
     ]
    }
   ],
   "source": [
    "history = best_model_bilstm.fit(X_train, y_train, epochs=4000, batch_size=32, validation_data=(X_val, y_val), verbose=2,\n",
    "                                callbacks=[es])"
   ],
   "metadata": {
    "collapsed": false,
    "ExecuteTime": {
     "end_time": "2023-06-26T01:03:44.551418700Z",
     "start_time": "2023-06-26T01:03:15.919394Z"
    }
   }
  },
  {
   "cell_type": "code",
   "execution_count": 160,
   "outputs": [
    {
     "data": {
      "text/plain": "<Figure size 1500x500 with 2 Axes>",
      "image/png": "[encoded data removed]"
     },
     "metadata": {},
     "output_type": "display_data"
    }
   ],
   "source": [
    "fig, (ax1, ax2) = plt.subplots(1, 2, figsize=(15, 5))\n",
    "ax1.plot(history.history['accuracy'])\n",
    "ax1.plot(history.history['val_accuracy'])\n",
    "ax1.set_title('Model Accuracy')\n",
    "ax1.set_ylabel('Accuracy')\n",
    "ax1.set_xlabel('Epoch')\n",
    "ax1.legend(['Train', 'Validation'], loc='upper left')\n",
    "\n",
    "ax2.plot(history.history['loss'])\n",
    "ax2.plot(history.history['val_loss'])\n",
    "ax2.set_title('Model Loss')\n",
    "ax2.set_ylabel('Loss')\n",
    "ax2.set_xlabel('Epoch')\n",
    "ax2.legend(['Train', 'Validation'], loc='upper left')\n",
    "plt.show()"
   ],
   "metadata": {
    "collapsed": false,
    "ExecuteTime": {
     "end_time": "2023-06-26T01:03:45.752465800Z",
     "start_time": "2023-06-26T01:03:44.551418700Z"
    }
   }
  },
  {
   "cell_type": "markdown",
   "source": [
    "## Exporting model"
   ],
   "metadata": {
    "collapsed": false
   }
  },
  {
   "cell_type": "code",
   "execution_count": 161,
   "outputs": [
    {
     "name": "stderr",
     "output_type": "stream",
     "text": [
      "WARNING:absl:Found untraced functions such as _update_step_xla, lstm_cell_2_layer_call_fn, lstm_cell_2_layer_call_and_return_conditional_losses, lstm_cell_3_layer_call_fn, lstm_cell_3_layer_call_and_return_conditional_losses while saving (showing 5 of 5). These functions will not be directly callable after loading.\n"
     ]
    },
    {
     "name": "stdout",
     "output_type": "stream",
     "text": [
      "INFO:tensorflow:Assets written to: ../../assets/deep_assets/lstm_model\\assets\n"
     ]
    },
    {
     "name": "stderr",
     "output_type": "stream",
     "text": [
      "INFO:tensorflow:Assets written to: ../../assets/deep_assets/lstm_model\\assets\n",
      "WARNING:absl:Found untraced functions such as _update_step_xla, lstm_cell_7_layer_call_fn, lstm_cell_7_layer_call_and_return_conditional_losses, lstm_cell_8_layer_call_fn, lstm_cell_8_layer_call_and_return_conditional_losses while saving (showing 5 of 9). These functions will not be directly callable after loading.\n"
     ]
    },
    {
     "name": "stdout",
     "output_type": "stream",
     "text": [
      "INFO:tensorflow:Assets written to: ../../assets/deep_assets/bilstm_model\\assets\n"
     ]
    },
    {
     "name": "stderr",
     "output_type": "stream",
     "text": [
      "INFO:tensorflow:Assets written to: ../../assets/deep_assets/bilstm_model\\assets\n"
     ]
    }
   ],
   "source": [
    "best_model_lstm.save('../../assets/deep_assets/lstm_model')\n",
    "best_model_bilstm.save('../../assets/deep_assets/bilstm_model')"
   ],
   "metadata": {
    "collapsed": false,
    "ExecuteTime": {
     "end_time": "2023-06-26T01:04:12.329585200Z",
     "start_time": "2023-06-26T01:03:45.752465800Z"
    }
   }
  }
 ],
 "metadata": {
  "kernelspec": {
   "display_name": "Python 3",
   "language": "python",
   "name": "python3"
  },
  "language_info": {
   "codemirror_mode": {
    "name": "ipython",
    "version": 2
   },
   "file_extension": ".py",
   "mimetype": "text/x-python",
   "name": "python",
   "nbconvert_exporter": "python",
   "pygments_lexer": "ipython2",
   "version": "2.7.6"
  }
 },
 "nbformat": 4,
 "nbformat_minor": 0
}
