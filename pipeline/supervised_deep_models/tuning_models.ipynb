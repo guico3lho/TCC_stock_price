{
 "cells": [
  {
   "cell_type": "markdown",
   "source": [
    "## Packages"
   ],
   "metadata": {
    "collapsed": false
   }
  },
  {
   "cell_type": "code",
   "execution_count": 137,
   "outputs": [],
   "source": [
    "from gensim.models import Word2Vec\n",
    "import numpy as np\n",
    "import pandas as pd\n",
    "from keras.callbacks import EarlyStopping\n",
    "import seaborn as sns\n",
    "import keras_tuner as kt\n",
    "from tensorflow.keras.optimizers import SGD, RMSprop, Adam\n",
    "\n",
    "from keras.models import Sequential\n",
    "from keras.layers import Embedding, LSTM, Dense, Dropout, Bidirectional\n",
    "import matplotlib.pyplot as plt\n",
    "from keras.preprocessing.text import tokenizer_from_json\n",
    "import os, sys\n",
    "from keras.losses import BinaryCrossentropy\n",
    "\n",
    "import keras.backend as K"
   ],
   "metadata": {
    "collapsed": false,
    "ExecuteTime": {
     "end_time": "2023-06-26T21:21:08.903738300Z",
     "start_time": "2023-06-26T21:21:08.718843700Z"
    }
   }
  },
  {
   "cell_type": "code",
   "execution_count": 138,
   "outputs": [
    {
     "name": "stdout",
     "output_type": "stream",
     "text": [
      "C:\\Users\\Guilherme\\.conda\\envs\\nlp2\\python.exe\n",
      "C:\\Users\\Guilherme\\Documents\\Programming\\Python\\DataScience\\TCC_stock_price\\pipeline\\supervised_deep_models\n"
     ]
    }
   ],
   "source": [
    "print(sys.executable)\n",
    "print(os.getcwd())"
   ],
   "metadata": {
    "collapsed": false,
    "ExecuteTime": {
     "end_time": "2023-06-26T21:21:09.057649700Z",
     "start_time": "2023-06-26T21:21:08.734834800Z"
    }
   }
  },
  {
   "cell_type": "markdown",
   "source": [
    "## Dependencies"
   ],
   "metadata": {
    "collapsed": false
   }
  },
  {
   "cell_type": "code",
   "execution_count": 139,
   "outputs": [
    {
     "data": {
      "text/plain": "4624"
     },
     "execution_count": 139,
     "metadata": {},
     "output_type": "execute_result"
    }
   ],
   "source": [
    "with open('../../assets/deep_assets/tokenizer.json', 'r', encoding='utf-8') as f:\n",
    "    tokenizer_json = f.read()\n",
    "    tokenizer = tokenizer_from_json(tokenizer_json)\n",
    "    word_index = tokenizer.word_index\n",
    "\n",
    "len(word_index)"
   ],
   "metadata": {
    "collapsed": false,
    "ExecuteTime": {
     "end_time": "2023-06-26T21:21:09.063647Z",
     "start_time": "2023-06-26T21:21:08.749826100Z"
    }
   }
  },
  {
   "cell_type": "code",
   "execution_count": 140,
   "outputs": [
    {
     "name": "stdout",
     "output_type": "stream",
     "text": [
      "[('mercado', 0.8972763419151306), ('elet3', 0.8876447081565857), ('financeiro', 0.8797796964645386), ('eletrobras', 0.8726834058761597), ('atencao', 0.8672264814376831), ('chamam', 0.8558464050292969), ('agitam', 0.8534992933273315), ('oibr3', 0.8169822692871094), ('mexem', 0.8063585162162781), ('irbr3', 0.8050428628921509)]\n"
     ]
    }
   ],
   "source": [
    "model_we = Word2Vec.load('../../assets/deep_assets/word2vec.model')\n",
    "\n",
    "print(model_we.wv.most_similar('petr4'))\n",
    "\n",
    "# List of nparrays of size 300\n",
    "embeddings_dict = {}\n",
    "for word in model_we.wv.index_to_key:\n",
    "    embeddings_dict[word] = model_we.wv[word]\n",
    "\n",
    "embeddings_on_this_context = np.zeros((len(word_index), 300))\n",
    "for word, i in word_index.items():\n",
    "    embeddings_vector = embeddings_dict.get(word)\n",
    "    if embeddings_vector is not None:\n",
    "        embeddings_on_this_context[i - 1] = embeddings_vector\n"
   ],
   "metadata": {
    "collapsed": false,
    "ExecuteTime": {
     "end_time": "2023-06-26T21:21:09.074664100Z",
     "start_time": "2023-06-26T21:21:08.783806400Z"
    }
   }
  },
  {
   "cell_type": "code",
   "execution_count": 141,
   "outputs": [],
   "source": [
    "train_padded = pd.read_csv('../../assets/data/splits/train/padded.csv')\n",
    "val_padded = pd.read_csv('../../assets/data/splits/val/padded.csv')"
   ],
   "metadata": {
    "collapsed": false,
    "ExecuteTime": {
     "end_time": "2023-06-26T21:21:09.118615500Z",
     "start_time": "2023-06-26T21:21:08.811807700Z"
    }
   }
  },
  {
   "cell_type": "markdown",
   "source": [
    "## Functions"
   ],
   "metadata": {
    "collapsed": false
   }
  },
  {
   "cell_type": "code",
   "execution_count": 142,
   "outputs": [],
   "source": [
    "def index2word(word_index):\n",
    "    index_word = {}\n",
    "    for key in word_index:\n",
    "        index_word[word_index[key]] = key\n",
    "    return index_word\n",
    "\n",
    "\n",
    "def seq2text(seq, index_word):\n",
    "    text = []\n",
    "    for index in seq:\n",
    "        text.append(index_word[index])\n",
    "    return text\n",
    "\n",
    "\n",
    "def show_confusion_matrix(cm):\n",
    "    print(\"Confusion Matrix\")\n",
    "    plt.figure(figsize=(10, 7))\n",
    "\n",
    "    sns.heatmap(cm, annot=True, fmt='d', cmap='Blues', xticklabels=['Negative', 'Positive'],\n",
    "                yticklabels=['Negative', 'Positive'])\n",
    "    plt.xlabel('Predicted')\n",
    "    plt.ylabel('Truth')\n",
    "    plt.title('Confusion Matrix')\n",
    "    plt.show()"
   ],
   "metadata": {
    "collapsed": false,
    "ExecuteTime": {
     "end_time": "2023-06-26T21:21:09.128609900Z",
     "start_time": "2023-06-26T21:21:08.845770800Z"
    }
   }
  },
  {
   "cell_type": "markdown",
   "source": [
    "## RNN Models"
   ],
   "metadata": {
    "collapsed": false
   }
  },
  {
   "cell_type": "markdown",
   "source": [
    "Tuning Architecture Hyperparams using RandomSearch and Early Stopping"
   ],
   "metadata": {
    "collapsed": false
   }
  },
  {
   "cell_type": "markdown",
   "source": [
    "### Preparing RNN inputs"
   ],
   "metadata": {
    "collapsed": false
   }
  },
  {
   "cell_type": "code",
   "execution_count": 143,
   "outputs": [],
   "source": [
    "X_train = train_padded.to_numpy()[:, :-1]\n",
    "X_val = val_padded.to_numpy()[:, :-1]\n",
    "y_train = train_padded.to_numpy()[:, -1]\n",
    "y_val = val_padded.to_numpy()[:, -1]"
   ],
   "metadata": {
    "collapsed": false,
    "ExecuteTime": {
     "end_time": "2023-06-26T21:21:09.130609400Z",
     "start_time": "2023-06-26T21:21:08.859762800Z"
    }
   }
  },
  {
   "cell_type": "markdown",
   "source": [],
   "metadata": {
    "collapsed": false
   }
  },
  {
   "cell_type": "markdown",
   "source": [
    "### LSTM"
   ],
   "metadata": {
    "collapsed": false
   }
  },
  {
   "cell_type": "markdown",
   "source": [
    "#### Tuning"
   ],
   "metadata": {
    "collapsed": false
   }
  },
  {
   "cell_type": "code",
   "execution_count": 144,
   "outputs": [],
   "source": [
    "def build_model(hp):\n",
    "    model = Sequential([\n",
    "        Embedding(input_dim=len(word_index), output_dim=25, input_length=X_train.shape[1]),\n",
    "        LSTM(hp.Choice('units_lstm_1', [16, 32, 64]), return_sequences=True),\n",
    "        Dropout(hp.Float('rate_dp_1', 0, 0.3, step=0.1)),\n",
    "        LSTM(hp.Choice('units_lstm_2', [16, 32, 64])),\n",
    "        Dense(hp.Choice('units_dense', [16, 32, 64]), hp.Choice('activation', ['tanh'])),\n",
    "        Dropout(hp.Float('rate_dp_2', 0, 0.3, step=0.1)),\n",
    "        Dense(3, activation='softmax')\n",
    "    ])\n",
    "    loss = 'sparse_categorical_crossentropy'\n",
    "    # optimizer = RMSprop())\n",
    "    metrics = ['accuracy']\n",
    "    # metrics = ['accuracy', Precision(), Recall()]\n",
    "\n",
    "    optimizer = Adam(0.0001)\n",
    "\n",
    "    model.compile(loss=loss, optimizer=optimizer, metrics=metrics)\n",
    "    return model\n",
    "\n",
    "\n",
    "es = EarlyStopping(monitor='val_loss', mode='min', verbose=1, patience=10)"
   ],
   "metadata": {
    "collapsed": false,
    "ExecuteTime": {
     "end_time": "2023-06-26T21:21:09.131608300Z",
     "start_time": "2023-06-26T21:21:08.880751600Z"
    }
   }
  },
  {
   "cell_type": "code",
   "execution_count": 145,
   "outputs": [
    {
     "name": "stdout",
     "output_type": "stream",
     "text": [
      "Search space summary\n",
      "Default search space size: 6\n",
      "units_lstm_1 (Choice)\n",
      "{'default': 16, 'conditions': [], 'values': [16, 32, 64], 'ordered': True}\n",
      "rate_dp_1 (Float)\n",
      "{'default': 0.0, 'conditions': [], 'min_value': 0.0, 'max_value': 0.3, 'step': 0.1, 'sampling': 'linear'}\n",
      "units_lstm_2 (Choice)\n",
      "{'default': 16, 'conditions': [], 'values': [16, 32, 64], 'ordered': True}\n",
      "units_dense (Choice)\n",
      "{'default': 16, 'conditions': [], 'values': [16, 32, 64], 'ordered': True}\n",
      "activation (Choice)\n",
      "{'default': 'tanh', 'conditions': [], 'values': ['tanh'], 'ordered': False}\n",
      "rate_dp_2 (Float)\n",
      "{'default': 0.0, 'conditions': [], 'min_value': 0.0, 'max_value': 0.3, 'step': 0.1, 'sampling': 'linear'}\n"
     ]
    }
   ],
   "source": [
    "# amanha testar dropout 0.0, 0.1, 0.2\n",
    "tuner = kt.RandomSearch(\n",
    "    build_model,\n",
    "    objective='val_accuracy',\n",
    "    max_trials=10,\n",
    "    executions_per_trial=1,\n",
    "    directory='../../assets/deep_assets',\n",
    "    overwrite=True,\n",
    "    project_name='lstm_tuning')\n",
    "\n",
    "tuner.search_space_summary()"
   ],
   "metadata": {
    "collapsed": false,
    "ExecuteTime": {
     "end_time": "2023-06-26T21:21:10.090059700Z",
     "start_time": "2023-06-26T21:21:08.905737300Z"
    }
   }
  },
  {
   "cell_type": "code",
   "execution_count": 146,
   "outputs": [
    {
     "name": "stdout",
     "output_type": "stream",
     "text": [
      "Trial 10 Complete [00h 00m 22s]\n",
      "val_accuracy: 0.5011286735534668\n",
      "\n",
      "Best val_accuracy So Far: 0.5101580023765564\n",
      "Total elapsed time: 00h 03m 46s\n",
      "INFO:tensorflow:Oracle triggered exit\n"
     ]
    },
    {
     "name": "stderr",
     "output_type": "stream",
     "text": [
      "INFO:tensorflow:Oracle triggered exit\n"
     ]
    },
    {
     "name": "stdout",
     "output_type": "stream",
     "text": [
      "Results summary\n",
      "Results in ../../assets/deep_assets\\lstm_tuning\n",
      "Showing 10 best trials\n",
      "Objective(name=\"val_accuracy\", direction=\"max\")\n",
      "\n",
      "Trial 02 summary\n",
      "Hyperparameters:\n",
      "units_lstm_1: 32\n",
      "rate_dp_1: 0.0\n",
      "units_lstm_2: 32\n",
      "units_dense: 32\n",
      "activation: tanh\n",
      "rate_dp_2: 0.1\n",
      "Score: 0.5101580023765564\n",
      "\n",
      "Trial 05 summary\n",
      "Hyperparameters:\n",
      "units_lstm_1: 32\n",
      "rate_dp_1: 0.1\n",
      "units_lstm_2: 32\n",
      "units_dense: 64\n",
      "activation: tanh\n",
      "rate_dp_2: 0.2\n",
      "Score: 0.5079006552696228\n",
      "\n",
      "Trial 04 summary\n",
      "Hyperparameters:\n",
      "units_lstm_1: 32\n",
      "rate_dp_1: 0.1\n",
      "units_lstm_2: 16\n",
      "units_dense: 16\n",
      "activation: tanh\n",
      "rate_dp_2: 0.0\n",
      "Score: 0.505643367767334\n",
      "\n",
      "Trial 00 summary\n",
      "Hyperparameters:\n",
      "units_lstm_1: 32\n",
      "rate_dp_1: 0.1\n",
      "units_lstm_2: 32\n",
      "units_dense: 32\n",
      "activation: tanh\n",
      "rate_dp_2: 0.1\n",
      "Score: 0.5033860206604004\n",
      "\n",
      "Trial 06 summary\n",
      "Hyperparameters:\n",
      "units_lstm_1: 16\n",
      "rate_dp_1: 0.2\n",
      "units_lstm_2: 32\n",
      "units_dense: 32\n",
      "activation: tanh\n",
      "rate_dp_2: 0.0\n",
      "Score: 0.5011286735534668\n",
      "\n",
      "Trial 08 summary\n",
      "Hyperparameters:\n",
      "units_lstm_1: 16\n",
      "rate_dp_1: 0.2\n",
      "units_lstm_2: 32\n",
      "units_dense: 64\n",
      "activation: tanh\n",
      "rate_dp_2: 0.2\n",
      "Score: 0.5011286735534668\n",
      "\n",
      "Trial 09 summary\n",
      "Hyperparameters:\n",
      "units_lstm_1: 16\n",
      "rate_dp_1: 0.2\n",
      "units_lstm_2: 32\n",
      "units_dense: 16\n",
      "activation: tanh\n",
      "rate_dp_2: 0.2\n",
      "Score: 0.5011286735534668\n",
      "\n",
      "Trial 01 summary\n",
      "Hyperparameters:\n",
      "units_lstm_1: 64\n",
      "rate_dp_1: 0.2\n",
      "units_lstm_2: 16\n",
      "units_dense: 32\n",
      "activation: tanh\n",
      "rate_dp_2: 0.0\n",
      "Score: 0.4988713264465332\n",
      "\n",
      "Trial 03 summary\n",
      "Hyperparameters:\n",
      "units_lstm_1: 32\n",
      "rate_dp_1: 0.2\n",
      "units_lstm_2: 64\n",
      "units_dense: 16\n",
      "activation: tanh\n",
      "rate_dp_2: 0.1\n",
      "Score: 0.4988713264465332\n",
      "\n",
      "Trial 07 summary\n",
      "Hyperparameters:\n",
      "units_lstm_1: 32\n",
      "rate_dp_1: 0.1\n",
      "units_lstm_2: 16\n",
      "units_dense: 32\n",
      "activation: tanh\n",
      "rate_dp_2: 0.2\n",
      "Score: 0.4988713264465332\n"
     ]
    }
   ],
   "source": [
    "tuner.search(X_train, y_train, epochs=4000, validation_data=(X_val, y_val), callbacks=[es], batch_size=32, verbose=2)\n",
    "tuner.results_summary()"
   ],
   "metadata": {
    "collapsed": false
   }
  },
  {
   "cell_type": "code",
   "execution_count": 147,
   "outputs": [],
   "source": [
    "best_model_lstm_params = tuner.get_best_hyperparameters()[0].values"
   ],
   "metadata": {
    "collapsed": false,
    "ExecuteTime": {
     "end_time": "2023-06-26T21:24:55.711815600Z",
     "start_time": "2023-06-26T21:24:55.684769900Z"
    }
   }
  },
  {
   "cell_type": "markdown",
   "source": [
    "#### Declaring Best Model and Plotting Accuracy and Loss"
   ],
   "metadata": {
    "collapsed": false
   }
  },
  {
   "cell_type": "code",
   "execution_count": 148,
   "outputs": [
    {
     "name": "stdout",
     "output_type": "stream",
     "text": [
      "Model: \"sequential_1\"\n",
      "_________________________________________________________________\n",
      " Layer (type)                Output Shape              Param #   \n",
      "=================================================================\n",
      " embedding_1 (Embedding)     (None, 8, 25)             115600    \n",
      "                                                                 \n",
      " lstm_2 (LSTM)               (None, 8, 32)             7424      \n",
      "                                                                 \n",
      " dropout_2 (Dropout)         (None, 8, 32)             0         \n",
      "                                                                 \n",
      " lstm_3 (LSTM)               (None, 32)                8320      \n",
      "                                                                 \n",
      " dense_2 (Dense)             (None, 32)                1056      \n",
      "                                                                 \n",
      " dense_3 (Dense)             (None, 3)                 99        \n",
      "                                                                 \n",
      "=================================================================\n",
      "Total params: 132,499\n",
      "Trainable params: 132,499\n",
      "Non-trainable params: 0\n",
      "_________________________________________________________________\n"
     ]
    }
   ],
   "source": [
    "best_model_lstm = Sequential([\n",
    "    Embedding(input_dim=len(word_index), output_dim=25, input_length=X_train.shape[1]),\n",
    "    LSTM(best_model_lstm_params['units_lstm_1'], return_sequences=True),\n",
    "    Dropout(best_model_lstm_params['rate_dp_1']),\n",
    "    # Bidirectional(LSTM(hp.Choice('units',[32,64]))),\n",
    "    LSTM(best_model_lstm_params['units_lstm_2']),\n",
    "    Dense(best_model_lstm_params['units_dense'], activation=best_model_lstm_params['activation']),\n",
    "    # Dropout(0.73),\n",
    "    Dense(3, activation='softmax')\n",
    "])\n",
    "\n",
    "loss = 'sparse_categorical_crossentropy'\n",
    "#\n",
    "optimizer = Adam(0.0001)\n",
    "\n",
    "metrics = ['accuracy']\n",
    "\n",
    "best_model_lstm.compile(loss=loss, optimizer=optimizer, metrics=metrics)\n",
    "\n",
    "es = EarlyStopping(monitor='val_loss', mode='min', verbose=1, patience=10)\n",
    "\n",
    "best_model_lstm.summary()\n"
   ],
   "metadata": {
    "collapsed": false,
    "ExecuteTime": {
     "end_time": "2023-06-26T21:24:56.295600Z",
     "start_time": "2023-06-26T21:24:55.700822100Z"
    }
   }
  },
  {
   "cell_type": "code",
   "execution_count": 149,
   "outputs": [
    {
     "name": "stdout",
     "output_type": "stream",
     "text": [
      "Epoch 1/4000\n",
      "111/111 - 6s - loss: 1.0647 - accuracy: 0.4670 - val_loss: 1.0110 - val_accuracy: 0.4989 - 6s/epoch - 51ms/step\n",
      "Epoch 2/4000\n",
      "111/111 - 1s - loss: 0.9647 - accuracy: 0.4735 - val_loss: 0.9514 - val_accuracy: 0.4989 - 856ms/epoch - 8ms/step\n",
      "Epoch 3/4000\n",
      "111/111 - 1s - loss: 0.9430 - accuracy: 0.4735 - val_loss: 0.9525 - val_accuracy: 0.4989 - 832ms/epoch - 7ms/step\n",
      "Epoch 4/4000\n",
      "111/111 - 1s - loss: 0.9376 - accuracy: 0.4735 - val_loss: 0.9543 - val_accuracy: 0.4989 - 816ms/epoch - 7ms/step\n",
      "Epoch 5/4000\n",
      "111/111 - 1s - loss: 0.9306 - accuracy: 0.4735 - val_loss: 0.9530 - val_accuracy: 0.4989 - 850ms/epoch - 8ms/step\n",
      "Epoch 6/4000\n",
      "111/111 - 1s - loss: 0.9185 - accuracy: 0.4735 - val_loss: 0.9621 - val_accuracy: 0.4989 - 836ms/epoch - 8ms/step\n",
      "Epoch 7/4000\n",
      "111/111 - 1s - loss: 0.8998 - accuracy: 0.4740 - val_loss: 0.9656 - val_accuracy: 0.4966 - 959ms/epoch - 9ms/step\n",
      "Epoch 8/4000\n",
      "111/111 - 1s - loss: 0.8697 - accuracy: 0.4802 - val_loss: 0.9921 - val_accuracy: 0.4966 - 937ms/epoch - 8ms/step\n",
      "Epoch 9/4000\n",
      "111/111 - 1s - loss: 0.8339 - accuracy: 0.5014 - val_loss: 1.0311 - val_accuracy: 0.4673 - 846ms/epoch - 8ms/step\n",
      "Epoch 10/4000\n",
      "111/111 - 1s - loss: 0.7997 - accuracy: 0.5271 - val_loss: 1.0800 - val_accuracy: 0.4424 - 820ms/epoch - 7ms/step\n",
      "Epoch 11/4000\n",
      "111/111 - 1s - loss: 0.7670 - accuracy: 0.5576 - val_loss: 1.1507 - val_accuracy: 0.4176 - 919ms/epoch - 8ms/step\n",
      "Epoch 12/4000\n",
      "111/111 - 1s - loss: 0.7335 - accuracy: 0.6005 - val_loss: 1.2176 - val_accuracy: 0.4131 - 894ms/epoch - 8ms/step\n",
      "Epoch 12: early stopping\n"
     ]
    }
   ],
   "source": [
    "history = best_model_lstm.fit(X_train, y_train, epochs=4000, batch_size=32, validation_data=(X_val, y_val), verbose=2,\n",
    "                              callbacks=[es])"
   ],
   "metadata": {
    "collapsed": false,
    "ExecuteTime": {
     "end_time": "2023-06-26T21:25:11.588919600Z",
     "start_time": "2023-06-26T21:24:56.267613700Z"
    }
   }
  },
  {
   "cell_type": "code",
   "execution_count": 150,
   "outputs": [
    {
     "data": {
      "text/plain": "<Figure size 1500x500 with 2 Axes>",
      "image/png": "[encoded data removed]"
     },
     "metadata": {},
     "output_type": "display_data"
    }
   ],
   "source": [
    "fig, (ax1, ax2) = plt.subplots(1, 2, figsize=(15, 5))\n",
    "ax1.plot(history.history['accuracy'])\n",
    "ax1.plot(history.history['val_accuracy'])\n",
    "ax1.set_title('Model Accuracy')\n",
    "ax1.set_ylabel('Accuracy')\n",
    "ax1.set_xlabel('Epoch')\n",
    "ax1.legend(['Train', 'Validation'], loc='upper left')\n",
    "\n",
    "ax2.plot(history.history['loss'])\n",
    "ax2.plot(history.history['val_loss'])\n",
    "ax2.set_title('Model Loss')\n",
    "ax2.set_ylabel('Loss')\n",
    "ax2.set_xlabel('Epoch')\n",
    "ax2.legend(['Train', 'Validation'], loc='upper left')\n",
    "plt.show()"
   ],
   "metadata": {
    "collapsed": false,
    "ExecuteTime": {
     "end_time": "2023-06-26T21:25:12.219110400Z",
     "start_time": "2023-06-26T21:25:11.591918500Z"
    }
   }
  },
  {
   "cell_type": "markdown",
   "source": [
    "### BiLSTM"
   ],
   "metadata": {
    "collapsed": false
   }
  },
  {
   "cell_type": "markdown",
   "source": [
    "#### Tuning"
   ],
   "metadata": {
    "collapsed": false
   }
  },
  {
   "cell_type": "code",
   "execution_count": 151,
   "outputs": [],
   "source": [
    "def build_model(hp):\n",
    "    model = Sequential([\n",
    "        Embedding(input_dim=len(word_index), output_dim=25, input_length=X_train.shape[1]),\n",
    "        Bidirectional(LSTM(hp.Choice('units_bilstm_1', [16, 32, 64]), return_sequences=True)),\n",
    "        Dropout(hp.Float('rate_dp_1', 0, 0.3, step=0.1)),\n",
    "        Bidirectional(LSTM(hp.Choice('units_bilstm_2', [16, 32, 64]))),\n",
    "        Dense(hp.Choice('units_dense', [16, 32, 64]), hp.Choice('activation', ['tanh'])),\n",
    "        Dropout(hp.Float('rate_dp_2', 0, 0.3, step=0.1)),\n",
    "        Dense(3, activation='softmax')\n",
    "    ])\n",
    "    loss = 'sparse_categorical_crossentropy'\n",
    "    # optimizer = Adam(0.0001))\n",
    "    metrics = ['accuracy']\n",
    "\n",
    "    optimizer = Adam(0.0001)\n",
    "\n",
    "    # metrics = ['accuracy', Precision(), Recall()]\n",
    "\n",
    "    model.compile(loss=loss, optimizer=optimizer, metrics=metrics)\n",
    "    return model\n",
    "\n",
    "\n",
    "es = EarlyStopping(monitor='val_loss', mode='min', verbose=1, patience=10)"
   ],
   "metadata": {
    "collapsed": false,
    "ExecuteTime": {
     "end_time": "2023-06-26T21:25:12.338042600Z",
     "start_time": "2023-06-26T21:25:12.224108500Z"
    }
   }
  },
  {
   "cell_type": "code",
   "execution_count": 152,
   "outputs": [
    {
     "name": "stdout",
     "output_type": "stream",
     "text": [
      "Search space summary\n",
      "Default search space size: 6\n",
      "units_bilstm_1 (Choice)\n",
      "{'default': 16, 'conditions': [], 'values': [16, 32, 64], 'ordered': True}\n",
      "rate_dp_1 (Float)\n",
      "{'default': 0.0, 'conditions': [], 'min_value': 0.0, 'max_value': 0.3, 'step': 0.1, 'sampling': 'linear'}\n",
      "units_bilstm_2 (Choice)\n",
      "{'default': 16, 'conditions': [], 'values': [16, 32, 64], 'ordered': True}\n",
      "units_dense (Choice)\n",
      "{'default': 16, 'conditions': [], 'values': [16, 32, 64], 'ordered': True}\n",
      "activation (Choice)\n",
      "{'default': 'tanh', 'conditions': [], 'values': ['tanh'], 'ordered': False}\n",
      "rate_dp_2 (Float)\n",
      "{'default': 0.0, 'conditions': [], 'min_value': 0.0, 'max_value': 0.3, 'step': 0.1, 'sampling': 'linear'}\n"
     ]
    }
   ],
   "source": [
    "# amanha testar dropout 0.0, 0.1, 0.2\n",
    "tuner = kt.RandomSearch(\n",
    "    build_model,\n",
    "    objective='val_accuracy',\n",
    "    max_trials=10,\n",
    "    executions_per_trial=1,\n",
    "    directory='../../assets/deep_assets',\n",
    "    overwrite=True,\n",
    "    project_name='bilstm_tuning')\n",
    "\n",
    "tuner.search_space_summary()"
   ],
   "metadata": {
    "collapsed": false,
    "ExecuteTime": {
     "end_time": "2023-06-26T21:25:13.280120600Z",
     "start_time": "2023-06-26T21:25:12.237101Z"
    }
   }
  },
  {
   "cell_type": "code",
   "execution_count": 153,
   "outputs": [
    {
     "name": "stdout",
     "output_type": "stream",
     "text": [
      "Trial 10 Complete [00h 00m 32s]\n",
      "val_accuracy: 0.4988713264465332\n",
      "\n",
      "Best val_accuracy So Far: 0.5079006552696228\n",
      "Total elapsed time: 00h 04m 57s\n",
      "INFO:tensorflow:Oracle triggered exit\n"
     ]
    },
    {
     "name": "stderr",
     "output_type": "stream",
     "text": [
      "INFO:tensorflow:Oracle triggered exit\n"
     ]
    },
    {
     "name": "stdout",
     "output_type": "stream",
     "text": [
      "Results summary\n",
      "Results in ../../assets/deep_assets\\bilstm_tuning\n",
      "Showing 10 best trials\n",
      "Objective(name=\"val_accuracy\", direction=\"max\")\n",
      "\n",
      "Trial 06 summary\n",
      "Hyperparameters:\n",
      "units_bilstm_1: 16\n",
      "rate_dp_1: 0.0\n",
      "units_bilstm_2: 16\n",
      "units_dense: 16\n",
      "activation: tanh\n",
      "rate_dp_2: 0.1\n",
      "Score: 0.5079006552696228\n",
      "\n",
      "Trial 05 summary\n",
      "Hyperparameters:\n",
      "units_bilstm_1: 32\n",
      "rate_dp_1: 0.2\n",
      "units_bilstm_2: 64\n",
      "units_dense: 32\n",
      "activation: tanh\n",
      "rate_dp_2: 0.2\n",
      "Score: 0.5033860206604004\n",
      "\n",
      "Trial 07 summary\n",
      "Hyperparameters:\n",
      "units_bilstm_1: 64\n",
      "rate_dp_1: 0.0\n",
      "units_bilstm_2: 32\n",
      "units_dense: 16\n",
      "activation: tanh\n",
      "rate_dp_2: 0.1\n",
      "Score: 0.5033860206604004\n",
      "\n",
      "Trial 08 summary\n",
      "Hyperparameters:\n",
      "units_bilstm_1: 32\n",
      "rate_dp_1: 0.2\n",
      "units_bilstm_2: 16\n",
      "units_dense: 64\n",
      "activation: tanh\n",
      "rate_dp_2: 0.2\n",
      "Score: 0.5033860206604004\n",
      "\n",
      "Trial 00 summary\n",
      "Hyperparameters:\n",
      "units_bilstm_1: 64\n",
      "rate_dp_1: 0.2\n",
      "units_bilstm_2: 64\n",
      "units_dense: 32\n",
      "activation: tanh\n",
      "rate_dp_2: 0.1\n",
      "Score: 0.5011286735534668\n",
      "\n",
      "Trial 01 summary\n",
      "Hyperparameters:\n",
      "units_bilstm_1: 64\n",
      "rate_dp_1: 0.1\n",
      "units_bilstm_2: 16\n",
      "units_dense: 16\n",
      "activation: tanh\n",
      "rate_dp_2: 0.1\n",
      "Score: 0.4988713264465332\n",
      "\n",
      "Trial 02 summary\n",
      "Hyperparameters:\n",
      "units_bilstm_1: 64\n",
      "rate_dp_1: 0.0\n",
      "units_bilstm_2: 32\n",
      "units_dense: 32\n",
      "activation: tanh\n",
      "rate_dp_2: 0.1\n",
      "Score: 0.4988713264465332\n",
      "\n",
      "Trial 03 summary\n",
      "Hyperparameters:\n",
      "units_bilstm_1: 64\n",
      "rate_dp_1: 0.2\n",
      "units_bilstm_2: 16\n",
      "units_dense: 64\n",
      "activation: tanh\n",
      "rate_dp_2: 0.0\n",
      "Score: 0.4988713264465332\n",
      "\n",
      "Trial 04 summary\n",
      "Hyperparameters:\n",
      "units_bilstm_1: 32\n",
      "rate_dp_1: 0.2\n",
      "units_bilstm_2: 32\n",
      "units_dense: 32\n",
      "activation: tanh\n",
      "rate_dp_2: 0.2\n",
      "Score: 0.4988713264465332\n",
      "\n",
      "Trial 09 summary\n",
      "Hyperparameters:\n",
      "units_bilstm_1: 64\n",
      "rate_dp_1: 0.0\n",
      "units_bilstm_2: 64\n",
      "units_dense: 16\n",
      "activation: tanh\n",
      "rate_dp_2: 0.1\n",
      "Score: 0.4988713264465332\n"
     ]
    }
   ],
   "source": [
    "tuner.search(X_train, y_train, epochs=4000, validation_data=(X_val, y_val), callbacks=[es], batch_size=32, verbose=2)\n",
    "tuner.results_summary()\n"
   ],
   "metadata": {
    "collapsed": false
   }
  },
  {
   "cell_type": "code",
   "execution_count": 154,
   "outputs": [],
   "source": [
    "best_model_bilstm_params = tuner.get_best_hyperparameters()[0].values"
   ],
   "metadata": {
    "collapsed": false,
    "ExecuteTime": {
     "end_time": "2023-06-26T21:30:10.066793200Z",
     "start_time": "2023-06-26T21:30:10.026816100Z"
    }
   }
  },
  {
   "cell_type": "markdown",
   "source": [
    "#### Declaring Best Model and Plotting Accuracy and Loss"
   ],
   "metadata": {
    "collapsed": false
   }
  },
  {
   "cell_type": "code",
   "execution_count": 155,
   "outputs": [
    {
     "name": "stdout",
     "output_type": "stream",
     "text": [
      "Model: \"sequential_1\"\n",
      "_________________________________________________________________\n",
      " Layer (type)                Output Shape              Param #   \n",
      "=================================================================\n",
      " embedding_1 (Embedding)     (None, 8, 25)             115600    \n",
      "                                                                 \n",
      " bidirectional_2 (Bidirectio  (None, 8, 32)            5376      \n",
      " nal)                                                            \n",
      "                                                                 \n",
      " dropout_2 (Dropout)         (None, 8, 32)             0         \n",
      "                                                                 \n",
      " bidirectional_3 (Bidirectio  (None, 32)               6272      \n",
      " nal)                                                            \n",
      "                                                                 \n",
      " dense_2 (Dense)             (None, 16)                528       \n",
      "                                                                 \n",
      " dense_3 (Dense)             (None, 3)                 51        \n",
      "                                                                 \n",
      "=================================================================\n",
      "Total params: 127,827\n",
      "Trainable params: 127,827\n",
      "Non-trainable params: 0\n",
      "_________________________________________________________________\n"
     ]
    }
   ],
   "source": [
    "# trainable=False,\n",
    "# weights=[embeddings_on_this_context]),\n",
    "best_model_bilstm = Sequential([\n",
    "    Embedding(input_dim=len(word_index), output_dim=25, input_length=X_train.shape[1]),\n",
    "    Bidirectional(LSTM(best_model_bilstm_params['units_bilstm_1'], return_sequences=True)),\n",
    "    Dropout(best_model_bilstm_params['rate_dp_1']),\n",
    "    # Bidirectional(LSTM(hp.Choice('units',[32,64]))),\n",
    "    Bidirectional(LSTM(best_model_bilstm_params['units_bilstm_2'])),\n",
    "    Dense(best_model_bilstm_params['units_dense'], activation=best_model_bilstm_params['activation']),\n",
    "    # Dropout(0.73),\n",
    "    Dense(3, activation='softmax')\n",
    "])\n",
    "\n",
    "loss = 'sparse_categorical_crossentropy'\n",
    "\n",
    "metrics = ['accuracy']\n",
    "\n",
    "optimizer = Adam(0.0001)\n",
    "\n",
    "best_model_bilstm.compile(loss=loss, optimizer=optimizer, metrics=metrics)\n",
    "\n",
    "es = EarlyStopping(monitor='val_loss', mode='min', verbose=1, patience=10)\n",
    "\n",
    "best_model_bilstm.summary()\n"
   ],
   "metadata": {
    "collapsed": false,
    "ExecuteTime": {
     "end_time": "2023-06-26T21:30:11.142178800Z",
     "start_time": "2023-06-26T21:30:10.052800700Z"
    }
   }
  },
  {
   "cell_type": "code",
   "execution_count": 156,
   "outputs": [
    {
     "name": "stdout",
     "output_type": "stream",
     "text": [
      "Epoch 1/4000\n",
      "111/111 - 9s - loss: 1.0706 - accuracy: 0.4690 - val_loss: 1.0329 - val_accuracy: 0.4989 - 9s/epoch - 83ms/step\n",
      "Epoch 2/4000\n",
      "111/111 - 1s - loss: 0.9883 - accuracy: 0.4735 - val_loss: 0.9544 - val_accuracy: 0.4989 - 915ms/epoch - 8ms/step\n",
      "Epoch 3/4000\n",
      "111/111 - 1s - loss: 0.9457 - accuracy: 0.4735 - val_loss: 0.9493 - val_accuracy: 0.4989 - 898ms/epoch - 8ms/step\n",
      "Epoch 4/4000\n",
      "111/111 - 1s - loss: 0.9401 - accuracy: 0.4735 - val_loss: 0.9490 - val_accuracy: 0.4989 - 930ms/epoch - 8ms/step\n",
      "Epoch 5/4000\n",
      "111/111 - 1s - loss: 0.9351 - accuracy: 0.4735 - val_loss: 0.9482 - val_accuracy: 0.4989 - 911ms/epoch - 8ms/step\n",
      "Epoch 6/4000\n",
      "111/111 - 1s - loss: 0.9281 - accuracy: 0.4735 - val_loss: 0.9472 - val_accuracy: 0.4989 - 908ms/epoch - 8ms/step\n",
      "Epoch 7/4000\n",
      "111/111 - 1s - loss: 0.9181 - accuracy: 0.4735 - val_loss: 0.9453 - val_accuracy: 0.4989 - 900ms/epoch - 8ms/step\n",
      "Epoch 8/4000\n",
      "111/111 - 1s - loss: 0.9024 - accuracy: 0.4774 - val_loss: 0.9433 - val_accuracy: 0.4989 - 915ms/epoch - 8ms/step\n",
      "Epoch 9/4000\n",
      "111/111 - 1s - loss: 0.8781 - accuracy: 0.4780 - val_loss: 0.9449 - val_accuracy: 0.4989 - 1s/epoch - 9ms/step\n",
      "Epoch 10/4000\n",
      "111/111 - 1s - loss: 0.8410 - accuracy: 0.5150 - val_loss: 0.9486 - val_accuracy: 0.5056 - 1s/epoch - 9ms/step\n",
      "Epoch 11/4000\n",
      "111/111 - 1s - loss: 0.7909 - accuracy: 0.6007 - val_loss: 0.9691 - val_accuracy: 0.4605 - 907ms/epoch - 8ms/step\n",
      "Epoch 12/4000\n",
      "111/111 - 1s - loss: 0.7282 - accuracy: 0.6840 - val_loss: 1.0115 - val_accuracy: 0.4447 - 914ms/epoch - 8ms/step\n",
      "Epoch 13/4000\n",
      "111/111 - 1s - loss: 0.6499 - accuracy: 0.7128 - val_loss: 1.0925 - val_accuracy: 0.4447 - 905ms/epoch - 8ms/step\n",
      "Epoch 14/4000\n",
      "111/111 - 1s - loss: 0.5638 - accuracy: 0.7599 - val_loss: 1.1747 - val_accuracy: 0.4153 - 870ms/epoch - 8ms/step\n",
      "Epoch 15/4000\n",
      "111/111 - 1s - loss: 0.4877 - accuracy: 0.8016 - val_loss: 1.2765 - val_accuracy: 0.4199 - 902ms/epoch - 8ms/step\n",
      "Epoch 16/4000\n",
      "111/111 - 1s - loss: 0.4271 - accuracy: 0.8256 - val_loss: 1.3806 - val_accuracy: 0.4379 - 908ms/epoch - 8ms/step\n",
      "Epoch 17/4000\n",
      "111/111 - 1s - loss: 0.3784 - accuracy: 0.8513 - val_loss: 1.4851 - val_accuracy: 0.4379 - 925ms/epoch - 8ms/step\n",
      "Epoch 18/4000\n",
      "111/111 - 1s - loss: 0.3355 - accuracy: 0.8671 - val_loss: 1.5721 - val_accuracy: 0.4379 - 904ms/epoch - 8ms/step\n",
      "Epoch 18: early stopping\n"
     ]
    }
   ],
   "source": [
    "history = best_model_bilstm.fit(X_train, y_train, epochs=4000, batch_size=32, validation_data=(X_val, y_val), verbose=2,\n",
    "                                callbacks=[es])"
   ],
   "metadata": {
    "collapsed": false,
    "ExecuteTime": {
     "end_time": "2023-06-26T21:30:36.139494200Z",
     "start_time": "2023-06-26T21:30:11.129195900Z"
    }
   }
  },
  {
   "cell_type": "code",
   "execution_count": 157,
   "outputs": [
    {
     "data": {
      "text/plain": "<Figure size 1500x500 with 2 Axes>",
      "image/png": "[encoded data removed]"
     },
     "metadata": {},
     "output_type": "display_data"
    }
   ],
   "source": [
    "fig, (ax1, ax2) = plt.subplots(1, 2, figsize=(15, 5))\n",
    "ax1.plot(history.history['accuracy'])\n",
    "ax1.plot(history.history['val_accuracy'])\n",
    "ax1.set_title('Model Accuracy')\n",
    "ax1.set_ylabel('Accuracy')\n",
    "ax1.set_xlabel('Epoch')\n",
    "ax1.legend(['Train', 'Validation'], loc='upper left')\n",
    "\n",
    "ax2.plot(history.history['loss'])\n",
    "ax2.plot(history.history['val_loss'])\n",
    "ax2.set_title('Model Loss')\n",
    "ax2.set_ylabel('Loss')\n",
    "ax2.set_xlabel('Epoch')\n",
    "ax2.legend(['Train', 'Validation'], loc='upper left')\n",
    "plt.show()"
   ],
   "metadata": {
    "collapsed": false,
    "ExecuteTime": {
     "end_time": "2023-06-26T21:30:36.769270900Z",
     "start_time": "2023-06-26T21:30:36.143491700Z"
    }
   }
  },
  {
   "cell_type": "markdown",
   "source": [
    "## Exporting model"
   ],
   "metadata": {
    "collapsed": false
   }
  },
  {
   "cell_type": "code",
   "execution_count": 158,
   "outputs": [
    {
     "name": "stderr",
     "output_type": "stream",
     "text": [
      "WARNING:absl:Found untraced functions such as _update_step_xla, lstm_cell_2_layer_call_fn, lstm_cell_2_layer_call_and_return_conditional_losses, lstm_cell_3_layer_call_fn, lstm_cell_3_layer_call_and_return_conditional_losses while saving (showing 5 of 5). These functions will not be directly callable after loading.\n"
     ]
    },
    {
     "name": "stdout",
     "output_type": "stream",
     "text": [
      "INFO:tensorflow:Assets written to: ../../assets/deep_assets/lstm_model\\assets\n"
     ]
    },
    {
     "name": "stderr",
     "output_type": "stream",
     "text": [
      "INFO:tensorflow:Assets written to: ../../assets/deep_assets/lstm_model\\assets\n",
      "WARNING:absl:Found untraced functions such as _update_step_xla, lstm_cell_7_layer_call_fn, lstm_cell_7_layer_call_and_return_conditional_losses, lstm_cell_8_layer_call_fn, lstm_cell_8_layer_call_and_return_conditional_losses while saving (showing 5 of 9). These functions will not be directly callable after loading.\n"
     ]
    },
    {
     "name": "stdout",
     "output_type": "stream",
     "text": [
      "INFO:tensorflow:Assets written to: ../../assets/deep_assets/bilstm_model\\assets\n"
     ]
    },
    {
     "name": "stderr",
     "output_type": "stream",
     "text": [
      "INFO:tensorflow:Assets written to: ../../assets/deep_assets/bilstm_model\\assets\n"
     ]
    }
   ],
   "source": [
    "best_model_lstm.save('../../assets/deep_assets/lstm_model')\n",
    "best_model_bilstm.save('../../assets/deep_assets/bilstm_model')"
   ],
   "metadata": {
    "collapsed": false,
    "ExecuteTime": {
     "end_time": "2023-06-26T21:31:11.458236100Z",
     "start_time": "2023-06-26T21:30:36.771305100Z"
    }
   }
  }
 ],
 "metadata": {
  "kernelspec": {
   "display_name": "Python 3",
   "language": "python",
   "name": "python3"
  },
  "language_info": {
   "codemirror_mode": {
    "name": "ipython",
    "version": 2
   },
   "file_extension": ".py",
   "mimetype": "text/x-python",
   "name": "python",
   "nbconvert_exporter": "python",
   "pygments_lexer": "ipython2",
   "version": "2.7.6"
  }
 },
 "nbformat": 4,
 "nbformat_minor": 0
}
