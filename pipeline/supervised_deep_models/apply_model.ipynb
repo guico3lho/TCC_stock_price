{
 "cells": [
  {
   "cell_type": "markdown",
   "source": [
    "## Packages and Assets"
   ],
   "metadata": {
    "collapsed": false
   }
  },
  {
   "cell_type": "code",
   "execution_count": 9,
   "outputs": [],
   "source": [
    "import keras.models\n",
    "from sklearn.metrics import accuracy_score, precision_score, recall_score, f1_score, confusion_matrix, classification_report\n",
    "\n",
    "import seaborn as sns\n",
    "import json\n",
    "import matplotlib.pyplot as plt\n",
    "import numpy as np\n",
    "\n",
    "from keras.preprocessing.text import tokenizer_from_json\n",
    "\n",
    "from keras.utils import pad_sequences\n",
    "import pandas as pd\n",
    "import re\n",
    "import string\n",
    "import nltk\n"
   ],
   "metadata": {
    "collapsed": false,
    "ExecuteTime": {
     "end_time": "2023-05-23T14:05:02.821740600Z",
     "start_time": "2023-05-23T14:05:02.740787700Z"
    }
   }
  },
  {
   "cell_type": "markdown",
   "source": [
    "## Dependencies"
   ],
   "metadata": {
    "collapsed": false
   }
  },
  {
   "cell_type": "code",
   "execution_count": 10,
   "outputs": [
    {
     "data": {
      "text/plain": "                                                 title  \\\n0    petrobras confirma ajuste politica preco reite...   \n1    apenas sulamerica yduqs permanecem carteira xp...   \n2    unigel compra gas natural petrobras shell fabr...   \n3    petrobras abre processo vender <NUM> cento par...   \n4    um maiores eventos monitorar acoes petrobras c...   \n..                                                 ...   \n304  petrobras petr4 deve anunciar producao petrole...   \n305  ibovespa fecha abaixo <NUM> mil pontos <NUM> v...   \n306  ibovespa fecha alta <NUM> cento ultrapassa <NU...   \n307  petrobras mira nova emissao mercado internacio...   \n308  vale acao favorita <NUM> cento mercado agosto ...   \n\n                                                  tags  \\\n0    ['Empresas', 'Governo Federal', 'Petrobras', '...   \n1    ['Ações', 'B3', 'Banrisul', 'BR Malls', 'Carte...   \n2    ['Bahia', 'Empresas', 'Fertilizantes', 'Petrob...   \n3    ['Combustíveis', 'Commodities', 'Empresas', 'P...   \n4    ['Ações', 'Combustíveis', 'Comprar ou vender?'...   \n..                                                 ...   \n304           ['ANP', 'Petrobras (PETR4)', 'Petróleo']   \n305  ['Bradesco', 'Coronavírus', 'CSN', 'Gerdau', '...   \n306  ['Gol Linhas Aéreas (GOLL11/GOLL4)', 'Ibovespa...   \n307  ['Ações', 'Commodities', 'Empresas', 'Petrobra...   \n308  ['Ações', 'Ágora Investimentos', 'Ativa Invest...   \n\n                                                   url      time  label  \n0    https://www.moneytimes.com.br/petrobras-confir...  19:31:00      0  \n1    https://www.moneytimes.com.br/apenas-sulameric...  07:50:00      1  \n2    https://www.moneytimes.com.br/unigel-compra-ga...  19:26:00      0  \n3    https://www.moneytimes.com.br/petrobras-abre-p...  08:46:00      1  \n4    https://www.moneytimes.com.br/um-dos-maiores-e...  15:27:00      0  \n..                                                 ...       ...    ...  \n304  https://www.suno.com.br/noticias/petrobras-pet...  14:34:00      0  \n305  https://www.moneytimes.com.br/ibovespa-fecha-a...  17:17:00      0  \n306  https://www.suno.com.br/noticias/ibovespa-fech...  18:31:00      0  \n307  https://www.moneytimes.com.br/petrobras-mira-n...  10:00:00      1  \n308  https://www.moneytimes.com.br/vale-e-a-acao-fa...  13:25:00      0  \n\n[309 rows x 5 columns]",
      "text/html": "<div>\n<style scoped>\n    .dataframe tbody tr th:only-of-type {\n        vertical-align: middle;\n    }\n\n    .dataframe tbody tr th {\n        vertical-align: top;\n    }\n\n    .dataframe thead th {\n        text-align: right;\n    }\n</style>\n<table border=\"1\" class=\"dataframe\">\n  <thead>\n    <tr style=\"text-align: right;\">\n      <th></th>\n      <th>title</th>\n      <th>tags</th>\n      <th>url</th>\n      <th>time</th>\n      <th>label</th>\n    </tr>\n  </thead>\n  <tbody>\n    <tr>\n      <th>0</th>\n      <td>petrobras confirma ajuste politica preco reite...</td>\n      <td>['Empresas', 'Governo Federal', 'Petrobras', '...</td>\n      <td>https://www.moneytimes.com.br/petrobras-confir...</td>\n      <td>19:31:00</td>\n      <td>0</td>\n    </tr>\n    <tr>\n      <th>1</th>\n      <td>apenas sulamerica yduqs permanecem carteira xp...</td>\n      <td>['Ações', 'B3', 'Banrisul', 'BR Malls', 'Carte...</td>\n      <td>https://www.moneytimes.com.br/apenas-sulameric...</td>\n      <td>07:50:00</td>\n      <td>1</td>\n    </tr>\n    <tr>\n      <th>2</th>\n      <td>unigel compra gas natural petrobras shell fabr...</td>\n      <td>['Bahia', 'Empresas', 'Fertilizantes', 'Petrob...</td>\n      <td>https://www.moneytimes.com.br/unigel-compra-ga...</td>\n      <td>19:26:00</td>\n      <td>0</td>\n    </tr>\n    <tr>\n      <th>3</th>\n      <td>petrobras abre processo vender &lt;NUM&gt; cento par...</td>\n      <td>['Combustíveis', 'Commodities', 'Empresas', 'P...</td>\n      <td>https://www.moneytimes.com.br/petrobras-abre-p...</td>\n      <td>08:46:00</td>\n      <td>1</td>\n    </tr>\n    <tr>\n      <th>4</th>\n      <td>um maiores eventos monitorar acoes petrobras c...</td>\n      <td>['Ações', 'Combustíveis', 'Comprar ou vender?'...</td>\n      <td>https://www.moneytimes.com.br/um-dos-maiores-e...</td>\n      <td>15:27:00</td>\n      <td>0</td>\n    </tr>\n    <tr>\n      <th>...</th>\n      <td>...</td>\n      <td>...</td>\n      <td>...</td>\n      <td>...</td>\n      <td>...</td>\n    </tr>\n    <tr>\n      <th>304</th>\n      <td>petrobras petr4 deve anunciar producao petrole...</td>\n      <td>['ANP', 'Petrobras (PETR4)', 'Petróleo']</td>\n      <td>https://www.suno.com.br/noticias/petrobras-pet...</td>\n      <td>14:34:00</td>\n      <td>0</td>\n    </tr>\n    <tr>\n      <th>305</th>\n      <td>ibovespa fecha abaixo &lt;NUM&gt; mil pontos &lt;NUM&gt; v...</td>\n      <td>['Bradesco', 'Coronavírus', 'CSN', 'Gerdau', '...</td>\n      <td>https://www.moneytimes.com.br/ibovespa-fecha-a...</td>\n      <td>17:17:00</td>\n      <td>0</td>\n    </tr>\n    <tr>\n      <th>306</th>\n      <td>ibovespa fecha alta &lt;NUM&gt; cento ultrapassa &lt;NU...</td>\n      <td>['Gol Linhas Aéreas (GOLL11/GOLL4)', 'Ibovespa...</td>\n      <td>https://www.suno.com.br/noticias/ibovespa-fech...</td>\n      <td>18:31:00</td>\n      <td>0</td>\n    </tr>\n    <tr>\n      <th>307</th>\n      <td>petrobras mira nova emissao mercado internacio...</td>\n      <td>['Ações', 'Commodities', 'Empresas', 'Petrobra...</td>\n      <td>https://www.moneytimes.com.br/petrobras-mira-n...</td>\n      <td>10:00:00</td>\n      <td>1</td>\n    </tr>\n    <tr>\n      <th>308</th>\n      <td>vale acao favorita &lt;NUM&gt; cento mercado agosto ...</td>\n      <td>['Ações', 'Ágora Investimentos', 'Ativa Invest...</td>\n      <td>https://www.moneytimes.com.br/vale-e-a-acao-fa...</td>\n      <td>13:25:00</td>\n      <td>0</td>\n    </tr>\n  </tbody>\n</table>\n<p>309 rows × 5 columns</p>\n</div>"
     },
     "execution_count": 10,
     "metadata": {},
     "output_type": "execute_result"
    }
   ],
   "source": [
    "test_pp = pd.read_csv('../../assets/data/splits/test/preprocessed.csv')\n",
    "test_pp"
   ],
   "metadata": {
    "collapsed": false,
    "ExecuteTime": {
     "end_time": "2023-05-23T14:05:02.889700900Z",
     "start_time": "2023-05-23T14:05:02.774767300Z"
    }
   }
  },
  {
   "cell_type": "code",
   "execution_count": 11,
   "outputs": [
    {
     "name": "stdout",
     "output_type": "stream",
     "text": [
      "Model: \"sequential_1\"\n",
      "_________________________________________________________________\n",
      " Layer (type)                Output Shape              Param #   \n",
      "=================================================================\n",
      " embedding_1 (Embedding)     (None, 9, 300)            1112700   \n",
      "                                                                 \n",
      " bidirectional_2 (Bidirectio  (None, 9, 32)            40576     \n",
      " nal)                                                            \n",
      "                                                                 \n",
      " dropout_2 (Dropout)         (None, 9, 32)             0         \n",
      "                                                                 \n",
      " bidirectional_3 (Bidirectio  (None, 32)               6272      \n",
      " nal)                                                            \n",
      "                                                                 \n",
      " dense_2 (Dense)             (None, 32)                1056      \n",
      "                                                                 \n",
      " dense_3 (Dense)             (None, 4)                 132       \n",
      "                                                                 \n",
      "=================================================================\n",
      "Total params: 1,160,736\n",
      "Trainable params: 48,036\n",
      "Non-trainable params: 1,112,700\n",
      "_________________________________________________________________\n"
     ]
    }
   ],
   "source": [
    "model = keras.models.load_model('../../assets/deep_assets/lstm_model')\n",
    "model.summary()"
   ],
   "metadata": {
    "collapsed": false,
    "ExecuteTime": {
     "end_time": "2023-05-23T14:05:12.849918400Z",
     "start_time": "2023-05-23T14:05:02.786761900Z"
    }
   }
  },
  {
   "cell_type": "code",
   "execution_count": 12,
   "outputs": [],
   "source": [
    "# Load the tokenizer from the file\n",
    "with open('../../assets/deep_assets/tokenizer.json', 'r', encoding='utf-8') as f:\n",
    "    tokenizer_json = f.read()\n",
    "    tokenizer = tokenizer_from_json(tokenizer_json)\n",
    "    word_index = tokenizer.word_index"
   ],
   "metadata": {
    "collapsed": false,
    "ExecuteTime": {
     "end_time": "2023-05-23T14:05:12.859912900Z",
     "start_time": "2023-05-23T14:05:12.823933900Z"
    }
   }
  },
  {
   "cell_type": "markdown",
   "source": [],
   "metadata": {
    "collapsed": false
   }
  },
  {
   "cell_type": "markdown",
   "source": [
    "## Predictions considering best deep model"
   ],
   "metadata": {
    "collapsed": false
   }
  },
  {
   "cell_type": "code",
   "execution_count": 13,
   "outputs": [
    {
     "data": {
      "text/plain": "array([[   2,  175, 1079, ..., 3645,    0,    0],\n       [ 909,    1, 1237, ...,  137,   35,  614],\n       [ 741,  120,   19, ...,  840,  593,    0],\n       ...,\n       [   4,   10,    8, ...,    3,   26,   22],\n       [   2,  273,   37, ...,  134,   64,  280],\n       [  28,   42, 2755, ...,  116,    3,    9]])"
     },
     "execution_count": 13,
     "metadata": {},
     "output_type": "execute_result"
    }
   ],
   "source": [
    "X_test = test_pp.title\n",
    "y_test = test_pp.to_numpy()[:, -1]\n",
    "\n",
    "test_sequences = tokenizer.texts_to_sequences(X_test)\n",
    "test_padded = pad_sequences(test_sequences, maxlen=8, padding='post', truncating='post')\n",
    "test_padded"
   ],
   "metadata": {
    "collapsed": false,
    "ExecuteTime": {
     "end_time": "2023-05-23T14:05:12.894892400Z",
     "start_time": "2023-05-23T14:05:12.853917700Z"
    }
   }
  },
  {
   "cell_type": "markdown",
   "source": [
    "### Functions"
   ],
   "metadata": {
    "collapsed": false
   }
  },
  {
   "cell_type": "code",
   "execution_count": 14,
   "outputs": [],
   "source": [
    "def index2word(word_index):\n",
    "    index_word = {}\n",
    "    for key in word_index:\n",
    "        index_word[word_index[key]] = key\n",
    "    return index_word\n",
    "\n",
    "\n",
    "def seq2text(seq, index_word):\n",
    "    text = []\n",
    "    for index in seq:\n",
    "        text.append(index_word[index])\n",
    "    return text\n",
    "\n",
    "def show_confusion_matrix(cm):\n",
    "        print(\"Confusion Matrix\")\n",
    "        plt.figure(figsize=(10, 7))\n",
    "\n",
    "        sns.heatmap(cm, annot=True, fmt='d', cmap='Blues', xticklabels=['Negative', 'Positive'],\n",
    "                    yticklabels=['Negative', 'Positive'])\n",
    "        plt.xlabel('Predicted')\n",
    "        plt.ylabel('Truth')\n",
    "        plt.title('Confusion Matrix')\n",
    "        plt.show()"
   ],
   "metadata": {
    "collapsed": false,
    "ExecuteTime": {
     "end_time": "2023-05-23T14:05:12.903887500Z",
     "start_time": "2023-05-23T14:05:12.887896800Z"
    }
   }
  },
  {
   "cell_type": "code",
   "execution_count": 15,
   "outputs": [],
   "source": [
    "index_word = index2word(word_index)"
   ],
   "metadata": {
    "collapsed": false,
    "ExecuteTime": {
     "end_time": "2023-05-23T14:05:12.917879100Z",
     "start_time": "2023-05-23T14:05:12.899890Z"
    }
   }
  },
  {
   "cell_type": "code",
   "execution_count": 16,
   "outputs": [
    {
     "name": "stdout",
     "output_type": "stream",
     "text": [
      "10/10 [==============================] - 1s 3ms/step\n"
     ]
    }
   ],
   "source": [
    "pred_prob = model.predict(test_padded)"
   ],
   "metadata": {
    "collapsed": false,
    "ExecuteTime": {
     "end_time": "2023-05-23T14:05:14.496413900Z",
     "start_time": "2023-05-23T14:05:12.914881700Z"
    }
   }
  },
  {
   "cell_type": "code",
   "execution_count": 17,
   "outputs": [],
   "source": [
    "# y_pred = [1 if p > 0.5 else 0 for p in pred_prob]\n",
    "y_pred = np.argmax(pred_prob, axis=1)"
   ],
   "metadata": {
    "collapsed": false,
    "ExecuteTime": {
     "end_time": "2023-05-23T14:05:14.506124200Z",
     "start_time": "2023-05-23T14:05:14.492417Z"
    }
   }
  },
  {
   "cell_type": "code",
   "execution_count": 18,
   "outputs": [
    {
     "data": {
      "text/plain": "                                              sequence  \\\n0                    [2, 175, 1079, 58, 23, 844, 3645]   \n1             [909, 1, 1237, 1, 17, 131, 137, 35, 614]   \n2                [741, 120, 19, 208, 2, 521, 840, 593]   \n3            [2, 84, 107, 132, 3, 6, 146, 52, 749, 73]   \n4                 [1430, 274, 1, 1, 9, 2, 1, 448, 361]   \n..                                                 ...   \n304  [2, 5, 63, 1743, 40, 13, 3, 6, 79, 3, 223, 7, 65]   \n305          [4, 10, 270, 3, 26, 22, 3, 785, 111, 324]   \n306                   [4, 10, 8, 3, 6, 753, 3, 26, 22]   \n307           [2, 273, 37, 465, 41, 880, 134, 64, 280]   \n308  [28, 42, 2755, 3, 6, 41, 116, 3, 9, 3205, 400,...   \n\n                                                X_test  \\\n0    petrobras confirma ajuste politica preco reite...   \n1    apenas sulamerica yduqs permanecem carteira xp...   \n2    unigel compra gas natural petrobras shell fabr...   \n3    petrobras abre processo vender <NUM> cento par...   \n4    um maiores eventos monitorar acoes petrobras c...   \n..                                                 ...   \n304  petrobras petr4 deve anunciar producao petrole...   \n305  ibovespa fecha abaixo <NUM> mil pontos <NUM> v...   \n306  ibovespa fecha alta <NUM> cento ultrapassa <NU...   \n307  petrobras mira nova emissao mercado internacio...   \n308  vale acao favorita <NUM> cento mercado agosto ...   \n\n                                              seq2text  y_pred  y_true  \n0    [petrobras, confirma, ajuste, politica, preco,...       0       0  \n1    [apenas, <OOV>, yduqs, <OOV>, carteira, xp, ja...       0       1  \n2    [unigel, compra, gas, natural, petrobras, shel...       0       0  \n3    [petrobras, abre, processo, vender, num, cento...       0       1  \n4    [um, maiores, <OOV>, <OOV>, acoes, petrobras, ...       0       0  \n..                                                 ...     ...     ...  \n304  [petrobras, petr4, deve, anunciar, producao, p...       0       0  \n305  [ibovespa, fecha, abaixo, num, mil, pontos, nu...       0       0  \n306  [ibovespa, fecha, alta, num, cento, ultrapassa...       0       0  \n307  [petrobras, mira, nova, emissao, mercado, inte...       0       1  \n308  [vale, acao, favorita, num, cento, mercado, ag...       0       0  \n\n[309 rows x 5 columns]",
      "text/html": "<div>\n<style scoped>\n    .dataframe tbody tr th:only-of-type {\n        vertical-align: middle;\n    }\n\n    .dataframe tbody tr th {\n        vertical-align: top;\n    }\n\n    .dataframe thead th {\n        text-align: right;\n    }\n</style>\n<table border=\"1\" class=\"dataframe\">\n  <thead>\n    <tr style=\"text-align: right;\">\n      <th></th>\n      <th>sequence</th>\n      <th>X_test</th>\n      <th>seq2text</th>\n      <th>y_pred</th>\n      <th>y_true</th>\n    </tr>\n  </thead>\n  <tbody>\n    <tr>\n      <th>0</th>\n      <td>[2, 175, 1079, 58, 23, 844, 3645]</td>\n      <td>petrobras confirma ajuste politica preco reite...</td>\n      <td>[petrobras, confirma, ajuste, politica, preco,...</td>\n      <td>0</td>\n      <td>0</td>\n    </tr>\n    <tr>\n      <th>1</th>\n      <td>[909, 1, 1237, 1, 17, 131, 137, 35, 614]</td>\n      <td>apenas sulamerica yduqs permanecem carteira xp...</td>\n      <td>[apenas, &lt;OOV&gt;, yduqs, &lt;OOV&gt;, carteira, xp, ja...</td>\n      <td>0</td>\n      <td>1</td>\n    </tr>\n    <tr>\n      <th>2</th>\n      <td>[741, 120, 19, 208, 2, 521, 840, 593]</td>\n      <td>unigel compra gas natural petrobras shell fabr...</td>\n      <td>[unigel, compra, gas, natural, petrobras, shel...</td>\n      <td>0</td>\n      <td>0</td>\n    </tr>\n    <tr>\n      <th>3</th>\n      <td>[2, 84, 107, 132, 3, 6, 146, 52, 749, 73]</td>\n      <td>petrobras abre processo vender &lt;NUM&gt; cento par...</td>\n      <td>[petrobras, abre, processo, vender, num, cento...</td>\n      <td>0</td>\n      <td>1</td>\n    </tr>\n    <tr>\n      <th>4</th>\n      <td>[1430, 274, 1, 1, 9, 2, 1, 448, 361]</td>\n      <td>um maiores eventos monitorar acoes petrobras c...</td>\n      <td>[um, maiores, &lt;OOV&gt;, &lt;OOV&gt;, acoes, petrobras, ...</td>\n      <td>0</td>\n      <td>0</td>\n    </tr>\n    <tr>\n      <th>...</th>\n      <td>...</td>\n      <td>...</td>\n      <td>...</td>\n      <td>...</td>\n      <td>...</td>\n    </tr>\n    <tr>\n      <th>304</th>\n      <td>[2, 5, 63, 1743, 40, 13, 3, 6, 79, 3, 223, 7, 65]</td>\n      <td>petrobras petr4 deve anunciar producao petrole...</td>\n      <td>[petrobras, petr4, deve, anunciar, producao, p...</td>\n      <td>0</td>\n      <td>0</td>\n    </tr>\n    <tr>\n      <th>305</th>\n      <td>[4, 10, 270, 3, 26, 22, 3, 785, 111, 324]</td>\n      <td>ibovespa fecha abaixo &lt;NUM&gt; mil pontos &lt;NUM&gt; v...</td>\n      <td>[ibovespa, fecha, abaixo, num, mil, pontos, nu...</td>\n      <td>0</td>\n      <td>0</td>\n    </tr>\n    <tr>\n      <th>306</th>\n      <td>[4, 10, 8, 3, 6, 753, 3, 26, 22]</td>\n      <td>ibovespa fecha alta &lt;NUM&gt; cento ultrapassa &lt;NU...</td>\n      <td>[ibovespa, fecha, alta, num, cento, ultrapassa...</td>\n      <td>0</td>\n      <td>0</td>\n    </tr>\n    <tr>\n      <th>307</th>\n      <td>[2, 273, 37, 465, 41, 880, 134, 64, 280]</td>\n      <td>petrobras mira nova emissao mercado internacio...</td>\n      <td>[petrobras, mira, nova, emissao, mercado, inte...</td>\n      <td>0</td>\n      <td>1</td>\n    </tr>\n    <tr>\n      <th>308</th>\n      <td>[28, 42, 2755, 3, 6, 41, 116, 3, 9, 3205, 400,...</td>\n      <td>vale acao favorita &lt;NUM&gt; cento mercado agosto ...</td>\n      <td>[vale, acao, favorita, num, cento, mercado, ag...</td>\n      <td>0</td>\n      <td>0</td>\n    </tr>\n  </tbody>\n</table>\n<p>309 rows × 5 columns</p>\n</div>"
     },
     "execution_count": 18,
     "metadata": {},
     "output_type": "execute_result"
    }
   ],
   "source": [
    "df_results = pd.DataFrame()\n",
    "X_test = list(X_test)\n",
    "y_test = list(y_test)\n",
    "df_results['sequence'] = test_sequences\n",
    "df_results['X_test'] = X_test\n",
    "df_results['seq2text'] = df_results['sequence'].apply(lambda x: seq2text(x, index_word))\n",
    "df_results['y_pred'] = y_pred\n",
    "df_results['y_true'] = y_test\n",
    "df_results"
   ],
   "metadata": {
    "collapsed": false,
    "ExecuteTime": {
     "end_time": "2023-05-23T14:05:14.537105900Z",
     "start_time": "2023-05-23T14:05:14.508123600Z"
    }
   }
  },
  {
   "cell_type": "markdown",
   "source": [
    "### Metrics"
   ],
   "metadata": {
    "collapsed": false
   }
  },
  {
   "cell_type": "code",
   "execution_count": 19,
   "outputs": [],
   "source": [
    "# accuracy = accuracy_score(y_true=y_test, y_pred=y_pred)\n",
    "# precision = precision_score(average='macro', y_true=y_test, y_pred=y_pred)\n",
    "# recall = recall_score(average='macro', y_true=y_test, y_pred=y_pred)\n",
    "# f1 = f1_score(average='macro', y_true=y_test, y_pred=y_pred)\n",
    "# cm = confusion_matrix(y_true=y_test, y_pred=y_pred)"
   ],
   "metadata": {
    "collapsed": false,
    "ExecuteTime": {
     "end_time": "2023-05-23T14:05:14.552144Z",
     "start_time": "2023-05-23T14:05:14.542103Z"
    }
   }
  },
  {
   "cell_type": "code",
   "execution_count": 20,
   "outputs": [
    {
     "name": "stdout",
     "output_type": "stream",
     "text": [
      "              precision    recall  f1-score   support\n",
      "\n",
      "           0       0.56      1.00      0.72       173\n",
      "           1       1.00      0.01      0.03       136\n",
      "\n",
      "    accuracy                           0.57       309\n",
      "   macro avg       0.78      0.51      0.37       309\n",
      "weighted avg       0.76      0.57      0.42       309\n",
      "\n",
      "Confusion Matrix\n"
     ]
    },
    {
     "data": {
      "text/plain": "<Figure size 1000x700 with 2 Axes>",
      "image/png": "[encoded data removed]"
     },
     "metadata": {},
     "output_type": "display_data"
    }
   ],
   "source": [
    "print(classification_report(y_test,y_pred))\n",
    "cm = confusion_matrix(y_true=y_test, y_pred=y_pred)\n",
    "show_confusion_matrix(cm)"
   ],
   "metadata": {
    "collapsed": false,
    "ExecuteTime": {
     "end_time": "2023-05-23T14:05:15.531049400Z",
     "start_time": "2023-05-23T14:05:14.556142100Z"
    }
   }
  },
  {
   "cell_type": "code",
   "execution_count": 20,
   "outputs": [],
   "source": [],
   "metadata": {
    "collapsed": false,
    "ExecuteTime": {
     "end_time": "2023-05-23T14:05:15.546409400Z",
     "start_time": "2023-05-23T14:05:15.531049400Z"
    }
   }
  }
 ],
 "metadata": {
  "kernelspec": {
   "display_name": "Python 3",
   "language": "python",
   "name": "python3"
  },
  "language_info": {
   "codemirror_mode": {
    "name": "ipython",
    "version": 2
   },
   "file_extension": ".py",
   "mimetype": "text/x-python",
   "name": "python",
   "nbconvert_exporter": "python",
   "pygments_lexer": "ipython2",
   "version": "2.7.6"
  }
 },
 "nbformat": 4,
 "nbformat_minor": 0
}
