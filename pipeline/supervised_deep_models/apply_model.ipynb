{
 "cells": [
  {
   "cell_type": "markdown",
   "source": [
    "## Packages and Assets"
   ],
   "metadata": {
    "collapsed": false
   }
  },
  {
   "cell_type": "code",
   "execution_count": null,
   "outputs": [],
   "source": [
    "import keras.models\n",
    "from sklearn.metrics import accuracy_score, precision_score, recall_score, f1_score, confusion_matrix, classification_report\n",
    "\n",
    "import seaborn as sns\n",
    "import json\n",
    "import matplotlib.pyplot as plt\n",
    "import numpy as np\n",
    "\n",
    "from keras.preprocessing.text import tokenizer_from_json\n",
    "\n",
    "from keras.utils import pad_sequences\n",
    "import pandas as pd\n",
    "import re\n",
    "import string\n",
    "import nltk\n"
   ],
   "metadata": {
    "collapsed": false,
    "ExecuteTime": {
     "end_time": "2023-05-23T14:05:02.821740600Z",
     "start_time": "2023-05-23T14:05:02.740787700Z"
    },
    "pycharm": {
     "is_executing": true
    }
   }
  },
  {
   "cell_type": "markdown",
   "source": [
    "## Dependencies"
   ],
   "metadata": {
    "collapsed": false
   }
  },
  {
   "cell_type": "code",
   "execution_count": 2,
   "outputs": [
    {
     "data": {
      "text/plain": "                                                 title  \\\n0    magazine luiza acao indicada investir semana v...   \n1    ibovespa engata <NUM> alta fecha acima <NUM> m...   \n2    dividendos petrobras valem risco investir estatal   \n3    petroleiros norte fluminense aprovam acordo pe...   \n4    diretor governanca conformidade petrobras plan...   \n..                                                 ...   \n199         ibovespa fecha alta nova york reduz impeto   \n200  petrobras reduz diesel gasolina refinarias <NU...   \n201  ibovespa fecha alta recuperacao wall street al...   \n202  petrobras utilizara tecnologia reduzir custos ...   \n203  petrobras petr4 rebate bolsonaro diz nao nenhu...   \n\n                                                  tags  \\\n0    ['Ações', 'Ativa Investimentos', 'BTG Pactual'...   \n1    ['Azul', 'B2W', 'Banco do Brasil', 'Bradesco',...   \n2    ['Ações', 'Comprar ou vender?', 'Empresas', 'G...   \n3    ['Combustíveis', 'Empresas', 'Petrobras', 'Pet...   \n4    ['Carreira', 'Empresas', 'Petrobras', 'Petróle...   \n..                                                 ...   \n199  ['Azul', 'B3', 'Banco Central', 'BR Malls', 'B...   \n200  ['Combustíveis', 'Diesel', 'Dólar', 'Gasolina'...   \n201  ['Bradesco', 'BRF', 'Coronavírus', 'Cyrela', '...   \n202  ['Combustíveis', 'Empresas', 'Gás', 'Petrobras...   \n203  ['combustíveis', 'diesel', 'Gasolina', 'Jair B...   \n\n                                                   url      time  label  \n0    https://www.moneytimes.com.br/magazine-luiza-e...  12:49:00      0  \n1    https://www.moneytimes.com.br/ibovespa-engata-...  18:10:00      0  \n2    https://www.moneytimes.com.br/dividendos-da-pe...  13:27:00      1  \n3    https://www.moneytimes.com.br/petroleiros-do-n...  17:02:00      0  \n4    https://www.moneytimes.com.br/diretor-de-gover...  12:56:00      0  \n..                                                 ...       ...    ...  \n199  https://www.moneytimes.com.br/ibovespa-fecha-e...  17:10:00      1  \n200  https://www.moneytimes.com.br/petrobras-reduz-...  10:40:00      1  \n201  https://www.moneytimes.com.br/ibovespa-fecha-e...  17:07:00      1  \n202  https://www.moneytimes.com.br/petrobras-utiliz...  17:06:00      1  \n203  https://www.suno.com.br/noticias/nao-ha-decisa...  10:19:00      1  \n\n[204 rows x 5 columns]",
      "text/html": "<div>\n<style scoped>\n    .dataframe tbody tr th:only-of-type {\n        vertical-align: middle;\n    }\n\n    .dataframe tbody tr th {\n        vertical-align: top;\n    }\n\n    .dataframe thead th {\n        text-align: right;\n    }\n</style>\n<table border=\"1\" class=\"dataframe\">\n  <thead>\n    <tr style=\"text-align: right;\">\n      <th></th>\n      <th>title</th>\n      <th>tags</th>\n      <th>url</th>\n      <th>time</th>\n      <th>label</th>\n    </tr>\n  </thead>\n  <tbody>\n    <tr>\n      <th>0</th>\n      <td>magazine luiza acao indicada investir semana v...</td>\n      <td>['Ações', 'Ativa Investimentos', 'BTG Pactual'...</td>\n      <td>https://www.moneytimes.com.br/magazine-luiza-e...</td>\n      <td>12:49:00</td>\n      <td>0</td>\n    </tr>\n    <tr>\n      <th>1</th>\n      <td>ibovespa engata &lt;NUM&gt; alta fecha acima &lt;NUM&gt; m...</td>\n      <td>['Azul', 'B2W', 'Banco do Brasil', 'Bradesco',...</td>\n      <td>https://www.moneytimes.com.br/ibovespa-engata-...</td>\n      <td>18:10:00</td>\n      <td>0</td>\n    </tr>\n    <tr>\n      <th>2</th>\n      <td>dividendos petrobras valem risco investir estatal</td>\n      <td>['Ações', 'Comprar ou vender?', 'Empresas', 'G...</td>\n      <td>https://www.moneytimes.com.br/dividendos-da-pe...</td>\n      <td>13:27:00</td>\n      <td>1</td>\n    </tr>\n    <tr>\n      <th>3</th>\n      <td>petroleiros norte fluminense aprovam acordo pe...</td>\n      <td>['Combustíveis', 'Empresas', 'Petrobras', 'Pet...</td>\n      <td>https://www.moneytimes.com.br/petroleiros-do-n...</td>\n      <td>17:02:00</td>\n      <td>0</td>\n    </tr>\n    <tr>\n      <th>4</th>\n      <td>diretor governanca conformidade petrobras plan...</td>\n      <td>['Carreira', 'Empresas', 'Petrobras', 'Petróle...</td>\n      <td>https://www.moneytimes.com.br/diretor-de-gover...</td>\n      <td>12:56:00</td>\n      <td>0</td>\n    </tr>\n    <tr>\n      <th>...</th>\n      <td>...</td>\n      <td>...</td>\n      <td>...</td>\n      <td>...</td>\n      <td>...</td>\n    </tr>\n    <tr>\n      <th>199</th>\n      <td>ibovespa fecha alta nova york reduz impeto</td>\n      <td>['Azul', 'B3', 'Banco Central', 'BR Malls', 'B...</td>\n      <td>https://www.moneytimes.com.br/ibovespa-fecha-e...</td>\n      <td>17:10:00</td>\n      <td>1</td>\n    </tr>\n    <tr>\n      <th>200</th>\n      <td>petrobras reduz diesel gasolina refinarias &lt;NU...</td>\n      <td>['Combustíveis', 'Diesel', 'Dólar', 'Gasolina'...</td>\n      <td>https://www.moneytimes.com.br/petrobras-reduz-...</td>\n      <td>10:40:00</td>\n      <td>1</td>\n    </tr>\n    <tr>\n      <th>201</th>\n      <td>ibovespa fecha alta recuperacao wall street al...</td>\n      <td>['Bradesco', 'BRF', 'Coronavírus', 'Cyrela', '...</td>\n      <td>https://www.moneytimes.com.br/ibovespa-fecha-e...</td>\n      <td>17:07:00</td>\n      <td>1</td>\n    </tr>\n    <tr>\n      <th>202</th>\n      <td>petrobras utilizara tecnologia reduzir custos ...</td>\n      <td>['Combustíveis', 'Empresas', 'Gás', 'Petrobras...</td>\n      <td>https://www.moneytimes.com.br/petrobras-utiliz...</td>\n      <td>17:06:00</td>\n      <td>1</td>\n    </tr>\n    <tr>\n      <th>203</th>\n      <td>petrobras petr4 rebate bolsonaro diz nao nenhu...</td>\n      <td>['combustíveis', 'diesel', 'Gasolina', 'Jair B...</td>\n      <td>https://www.suno.com.br/noticias/nao-ha-decisa...</td>\n      <td>10:19:00</td>\n      <td>1</td>\n    </tr>\n  </tbody>\n</table>\n<p>204 rows × 5 columns</p>\n</div>"
     },
     "execution_count": 2,
     "metadata": {},
     "output_type": "execute_result"
    }
   ],
   "source": [
    "test_pp = pd.read_csv('../../assets/data/splits/test/preprocessed.csv')\n",
    "test_pp"
   ],
   "metadata": {
    "collapsed": false,
    "ExecuteTime": {
     "end_time": "2023-05-23T14:05:02.889700900Z",
     "start_time": "2023-05-23T14:05:02.774767300Z"
    }
   }
  },
  {
   "cell_type": "code",
   "execution_count": null,
   "outputs": [],
   "source": [
    "model = keras.models.load_model('../../assets/deep_assets/lstm_model')\n",
    "model.summary()"
   ],
   "metadata": {
    "collapsed": false,
    "ExecuteTime": {
     "end_time": "2023-05-23T14:05:12.849918400Z",
     "start_time": "2023-05-23T14:05:02.786761900Z"
    },
    "pycharm": {
     "is_executing": true
    }
   }
  },
  {
   "cell_type": "code",
   "execution_count": null,
   "outputs": [],
   "source": [
    "# Load the tokenizer from the file\n",
    "with open('../../assets/deep_assets/tokenizer.json', 'r', encoding='utf-8') as f:\n",
    "    tokenizer_json = f.read()\n",
    "    tokenizer = tokenizer_from_json(tokenizer_json)\n",
    "    word_index = tokenizer.word_index"
   ],
   "metadata": {
    "collapsed": false,
    "ExecuteTime": {
     "end_time": "2023-05-23T14:05:12.859912900Z",
     "start_time": "2023-05-23T14:05:12.823933900Z"
    },
    "pycharm": {
     "is_executing": true
    }
   }
  },
  {
   "cell_type": "markdown",
   "source": [],
   "metadata": {
    "collapsed": false
   }
  },
  {
   "cell_type": "markdown",
   "source": [
    "## Predictions considering best deep model"
   ],
   "metadata": {
    "collapsed": false
   }
  },
  {
   "cell_type": "code",
   "execution_count": null,
   "outputs": [],
   "source": [
    "X_test = test_pp.title\n",
    "y_test = test_pp.to_numpy()[:, -1]\n",
    "\n",
    "test_sequences = tokenizer.texts_to_sequences(X_test)\n",
    "test_padded = pad_sequences(test_sequences, maxlen=8, padding='post', truncating='post')\n",
    "test_padded"
   ],
   "metadata": {
    "collapsed": false,
    "ExecuteTime": {
     "end_time": "2023-05-23T14:05:12.894892400Z",
     "start_time": "2023-05-23T14:05:12.853917700Z"
    },
    "pycharm": {
     "is_executing": true
    }
   }
  },
  {
   "cell_type": "markdown",
   "source": [
    "### Functions"
   ],
   "metadata": {
    "collapsed": false
   }
  },
  {
   "cell_type": "code",
   "execution_count": null,
   "outputs": [],
   "source": [
    "def index2word(word_index):\n",
    "    index_word = {}\n",
    "    for key in word_index:\n",
    "        index_word[word_index[key]] = key\n",
    "    return index_word\n",
    "\n",
    "\n",
    "def seq2text(seq, index_word):\n",
    "    text = []\n",
    "    for index in seq:\n",
    "        text.append(index_word[index])\n",
    "    return text\n",
    "\n",
    "def show_confusion_matrix(cm):\n",
    "        print(\"Confusion Matrix\")\n",
    "        plt.figure(figsize=(10, 7))\n",
    "\n",
    "        sns.heatmap(cm, annot=True, fmt='d', cmap='Blues', xticklabels=['Negative', 'Positive'],\n",
    "                    yticklabels=['Negative', 'Positive'])\n",
    "        plt.xlabel('Predicted')\n",
    "        plt.ylabel('Truth')\n",
    "        plt.title('Confusion Matrix')\n",
    "        plt.show()"
   ],
   "metadata": {
    "collapsed": false,
    "ExecuteTime": {
     "end_time": "2023-05-23T14:05:12.903887500Z",
     "start_time": "2023-05-23T14:05:12.887896800Z"
    },
    "pycharm": {
     "is_executing": true
    }
   }
  },
  {
   "cell_type": "code",
   "execution_count": null,
   "outputs": [],
   "source": [
    "index_word = index2word(word_index)"
   ],
   "metadata": {
    "collapsed": false,
    "ExecuteTime": {
     "end_time": "2023-05-23T14:05:12.917879100Z",
     "start_time": "2023-05-23T14:05:12.899890Z"
    },
    "pycharm": {
     "is_executing": true
    }
   }
  },
  {
   "cell_type": "code",
   "execution_count": null,
   "outputs": [],
   "source": [
    "pred_prob = model.predict(test_padded)"
   ],
   "metadata": {
    "collapsed": false,
    "ExecuteTime": {
     "end_time": "2023-05-23T14:05:14.496413900Z",
     "start_time": "2023-05-23T14:05:12.914881700Z"
    },
    "pycharm": {
     "is_executing": true
    }
   }
  },
  {
   "cell_type": "code",
   "execution_count": null,
   "outputs": [],
   "source": [
    "# y_pred = [1 if p > 0.5 else 0 for p in pred_prob]\n",
    "y_pred = np.argmax(pred_prob, axis=1)"
   ],
   "metadata": {
    "collapsed": false,
    "ExecuteTime": {
     "end_time": "2023-05-23T14:05:14.506124200Z",
     "start_time": "2023-05-23T14:05:14.492417Z"
    },
    "pycharm": {
     "is_executing": true
    }
   }
  },
  {
   "cell_type": "code",
   "execution_count": null,
   "outputs": [],
   "source": [
    "df_results = pd.DataFrame()\n",
    "X_test = list(X_test)\n",
    "y_test = list(y_test)\n",
    "df_results['sequence'] = test_sequences\n",
    "df_results['X_test'] = X_test\n",
    "df_results['seq2text'] = df_results['sequence'].apply(lambda x: seq2text(x, index_word))\n",
    "df_results['y_pred'] = y_pred\n",
    "df_results['y_true'] = y_test\n",
    "df_results"
   ],
   "metadata": {
    "collapsed": false,
    "ExecuteTime": {
     "end_time": "2023-05-23T14:05:14.537105900Z",
     "start_time": "2023-05-23T14:05:14.508123600Z"
    },
    "pycharm": {
     "is_executing": true
    }
   }
  },
  {
   "cell_type": "markdown",
   "source": [
    "### Metrics"
   ],
   "metadata": {
    "collapsed": false
   }
  },
  {
   "cell_type": "code",
   "execution_count": null,
   "outputs": [],
   "source": [
    "# accuracy = accuracy_score(y_true=y_test, y_pred=y_pred)\n",
    "# precision = precision_score(average='macro', y_true=y_test, y_pred=y_pred)\n",
    "# recall = recall_score(average='macro', y_true=y_test, y_pred=y_pred)\n",
    "# f1 = f1_score(average='macro', y_true=y_test, y_pred=y_pred)\n",
    "# cm = confusion_matrix(y_true=y_test, y_pred=y_pred)"
   ],
   "metadata": {
    "collapsed": false,
    "ExecuteTime": {
     "end_time": "2023-05-23T14:05:14.552144Z",
     "start_time": "2023-05-23T14:05:14.542103Z"
    },
    "pycharm": {
     "is_executing": true
    }
   }
  },
  {
   "cell_type": "code",
   "execution_count": null,
   "outputs": [],
   "source": [
    "print(classification_report(y_test,y_pred))\n",
    "cm = confusion_matrix(y_true=y_test, y_pred=y_pred)\n",
    "show_confusion_matrix(cm)"
   ],
   "metadata": {
    "collapsed": false,
    "ExecuteTime": {
     "end_time": "2023-05-23T14:05:15.531049400Z",
     "start_time": "2023-05-23T14:05:14.556142100Z"
    },
    "pycharm": {
     "is_executing": true
    }
   }
  },
  {
   "cell_type": "code",
   "execution_count": null,
   "outputs": [],
   "source": [],
   "metadata": {
    "collapsed": false,
    "ExecuteTime": {
     "end_time": "2023-05-23T14:05:15.546409400Z",
     "start_time": "2023-05-23T14:05:15.531049400Z"
    },
    "pycharm": {
     "is_executing": true
    }
   }
  }
 ],
 "metadata": {
  "kernelspec": {
   "display_name": "Python 3",
   "language": "python",
   "name": "python3"
  },
  "language_info": {
   "codemirror_mode": {
    "name": "ipython",
    "version": 2
   },
   "file_extension": ".py",
   "mimetype": "text/x-python",
   "name": "python",
   "nbconvert_exporter": "python",
   "pygments_lexer": "ipython2",
   "version": "2.7.6"
  }
 },
 "nbformat": 4,
 "nbformat_minor": 0
}
